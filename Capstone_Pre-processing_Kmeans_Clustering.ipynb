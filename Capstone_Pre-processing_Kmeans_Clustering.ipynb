{
 "cells": [
  {
   "cell_type": "code",
   "execution_count": 1,
   "metadata": {},
   "outputs": [],
   "source": [
    "import os\n",
    "import pandas as pd\n",
    "import numpy as np\n",
    "import glob\n",
    "\n",
    "desired_width = 320\n",
    "pd.set_option('display.width', desired_width)\n",
    "np.set_printoptions(linewidth=desired_width)\n",
    "pd.set_option('display.max_columns', 10)"
   ]
  },
  {
   "cell_type": "code",
   "execution_count": 2,
   "metadata": {},
   "outputs": [
    {
     "data": {
      "text/html": [
       "<div>\n",
       "<style scoped>\n",
       "    .dataframe tbody tr th:only-of-type {\n",
       "        vertical-align: middle;\n",
       "    }\n",
       "\n",
       "    .dataframe tbody tr th {\n",
       "        vertical-align: top;\n",
       "    }\n",
       "\n",
       "    .dataframe thead th {\n",
       "        text-align: right;\n",
       "    }\n",
       "</style>\n",
       "<table border=\"1\" class=\"dataframe\">\n",
       "  <thead>\n",
       "    <tr style=\"text-align: right;\">\n",
       "      <th></th>\n",
       "      <th>SecurityID</th>\n",
       "      <th>RatingSP</th>\n",
       "    </tr>\n",
       "  </thead>\n",
       "  <tbody>\n",
       "    <tr>\n",
       "      <th>0</th>\n",
       "      <td>64</td>\n",
       "      <td>10.000000</td>\n",
       "    </tr>\n",
       "    <tr>\n",
       "      <th>1</th>\n",
       "      <td>72</td>\n",
       "      <td>13.000000</td>\n",
       "    </tr>\n",
       "    <tr>\n",
       "      <th>2</th>\n",
       "      <td>78</td>\n",
       "      <td>14.652361</td>\n",
       "    </tr>\n",
       "    <tr>\n",
       "      <th>3</th>\n",
       "      <td>82</td>\n",
       "      <td>15.000000</td>\n",
       "    </tr>\n",
       "    <tr>\n",
       "      <th>4</th>\n",
       "      <td>83</td>\n",
       "      <td>14.652361</td>\n",
       "    </tr>\n",
       "    <tr>\n",
       "      <th>...</th>\n",
       "      <td>...</td>\n",
       "      <td>...</td>\n",
       "    </tr>\n",
       "    <tr>\n",
       "      <th>17918</th>\n",
       "      <td>72406</td>\n",
       "      <td>14.000000</td>\n",
       "    </tr>\n",
       "    <tr>\n",
       "      <th>17919</th>\n",
       "      <td>72407</td>\n",
       "      <td>14.000000</td>\n",
       "    </tr>\n",
       "    <tr>\n",
       "      <th>17920</th>\n",
       "      <td>72504</td>\n",
       "      <td>17.000000</td>\n",
       "    </tr>\n",
       "    <tr>\n",
       "      <th>17921</th>\n",
       "      <td>72675</td>\n",
       "      <td>8.000000</td>\n",
       "    </tr>\n",
       "    <tr>\n",
       "      <th>17922</th>\n",
       "      <td>72902</td>\n",
       "      <td>17.000000</td>\n",
       "    </tr>\n",
       "  </tbody>\n",
       "</table>\n",
       "<p>17923 rows × 2 columns</p>\n",
       "</div>"
      ],
      "text/plain": [
       "       SecurityID   RatingSP\n",
       "0              64  10.000000\n",
       "1              72  13.000000\n",
       "2              78  14.652361\n",
       "3              82  15.000000\n",
       "4              83  14.652361\n",
       "...           ...        ...\n",
       "17918       72406  14.000000\n",
       "17919       72407  14.000000\n",
       "17920       72504  17.000000\n",
       "17921       72675   8.000000\n",
       "17922       72902  17.000000\n",
       "\n",
       "[17923 rows x 2 columns]"
      ]
     },
     "execution_count": 2,
     "metadata": {},
     "output_type": "execute_result"
    }
   ],
   "source": [
    "##############################################################################\n",
    "# Load and clean Rating data                                                 #\n",
    "##############################################################################\n",
    "path = r'C:\\Users\\mbrag\\PycharmProjects\\RPIA-Capstone\\Rating.csv'\n",
    "df_ratings_raw = pd.read_csv(path)\n",
    "\n",
    "# drop RatingSPOutlook,RatingSPOutlook columns\n",
    "df_ratings_no_xtra_col = df_ratings_raw.drop(columns=['RatingSPOutlook', 'RatingSPOutlook.1'])\n",
    "\n",
    "# drop NA from RatingSP column\n",
    "df_ratings_clean = df_ratings_no_xtra_col.dropna(subset=['RatingSP'])\n",
    "\n",
    "# calculate mean per security by removing KeyDate\n",
    "df_ratings_clean = df_ratings_clean.drop(columns=['KeyDate'])\n",
    "df_ratings_with_mean = df_ratings_clean.groupby(['SecurityID']).mean()\n",
    "df_ratings_with_mean.reset_index()"
   ]
  },
  {
   "cell_type": "code",
   "execution_count": 3,
   "metadata": {},
   "outputs": [],
   "source": [
    "##############################################################################\n",
    "# Load and clean Spreads data                                                #\n",
    "##############################################################################\n",
    "path = r'C:\\Users\\mbrag\\PycharmProjects\\RPIA-Capstone\\raw_data_files'\n",
    "all_files = glob.glob(os.path.join(path, \"*.csv\"))  # use os.path.join to make concat OS independent\n",
    "\n",
    "df_from_each_file = (pd.read_csv(f) for f in all_files)\n",
    "df_merged = pd.concat(df_from_each_file, ignore_index=True, sort=False)"
   ]
  },
  {
   "cell_type": "code",
   "execution_count": 4,
   "metadata": {},
   "outputs": [
    {
     "data": {
      "text/html": [
       "<div>\n",
       "<style scoped>\n",
       "    .dataframe tbody tr th:only-of-type {\n",
       "        vertical-align: middle;\n",
       "    }\n",
       "\n",
       "    .dataframe tbody tr th {\n",
       "        vertical-align: top;\n",
       "    }\n",
       "\n",
       "    .dataframe thead th {\n",
       "        text-align: right;\n",
       "    }\n",
       "</style>\n",
       "<table border=\"1\" class=\"dataframe\">\n",
       "  <thead>\n",
       "    <tr style=\"text-align: right;\">\n",
       "      <th></th>\n",
       "      <th>SecurityID</th>\n",
       "      <th>Price</th>\n",
       "      <th>YieldWorst</th>\n",
       "      <th>ModifiedDuration_Plain</th>\n",
       "      <th>AmtOutstanding</th>\n",
       "      <th>GSpread</th>\n",
       "      <th>OAS_Spread</th>\n",
       "      <th>ZSpread</th>\n",
       "      <th>AswUsd</th>\n",
       "    </tr>\n",
       "  </thead>\n",
       "  <tbody>\n",
       "    <tr>\n",
       "      <th>0</th>\n",
       "      <td>64</td>\n",
       "      <td>100.758965</td>\n",
       "      <td>4.644316</td>\n",
       "      <td>5.757035</td>\n",
       "      <td>1.697266e+09</td>\n",
       "      <td>291.711174</td>\n",
       "      <td>222.352441</td>\n",
       "      <td>288.657755</td>\n",
       "      <td>283.687773</td>\n",
       "    </tr>\n",
       "    <tr>\n",
       "      <th>1</th>\n",
       "      <td>72</td>\n",
       "      <td>107.373280</td>\n",
       "      <td>3.940311</td>\n",
       "      <td>3.330841</td>\n",
       "      <td>1.000000e+09</td>\n",
       "      <td>227.002913</td>\n",
       "      <td>223.490338</td>\n",
       "      <td>223.329880</td>\n",
       "      <td>229.235868</td>\n",
       "    </tr>\n",
       "    <tr>\n",
       "      <th>2</th>\n",
       "      <td>78</td>\n",
       "      <td>103.207920</td>\n",
       "      <td>3.477836</td>\n",
       "      <td>1.945063</td>\n",
       "      <td>8.000000e+08</td>\n",
       "      <td>180.855440</td>\n",
       "      <td>176.403676</td>\n",
       "      <td>171.764407</td>\n",
       "      <td>169.003940</td>\n",
       "    </tr>\n",
       "    <tr>\n",
       "      <th>3</th>\n",
       "      <td>82</td>\n",
       "      <td>115.672100</td>\n",
       "      <td>4.473227</td>\n",
       "      <td>14.990642</td>\n",
       "      <td>2.000000e+09</td>\n",
       "      <td>217.044085</td>\n",
       "      <td>215.316896</td>\n",
       "      <td>245.880015</td>\n",
       "      <td>265.958284</td>\n",
       "    </tr>\n",
       "    <tr>\n",
       "      <th>4</th>\n",
       "      <td>83</td>\n",
       "      <td>106.167899</td>\n",
       "      <td>3.416090</td>\n",
       "      <td>1.207811</td>\n",
       "      <td>1.000000e+09</td>\n",
       "      <td>171.659279</td>\n",
       "      <td>164.354293</td>\n",
       "      <td>154.729040</td>\n",
       "      <td>157.830712</td>\n",
       "    </tr>\n",
       "    <tr>\n",
       "      <th>...</th>\n",
       "      <td>...</td>\n",
       "      <td>...</td>\n",
       "      <td>...</td>\n",
       "      <td>...</td>\n",
       "      <td>...</td>\n",
       "      <td>...</td>\n",
       "      <td>...</td>\n",
       "      <td>...</td>\n",
       "      <td>...</td>\n",
       "    </tr>\n",
       "    <tr>\n",
       "      <th>19808</th>\n",
       "      <td>72944</td>\n",
       "      <td>95.239076</td>\n",
       "      <td>4.044686</td>\n",
       "      <td>4.417710</td>\n",
       "      <td>7.500000e+08</td>\n",
       "      <td>366.768519</td>\n",
       "      <td>361.804353</td>\n",
       "      <td>356.978706</td>\n",
       "      <td>342.727059</td>\n",
       "    </tr>\n",
       "    <tr>\n",
       "      <th>19809</th>\n",
       "      <td>72948</td>\n",
       "      <td>90.060159</td>\n",
       "      <td>11.504231</td>\n",
       "      <td>2.250852</td>\n",
       "      <td>4.000000e+08</td>\n",
       "      <td>1124.316903</td>\n",
       "      <td>1120.898118</td>\n",
       "      <td>1109.677059</td>\n",
       "      <td>1022.199941</td>\n",
       "    </tr>\n",
       "    <tr>\n",
       "      <th>19810</th>\n",
       "      <td>72949</td>\n",
       "      <td>88.003900</td>\n",
       "      <td>6.550267</td>\n",
       "      <td>55.330667</td>\n",
       "      <td>5.000000e+08</td>\n",
       "      <td>500.722641</td>\n",
       "      <td>566.272333</td>\n",
       "      <td>595.348333</td>\n",
       "      <td>614.242667</td>\n",
       "    </tr>\n",
       "    <tr>\n",
       "      <th>19811</th>\n",
       "      <td>72950</td>\n",
       "      <td>90.583533</td>\n",
       "      <td>7.934610</td>\n",
       "      <td>53.381167</td>\n",
       "      <td>3.000000e+08</td>\n",
       "      <td>639.156975</td>\n",
       "      <td>697.474333</td>\n",
       "      <td>733.633667</td>\n",
       "      <td>621.808000</td>\n",
       "    </tr>\n",
       "    <tr>\n",
       "      <th>19812</th>\n",
       "      <td>72952</td>\n",
       "      <td>98.023700</td>\n",
       "      <td>4.225957</td>\n",
       "      <td>55.860225</td>\n",
       "      <td>1.050000e+09</td>\n",
       "      <td>387.330905</td>\n",
       "      <td>379.254000</td>\n",
       "      <td>382.356750</td>\n",
       "      <td>373.460000</td>\n",
       "    </tr>\n",
       "  </tbody>\n",
       "</table>\n",
       "<p>19813 rows × 9 columns</p>\n",
       "</div>"
      ],
      "text/plain": [
       "       SecurityID       Price  YieldWorst  ModifiedDuration_Plain  AmtOutstanding      GSpread   OAS_Spread      ZSpread       AswUsd\n",
       "0              64  100.758965    4.644316                5.757035    1.697266e+09   291.711174   222.352441   288.657755   283.687773\n",
       "1              72  107.373280    3.940311                3.330841    1.000000e+09   227.002913   223.490338   223.329880   229.235868\n",
       "2              78  103.207920    3.477836                1.945063    8.000000e+08   180.855440   176.403676   171.764407   169.003940\n",
       "3              82  115.672100    4.473227               14.990642    2.000000e+09   217.044085   215.316896   245.880015   265.958284\n",
       "4              83  106.167899    3.416090                1.207811    1.000000e+09   171.659279   164.354293   154.729040   157.830712\n",
       "...           ...         ...         ...                     ...             ...          ...          ...          ...          ...\n",
       "19808       72944   95.239076    4.044686                4.417710    7.500000e+08   366.768519   361.804353   356.978706   342.727059\n",
       "19809       72948   90.060159   11.504231                2.250852    4.000000e+08  1124.316903  1120.898118  1109.677059  1022.199941\n",
       "19810       72949   88.003900    6.550267               55.330667    5.000000e+08   500.722641   566.272333   595.348333   614.242667\n",
       "19811       72950   90.583533    7.934610               53.381167    3.000000e+08   639.156975   697.474333   733.633667   621.808000\n",
       "19812       72952   98.023700    4.225957               55.860225    1.050000e+09   387.330905   379.254000   382.356750   373.460000\n",
       "\n",
       "[19813 rows x 9 columns]"
      ]
     },
     "execution_count": 4,
     "metadata": {},
     "output_type": "execute_result"
    }
   ],
   "source": [
    "# drop na from spreads data\n",
    "df_merged = df_merged.dropna(how='any')\n",
    "# convert dates to Date type\n",
    "df_merged['KeyDate'] = pd.to_datetime(df_merged['KeyDate'], errors='coerce')\n",
    "\n",
    "# Extract the low liers\n",
    "dates_low_liers = df_merged[\"KeyDate\"].value_counts()\n",
    "dates_low_liers = dates_low_liers[dates_low_liers < 500]\n",
    "\n",
    "# clean the dataset by removing the low liers and NaNs\n",
    "df_merged_clean = df_merged[~df_merged['KeyDate'].isin(dates_low_liers.index)]\n",
    "\n",
    "# drop KeyDate column\n",
    "df_data_values = df_merged_clean.drop(columns=['KeyDate'])\n",
    "\n",
    "# group by security and average all other columns\n",
    "df_data_values_with_mean = df_data_values.groupby(['SecurityID']).mean()\n",
    "df_data_values_with_mean.reset_index()"
   ]
  },
  {
   "cell_type": "code",
   "execution_count": 5,
   "metadata": {},
   "outputs": [],
   "source": [
    "##############################################################################\n",
    "# Load and clean Securities meta data                                        #\n",
    "##############################################################################\n",
    "path = r'C:\\Users\\mbrag\\PycharmProjects\\RPIA-Capstone\\SecurityData.csv'  # use your path\n",
    "df_securities = pd.read_csv(path)\n",
    "\n",
    "# filter out CountryDomicile=US\n",
    "df_securities_US = df_securities.loc[df_securities['CountryDomicile'] == 'US']"
   ]
  },
  {
   "cell_type": "code",
   "execution_count": 6,
   "metadata": {},
   "outputs": [],
   "source": [
    "##############################################################################\n",
    "# Merge all the datasets into one DataFrame / File                           #\n",
    "##############################################################################\n",
    "\n",
    "# left join RatingSP from df_rating on df_securities and replace NA with zero\n",
    "df_securities_US_w_avg_rating = df_securities_US.merge(df_ratings_with_mean, on=['SecurityID'], how='left')\n",
    "df_securities_US_w_avg_rating['RatingSP'] = df_securities_US_w_avg_rating['RatingSP'].fillna(0)\n",
    "\n",
    "\n",
    "# left join all columns by SecurityID from df_avg_data_values into df_securities_US_w_avg_rating\n",
    "df_securities_US_w_data = df_securities_US_w_avg_rating.merge(df_data_values_with_mean, on=['SecurityID'], how='left')\n",
    "\n",
    "# drop rows from df_securities_US_w_data without average spreads\n",
    "df_securities_US_w_data_clean = df_securities_US_w_data.dropna(subset=['Price', 'YieldWorst', 'ModifiedDuration_Plain',\n",
    "                                                                       'AmtOutstanding', 'GSpread', 'OAS_Spread', 'ZSpread', 'AswUsd'])\n",
    "\n",
    "# TEMP - output df_securities to US_Securities_with_AVG_Rating_AVG_Spreads.csv\n",
    "df_securities_US_w_data_clean.to_csv(r'C:\\Users\\mbrag\\PycharmProjects\\RPIA-Capstone\\US_Securities_with_AVG_Rating_AVG_Spreads.csv')\n"
   ]
  },
  {
   "cell_type": "code",
   "execution_count": 7,
   "metadata": {},
   "outputs": [],
   "source": [
    "from sklearn import metrics\n",
    "from sklearn.cluster import KMeans\n",
    "import matplotlib.pyplot as plt\n",
    "import matplotlib.cm as cm\n",
    "import itertools\n",
    "from scipy.spatial.distance import cdist\n",
    "\n",
    "from sklearn.datasets import load_digits\n",
    "from sklearn.decomposition import PCA\n",
    "from sklearn.preprocessing import scale\n",
    "from time import time\n",
    "\n",
    "%matplotlib inline"
   ]
  },
  {
   "cell_type": "code",
   "execution_count": 8,
   "metadata": {},
   "outputs": [
    {
     "data": {
      "image/png": "[encoded data removed]",
      "text/plain": [
       "<Figure size 432x288 with 1 Axes>"
      ]
     },
     "metadata": {
      "needs_background": "light"
     },
     "output_type": "display_data"
    }
   ],
   "source": [
    "X = df_securities_US_w_data_clean[[\"RatingSP\",\"GSpread\"]]\n",
    "#Visualise data points\n",
    "plt.scatter(X[\"RatingSP\"],X[\"GSpread\"],c='black')\n",
    "plt.xlabel('Rating')\n",
    "plt.ylabel('GSpread (In Perc Points)')\n",
    "plt.show()"
   ]
  },
  {
   "cell_type": "code",
   "execution_count": 9,
   "metadata": {},
   "outputs": [
    {
     "data": {
      "image/png": "[encoded data removed]",
      "text/plain": [
       "<Figure size 432x288 with 1 Axes>"
      ]
     },
     "metadata": {
      "needs_background": "light"
     },
     "output_type": "display_data"
    }
   ],
   "source": [
    "X = df_securities_US_w_data_clean[[\"GSpread\",\"Price\"]]\n",
    "#Visualise data points\n",
    "plt.scatter(X[\"GSpread\"],X[\"Price\"],c='black')\n",
    "plt.xlabel('GSpread')\n",
    "plt.ylabel('Price (In Dollars)')\n",
    "plt.show()"
   ]
  },
  {
   "cell_type": "code",
   "execution_count": 46,
   "metadata": {},
   "outputs": [
    {
     "data": {
      "image/png": "[encoded data removed]",
      "text/plain": [
       "<Figure size 1008x576 with 1 Axes>"
      ]
     },
     "metadata": {
      "needs_background": "light"
     },
     "output_type": "display_data"
    }
   ],
   "source": [
    "K = range(1,40)\n",
    "df = df_securities_US_w_data_clean[['GSpread', 'RatingSP', 'YieldWorst', 'Price',\n",
    "                                    'AmtOutstanding', 'OAS_Spread', 'ZSpread', 'AswUsd', 'AmountIssued']]\n",
    "\n",
    "distortions = []\n",
    "for k in K:\n",
    "    km = KMeans(\n",
    "        n_clusters=k, init='k-means++',\n",
    "        n_init=30, max_iter=500, random_state=42\n",
    "    ).fit(df)\n",
    "    km.fit(df)\n",
    "    distortions.append(sum(np.min(cdist(df, km.cluster_centers_, 'euclidean'), axis=1)) / df.shape[0])\n",
    "\n",
    "\n",
    "plt.figure(figsize=(14,8))\n",
    "plt.xlabel('Number of clusters')\n",
    "plt.ylabel('Distortion')    \n",
    "plt.plot(K, distortions, marker='o')\n",
    "plt.grid()\n",
    "plt.show()\n"
   ]
  },
  {
   "cell_type": "code",
   "execution_count": 47,
   "metadata": {
    "scrolled": true
   },
   "outputs": [
    {
     "name": "stdout",
     "output_type": "stream",
     "text": [
      "[[2.46397010e+02 1.44062762e+01 4.18461008e+00 1.03047308e+02 4.59280272e+08 2.25659039e+02 2.48683893e+02 2.37533453e+02 4.77789684e+08]\n",
      " [1.28412520e+02 1.63225126e+01 2.97810758e+00 1.05202866e+02 2.72553898e+09 1.20190153e+02 1.29866298e+02 1.47942689e+02 2.77331482e+09]\n",
      " [1.86298698e+02 1.52092788e+01 3.49391670e+00 1.04173101e+02 1.33646394e+09 1.68469305e+02 1.86902285e+02 2.04457360e+02 1.40247796e+09]\n",
      " [2.12075829e+02 1.61404845e+01 3.75801013e+00 1.06631044e+02 3.71982412e+09 2.04922111e+02 2.19897730e+02 2.13908389e+02 4.03673125e+09]\n",
      " [1.19308846e+02 1.67142857e+01 3.12869440e+00 1.10332603e+02 1.45419562e+09 1.15654050e+02 1.25019212e+02 1.33802363e+02 1.03729037e+10]\n",
      " [2.35085987e+02 1.46860076e+01 4.00790866e+00 1.02977547e+02 6.78211799e+08 2.14291861e+02 2.35900542e+02 2.26424535e+02 7.10673092e+08]\n",
      " [1.50128134e+02 1.54830425e+01 3.24131208e+00 1.05149334e+02 1.92019480e+09 1.32412843e+02 1.52686352e+02 1.36511797e+02 2.02564025e+09]\n",
      " [2.31072927e+02 1.38112999e+01 4.13768372e+00 1.08051871e+02 2.55408824e+08 2.17714671e+02 2.36155967e+02 2.25350896e+02 2.71066832e+08]\n",
      " [1.87492879e+02 1.62352941e+01 3.48967211e+00 1.08220701e+02 6.36097721e+09 1.85456611e+02 2.01225658e+02 2.07666898e+02 6.38712100e+09]\n",
      " [1.65861785e+02 1.51897608e+01 3.32756141e+00 1.03702528e+02 9.68720571e+08 1.50103092e+02 1.68010381e+02 1.81644056e+02 9.98479996e+08]]\n",
      "5.8871332165821314e+20\n"
     ]
    }
   ],
   "source": [
    "kmeans = KMeans(n_clusters=10, init='k-means++', max_iter=500, \n",
    "               n_init=30, verbose=False, random_state=42).fit(df)\n",
    "centroids_gspread = kmeans.cluster_centers_\n",
    "inertias_gspread = kmeans.inertia_\n",
    "print(centroids_gspread)\n",
    "print(inertias_gspread)\n"
   ]
  },
  {
   "cell_type": "code",
   "execution_count": 48,
   "metadata": {},
   "outputs": [
    {
     "name": "stdout",
     "output_type": "stream",
     "text": [
      "12219\n"
     ]
    }
   ],
   "source": [
    "preds = kmeans.fit_predict(df)\n",
    "print(len(preds))\n",
    "\n",
    "# df_securities_US_w_data_clean\n",
    "df_test = df_securities_US_w_data_clean.copy()\n",
    "\n",
    "df_test['ClusterTag'] = pd.Series(preds, index=df_test.index)\n",
    "df_test.to_csv(r'C:\\Users\\mbrag\\PycharmProjects\\RPIA-Capstone\\df_test.csv')"
   ]
  },
  {
   "cell_type": "code",
   "execution_count": 49,
   "metadata": {},
   "outputs": [
    {
     "name": "stdout",
     "output_type": "stream",
     "text": [
      "[[   131.46809796    107.14026509]\n",
      " [  5492.53585632     46.32991513]\n",
      " [ -5340.87849951    107.36202845]\n",
      " [  1005.19826091     87.83512166]\n",
      " [ 15223.54407221     29.24386429]\n",
      " [ -2410.38351445    102.09407442]\n",
      " [-11462.41212351    100.60281644]\n",
      " [  -866.9871676     101.41888616]\n",
      " [   404.41951215    101.14717578]\n",
      " [  2450.10771107     61.68322901]]\n",
      "250909715.14793348\n"
     ]
    },
    {
     "data": {
      "image/png": "[encoded data removed]",
      "text/plain": [
       "<Figure size 432x288 with 1 Axes>"
      ]
     },
     "metadata": {
      "needs_background": "light"
     },
     "output_type": "display_data"
    }
   ],
   "source": [
    "# Visualization only\n",
    "df_2 = df[['GSpread', 'Price']]\n",
    "\n",
    "kmeans2 = KMeans(n_clusters=10, init='k-means++', max_iter=500, \n",
    "               n_init=30, verbose=False, random_state=42).fit(df_2)\n",
    "centroids_kmeans2 = kmeans2.cluster_centers_\n",
    "inertias_kmeans2 = kmeans2.inertia_\n",
    "print(centroids_kmeans2)\n",
    "print(inertias_kmeans2)\n",
    "\n",
    "plt.scatter(df_2['GSpread'], df_2['Price'], c= kmeans2.labels_.astype(float), s=25, alpha=0.5)\n",
    "plt.scatter(centroids_kmeans2[:, 0], centroids_kmeans2[:, 1], c='red', s=25)\n",
    "plt.show()"
   ]
  },
  {
   "cell_type": "code",
   "execution_count": 50,
   "metadata": {},
   "outputs": [
    {
     "name": "stdout",
     "output_type": "stream",
     "text": [
      "[[ 1.30321961e+02  1.59003313e+01]\n",
      " [ 2.45010771e+03  5.73766654e+00]\n",
      " [-2.49435017e+03  1.06729176e+01]\n",
      " [ 1.52235441e+04  0.00000000e+00]\n",
      " [ 5.49253586e+03  3.62332138e+00]\n",
      " [-8.88441575e+02  1.09417169e+01]\n",
      " [ 3.99478035e+02  1.16348240e+01]\n",
      " [-5.87161335e+03  8.13639163e+00]\n",
      " [ 1.00006397e+03  8.32992201e+00]\n",
      " [-1.38744269e+04  0.00000000e+00]]\n",
      "251571439.07021892\n"
     ]
    },
    {
     "data": {
      "image/png": "[encoded data removed]",
      "text/plain": [
       "<Figure size 432x288 with 1 Axes>"
      ]
     },
     "metadata": {
      "needs_background": "light"
     },
     "output_type": "display_data"
    }
   ],
   "source": [
    "# Visualization only\n",
    "df_3 = df[['GSpread', 'RatingSP']]\n",
    "\n",
    "kmeans3 = KMeans(n_clusters=10, init='k-means++', max_iter=500, \n",
    "               n_init=30, verbose=False, random_state=42).fit(df_3)\n",
    "centroids_kmeans3 = kmeans3.cluster_centers_\n",
    "inertias_kmeans3 = kmeans3.inertia_\n",
    "print(centroids_kmeans3)\n",
    "print(inertias_kmeans3)\n",
    "\n",
    "plt.scatter(df_3['RatingSP'], df_3['GSpread'], c= kmeans3.labels_.astype(float), s=25, alpha=0.5)\n",
    "plt.scatter(centroids_kmeans3[:, 1], centroids_kmeans3[:, 0], c='red', s=25)\n",
    "plt.show()"
   ]
  },
  {
   "cell_type": "code",
   "execution_count": 51,
   "metadata": {},
   "outputs": [],
   "source": [
    "distortions = [] \n",
    "inertias = [] \n",
    "mapping1 = {} \n",
    "mapping2 = {} \n",
    "\n",
    "\n",
    "K = range(1,40)\n",
    "\n",
    "for k in K: \n",
    "    #Building and fitting the model \n",
    "    kmeanModel = KMeans(n_clusters=k, init='k-means++', max_iter=500, \n",
    "               n_init=30, verbose=False, random_state=42).fit(df) \n",
    "    kmeanModel.fit(df)     \n",
    "      \n",
    "    distortions.append(sum(np.min(cdist(df, kmeanModel.cluster_centers_, 'euclidean'),axis=1)) / X.shape[0]) \n",
    "    inertias.append(kmeanModel.inertia_) \n",
    "  \n",
    "    mapping1[k] = sum(np.min(cdist(df, kmeanModel.cluster_centers_, 'euclidean'),axis=1)) / df.shape[0] \n",
    "    mapping2[k] = kmeanModel.inertia_ \n",
    "\n",
    "    "
   ]
  },
  {
   "cell_type": "code",
   "execution_count": 52,
   "metadata": {},
   "outputs": [
    {
     "name": "stdout",
     "output_type": "stream",
     "text": [
      "1 : 603610887.7233679\n",
      "2 : 405230668.9045197\n",
      "3 : 301335852.1408391\n",
      "4 : 246985231.10207963\n",
      "5 : 234049861.97810018\n",
      "6 : 204304707.32714045\n",
      "7 : 176761895.16267982\n",
      "8 : 159501181.27886617\n",
      "9 : 147818002.8963398\n",
      "10 : 125539344.48473774\n",
      "11 : 122093891.9207548\n",
      "12 : 122172802.31190445\n",
      "13 : 118391956.09188625\n",
      "14 : 104397112.6381512\n",
      "15 : 100934939.3848481\n",
      "16 : 96282526.79649983\n",
      "17 : 87977085.66457847\n",
      "18 : 85114555.89721188\n",
      "19 : 84377435.58273022\n",
      "20 : 75847254.73131153\n",
      "21 : 74994684.5290462\n",
      "22 : 73741711.02596024\n",
      "23 : 63973476.191502675\n",
      "24 : 59992557.706651725\n",
      "25 : 63806975.43548626\n",
      "26 : 60906009.43330441\n",
      "27 : 55418819.080812775\n",
      "28 : 54667508.93538504\n",
      "29 : 54242207.87975064\n",
      "30 : 53605452.86175112\n",
      "31 : 50678240.43632914\n",
      "32 : 50124088.34268618\n",
      "33 : 48891331.673310116\n",
      "34 : 48737013.1466288\n",
      "35 : 48515004.50684191\n",
      "36 : 47287699.054684184\n",
      "37 : 48284087.77957354\n",
      "38 : 44424725.65354036\n",
      "39 : 45228409.26667335\n"
     ]
    }
   ],
   "source": [
    "# Tabulate the different values of Distortion\n",
    "for key,val in mapping1.items(): \n",
    "    print(str(key)+' : '+str(val)) "
   ]
  },
  {
   "cell_type": "code",
   "execution_count": 53,
   "metadata": {},
   "outputs": [
    {
     "data": {
      "image/png": "[encoded data removed]",
      "text/plain": [
       "<Figure size 432x288 with 1 Axes>"
      ]
     },
     "metadata": {
      "needs_background": "light"
     },
     "output_type": "display_data"
    }
   ],
   "source": [
    "# Visualize the different values of Distortion\n",
    "plt.plot(K, distortions, 'bx-') \n",
    "plt.xlabel('Values of K') \n",
    "plt.ylabel('Distortion') \n",
    "plt.title('The Elbow Method using Distortion') \n",
    "plt.show()"
   ]
  },
  {
   "cell_type": "code",
   "execution_count": 54,
   "metadata": {},
   "outputs": [
    {
     "name": "stdout",
     "output_type": "stream",
     "text": [
      "1 : 1.0706813318388582e+22\n",
      "2 : 4.5250972655043e+21\n",
      "3 : 2.6958951392285777e+21\n",
      "4 : 1.9106980411430512e+21\n",
      "5 : 1.4647739179902207e+21\n",
      "6 : 1.1740002616444385e+21\n",
      "7 : 9.773707222554201e+20\n",
      "8 : 7.861873355599481e+20\n",
      "9 : 6.76213960563721e+20\n",
      "10 : 5.8871332165821314e+20\n",
      "11 : 5.226256716696491e+20\n",
      "12 : 4.753964994521269e+20\n",
      "13 : 4.122752201282125e+20\n",
      "14 : 3.78930192708215e+20\n",
      "15 : 3.4798625654625776e+20\n",
      "16 : 3.162243381097298e+20\n",
      "17 : 2.8929307477606764e+20\n",
      "18 : 2.6471632732903293e+20\n",
      "19 : 2.4503591033439122e+20\n",
      "20 : 2.2692812467476293e+20\n",
      "21 : 2.1050980563408077e+20\n",
      "22 : 1.9333396086105974e+20\n",
      "23 : 1.8154110471759574e+20\n",
      "24 : 1.6993422422313982e+20\n",
      "25 : 1.6336301958941583e+20\n",
      "26 : 1.5098886834021623e+20\n",
      "27 : 1.405598034040571e+20\n",
      "28 : 1.3332373252147121e+20\n",
      "29 : 1.2496984442282141e+20\n",
      "30 : 1.2008388747891556e+20\n",
      "31 : 1.1263209198890325e+20\n",
      "32 : 1.0696642756726745e+20\n",
      "33 : 1.0105303231201526e+20\n",
      "34 : 9.971969897868191e+19\n",
      "35 : 9.450061513849178e+19\n",
      "36 : 9.143549075310987e+19\n",
      "37 : 8.670445989690225e+19\n",
      "38 : 8.321249988325505e+19\n",
      "39 : 7.973134904480571e+19\n"
     ]
    }
   ],
   "source": [
    "# Tabulate the different values of Inertia\n",
    "for key,val in mapping2.items(): \n",
    "    print(str(key)+' : '+str(val)) "
   ]
  },
  {
   "cell_type": "code",
   "execution_count": 55,
   "metadata": {},
   "outputs": [
    {
     "data": {
      "image/png": "[encoded data removed]",
      "text/plain": [
       "<Figure size 432x288 with 1 Axes>"
      ]
     },
     "metadata": {
      "needs_background": "light"
     },
     "output_type": "display_data"
    }
   ],
   "source": [
    "# Visualize the different values of Inertia\n",
    "plt.plot(K, inertias, 'bx-') \n",
    "plt.xlabel('Values of K') \n",
    "plt.ylabel('Inertia') \n",
    "plt.title('The Elbow Method using Inertia') \n",
    "plt.show() "
   ]
  },
  {
   "cell_type": "code",
   "execution_count": null,
   "metadata": {},
   "outputs": [],
   "source": []
  },
  {
   "cell_type": "code",
   "execution_count": null,
   "metadata": {},
   "outputs": [],
   "source": []
  },
  {
   "cell_type": "code",
   "execution_count": null,
   "metadata": {},
   "outputs": [],
   "source": []
  },
  {
   "cell_type": "code",
   "execution_count": null,
   "metadata": {},
   "outputs": [],
   "source": []
  },
  {
   "cell_type": "code",
   "execution_count": null,
   "metadata": {},
   "outputs": [],
   "source": []
  },
  {
   "cell_type": "code",
   "execution_count": null,
   "metadata": {},
   "outputs": [],
   "source": []
  },
  {
   "cell_type": "code",
   "execution_count": null,
   "metadata": {},
   "outputs": [],
   "source": []
  },
  {
   "cell_type": "code",
   "execution_count": null,
   "metadata": {},
   "outputs": [],
   "source": []
  },
  {
   "cell_type": "code",
   "execution_count": null,
   "metadata": {},
   "outputs": [],
   "source": []
  },
  {
   "cell_type": "code",
   "execution_count": null,
   "metadata": {},
   "outputs": [],
   "source": []
  },
  {
   "cell_type": "code",
   "execution_count": null,
   "metadata": {},
   "outputs": [],
   "source": []
  },
  {
   "cell_type": "code",
   "execution_count": null,
   "metadata": {},
   "outputs": [],
   "source": []
  },
  {
   "cell_type": "code",
   "execution_count": null,
   "metadata": {},
   "outputs": [],
   "source": []
  },
  {
   "cell_type": "code",
   "execution_count": null,
   "metadata": {},
   "outputs": [],
   "source": []
  },
  {
   "cell_type": "code",
   "execution_count": null,
   "metadata": {},
   "outputs": [],
   "source": []
  },
  {
   "cell_type": "code",
   "execution_count": null,
   "metadata": {},
   "outputs": [],
   "source": []
  },
  {
   "cell_type": "code",
   "execution_count": null,
   "metadata": {},
   "outputs": [],
   "source": []
  },
  {
   "cell_type": "code",
   "execution_count": null,
   "metadata": {},
   "outputs": [],
   "source": []
  },
  {
   "cell_type": "code",
   "execution_count": null,
   "metadata": {},
   "outputs": [],
   "source": []
  },
  {
   "cell_type": "code",
   "execution_count": null,
   "metadata": {},
   "outputs": [],
   "source": []
  },
  {
   "cell_type": "code",
   "execution_count": null,
   "metadata": {},
   "outputs": [],
   "source": []
  },
  {
   "cell_type": "raw",
   "metadata": {},
   "source": [
    "# np.random.seed(42)\n",
    "\n",
    "X_digits, y_digits = load_digits(return_X_y=True)\n",
    "data = scale(X_digits)\n",
    "\n",
    "n_samples, n_features = data.shape\n",
    "n_digits = len(np.unique(y_digits))\n",
    "labels = y_digits\n",
    "\n",
    "sample_size = 300\n",
    "\n",
    "print(\"n_digits: %d, \\t n_samples %d, \\t n_features %d\"\n",
    "      % (n_digits, n_samples, n_features))\n",
    "\n",
    "\n",
    "print(82 * '_')\n",
    "print('init\\t\\ttime\\tinertia\\thomo\\tcompl\\tv-meas\\tARI\\tAMI\\tsilhouette')\n",
    "\n",
    "\n",
    "def bench_k_means(estimator, name, data):\n",
    "    t0 = time()\n",
    "    estimator.fit(data)\n",
    "    print('%-9s\\t%.2fs\\t%i\\t%.3f\\t%.3f\\t%.3f\\t%.3f\\t%.3f\\t%.3f'\n",
    "          % (name, (time() - t0), estimator.inertia_,\n",
    "             metrics.homogeneity_score(labels, estimator.labels_),\n",
    "             metrics.completeness_score(labels, estimator.labels_),\n",
    "             metrics.v_measure_score(labels, estimator.labels_),\n",
    "             metrics.adjusted_rand_score(labels, estimator.labels_),\n",
    "             metrics.adjusted_mutual_info_score(labels,  estimator.labels_),\n",
    "             metrics.silhouette_score(data, estimator.labels_,\n",
    "                                      metric='euclidean',\n",
    "                                      sample_size=sample_size)))\n",
    "\n",
    "bench_k_means(KMeans(init='k-means++', n_clusters=n_digits, n_init=10),\n",
    "              name=\"k-means++\", data=data)\n",
    "\n",
    "bench_k_means(KMeans(init='random', n_clusters=n_digits, n_init=10),\n",
    "              name=\"random\", data=data)\n",
    "\n",
    "# in this case the seeding of the centers is deterministic, hence we run the\n",
    "# kmeans algorithm only once with n_init=1\n",
    "pca = PCA(n_components=n_digits).fit(data)\n",
    "bench_k_means(KMeans(init=pca.components_, n_clusters=n_digits, n_init=1),\n",
    "              name=\"PCA-based\",\n",
    "              data=data)\n",
    "print(82 * '_')\n",
    "\n",
    "# #############################################################################\n",
    "# Visualize the results on PCA-reduced data\n",
    "\n",
    "reduced_data = PCA(n_components=2).fit_transform(data)\n",
    "kmeans = KMeans(init='k-means++', n_clusters=n_digits, n_init=10)\n",
    "kmeans.fit(reduced_data)\n",
    "\n",
    "# Step size of the mesh. Decrease to increase the quality of the VQ.\n",
    "h = .02     # point in the mesh [x_min, x_max]x[y_min, y_max].\n",
    "\n",
    "# Plot the decision boundary. For that, we will assign a color to each\n",
    "x_min, x_max = reduced_data[:, 0].min() - 1, reduced_data[:, 0].max() + 1\n",
    "y_min, y_max = reduced_data[:, 1].min() - 1, reduced_data[:, 1].max() + 1\n",
    "xx, yy = np.meshgrid(np.arange(x_min, x_max, h), np.arange(y_min, y_max, h))\n",
    "\n",
    "# Obtain labels for each point in mesh. Use last trained model.\n",
    "Z = kmeans.predict(np.c_[xx.ravel(), yy.ravel()])\n",
    "\n",
    "# Put the result into a color plot\n",
    "Z = Z.reshape(xx.shape)\n",
    "plt.figure(1)\n",
    "plt.clf()\n",
    "plt.imshow(Z, interpolation='nearest',\n",
    "           extent=(xx.min(), xx.max(), yy.min(), yy.max()),\n",
    "           cmap=plt.cm.Paired,\n",
    "           aspect='auto', origin='lower')\n",
    "\n",
    "plt.plot(reduced_data[:, 0], reduced_data[:, 1], 'k.', markersize=2)\n",
    "# Plot the centroids as a white X\n",
    "centroids = kmeans.cluster_centers_\n",
    "plt.scatter(centroids[:, 0], centroids[:, 1],\n",
    "            marker='x', s=169, linewidths=3,\n",
    "            color='w', zorder=10)\n",
    "plt.title('K-means clustering on the digits dataset (PCA-reduced data)\\n'\n",
    "          'Centroids are marked with white cross')\n",
    "plt.xlim(x_min, x_max)\n",
    "plt.ylim(y_min, y_max)\n",
    "plt.xticks(())\n",
    "plt.yticks(())\n",
    "plt.show()"
   ]
  }
 ],
 "metadata": {
  "kernelspec": {
   "display_name": "Python 3",
   "language": "python",
   "name": "python3"
  },
  "language_info": {
   "codemirror_mode": {
    "name": "ipython",
    "version": 3
   },
   "file_extension": ".py",
   "mimetype": "text/x-python",
   "name": "python",
   "nbconvert_exporter": "python",
   "pygments_lexer": "ipython3",
   "version": "3.7.6"
  }
 },
 "nbformat": 4,
 "nbformat_minor": 4
}
