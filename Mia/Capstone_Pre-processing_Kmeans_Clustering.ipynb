{
 "cells": [
  {
   "cell_type": "code",
   "execution_count": 1,
   "metadata": {},
   "outputs": [],
   "source": [
    "import os\n",
    "import pandas as pd\n",
    "import numpy as np\n",
    "import glob\n",
    "import datetime\n",
    "\n",
    "desired_width = 320\n",
    "pd.set_option('display.width', desired_width)\n",
    "np.set_printoptions(linewidth=desired_width)\n",
    "pd.set_option('display.max_columns', 10)"
   ]
  },
  {
   "cell_type": "code",
   "execution_count": 2,
   "metadata": {},
   "outputs": [
    {
     "data": {
      "text/html": [
       "<div>\n",
       "<style scoped>\n",
       "    .dataframe tbody tr th:only-of-type {\n",
       "        vertical-align: middle;\n",
       "    }\n",
       "\n",
       "    .dataframe tbody tr th {\n",
       "        vertical-align: top;\n",
       "    }\n",
       "\n",
       "    .dataframe thead th {\n",
       "        text-align: right;\n",
       "    }\n",
       "</style>\n",
       "<table border=\"1\" class=\"dataframe\">\n",
       "  <thead>\n",
       "    <tr style=\"text-align: right;\">\n",
       "      <th></th>\n",
       "      <th>SecurityID</th>\n",
       "      <th>RatingSP</th>\n",
       "    </tr>\n",
       "  </thead>\n",
       "  <tbody>\n",
       "    <tr>\n",
       "      <th>0</th>\n",
       "      <td>64</td>\n",
       "      <td>10.000000</td>\n",
       "    </tr>\n",
       "    <tr>\n",
       "      <th>1</th>\n",
       "      <td>72</td>\n",
       "      <td>13.000000</td>\n",
       "    </tr>\n",
       "    <tr>\n",
       "      <th>2</th>\n",
       "      <td>78</td>\n",
       "      <td>14.652361</td>\n",
       "    </tr>\n",
       "    <tr>\n",
       "      <th>3</th>\n",
       "      <td>82</td>\n",
       "      <td>15.000000</td>\n",
       "    </tr>\n",
       "    <tr>\n",
       "      <th>4</th>\n",
       "      <td>83</td>\n",
       "      <td>14.652361</td>\n",
       "    </tr>\n",
       "    <tr>\n",
       "      <th>...</th>\n",
       "      <td>...</td>\n",
       "      <td>...</td>\n",
       "    </tr>\n",
       "    <tr>\n",
       "      <th>17918</th>\n",
       "      <td>72406</td>\n",
       "      <td>14.000000</td>\n",
       "    </tr>\n",
       "    <tr>\n",
       "      <th>17919</th>\n",
       "      <td>72407</td>\n",
       "      <td>14.000000</td>\n",
       "    </tr>\n",
       "    <tr>\n",
       "      <th>17920</th>\n",
       "      <td>72504</td>\n",
       "      <td>17.000000</td>\n",
       "    </tr>\n",
       "    <tr>\n",
       "      <th>17921</th>\n",
       "      <td>72675</td>\n",
       "      <td>8.000000</td>\n",
       "    </tr>\n",
       "    <tr>\n",
       "      <th>17922</th>\n",
       "      <td>72902</td>\n",
       "      <td>17.000000</td>\n",
       "    </tr>\n",
       "  </tbody>\n",
       "</table>\n",
       "<p>17923 rows × 2 columns</p>\n",
       "</div>"
      ],
      "text/plain": [
       "       SecurityID   RatingSP\n",
       "0              64  10.000000\n",
       "1              72  13.000000\n",
       "2              78  14.652361\n",
       "3              82  15.000000\n",
       "4              83  14.652361\n",
       "...           ...        ...\n",
       "17918       72406  14.000000\n",
       "17919       72407  14.000000\n",
       "17920       72504  17.000000\n",
       "17921       72675   8.000000\n",
       "17922       72902  17.000000\n",
       "\n",
       "[17923 rows x 2 columns]"
      ]
     },
     "execution_count": 2,
     "metadata": {},
     "output_type": "execute_result"
    }
   ],
   "source": [
    "##############################################################################\n",
    "# Load and clean Rating data                                                 #\n",
    "##############################################################################\n",
    "path = r'C:\\Users\\mbrag\\PycharmProjects\\RPIA-Capstone\\Rating.csv'\n",
    "df_ratings_raw = pd.read_csv(path)\n",
    "\n",
    "# drop RatingSPOutlook,RatingSPOutlook columns\n",
    "df_ratings_no_xtra_col = df_ratings_raw.drop(columns=['RatingSPOutlook', 'RatingSPOutlook.1'])\n",
    "\n",
    "# drop NA from RatingSP column\n",
    "df_ratings_clean = df_ratings_no_xtra_col.dropna(subset=['RatingSP'])\n",
    "\n",
    "# calculate mean per security by removing KeyDate\n",
    "df_ratings_clean = df_ratings_clean.drop(columns=['KeyDate'])\n",
    "df_ratings_with_mean = df_ratings_clean.groupby(['SecurityID']).mean()\n",
    "df_ratings_with_mean.reset_index()"
   ]
  },
  {
   "cell_type": "code",
   "execution_count": 3,
   "metadata": {},
   "outputs": [],
   "source": [
    "##############################################################################\n",
    "# Load and clean Spreads data                                                #\n",
    "##############################################################################\n",
    "path = r'C:\\Users\\mbrag\\PycharmProjects\\RPIA-Capstone\\raw_data_files'\n",
    "all_files = glob.glob(os.path.join(path, \"*.csv\"))  # use os.path.join to make concat OS independent\n",
    "\n",
    "df_from_each_file = (pd.read_csv(f) for f in all_files)\n",
    "df_merged = pd.concat(df_from_each_file, ignore_index=True, sort=False)"
   ]
  },
  {
   "cell_type": "code",
   "execution_count": 4,
   "metadata": {},
   "outputs": [
    {
     "data": {
      "text/html": [
       "<div>\n",
       "<style scoped>\n",
       "    .dataframe tbody tr th:only-of-type {\n",
       "        vertical-align: middle;\n",
       "    }\n",
       "\n",
       "    .dataframe tbody tr th {\n",
       "        vertical-align: top;\n",
       "    }\n",
       "\n",
       "    .dataframe thead th {\n",
       "        text-align: right;\n",
       "    }\n",
       "</style>\n",
       "<table border=\"1\" class=\"dataframe\">\n",
       "  <thead>\n",
       "    <tr style=\"text-align: right;\">\n",
       "      <th></th>\n",
       "      <th>SecurityID</th>\n",
       "      <th>Price</th>\n",
       "      <th>YieldWorst</th>\n",
       "      <th>ModifiedDuration_Plain</th>\n",
       "      <th>AmtOutstanding</th>\n",
       "      <th>GSpread</th>\n",
       "      <th>OAS_Spread</th>\n",
       "      <th>ZSpread</th>\n",
       "      <th>AswUsd</th>\n",
       "    </tr>\n",
       "  </thead>\n",
       "  <tbody>\n",
       "    <tr>\n",
       "      <th>0</th>\n",
       "      <td>64</td>\n",
       "      <td>101.030416</td>\n",
       "      <td>4.575854</td>\n",
       "      <td>5.818073</td>\n",
       "      <td>1.697266e+09</td>\n",
       "      <td>266.128523</td>\n",
       "      <td>197.627440</td>\n",
       "      <td>264.103364</td>\n",
       "      <td>260.005244</td>\n",
       "    </tr>\n",
       "    <tr>\n",
       "      <th>1</th>\n",
       "      <td>72</td>\n",
       "      <td>107.733566</td>\n",
       "      <td>3.865144</td>\n",
       "      <td>3.404476</td>\n",
       "      <td>1.000000e+09</td>\n",
       "      <td>200.229956</td>\n",
       "      <td>196.899290</td>\n",
       "      <td>197.525862</td>\n",
       "      <td>203.728448</td>\n",
       "    </tr>\n",
       "    <tr>\n",
       "      <th>2</th>\n",
       "      <td>78</td>\n",
       "      <td>104.120369</td>\n",
       "      <td>2.916503</td>\n",
       "      <td>2.028475</td>\n",
       "      <td>8.000000e+08</td>\n",
       "      <td>103.426473</td>\n",
       "      <td>100.203312</td>\n",
       "      <td>96.953608</td>\n",
       "      <td>98.470406</td>\n",
       "    </tr>\n",
       "    <tr>\n",
       "      <th>3</th>\n",
       "      <td>82</td>\n",
       "      <td>114.694976</td>\n",
       "      <td>4.529194</td>\n",
       "      <td>14.953470</td>\n",
       "      <td>2.000000e+09</td>\n",
       "      <td>206.578273</td>\n",
       "      <td>204.865876</td>\n",
       "      <td>234.248454</td>\n",
       "      <td>251.878175</td>\n",
       "    </tr>\n",
       "    <tr>\n",
       "      <th>4</th>\n",
       "      <td>83</td>\n",
       "      <td>106.988634</td>\n",
       "      <td>2.832795</td>\n",
       "      <td>1.290010</td>\n",
       "      <td>1.000000e+09</td>\n",
       "      <td>91.194434</td>\n",
       "      <td>85.292228</td>\n",
       "      <td>78.617851</td>\n",
       "      <td>82.453120</td>\n",
       "    </tr>\n",
       "    <tr>\n",
       "      <th>...</th>\n",
       "      <td>...</td>\n",
       "      <td>...</td>\n",
       "      <td>...</td>\n",
       "      <td>...</td>\n",
       "      <td>...</td>\n",
       "      <td>...</td>\n",
       "      <td>...</td>\n",
       "      <td>...</td>\n",
       "      <td>...</td>\n",
       "    </tr>\n",
       "    <tr>\n",
       "      <th>18991</th>\n",
       "      <td>69103</td>\n",
       "      <td>120.005077</td>\n",
       "      <td>3.621411</td>\n",
       "      <td>16.009238</td>\n",
       "      <td>4.000000e+08</td>\n",
       "      <td>177.669743</td>\n",
       "      <td>173.741538</td>\n",
       "      <td>206.576846</td>\n",
       "      <td>229.194846</td>\n",
       "    </tr>\n",
       "    <tr>\n",
       "      <th>18992</th>\n",
       "      <td>69106</td>\n",
       "      <td>105.056692</td>\n",
       "      <td>3.792591</td>\n",
       "      <td>7.517122</td>\n",
       "      <td>3.000000e+08</td>\n",
       "      <td>251.457062</td>\n",
       "      <td>197.909769</td>\n",
       "      <td>251.098154</td>\n",
       "      <td>255.227846</td>\n",
       "    </tr>\n",
       "    <tr>\n",
       "      <th>18993</th>\n",
       "      <td>69109</td>\n",
       "      <td>100.917769</td>\n",
       "      <td>7.092544</td>\n",
       "      <td>5.953214</td>\n",
       "      <td>1.000000e+09</td>\n",
       "      <td>567.398154</td>\n",
       "      <td>553.436462</td>\n",
       "      <td>575.944769</td>\n",
       "      <td>569.686231</td>\n",
       "    </tr>\n",
       "    <tr>\n",
       "      <th>18994</th>\n",
       "      <td>69114</td>\n",
       "      <td>98.928192</td>\n",
       "      <td>4.664027</td>\n",
       "      <td>6.617713</td>\n",
       "      <td>7.500000e+08</td>\n",
       "      <td>324.435303</td>\n",
       "      <td>268.741385</td>\n",
       "      <td>332.940846</td>\n",
       "      <td>324.974231</td>\n",
       "    </tr>\n",
       "    <tr>\n",
       "      <th>18995</th>\n",
       "      <td>69115</td>\n",
       "      <td>110.453692</td>\n",
       "      <td>2.770128</td>\n",
       "      <td>6.906429</td>\n",
       "      <td>5.000000e+08</td>\n",
       "      <td>135.156616</td>\n",
       "      <td>135.765231</td>\n",
       "      <td>142.621154</td>\n",
       "      <td>149.478923</td>\n",
       "    </tr>\n",
       "  </tbody>\n",
       "</table>\n",
       "<p>18996 rows × 9 columns</p>\n",
       "</div>"
      ],
      "text/plain": [
       "       SecurityID       Price  YieldWorst  ModifiedDuration_Plain  AmtOutstanding     GSpread  OAS_Spread     ZSpread      AswUsd\n",
       "0              64  101.030416    4.575854                5.818073    1.697266e+09  266.128523  197.627440  264.103364  260.005244\n",
       "1              72  107.733566    3.865144                3.404476    1.000000e+09  200.229956  196.899290  197.525862  203.728448\n",
       "2              78  104.120369    2.916503                2.028475    8.000000e+08  103.426473  100.203312   96.953608   98.470406\n",
       "3              82  114.694976    4.529194               14.953470    2.000000e+09  206.578273  204.865876  234.248454  251.878175\n",
       "4              83  106.988634    2.832795                1.290010    1.000000e+09   91.194434   85.292228   78.617851   82.453120\n",
       "...           ...         ...         ...                     ...             ...         ...         ...         ...         ...\n",
       "18991       69103  120.005077    3.621411               16.009238    4.000000e+08  177.669743  173.741538  206.576846  229.194846\n",
       "18992       69106  105.056692    3.792591                7.517122    3.000000e+08  251.457062  197.909769  251.098154  255.227846\n",
       "18993       69109  100.917769    7.092544                5.953214    1.000000e+09  567.398154  553.436462  575.944769  569.686231\n",
       "18994       69114   98.928192    4.664027                6.617713    7.500000e+08  324.435303  268.741385  332.940846  324.974231\n",
       "18995       69115  110.453692    2.770128                6.906429    5.000000e+08  135.156616  135.765231  142.621154  149.478923\n",
       "\n",
       "[18996 rows x 9 columns]"
      ]
     },
     "execution_count": 4,
     "metadata": {},
     "output_type": "execute_result"
    }
   ],
   "source": [
    "# drop na from spreads data\n",
    "df_merged = df_merged.dropna(how='any')\n",
    "# convert dates to Date type\n",
    "df_merged['KeyDate'] = pd.to_datetime(df_merged['KeyDate'], errors='coerce')\n",
    "\n",
    "# Extract the low liers\n",
    "dates_low_liers = df_merged[\"KeyDate\"].value_counts()\n",
    "dates_low_liers = dates_low_liers[dates_low_liers < 500]\n",
    "\n",
    "# clean the dataset by removing the low liers and NaNs\n",
    "df_merged_clean = df_merged[~df_merged['KeyDate'].isin(dates_low_liers.index)]\n",
    "\n",
    "# drop rows after March 1st 2020\n",
    "indexDates = df_merged_clean[ df_merged_clean['KeyDate'] > '2020-03-01' ].index\n",
    "df_merged_clean.drop(indexDates , inplace=True)\n",
    "\n",
    "# drop KeyDate column\n",
    "df_data_values = df_merged_clean.drop(columns=['KeyDate'])\n",
    "\n",
    "# group by security and average all other columns\n",
    "df_data_values_with_mean = df_data_values.groupby(['SecurityID']).mean()\n",
    "df_data_values_with_mean.reset_index()"
   ]
  },
  {
   "cell_type": "code",
   "execution_count": 5,
   "metadata": {},
   "outputs": [],
   "source": [
    "##############################################################################\n",
    "# Load and clean Securities meta data                                        #\n",
    "##############################################################################\n",
    "path = r'C:\\Users\\mbrag\\PycharmProjects\\RPIA-Capstone\\SecurityData.csv'  # use your path\n",
    "df_securities = pd.read_csv(path)\n",
    "\n",
    "# filter out CountryDomicile=US\n",
    "df_securities_US = df_securities.loc[df_securities['CountryDomicile'] == 'US']"
   ]
  },
  {
   "cell_type": "code",
   "execution_count": 6,
   "metadata": {},
   "outputs": [],
   "source": [
    "##############################################################################\n",
    "# Merge all the datasets into one DataFrame / File                           #\n",
    "##############################################################################\n",
    "\n",
    "# left join RatingSP from df_rating on df_securities and replace NA with zero\n",
    "df_securities_US_w_avg_rating = df_securities_US.merge(df_ratings_with_mean, on=['SecurityID'], how='left')\n",
    "df_securities_US_w_avg_rating['RatingSP'] = df_securities_US_w_avg_rating['RatingSP'].fillna(0)\n",
    "\n",
    "# left join all columns by SecurityID from df_avg_data_values into df_securities_US_w_avg_rating\n",
    "df_securities_US_w_data = df_securities_US_w_avg_rating.merge(df_data_values_with_mean, on=['SecurityID'], how='left')\n",
    "\n",
    "# drop rows from df_securities_US_w_data without average spreads\n",
    "df_securities_US_w_data_clean = df_securities_US_w_data.dropna(subset=['Price', 'YieldWorst', 'ModifiedDuration_Plain',\n",
    "                                                                       'AmtOutstanding', 'GSpread', 'OAS_Spread', 'ZSpread', 'AswUsd'])\n",
    "# Load Time Series engineered features from file \n",
    "df_US_TimeSeries_metrics = pd.read_csv(r'C:\\Users\\mbrag\\PycharmProjects\\RPIA-Capstone\\Time-Series-Features-US-Securites.csv')\n",
    "\n",
    "# left join to the main clean df \n",
    "df_securities_US_w_data_clean = df_securities_US_w_data_clean.merge(df_US_TimeSeries_metrics, on=['SecurityID'], how='left')\n",
    "\n",
    "# df_securities_US_w_data_clean['Test Statistics'] = df_securities_US_w_data_clean['Test Statistics'].fillna(0)\n",
    "# df_securities_US_w_data_clean['p-value'] = df_securities_US_w_data_clean['p-value'].fillna(0)\n",
    "# df_securities_US_w_data_clean['No. of lags used'] = df_securities_US_w_data_clean['No. of lags used'].fillna(0)\n",
    "# df_securities_US_w_data_clean['Number of observations used'] = df_securities_US_w_data_clean['Number of observations used'].fillna(0)\n",
    "# df_securities_US_w_data_clean['critical value (1%)'] = df_securities_US_w_data_clean['critical value (1%)'].fillna(0)\n",
    "# df_securities_US_w_data_clean['critical value (5%)'] = df_securities_US_w_data_clean['critical value (5%)'].fillna(0)\n",
    "# df_securities_US_w_data_clean['critical value (10%)'] = df_securities_US_w_data_clean['critical value (10%)'].fillna(0)\n"
   ]
  },
  {
   "cell_type": "code",
   "execution_count": 7,
   "metadata": {},
   "outputs": [
    {
     "name": "stdout",
     "output_type": "stream",
     "text": [
      "<class 'pandas.core.frame.DataFrame'>\n",
      "Int64Index: 11634 entries, 0 to 11633\n",
      "Data columns (total 90 columns):\n",
      " #   Column                       Non-Null Count  Dtype  \n",
      "---  ------                       --------------  -----  \n",
      " 0   SecurityID                   11634 non-null  int64  \n",
      " 1   OfficialName                 11634 non-null  object \n",
      " 2   SecurityType                 11634 non-null  object \n",
      " 3   SecuritySubType              11634 non-null  object \n",
      " 4   SecurityBBGType              11634 non-null  object \n",
      " 5   SecurityBBGYellowKey         11634 non-null  object \n",
      " 6   Series                       500 non-null    object \n",
      " 7   SecuritySector               11634 non-null  object \n",
      " 8   SecurityIndustry             11634 non-null  object \n",
      " 9   SecuritySubIndustry          11634 non-null  object \n",
      " 10  BBGSecuritySector            11634 non-null  object \n",
      " 11  IssuerParent                 11634 non-null  object \n",
      " 12  Obligor                      11629 non-null  object \n",
      " 13  Ticker                       11634 non-null  object \n",
      " 14  EquityTicker                 11634 non-null  object \n",
      " 15  Issuer                       11634 non-null  object \n",
      " 16  ObligorID                    11625 non-null  float64\n",
      " 17  CountryDomicile              11634 non-null  object \n",
      " 18  CountryRisk                  11633 non-null  object \n",
      " 19  CountryIssue                 11634 non-null  object \n",
      " 20  Currency                     11634 non-null  object \n",
      " 21  Coupon                       11634 non-null  float64\n",
      " 22  CouponType                   11634 non-null  object \n",
      " 23  CouponFrequency              11626 non-null  float64\n",
      " 24  CouponDayCount               11634 non-null  object \n",
      " 25  CreationDate                 11634 non-null  object \n",
      " 26  LastModifiedTime             11634 non-null  object \n",
      " 27  IssueDate                    11634 non-null  object \n",
      " 28  PricingDate                  11612 non-null  object \n",
      " 29  MaturityDate                 11530 non-null  object \n",
      " 30  IsCallable                   11634 non-null  int64  \n",
      " 31  IsConvertible                11634 non-null  int64  \n",
      " 32  IsContingent                 11634 non-null  int64  \n",
      " 33  IsFactorable                 11634 non-null  int64  \n",
      " 34  IsHybrid                     11634 non-null  int64  \n",
      " 35  IsMaple                      11634 non-null  int64  \n",
      " 36  IsPrivatePlacement           11634 non-null  int64  \n",
      " 37  IsPreliminary                11634 non-null  int64  \n",
      " 38  IsPerpetual                  11634 non-null  int64  \n",
      " 39  IsJunior                     11634 non-null  int64  \n",
      " 40  Seniority                    11634 non-null  object \n",
      " 41  PaymentRank                  11634 non-null  object \n",
      " 42  IsBailIn                     11491 non-null  object \n",
      " 43  QuoteSize                    11634 non-null  int64  \n",
      " 44  AmountIssued                 11634 non-null  float64\n",
      " 45  MinIncrement                 11634 non-null  float64\n",
      " 46  MinPiece                     11634 non-null  float64\n",
      " 47  BBGDescription               519 non-null    object \n",
      " 48  RatingSP                     11634 non-null  float64\n",
      " 49  Price                        11634 non-null  float64\n",
      " 50  YieldWorst                   11634 non-null  float64\n",
      " 51  ModifiedDuration_Plain       11634 non-null  float64\n",
      " 52  AmtOutstanding               11634 non-null  float64\n",
      " 53  GSpread                      11634 non-null  float64\n",
      " 54  OAS_Spread                   11634 non-null  float64\n",
      " 55  ZSpread                      11634 non-null  float64\n",
      " 56  AswUsd                       11634 non-null  float64\n",
      " 57  Unnamed: 0_x                 11615 non-null  float64\n",
      " 58  Test Statistics              11615 non-null  float64\n",
      " 59  p-value                      11615 non-null  float64\n",
      " 60  No. of lags used             11615 non-null  float64\n",
      " 61  Number of observations used  11615 non-null  float64\n",
      " 62  critical value (1%)          11615 non-null  float64\n",
      " 63  critical value (5%)          11615 non-null  float64\n",
      " 64  critical value (10%)         11615 non-null  float64\n",
      " 65  Unnamed: 0_y                 8583 non-null   float64\n",
      " 66  coef                         8583 non-null   float64\n",
      " 67  intercept                    8583 non-null   float64\n",
      " 68  m_trend                      8583 non-null   float64\n",
      " 69  m_seasonal                   8583 non-null   float64\n",
      " 70  kurtosis                     8583 non-null   float64\n",
      " 71  skewness                     8583 non-null   float64\n",
      " 72  mean                         8583 non-null   float64\n",
      " 73  p                            8583 non-null   float64\n",
      " 74  q                            8583 non-null   float64\n",
      " 75  v_mu                         8583 non-null   float64\n",
      " 76  omega                        8583 non-null   float64\n",
      " 77  alpha1                       8583 non-null   float64\n",
      " 78  alpha2                       8583 non-null   float64\n",
      " 79  beta1                        8583 non-null   float64\n",
      " 80  beta2                        8583 non-null   float64\n",
      " 81  wave_co1                     8583 non-null   float64\n",
      " 82  wave_co2                     8583 non-null   float64\n",
      " 83  wave_co3                     8583 non-null   float64\n",
      " 84  wave_co4                     8583 non-null   float64\n",
      " 85  wave_co5                     8583 non-null   float64\n",
      " 86  wave_co6                     8583 non-null   float64\n",
      " 87  wave_co7                     8583 non-null   float64\n",
      " 88  wave_co8                     8583 non-null   float64\n",
      " 89  wave_co9                     8583 non-null   float64\n",
      "dtypes: float64(48), int64(12), object(30)\n",
      "memory usage: 8.1+ MB\n"
     ]
    }
   ],
   "source": [
    "# Bring in Landis' time series features \n",
    "\n",
    "df_US_TimeSeries_metrics_II = pd.read_csv(r'C:\\Users\\mbrag\\PycharmProjects\\RPIA-Capstone\\time_series_features_II.csv')\n",
    "df_securities_US_w_data_clean = df_securities_US_w_data_clean.merge(df_US_TimeSeries_metrics_II, on=['SecurityID'], how='left')\n",
    "\n",
    "df_securities_US_w_data_clean.info()"
   ]
  },
  {
   "cell_type": "code",
   "execution_count": 8,
   "metadata": {},
   "outputs": [],
   "source": [
    "df_securities_US_w_data_clean.fillna(value=0, inplace=True)\n",
    "\n",
    "# TEMP - output df_securities to US_Securities_with_AVG_Rating_AVG_Spreads.csv\n",
    "df_securities_US_w_data_clean.to_csv(r'C:\\Users\\mbrag\\PycharmProjects\\RPIA-Capstone\\US_Securities_with_AVG_Rating_AVG_Spreads.csv')"
   ]
  },
  {
   "cell_type": "code",
   "execution_count": 9,
   "metadata": {},
   "outputs": [],
   "source": [
    "# df_securities_US_w_data_clean['coef'] = df_securities_US_w_data_clean['coef'].fillna(0)\n",
    "# df_securities_US_w_data_clean['intercept'] = df_securities_US_w_data_clean['intercept'].fillna(0)\n",
    "# df_securities_US_w_data_clean['m_trend'] = df_securities_US_w_data_clean['m_trend'].fillna(0)\n",
    "# df_securities_US_w_data_clean['m_seasonal'] = df_securities_US_w_data_clean['m_seasonal'].fillna(0)\n",
    "# df_securities_US_w_data_clean['kurtosis'] = df_securities_US_w_data_clean['kurtosis'].fillna(0)\n",
    "# df_securities_US_w_data_clean['skewness'] = df_securities_US_w_data_clean['skewness'].fillna(0)\n",
    "# df_securities_US_w_data_clean['mean'] = df_securities_US_w_data_clean['mean'].fillna(0)\n",
    "# df_securities_US_w_data_clean['p'] = df_securities_US_w_data_clean['p'].fillna(0)\n",
    "# df_securities_US_w_data_clean['q'] = df_securities_US_w_data_clean['q'].fillna(0)\n",
    "# df_securities_US_w_data_clean['v_mu'] = df_securities_US_w_data_clean['v_mu'].fillna(0)\n",
    "# df_securities_US_w_data_clean['omega'] = df_securities_US_w_data_clean['omega'].fillna(0)\n",
    "# df_securities_US_w_data_clean['alpha1'] = df_securities_US_w_data_clean['alpha1'].fillna(0)\n",
    "# df_securities_US_w_data_clean['alpha2'] = df_securities_US_w_data_clean['alpha2'].fillna(0)\n",
    "# df_securities_US_w_data_clean['beta1'] = df_securities_US_w_data_clean['beta1'].fillna(0)\n",
    "# df_securities_US_w_data_clean['beta2'] = df_securities_US_w_data_clean['beta2'].fillna(0)"
   ]
  },
  {
   "cell_type": "code",
   "execution_count": 10,
   "metadata": {},
   "outputs": [
    {
     "name": "stdout",
     "output_type": "stream",
     "text": [
      "<class 'pandas.core.frame.DataFrame'>\n",
      "Int64Index: 11634 entries, 0 to 11633\n",
      "Data columns (total 90 columns):\n",
      " #   Column                       Non-Null Count  Dtype  \n",
      "---  ------                       --------------  -----  \n",
      " 0   SecurityID                   11634 non-null  int64  \n",
      " 1   OfficialName                 11634 non-null  object \n",
      " 2   SecurityType                 11634 non-null  object \n",
      " 3   SecuritySubType              11634 non-null  object \n",
      " 4   SecurityBBGType              11634 non-null  object \n",
      " 5   SecurityBBGYellowKey         11634 non-null  object \n",
      " 6   Series                       11634 non-null  object \n",
      " 7   SecuritySector               11634 non-null  object \n",
      " 8   SecurityIndustry             11634 non-null  object \n",
      " 9   SecuritySubIndustry          11634 non-null  object \n",
      " 10  BBGSecuritySector            11634 non-null  object \n",
      " 11  IssuerParent                 11634 non-null  object \n",
      " 12  Obligor                      11634 non-null  object \n",
      " 13  Ticker                       11634 non-null  object \n",
      " 14  EquityTicker                 11634 non-null  object \n",
      " 15  Issuer                       11634 non-null  object \n",
      " 16  ObligorID                    11634 non-null  float64\n",
      " 17  CountryDomicile              11634 non-null  object \n",
      " 18  CountryRisk                  11634 non-null  object \n",
      " 19  CountryIssue                 11634 non-null  object \n",
      " 20  Currency                     11634 non-null  object \n",
      " 21  Coupon                       11634 non-null  float64\n",
      " 22  CouponType                   11634 non-null  object \n",
      " 23  CouponFrequency              11634 non-null  float64\n",
      " 24  CouponDayCount               11634 non-null  object \n",
      " 25  CreationDate                 11634 non-null  object \n",
      " 26  LastModifiedTime             11634 non-null  object \n",
      " 27  IssueDate                    11634 non-null  object \n",
      " 28  PricingDate                  11634 non-null  object \n",
      " 29  MaturityDate                 11634 non-null  object \n",
      " 30  IsCallable                   11634 non-null  int64  \n",
      " 31  IsConvertible                11634 non-null  int64  \n",
      " 32  IsContingent                 11634 non-null  int64  \n",
      " 33  IsFactorable                 11634 non-null  int64  \n",
      " 34  IsHybrid                     11634 non-null  int64  \n",
      " 35  IsMaple                      11634 non-null  int64  \n",
      " 36  IsPrivatePlacement           11634 non-null  int64  \n",
      " 37  IsPreliminary                11634 non-null  int64  \n",
      " 38  IsPerpetual                  11634 non-null  int64  \n",
      " 39  IsJunior                     11634 non-null  int64  \n",
      " 40  Seniority                    11634 non-null  object \n",
      " 41  PaymentRank                  11634 non-null  object \n",
      " 42  IsBailIn                     11634 non-null  object \n",
      " 43  QuoteSize                    11634 non-null  int64  \n",
      " 44  AmountIssued                 11634 non-null  float64\n",
      " 45  MinIncrement                 11634 non-null  float64\n",
      " 46  MinPiece                     11634 non-null  float64\n",
      " 47  BBGDescription               11634 non-null  object \n",
      " 48  RatingSP                     11634 non-null  float64\n",
      " 49  Price                        11634 non-null  float64\n",
      " 50  YieldWorst                   11634 non-null  float64\n",
      " 51  ModifiedDuration_Plain       11634 non-null  float64\n",
      " 52  AmtOutstanding               11634 non-null  float64\n",
      " 53  GSpread                      11634 non-null  float64\n",
      " 54  OAS_Spread                   11634 non-null  float64\n",
      " 55  ZSpread                      11634 non-null  float64\n",
      " 56  AswUsd                       11634 non-null  float64\n",
      " 57  Unnamed: 0_x                 11634 non-null  float64\n",
      " 58  Test Statistics              11634 non-null  float64\n",
      " 59  p-value                      11634 non-null  float64\n",
      " 60  No. of lags used             11634 non-null  float64\n",
      " 61  Number of observations used  11634 non-null  float64\n",
      " 62  critical value (1%)          11634 non-null  float64\n",
      " 63  critical value (5%)          11634 non-null  float64\n",
      " 64  critical value (10%)         11634 non-null  float64\n",
      " 65  Unnamed: 0_y                 11634 non-null  float64\n",
      " 66  coef                         11634 non-null  float64\n",
      " 67  intercept                    11634 non-null  float64\n",
      " 68  m_trend                      11634 non-null  float64\n",
      " 69  m_seasonal                   11634 non-null  float64\n",
      " 70  kurtosis                     11634 non-null  float64\n",
      " 71  skewness                     11634 non-null  float64\n",
      " 72  mean                         11634 non-null  float64\n",
      " 73  p                            11634 non-null  float64\n",
      " 74  q                            11634 non-null  float64\n",
      " 75  v_mu                         11634 non-null  float64\n",
      " 76  omega                        11634 non-null  float64\n",
      " 77  alpha1                       11634 non-null  float64\n",
      " 78  alpha2                       11634 non-null  float64\n",
      " 79  beta1                        11634 non-null  float64\n",
      " 80  beta2                        11634 non-null  float64\n",
      " 81  wave_co1                     11634 non-null  float64\n",
      " 82  wave_co2                     11634 non-null  float64\n",
      " 83  wave_co3                     11634 non-null  float64\n",
      " 84  wave_co4                     11634 non-null  float64\n",
      " 85  wave_co5                     11634 non-null  float64\n",
      " 86  wave_co6                     11634 non-null  float64\n",
      " 87  wave_co7                     11634 non-null  float64\n",
      " 88  wave_co8                     11634 non-null  float64\n",
      " 89  wave_co9                     11634 non-null  float64\n",
      "dtypes: float64(48), int64(12), object(30)\n",
      "memory usage: 8.1+ MB\n"
     ]
    }
   ],
   "source": [
    "df_securities_US_w_data_clean.info()"
   ]
  },
  {
   "cell_type": "code",
   "execution_count": 11,
   "metadata": {},
   "outputs": [],
   "source": [
    "from sklearn import metrics\n",
    "from sklearn.cluster import KMeans\n",
    "import matplotlib.pyplot as plt\n",
    "import matplotlib.cm as cm\n",
    "import itertools\n",
    "from scipy.spatial.distance import cdist\n",
    "\n",
    "from sklearn.datasets import load_digits\n",
    "from sklearn.decomposition import PCA\n",
    "from sklearn.preprocessing import scale\n",
    "from time import time\n",
    "\n",
    "%matplotlib inline"
   ]
  },
  {
   "cell_type": "code",
   "execution_count": 12,
   "metadata": {},
   "outputs": [
    {
     "data": {
      "image/png": "[encoded data removed]",
      "text/plain": [
       "<Figure size 432x288 with 1 Axes>"
      ]
     },
     "metadata": {
      "needs_background": "light"
     },
     "output_type": "display_data"
    }
   ],
   "source": [
    "X = df_securities_US_w_data_clean[[\"RatingSP\",\"GSpread\"]]\n",
    "#Visualise data points\n",
    "plt.scatter(X[\"RatingSP\"],X[\"GSpread\"],c='black')\n",
    "plt.xlabel('Rating')\n",
    "plt.ylabel('GSpread (In Perc Points)')\n",
    "plt.show()"
   ]
  },
  {
   "cell_type": "code",
   "execution_count": 13,
   "metadata": {},
   "outputs": [
    {
     "data": {
      "image/png": "[encoded data removed]",
      "text/plain": [
       "<Figure size 432x288 with 1 Axes>"
      ]
     },
     "metadata": {
      "needs_background": "light"
     },
     "output_type": "display_data"
    }
   ],
   "source": [
    "X = df_securities_US_w_data_clean[[\"GSpread\",\"Price\"]]\n",
    "#Visualise data points\n",
    "plt.scatter(X[\"GSpread\"],X[\"Price\"],c='black')\n",
    "plt.xlabel('GSpread')\n",
    "plt.ylabel('Price (In Dollars)')\n",
    "plt.show()"
   ]
  },
  {
   "cell_type": "code",
   "execution_count": 35,
   "metadata": {},
   "outputs": [
    {
     "data": {
      "image/png": "[encoded data removed]",
      "text/plain": [
       "<Figure size 1008x576 with 1 Axes>"
      ]
     },
     "metadata": {
      "needs_background": "light"
     },
     "output_type": "display_data"
    }
   ],
   "source": [
    "K = range(1,40)\n",
    "df = df_securities_US_w_data_clean[['GSpread'\n",
    "#                                     'RatingSP',\n",
    "#                                     'YieldWorst',\n",
    "#                                     'Price'\n",
    "#                                     'AmtOutstanding',\n",
    "#                                     'OAS_Spread',\n",
    "#                                     'ZSpread',\n",
    "#                                     'AswUsd',\n",
    "#                                     'AmountIssued',\n",
    "#                                     'Test Statistics',\n",
    "#                                     'No. of lags used',\n",
    "#                                     'Number of observations used',\n",
    "#                                     'critical value (1%)',\n",
    "#                                     'critical value (5%)',\n",
    "#                                     'critical value (10%)',\n",
    "#                                     'kurtosis',\n",
    "#                                     'coef',\n",
    "#                                     'intercept',\n",
    "#                                     'm_trend',\n",
    "#                                     'm_seasonal',\n",
    "#                                     'skewness',\n",
    "#                                     'mean', \n",
    "#                                     'v_mu',\n",
    "#                                     'omega',\n",
    "#                                     'p',\n",
    "#                                     'q'\n",
    "#                                     'alpha1',\n",
    "#                                     'alpha2',\n",
    "#                                     'beta1',\n",
    "#                                     'beta2'\n",
    "                                   ]]\n",
    "\n",
    "distortions = []\n",
    "for k in K:\n",
    "    km = KMeans(\n",
    "        n_clusters=k, init='k-means++',\n",
    "        n_init=30, max_iter=500, random_state=42\n",
    "    ).fit(df)\n",
    "    km.fit(df)\n",
    "    distortions.append(sum(np.min(cdist(df, km.cluster_centers_, 'euclidean'), axis=1)) / df.shape[0])\n",
    "\n",
    "\n",
    "plt.figure(figsize=(14,8))\n",
    "plt.xlabel('Number of clusters')\n",
    "plt.ylabel('Distortion')    \n",
    "plt.plot(K, distortions, marker='o')\n",
    "plt.grid()\n",
    "plt.show()\n"
   ]
  },
  {
   "cell_type": "code",
   "execution_count": 36,
   "metadata": {
    "scrolled": true
   },
   "outputs": [
    {
     "name": "stdout",
     "output_type": "stream",
     "text": [
      "[[   251.29843036    108.053548  ]\n",
      " [ -1746.32983239    102.31633395]\n",
      " [  4638.71759983     41.89073215]\n",
      " [  1219.03544031     82.68613678]\n",
      " [ -4665.73032814    106.68199351]\n",
      " [ 11695.10665843     26.36272857]\n",
      " [-18667.69259975    101.491375  ]\n",
      " [    92.77356911    106.45857333]\n",
      " [   608.76367559     96.59078982]\n",
      " [  -739.02998896    101.79128258]\n",
      " [ 18751.981486       32.125     ]\n",
      " [  2404.05569379     59.36966936]\n",
      " [  7128.79621641     46.16295145]\n",
      " [ -2913.22164469    102.72362663]\n",
      " [ -7397.81361689    101.09285937]]\n",
      "101473563.30786821\n"
     ]
    }
   ],
   "source": [
    "kmeans = KMeans(n_clusters=15, init='k-means++', max_iter=500, \n",
    "               n_init=30, verbose=False, random_state=42).fit(df)\n",
    "centroids_gspread = kmeans.cluster_centers_\n",
    "inertias_gspread = kmeans.inertia_\n",
    "print(centroids_gspread)\n",
    "print(inertias_gspread)\n"
   ]
  },
  {
   "cell_type": "code",
   "execution_count": 37,
   "metadata": {},
   "outputs": [
    {
     "name": "stdout",
     "output_type": "stream",
     "text": [
      "11634\n"
     ]
    }
   ],
   "source": [
    "preds = kmeans.fit_predict(df)\n",
    "print(len(preds))\n",
    "\n",
    "# df_securities_US_w_data_clean\n",
    "df_test = df_securities_US_w_data_clean.copy()\n",
    "\n",
    "df_test['ClusterTag'] = pd.Series(preds, index=df_test.index)\n",
    "df_test.to_csv(r'C:\\Users\\mbrag\\PycharmProjects\\RPIA-Capstone\\df_test.csv')"
   ]
  },
  {
   "cell_type": "code",
   "execution_count": 38,
   "metadata": {},
   "outputs": [
    {
     "name": "stdout",
     "output_type": "stream",
     "text": [
      "[[   251.29843036    108.053548  ]\n",
      " [ -1746.32983239    102.31633395]\n",
      " [  4638.71759983     41.89073215]\n",
      " [  1219.03544031     82.68613678]\n",
      " [ -4665.73032814    106.68199351]\n",
      " [ 11695.10665843     26.36272857]\n",
      " [-18667.69259975    101.491375  ]\n",
      " [    92.77356911    106.45857333]\n",
      " [   608.76367559     96.59078982]\n",
      " [  -739.02998896    101.79128258]\n",
      " [ 18751.981486       32.125     ]\n",
      " [  2404.05569379     59.36966936]\n",
      " [  7128.79621641     46.16295145]\n",
      " [ -2913.22164469    102.72362663]\n",
      " [ -7397.81361689    101.09285937]]\n",
      "101473563.30786821\n"
     ]
    },
    {
     "data": {
      "image/png": "[encoded data removed]",
      "text/plain": [
       "<Figure size 432x288 with 1 Axes>"
      ]
     },
     "metadata": {
      "needs_background": "light"
     },
     "output_type": "display_data"
    }
   ],
   "source": [
    "# Visualization only\n",
    "df_2 = df[['GSpread', 'Price']]\n",
    "\n",
    "kmeans2 = KMeans(n_clusters=15, init='k-means++', max_iter=500, n_init=30, verbose=False, random_state=42).fit(df_2)\n",
    "centroids_kmeans2 = kmeans2.cluster_centers_\n",
    "inertias_kmeans2 = kmeans2.inertia_\n",
    "print(centroids_kmeans2)\n",
    "print(inertias_kmeans2)\n",
    "\n",
    "plt.scatter(df_2['GSpread'], df_2['Price'], c= kmeans2.labels_.astype(float), s=25, alpha=0.5)\n",
    "plt.scatter(centroids_kmeans2[:, 0], centroids_kmeans2[:, 1], c='red', s=25)\n",
    "plt.show()"
   ]
  },
  {
   "cell_type": "code",
   "execution_count": 18,
   "metadata": {},
   "outputs": [
    {
     "name": "stdout",
     "output_type": "stream",
     "text": [
      "[[ 1.10668628e+02  1.57443285e+01]\n",
      " [ 2.67962407e+03  4.93461159e+00]\n",
      " [-3.04713971e+03  1.04603863e+01]\n",
      " [ 1.08439183e+03  6.98208404e+00]\n",
      " [ 1.52235441e+04  0.00000000e+00]\n",
      " [-1.86676926e+04  0.00000000e+00]\n",
      " [ 3.70457047e+02  1.07838292e+01]\n",
      " [-1.16545074e+03  1.08948215e+01]\n",
      " [-5.87147848e+03  8.91154691e+00]\n",
      " [ 6.15202663e+03  2.68356051e+00]]\n",
      "229198573.03562412\n"
     ]
    },
    {
     "data": {
      "image/png": "[encoded data removed]",
      "text/plain": [
       "<Figure size 432x288 with 1 Axes>"
      ]
     },
     "metadata": {
      "needs_background": "light"
     },
     "output_type": "display_data"
    }
   ],
   "source": [
    "# Visualization only\n",
    "df_3 = df[['GSpread', 'RatingSP']]\n",
    "\n",
    "kmeans3 = KMeans(n_clusters=10, init='k-means++', max_iter=500, \n",
    "               n_init=30, verbose=False, random_state=42).fit(df_3)\n",
    "centroids_kmeans3 = kmeans3.cluster_centers_\n",
    "inertias_kmeans3 = kmeans3.inertia_\n",
    "print(centroids_kmeans3)\n",
    "print(inertias_kmeans3)\n",
    "\n",
    "plt.scatter(df_3['RatingSP'], df_3['GSpread'], c= kmeans3.labels_.astype(float), s=25, alpha=0.5)\n",
    "plt.scatter(centroids_kmeans3[:, 1], centroids_kmeans3[:, 0], c='red', s=25)\n",
    "plt.show()"
   ]
  },
  {
   "cell_type": "code",
   "execution_count": 39,
   "metadata": {},
   "outputs": [],
   "source": [
    "distortions = [] \n",
    "inertias = [] \n",
    "mapping1 = {} \n",
    "mapping2 = {} \n",
    "\n",
    "\n",
    "K = range(1,40)\n",
    "\n",
    "for k in K: \n",
    "    #Building and fitting the model \n",
    "    kmeanModel = KMeans(n_clusters=k, init='k-means++', max_iter=500, \n",
    "               n_init=30, verbose=False, random_state=42).fit(df) \n",
    "    kmeanModel.fit(df)     \n",
    "      \n",
    "    distortions.append(sum(np.min(cdist(df, kmeanModel.cluster_centers_, 'euclidean'),axis=1)) / X.shape[0]) \n",
    "    inertias.append(kmeanModel.inertia_) \n",
    "  \n",
    "    mapping1[k] = sum(np.min(cdist(df, kmeanModel.cluster_centers_, 'euclidean'),axis=1)) / df.shape[0] \n",
    "    mapping2[k] = kmeanModel.inertia_ \n",
    "\n",
    "    "
   ]
  },
  {
   "cell_type": "code",
   "execution_count": 40,
   "metadata": {},
   "outputs": [
    {
     "name": "stdout",
     "output_type": "stream",
     "text": [
      "1 : 173.57102108349116\n",
      "2 : 165.82921678083338\n",
      "3 : 143.83439306383943\n",
      "4 : 120.09341098666047\n",
      "5 : 118.67125882322166\n",
      "6 : 113.29388276763505\n",
      "7 : 110.66774850624353\n",
      "8 : 92.36791919719428\n",
      "9 : 72.34413741991038\n",
      "10 : 70.27404050269928\n",
      "11 : 69.22466719087889\n",
      "12 : 58.535887596515906\n",
      "13 : 56.080946344569945\n",
      "14 : 55.607016454882626\n",
      "15 : 54.61324072017709\n",
      "16 : 49.24737596298426\n",
      "17 : 43.726900262371544\n",
      "18 : 40.58329043855343\n",
      "19 : 39.729590631147204\n",
      "20 : 39.05880728819701\n",
      "21 : 33.30729467436233\n",
      "22 : 32.71700669163681\n",
      "23 : 32.507052232165925\n",
      "24 : 31.31028631834185\n",
      "25 : 29.497313812962943\n",
      "26 : 30.4901135658817\n",
      "27 : 26.273991419794015\n",
      "28 : 25.354494515522298\n",
      "29 : 27.258514443568174\n",
      "30 : 24.97550878127672\n",
      "31 : 22.857523441084865\n",
      "32 : 24.04045243698056\n",
      "33 : 21.212441813541272\n",
      "34 : 22.344431961229983\n",
      "35 : 20.255520053938973\n",
      "36 : 20.281792902865572\n",
      "37 : 19.05841710015633\n",
      "38 : 18.93563395589839\n",
      "39 : 19.72740567408197\n"
     ]
    }
   ],
   "source": [
    "# Tabulate the different values of Distortion\n",
    "for key,val in mapping1.items(): \n",
    "    print(str(key)+' : '+str(val)) "
   ]
  },
  {
   "cell_type": "code",
   "execution_count": 41,
   "metadata": {},
   "outputs": [
    {
     "data": {
      "image/png": "[encoded data removed]",
      "text/plain": [
       "<Figure size 432x288 with 1 Axes>"
      ]
     },
     "metadata": {
      "needs_background": "light"
     },
     "output_type": "display_data"
    }
   ],
   "source": [
    "# Visualize the different values of Distortion\n",
    "plt.plot(K, distortions, 'bx-') \n",
    "plt.xlabel('Values of K') \n",
    "plt.ylabel('Distortion') \n",
    "plt.title('The Elbow Method using Distortion') \n",
    "plt.show()"
   ]
  },
  {
   "cell_type": "code",
   "execution_count": 42,
   "metadata": {},
   "outputs": [
    {
     "name": "stdout",
     "output_type": "stream",
     "text": [
      "1 : 3656055418.1809964\n",
      "2 : 2455642079.2869954\n",
      "3 : 1491975221.7678914\n",
      "4 : 1088808909.1064887\n",
      "5 : 846223571.9230776\n",
      "6 : 669049548.2193153\n",
      "7 : 488897278.3862928\n",
      "8 : 356981367.1653906\n",
      "9 : 290369089.0927427\n",
      "10 : 230445187.89113563\n",
      "11 : 191177988.3574663\n",
      "12 : 157677032.3120138\n",
      "13 : 129378457.40124199\n",
      "14 : 114692206.34953094\n",
      "15 : 101473563.30786821\n",
      "16 : 87711023.71025836\n",
      "17 : 74887049.535399\n",
      "18 : 64182787.87979097\n",
      "19 : 53757143.69257079\n",
      "20 : 47717736.76413361\n",
      "21 : 42119111.92292561\n",
      "22 : 38719823.54549665\n",
      "23 : 35059114.79056765\n",
      "24 : 31875323.288881768\n",
      "25 : 29330707.29067884\n",
      "26 : 27124846.963167086\n",
      "27 : 25203424.406559434\n",
      "28 : 22662935.559910916\n",
      "29 : 20976254.81161796\n",
      "30 : 19610564.40030922\n",
      "31 : 18087831.487139985\n",
      "32 : 16924640.14023735\n",
      "33 : 15633772.678811787\n",
      "34 : 14849527.864586407\n",
      "35 : 14064108.245029707\n",
      "36 : 13444926.381852562\n",
      "37 : 12706677.0818469\n",
      "38 : 12049804.58010864\n",
      "39 : 11419141.087949067\n"
     ]
    }
   ],
   "source": [
    "# Tabulate the different values of Inertia\n",
    "for key,val in mapping2.items(): \n",
    "    print(str(key)+' : '+str(val)) "
   ]
  },
  {
   "cell_type": "code",
   "execution_count": 43,
   "metadata": {},
   "outputs": [],
   "source": [
    "# Visualize the different values of Inertia\n",
    "# plt.plot(K, inertias, 'bx-') \n",
    "# plt.xlabel('Values of K') \n",
    "# plt.ylabel('Inertia') \n",
    "# plt.title('The Elbow Method using Inertia') \n",
    "# plt.show() "
   ]
  },
  {
   "cell_type": "markdown",
   "metadata": {},
   "source": [
    "# installed on conda ---->>>>>>     conda install -c anaconda pandas-profiling\n"
   ]
  },
  {
   "cell_type": "code",
   "execution_count": 25,
   "metadata": {},
   "outputs": [
    {
     "data": {
      "application/vnd.jupyter.widget-view+json": {
       "model_id": "cba6807d2074443cbacbded0bf5a52cb",
       "version_major": 2,
       "version_minor": 0
      },
      "text/plain": [
       "HBox(children=(FloatProgress(value=0.0, description='Summarize dataset', max=104.0, style=ProgressStyle(descri…"
      ]
     },
     "metadata": {},
     "output_type": "display_data"
    },
    {
     "name": "stdout",
     "output_type": "stream",
     "text": [
      "\n"
     ]
    },
    {
     "data": {
      "application/vnd.jupyter.widget-view+json": {
       "model_id": "37c15b4d37734b56b2f06cdb852e7002",
       "version_major": 2,
       "version_minor": 0
      },
      "text/plain": [
       "HBox(children=(FloatProgress(value=0.0, description='Generate report structure', max=1.0, style=ProgressStyle(…"
      ]
     },
     "metadata": {},
     "output_type": "display_data"
    },
    {
     "name": "stderr",
     "output_type": "stream",
     "text": [
      "C:\\Users\\mbrag\\AppData\\Roaming\\Python\\Python37\\site-packages\\pandas_profiling\\visualisation\\plot.py:154: MatplotlibDeprecationWarning: You are modifying the state of a globally registered colormap. In future versions, you will not be able to modify a registered colormap in-place. To remove this warning, you can make a copy of the colormap first. cmap = copy.copy(mpl.cm.get_cmap(\"RdBu\"))\n",
      "  cmap.set_bad(cmap_bad)\n"
     ]
    },
    {
     "name": "stdout",
     "output_type": "stream",
     "text": [
      "\n"
     ]
    },
    {
     "data": {
      "application/vnd.jupyter.widget-view+json": {
       "model_id": "3161800c59454d75bddd2aacfefeb5f4",
       "version_major": 2,
       "version_minor": 0
      },
      "text/plain": [
       "HBox(children=(FloatProgress(value=0.0, description='Render HTML', max=1.0, style=ProgressStyle(description_wi…"
      ]
     },
     "metadata": {},
     "output_type": "display_data"
    },
    {
     "name": "stdout",
     "output_type": "stream",
     "text": [
      "\n"
     ]
    },
    {
     "data": {
      "application/vnd.jupyter.widget-view+json": {
       "model_id": "c3380708750542b5b52835ac1f8e885e",
       "version_major": 2,
       "version_minor": 0
      },
      "text/plain": [
       "HBox(children=(FloatProgress(value=0.0, description='Export report to file', max=1.0, style=ProgressStyle(desc…"
      ]
     },
     "metadata": {},
     "output_type": "display_data"
    },
    {
     "name": "stdout",
     "output_type": "stream",
     "text": [
      "\n"
     ]
    }
   ],
   "source": [
    "from pandas_profiling import ProfileReport \n",
    "prof = ProfileReport(df_securities_US_w_data_clean)\n",
    "prof.to_file(r'C:\\Users\\mbrag\\PycharmProjects\\RPIA-Capstone\\ProfileReport.html')\n",
    "#to_file(output_file=\"fifa_pandas_profiling.html\")"
   ]
  },
  {
   "cell_type": "code",
   "execution_count": null,
   "metadata": {},
   "outputs": [],
   "source": []
  },
  {
   "cell_type": "code",
   "execution_count": null,
   "metadata": {},
   "outputs": [],
   "source": []
  },
  {
   "cell_type": "code",
   "execution_count": null,
   "metadata": {},
   "outputs": [],
   "source": []
  },
  {
   "cell_type": "code",
   "execution_count": null,
   "metadata": {},
   "outputs": [],
   "source": []
  },
  {
   "cell_type": "code",
   "execution_count": null,
   "metadata": {},
   "outputs": [],
   "source": []
  },
  {
   "cell_type": "code",
   "execution_count": null,
   "metadata": {},
   "outputs": [],
   "source": []
  },
  {
   "cell_type": "code",
   "execution_count": null,
   "metadata": {},
   "outputs": [],
   "source": []
  },
  {
   "cell_type": "code",
   "execution_count": null,
   "metadata": {},
   "outputs": [],
   "source": []
  },
  {
   "cell_type": "code",
   "execution_count": null,
   "metadata": {},
   "outputs": [],
   "source": []
  },
  {
   "cell_type": "code",
   "execution_count": null,
   "metadata": {},
   "outputs": [],
   "source": []
  },
  {
   "cell_type": "code",
   "execution_count": null,
   "metadata": {},
   "outputs": [],
   "source": []
  },
  {
   "cell_type": "code",
   "execution_count": null,
   "metadata": {},
   "outputs": [],
   "source": []
  },
  {
   "cell_type": "code",
   "execution_count": null,
   "metadata": {},
   "outputs": [],
   "source": []
  },
  {
   "cell_type": "code",
   "execution_count": null,
   "metadata": {},
   "outputs": [],
   "source": []
  },
  {
   "cell_type": "code",
   "execution_count": null,
   "metadata": {},
   "outputs": [],
   "source": []
  },
  {
   "cell_type": "code",
   "execution_count": null,
   "metadata": {},
   "outputs": [],
   "source": []
  },
  {
   "cell_type": "code",
   "execution_count": null,
   "metadata": {},
   "outputs": [],
   "source": []
  },
  {
   "cell_type": "code",
   "execution_count": null,
   "metadata": {},
   "outputs": [],
   "source": []
  },
  {
   "cell_type": "code",
   "execution_count": null,
   "metadata": {},
   "outputs": [],
   "source": []
  },
  {
   "cell_type": "raw",
   "metadata": {},
   "source": [
    "# np.random.seed(42)\n",
    "\n",
    "X_digits, y_digits = load_digits(return_X_y=True)\n",
    "data = scale(X_digits)\n",
    "\n",
    "n_samples, n_features = data.shape\n",
    "n_digits = len(np.unique(y_digits))\n",
    "labels = y_digits\n",
    "\n",
    "sample_size = 300\n",
    "\n",
    "print(\"n_digits: %d, \\t n_samples %d, \\t n_features %d\"\n",
    "      % (n_digits, n_samples, n_features))\n",
    "\n",
    "\n",
    "print(82 * '_')\n",
    "print('init\\t\\ttime\\tinertia\\thomo\\tcompl\\tv-meas\\tARI\\tAMI\\tsilhouette')\n",
    "\n",
    "\n",
    "def bench_k_means(estimator, name, data):\n",
    "    t0 = time()\n",
    "    estimator.fit(data)\n",
    "    print('%-9s\\t%.2fs\\t%i\\t%.3f\\t%.3f\\t%.3f\\t%.3f\\t%.3f\\t%.3f'\n",
    "          % (name, (time() - t0), estimator.inertia_,\n",
    "             metrics.homogeneity_score(labels, estimator.labels_),\n",
    "             metrics.completeness_score(labels, estimator.labels_),\n",
    "             metrics.v_measure_score(labels, estimator.labels_),\n",
    "             metrics.adjusted_rand_score(labels, estimator.labels_),\n",
    "             metrics.adjusted_mutual_info_score(labels,  estimator.labels_),\n",
    "             metrics.silhouette_score(data, estimator.labels_,\n",
    "                                      metric='euclidean',\n",
    "                                      sample_size=sample_size)))\n",
    "\n",
    "bench_k_means(KMeans(init='k-means++', n_clusters=n_digits, n_init=10),\n",
    "              name=\"k-means++\", data=data)\n",
    "\n",
    "bench_k_means(KMeans(init='random', n_clusters=n_digits, n_init=10),\n",
    "              name=\"random\", data=data)\n",
    "\n",
    "# in this case the seeding of the centers is deterministic, hence we run the\n",
    "# kmeans algorithm only once with n_init=1\n",
    "pca = PCA(n_components=n_digits).fit(data)\n",
    "bench_k_means(KMeans(init=pca.components_, n_clusters=n_digits, n_init=1),\n",
    "              name=\"PCA-based\",\n",
    "              data=data)\n",
    "print(82 * '_')\n",
    "\n",
    "# #############################################################################\n",
    "# Visualize the results on PCA-reduced data\n",
    "\n",
    "reduced_data = PCA(n_components=2).fit_transform(data)\n",
    "kmeans = KMeans(init='k-means++', n_clusters=n_digits, n_init=10)\n",
    "kmeans.fit(reduced_data)\n",
    "\n",
    "# Step size of the mesh. Decrease to increase the quality of the VQ.\n",
    "h = .02     # point in the mesh [x_min, x_max]x[y_min, y_max].\n",
    "\n",
    "# Plot the decision boundary. For that, we will assign a color to each\n",
    "x_min, x_max = reduced_data[:, 0].min() - 1, reduced_data[:, 0].max() + 1\n",
    "y_min, y_max = reduced_data[:, 1].min() - 1, reduced_data[:, 1].max() + 1\n",
    "xx, yy = np.meshgrid(np.arange(x_min, x_max, h), np.arange(y_min, y_max, h))\n",
    "\n",
    "# Obtain labels for each point in mesh. Use last trained model.\n",
    "Z = kmeans.predict(np.c_[xx.ravel(), yy.ravel()])\n",
    "\n",
    "# Put the result into a color plot\n",
    "Z = Z.reshape(xx.shape)\n",
    "plt.figure(1)\n",
    "plt.clf()\n",
    "plt.imshow(Z, interpolation='nearest',\n",
    "           extent=(xx.min(), xx.max(), yy.min(), yy.max()),\n",
    "           cmap=plt.cm.Paired,\n",
    "           aspect='auto', origin='lower')\n",
    "\n",
    "plt.plot(reduced_data[:, 0], reduced_data[:, 1], 'k.', markersize=2)\n",
    "# Plot the centroids as a white X\n",
    "centroids = kmeans.cluster_centers_\n",
    "plt.scatter(centroids[:, 0], centroids[:, 1],\n",
    "            marker='x', s=169, linewidths=3,\n",
    "            color='w', zorder=10)\n",
    "plt.title('K-means clustering on the digits dataset (PCA-reduced data)\\n'\n",
    "          'Centroids are marked with white cross')\n",
    "plt.xlim(x_min, x_max)\n",
    "plt.ylim(y_min, y_max)\n",
    "plt.xticks(())\n",
    "plt.yticks(())\n",
    "plt.show()"
   ]
  }
 ],
 "metadata": {
  "kernelspec": {
   "display_name": "Python 3",
   "language": "python",
   "name": "python3"
  },
  "language_info": {
   "codemirror_mode": {
    "name": "ipython",
    "version": 3
   },
   "file_extension": ".py",
   "mimetype": "text/x-python",
   "name": "python",
   "nbconvert_exporter": "python",
   "pygments_lexer": "ipython3",
   "version": "3.7.6"
  }
 },
 "nbformat": 4,
 "nbformat_minor": 4
}
