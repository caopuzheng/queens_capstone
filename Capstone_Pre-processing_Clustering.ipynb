{
 "cells": [
  {
   "cell_type": "code",
   "execution_count": 1,
   "metadata": {},
   "outputs": [],
   "source": [
    "import os\n",
    "import pandas as pd\n",
    "import numpy as np\n",
    "import glob\n",
    "\n",
    "desired_width = 320\n",
    "pd.set_option('display.width', desired_width)\n",
    "np.set_printoptions(linewidth=desired_width)\n",
    "pd.set_option('display.max_columns', 10)"
   ]
  },
  {
   "cell_type": "code",
   "execution_count": 2,
   "metadata": {},
   "outputs": [
    {
     "data": {
      "text/html": [
       "<div>\n",
       "<style scoped>\n",
       "    .dataframe tbody tr th:only-of-type {\n",
       "        vertical-align: middle;\n",
       "    }\n",
       "\n",
       "    .dataframe tbody tr th {\n",
       "        vertical-align: top;\n",
       "    }\n",
       "\n",
       "    .dataframe thead th {\n",
       "        text-align: right;\n",
       "    }\n",
       "</style>\n",
       "<table border=\"1\" class=\"dataframe\">\n",
       "  <thead>\n",
       "    <tr style=\"text-align: right;\">\n",
       "      <th></th>\n",
       "      <th>SecurityID</th>\n",
       "      <th>RatingSP</th>\n",
       "    </tr>\n",
       "  </thead>\n",
       "  <tbody>\n",
       "    <tr>\n",
       "      <th>0</th>\n",
       "      <td>64</td>\n",
       "      <td>10.000000</td>\n",
       "    </tr>\n",
       "    <tr>\n",
       "      <th>1</th>\n",
       "      <td>72</td>\n",
       "      <td>13.000000</td>\n",
       "    </tr>\n",
       "    <tr>\n",
       "      <th>2</th>\n",
       "      <td>78</td>\n",
       "      <td>14.652361</td>\n",
       "    </tr>\n",
       "    <tr>\n",
       "      <th>3</th>\n",
       "      <td>82</td>\n",
       "      <td>15.000000</td>\n",
       "    </tr>\n",
       "    <tr>\n",
       "      <th>4</th>\n",
       "      <td>83</td>\n",
       "      <td>14.652361</td>\n",
       "    </tr>\n",
       "    <tr>\n",
       "      <th>...</th>\n",
       "      <td>...</td>\n",
       "      <td>...</td>\n",
       "    </tr>\n",
       "    <tr>\n",
       "      <th>17918</th>\n",
       "      <td>72406</td>\n",
       "      <td>14.000000</td>\n",
       "    </tr>\n",
       "    <tr>\n",
       "      <th>17919</th>\n",
       "      <td>72407</td>\n",
       "      <td>14.000000</td>\n",
       "    </tr>\n",
       "    <tr>\n",
       "      <th>17920</th>\n",
       "      <td>72504</td>\n",
       "      <td>17.000000</td>\n",
       "    </tr>\n",
       "    <tr>\n",
       "      <th>17921</th>\n",
       "      <td>72675</td>\n",
       "      <td>8.000000</td>\n",
       "    </tr>\n",
       "    <tr>\n",
       "      <th>17922</th>\n",
       "      <td>72902</td>\n",
       "      <td>17.000000</td>\n",
       "    </tr>\n",
       "  </tbody>\n",
       "</table>\n",
       "<p>17923 rows × 2 columns</p>\n",
       "</div>"
      ],
      "text/plain": [
       "       SecurityID   RatingSP\n",
       "0              64  10.000000\n",
       "1              72  13.000000\n",
       "2              78  14.652361\n",
       "3              82  15.000000\n",
       "4              83  14.652361\n",
       "...           ...        ...\n",
       "17918       72406  14.000000\n",
       "17919       72407  14.000000\n",
       "17920       72504  17.000000\n",
       "17921       72675   8.000000\n",
       "17922       72902  17.000000\n",
       "\n",
       "[17923 rows x 2 columns]"
      ]
     },
     "execution_count": 2,
     "metadata": {},
     "output_type": "execute_result"
    }
   ],
   "source": [
    "##############################################################################\n",
    "# Load and clean Rating data                                                 #\n",
    "##############################################################################\n",
    "path = r'C:\\Users\\mbrag\\PycharmProjects\\RPIA-Capstone\\Rating.csv'\n",
    "df_ratings_raw = pd.read_csv(path)\n",
    "\n",
    "# drop RatingSPOutlook,RatingSPOutlook columns\n",
    "df_ratings_no_xtra_col = df_ratings_raw.drop(columns=['RatingSPOutlook', 'RatingSPOutlook.1'])\n",
    "\n",
    "# drop NA from RatingSP column\n",
    "df_ratings_clean = df_ratings_no_xtra_col.dropna(subset=['RatingSP'])\n",
    "\n",
    "# calculate mean per security by removing KeyDate\n",
    "df_ratings_clean = df_ratings_clean.drop(columns=['KeyDate'])\n",
    "df_ratings_with_mean = df_ratings_clean.groupby(['SecurityID']).mean()\n",
    "df_ratings_with_mean.reset_index()"
   ]
  },
  {
   "cell_type": "code",
   "execution_count": 3,
   "metadata": {},
   "outputs": [],
   "source": [
    "##############################################################################\n",
    "# Load and clean Spreads data                                                #\n",
    "##############################################################################\n",
    "path = r'C:\\Users\\mbrag\\PycharmProjects\\RPIA-Capstone\\raw_data_files'\n",
    "all_files = glob.glob(os.path.join(path, \"*.csv\"))  # use os.path.join to make concat OS independent\n",
    "\n",
    "df_from_each_file = (pd.read_csv(f) for f in all_files)\n",
    "df_merged = pd.concat(df_from_each_file, ignore_index=True, sort=False)"
   ]
  },
  {
   "cell_type": "code",
   "execution_count": 4,
   "metadata": {},
   "outputs": [
    {
     "data": {
      "text/html": [
       "<div>\n",
       "<style scoped>\n",
       "    .dataframe tbody tr th:only-of-type {\n",
       "        vertical-align: middle;\n",
       "    }\n",
       "\n",
       "    .dataframe tbody tr th {\n",
       "        vertical-align: top;\n",
       "    }\n",
       "\n",
       "    .dataframe thead th {\n",
       "        text-align: right;\n",
       "    }\n",
       "</style>\n",
       "<table border=\"1\" class=\"dataframe\">\n",
       "  <thead>\n",
       "    <tr style=\"text-align: right;\">\n",
       "      <th></th>\n",
       "      <th>SecurityID</th>\n",
       "      <th>Price</th>\n",
       "      <th>YieldWorst</th>\n",
       "      <th>ModifiedDuration_Plain</th>\n",
       "      <th>AmtOutstanding</th>\n",
       "      <th>GSpread</th>\n",
       "      <th>OAS_Spread</th>\n",
       "      <th>ZSpread</th>\n",
       "      <th>AswUsd</th>\n",
       "    </tr>\n",
       "  </thead>\n",
       "  <tbody>\n",
       "    <tr>\n",
       "      <th>0</th>\n",
       "      <td>64</td>\n",
       "      <td>100.758965</td>\n",
       "      <td>4.644316</td>\n",
       "      <td>5.757035</td>\n",
       "      <td>1.697266e+09</td>\n",
       "      <td>291.711174</td>\n",
       "      <td>222.352441</td>\n",
       "      <td>288.657755</td>\n",
       "      <td>283.687773</td>\n",
       "    </tr>\n",
       "    <tr>\n",
       "      <th>1</th>\n",
       "      <td>72</td>\n",
       "      <td>107.373280</td>\n",
       "      <td>3.940311</td>\n",
       "      <td>3.330841</td>\n",
       "      <td>1.000000e+09</td>\n",
       "      <td>227.002913</td>\n",
       "      <td>223.490338</td>\n",
       "      <td>223.329880</td>\n",
       "      <td>229.235868</td>\n",
       "    </tr>\n",
       "    <tr>\n",
       "      <th>2</th>\n",
       "      <td>78</td>\n",
       "      <td>103.207920</td>\n",
       "      <td>3.477836</td>\n",
       "      <td>1.945063</td>\n",
       "      <td>8.000000e+08</td>\n",
       "      <td>180.855440</td>\n",
       "      <td>176.403676</td>\n",
       "      <td>171.764407</td>\n",
       "      <td>169.003940</td>\n",
       "    </tr>\n",
       "    <tr>\n",
       "      <th>3</th>\n",
       "      <td>82</td>\n",
       "      <td>115.672100</td>\n",
       "      <td>4.473227</td>\n",
       "      <td>14.990642</td>\n",
       "      <td>2.000000e+09</td>\n",
       "      <td>217.044085</td>\n",
       "      <td>215.316896</td>\n",
       "      <td>245.880015</td>\n",
       "      <td>265.958284</td>\n",
       "    </tr>\n",
       "    <tr>\n",
       "      <th>4</th>\n",
       "      <td>83</td>\n",
       "      <td>106.167899</td>\n",
       "      <td>3.416090</td>\n",
       "      <td>1.207811</td>\n",
       "      <td>1.000000e+09</td>\n",
       "      <td>171.659279</td>\n",
       "      <td>164.354293</td>\n",
       "      <td>154.729040</td>\n",
       "      <td>157.830712</td>\n",
       "    </tr>\n",
       "    <tr>\n",
       "      <th>...</th>\n",
       "      <td>...</td>\n",
       "      <td>...</td>\n",
       "      <td>...</td>\n",
       "      <td>...</td>\n",
       "      <td>...</td>\n",
       "      <td>...</td>\n",
       "      <td>...</td>\n",
       "      <td>...</td>\n",
       "      <td>...</td>\n",
       "    </tr>\n",
       "    <tr>\n",
       "      <th>19808</th>\n",
       "      <td>72944</td>\n",
       "      <td>95.239076</td>\n",
       "      <td>4.044686</td>\n",
       "      <td>4.417710</td>\n",
       "      <td>7.500000e+08</td>\n",
       "      <td>366.768519</td>\n",
       "      <td>361.804353</td>\n",
       "      <td>356.978706</td>\n",
       "      <td>342.727059</td>\n",
       "    </tr>\n",
       "    <tr>\n",
       "      <th>19809</th>\n",
       "      <td>72948</td>\n",
       "      <td>90.060159</td>\n",
       "      <td>11.504231</td>\n",
       "      <td>2.250852</td>\n",
       "      <td>4.000000e+08</td>\n",
       "      <td>1124.316903</td>\n",
       "      <td>1120.898118</td>\n",
       "      <td>1109.677059</td>\n",
       "      <td>1022.199941</td>\n",
       "    </tr>\n",
       "    <tr>\n",
       "      <th>19810</th>\n",
       "      <td>72949</td>\n",
       "      <td>88.003900</td>\n",
       "      <td>6.550267</td>\n",
       "      <td>55.330667</td>\n",
       "      <td>5.000000e+08</td>\n",
       "      <td>500.722641</td>\n",
       "      <td>566.272333</td>\n",
       "      <td>595.348333</td>\n",
       "      <td>614.242667</td>\n",
       "    </tr>\n",
       "    <tr>\n",
       "      <th>19811</th>\n",
       "      <td>72950</td>\n",
       "      <td>90.583533</td>\n",
       "      <td>7.934610</td>\n",
       "      <td>53.381167</td>\n",
       "      <td>3.000000e+08</td>\n",
       "      <td>639.156975</td>\n",
       "      <td>697.474333</td>\n",
       "      <td>733.633667</td>\n",
       "      <td>621.808000</td>\n",
       "    </tr>\n",
       "    <tr>\n",
       "      <th>19812</th>\n",
       "      <td>72952</td>\n",
       "      <td>98.023700</td>\n",
       "      <td>4.225957</td>\n",
       "      <td>55.860225</td>\n",
       "      <td>1.050000e+09</td>\n",
       "      <td>387.330905</td>\n",
       "      <td>379.254000</td>\n",
       "      <td>382.356750</td>\n",
       "      <td>373.460000</td>\n",
       "    </tr>\n",
       "  </tbody>\n",
       "</table>\n",
       "<p>19813 rows × 9 columns</p>\n",
       "</div>"
      ],
      "text/plain": [
       "       SecurityID       Price  YieldWorst  ModifiedDuration_Plain  AmtOutstanding      GSpread   OAS_Spread      ZSpread       AswUsd\n",
       "0              64  100.758965    4.644316                5.757035    1.697266e+09   291.711174   222.352441   288.657755   283.687773\n",
       "1              72  107.373280    3.940311                3.330841    1.000000e+09   227.002913   223.490338   223.329880   229.235868\n",
       "2              78  103.207920    3.477836                1.945063    8.000000e+08   180.855440   176.403676   171.764407   169.003940\n",
       "3              82  115.672100    4.473227               14.990642    2.000000e+09   217.044085   215.316896   245.880015   265.958284\n",
       "4              83  106.167899    3.416090                1.207811    1.000000e+09   171.659279   164.354293   154.729040   157.830712\n",
       "...           ...         ...         ...                     ...             ...          ...          ...          ...          ...\n",
       "19808       72944   95.239076    4.044686                4.417710    7.500000e+08   366.768519   361.804353   356.978706   342.727059\n",
       "19809       72948   90.060159   11.504231                2.250852    4.000000e+08  1124.316903  1120.898118  1109.677059  1022.199941\n",
       "19810       72949   88.003900    6.550267               55.330667    5.000000e+08   500.722641   566.272333   595.348333   614.242667\n",
       "19811       72950   90.583533    7.934610               53.381167    3.000000e+08   639.156975   697.474333   733.633667   621.808000\n",
       "19812       72952   98.023700    4.225957               55.860225    1.050000e+09   387.330905   379.254000   382.356750   373.460000\n",
       "\n",
       "[19813 rows x 9 columns]"
      ]
     },
     "execution_count": 4,
     "metadata": {},
     "output_type": "execute_result"
    }
   ],
   "source": [
    "# drop na from spreads data\n",
    "df_merged = df_merged.dropna(how='any')\n",
    "# convert dates to Date type\n",
    "df_merged['KeyDate'] = pd.to_datetime(df_merged['KeyDate'], errors='coerce')\n",
    "\n",
    "# Extract the low liers\n",
    "dates_low_liers = df_merged[\"KeyDate\"].value_counts()\n",
    "dates_low_liers = dates_low_liers[dates_low_liers < 500]\n",
    "\n",
    "# clean the dataset by removing the low liers and NaNs\n",
    "df_merged_clean = df_merged[~df_merged['KeyDate'].isin(dates_low_liers.index)]\n",
    "\n",
    "# drop KeyDate column\n",
    "df_data_values = df_merged_clean.drop(columns=['KeyDate'])\n",
    "\n",
    "# group by security and average all other columns\n",
    "df_data_values_with_mean = df_data_values.groupby(['SecurityID']).mean()\n",
    "df_data_values_with_mean.reset_index()"
   ]
  },
  {
   "cell_type": "code",
   "execution_count": 5,
   "metadata": {},
   "outputs": [],
   "source": [
    "##############################################################################\n",
    "# Load and clean Securities meta data                                        #\n",
    "##############################################################################\n",
    "path = r'C:\\Users\\mbrag\\PycharmProjects\\RPIA-Capstone\\SecurityData.csv'  # use your path\n",
    "df_securities = pd.read_csv(path)\n",
    "\n",
    "# filter out CountryDomicile=US\n",
    "df_securities_US = df_securities.loc[df_securities['CountryDomicile'] == 'US']"
   ]
  },
  {
   "cell_type": "code",
   "execution_count": 6,
   "metadata": {},
   "outputs": [],
   "source": [
    "##############################################################################\n",
    "# Merge all the datasets into one DataFrame / File                           #\n",
    "##############################################################################\n",
    "\n",
    "# left join RatingSP from df_rating on df_securities and replace NA with zero\n",
    "df_securities_US_w_avg_rating = df_securities_US.merge(df_ratings_with_mean, on=['SecurityID'], how='left')\n",
    "df_securities_US_w_avg_rating['RatingSP'] = df_securities_US_w_avg_rating['RatingSP'].fillna(0)\n",
    "\n",
    "\n",
    "# left join all columns by SecurityID from df_avg_data_values into df_securities_US_w_avg_rating\n",
    "df_securities_US_w_data = df_securities_US_w_avg_rating.merge(df_data_values_with_mean, on=['SecurityID'], how='left')\n",
    "\n",
    "# drop rows from df_securities_US_w_data without average spreads\n",
    "df_securities_US_w_data_clean = df_securities_US_w_data.dropna(subset=['Price', 'YieldWorst', 'ModifiedDuration_Plain',\n",
    "                                                                       'AmtOutstanding', 'GSpread', 'OAS_Spread', 'ZSpread', 'AswUsd'])\n",
    "\n",
    "# TEMP - output df_securities to US_Securities_with_AVG_Rating_AVG_Spreads.csv\n",
    "df_securities_US_w_data_clean.to_csv(r'C:\\Users\\mbrag\\PycharmProjects\\RPIA-Capstone\\US_Securities_with_AVG_Rating_AVG_Spreads.csv')\n"
   ]
  },
  {
   "cell_type": "code",
   "execution_count": 7,
   "metadata": {},
   "outputs": [],
   "source": [
    "from sklearn import metrics\n",
    "from sklearn.cluster import KMeans\n",
    "import matplotlib.pyplot as plt\n",
    "import matplotlib.cm as cm\n",
    "import itertools\n",
    "from scipy.spatial.distance import cdist\n",
    "\n",
    "from sklearn.datasets import load_digits\n",
    "from sklearn.decomposition import PCA\n",
    "from sklearn.preprocessing import scale\n",
    "from time import time\n",
    "\n",
    "%matplotlib inline"
   ]
  },
  {
   "cell_type": "code",
   "execution_count": 8,
   "metadata": {},
   "outputs": [
    {
     "data": {
      "image/png": "[encoded data removed]",
      "text/plain": [
       "<Figure size 432x288 with 1 Axes>"
      ]
     },
     "metadata": {
      "needs_background": "light"
     },
     "output_type": "display_data"
    }
   ],
   "source": [
    "X = df_securities_US_w_data_clean[[\"RatingSP\",\"GSpread\"]]\n",
    "#Visualise data points\n",
    "plt.scatter(X[\"RatingSP\"],X[\"GSpread\"],c='black')\n",
    "plt.xlabel('Rating')\n",
    "plt.ylabel('GSpread (In Perc Points)')\n",
    "plt.show()"
   ]
  },
  {
   "cell_type": "code",
   "execution_count": 9,
   "metadata": {},
   "outputs": [
    {
     "data": {
      "image/png": "[encoded data removed]",
      "text/plain": [
       "<Figure size 432x288 with 1 Axes>"
      ]
     },
     "metadata": {
      "needs_background": "light"
     },
     "output_type": "display_data"
    }
   ],
   "source": [
    "X = df_securities_US_w_data_clean[[\"GSpread\",\"Price\"]]\n",
    "#Visualise data points\n",
    "plt.scatter(X[\"GSpread\"],X[\"Price\"],c='black')\n",
    "plt.xlabel('GSpread')\n",
    "plt.ylabel('Price (In Dollars)')\n",
    "plt.show()"
   ]
  },
  {
   "cell_type": "code",
   "execution_count": 122,
   "metadata": {},
   "outputs": [
    {
     "data": {
      "image/png": "[encoded data removed]",
      "text/plain": [
       "<Figure size 864x432 with 1 Axes>"
      ]
     },
     "metadata": {
      "needs_background": "light"
     },
     "output_type": "display_data"
    }
   ],
   "source": [
    "K = range(1,30)\n",
    "df = df_securities_US_w_data_clean[['Price', 'GSpread', 'RatingSP', 'YieldWorst', 'ModifiedDuration_Plain',\n",
    "                                    'AmtOutstanding', 'OAS_Spread', 'ZSpread', 'AswUsd', \n",
    "                                    'Coupon', 'AmountIssued']]\n",
    "\n",
    "\n",
    "fits = [KMeans(n_clusters=k, init='k-means++', max_iter=500, \n",
    "               n_init=30, verbose=False, random_state=42).fit(df) for k in K]\n",
    "centroids = [fit.cluster_centers_ for fit in fits]\n",
    "inertias = [fit.inertia_ for fit in fits]\n",
    "\n",
    "\n",
    "# Elbow - Works\n",
    "clusters_df = pd.DataFrame( { \"num_clusters\":K, \"cluster_errors\": inertias } )\n",
    "plt.figure(figsize=(12,6))\n",
    "plt.plot( clusters_df.num_clusters, clusters_df.cluster_errors, marker = \"o\" )\n",
    "plt.grid()\n",
    "plt.show()\n"
   ]
  },
  {
   "cell_type": "code",
   "execution_count": 123,
   "metadata": {
    "scrolled": true
   },
   "outputs": [
    {
     "name": "stdout",
     "output_type": "stream",
     "text": [
      "[[1.05194650e+02 2.41348371e+02 1.41557072e+01 4.17386051e+00 7.28601629e+00 3.85495067e+08 2.23211181e+02 2.44716222e+02 2.33764633e+02 4.89655246e+00 4.04535750e+08]\n",
      " [1.03238365e+02 1.98541004e+02 1.50321916e+01 3.63821696e+00 6.93286920e+00 8.84548097e+08 1.81190386e+02 1.99677165e+02 2.02113508e+02 4.36773105e+00 9.15166964e+08]\n",
      " [1.04979511e+02 1.60847427e+02 1.52678170e+01 3.30216945e+00 8.60267747e+00 1.67564899e+09 1.42963563e+02 1.62659137e+02 1.67017278e+02 4.47166833e+00 1.77648002e+09]\n",
      " [1.08179759e+02 1.68228463e+02 1.61612903e+01 3.43979508e+00 1.08163156e+01 4.78204269e+09 1.65363082e+02 1.78842236e+02 1.85171548e+02 4.22380645e+00 7.04327042e+09]\n",
      " [1.05583991e+02 1.52153060e+02 1.62700995e+01 3.19907690e+00 7.77342271e+00 2.98646463e+09 1.44142994e+02 1.55373484e+02 1.66845021e+02 4.04793003e+00 3.09376883e+09]]\n",
      "1.4647739179902215e+21\n"
     ]
    }
   ],
   "source": [
    "kmeans = KMeans(n_clusters=5, init='k-means++', max_iter=500, \n",
    "               n_init=30, verbose=False, random_state=42).fit(df)\n",
    "centroids_gspread = kmeans.cluster_centers_\n",
    "inertias_gspread = kmeans.inertia_\n",
    "print(centroids_gspread)\n",
    "print(inertias_gspread)\n"
   ]
  },
  {
   "cell_type": "code",
   "execution_count": 124,
   "metadata": {},
   "outputs": [
    {
     "name": "stdout",
     "output_type": "stream",
     "text": [
      "12219\n"
     ]
    }
   ],
   "source": [
    "preds = kmeans.fit_predict(df)\n",
    "print(len(preds))\n",
    "\n",
    "# df_securities_US_w_data_clean\n",
    "df_test = df_securities_US_w_data_clean.copy()\n",
    "\n",
    "df_test['ClusterTag'] = pd.Series(preds, index=df_test.index)\n",
    "df_test.to_csv(r'C:\\Users\\mbrag\\PycharmProjects\\RPIA-Capstone\\df_test.csv')"
   ]
  },
  {
   "cell_type": "code",
   "execution_count": 130,
   "metadata": {},
   "outputs": [
    {
     "name": "stdout",
     "output_type": "stream",
     "text": [
      "[[  178.94032187   105.97915289]\n",
      " [ 1144.82568711    85.24324349]\n",
      " [-1958.72961106   101.94507181]\n",
      " [-6139.31974919   106.75389907]\n",
      " [ 5798.84214399    46.45054401]]\n",
      "847965068.3043481\n"
     ]
    },
    {
     "data": {
      "image/png": "[encoded data removed]",
      "text/plain": [
       "<Figure size 432x288 with 1 Axes>"
      ]
     },
     "metadata": {
      "needs_background": "light"
     },
     "output_type": "display_data"
    }
   ],
   "source": [
    "# Visualization only\n",
    "df_2 = df[['GSpread', 'Price']]\n",
    "\n",
    "kmeans2 = KMeans(n_clusters=5, init='k-means++', max_iter=500, \n",
    "               n_init=30, verbose=False, random_state=42).fit(df_2)\n",
    "centroids_kmeans2 = kmeans2.cluster_centers_\n",
    "inertias_kmeans2 = kmeans2.inertia_\n",
    "print(centroids_kmeans2)\n",
    "print(inertias_kmeans2)\n",
    "\n",
    "plt.scatter(df_2['GSpread'], df_2['Price'], c= kmeans2.labels_.astype(float), s=25, alpha=0.5)\n",
    "plt.scatter(centroids_kmeans2[:, 0], centroids_kmeans2[:, 1], c='red', s=25)\n",
    "plt.show()"
   ]
  },
  {
   "cell_type": "code",
   "execution_count": 136,
   "metadata": {},
   "outputs": [
    {
     "name": "stdout",
     "output_type": "stream",
     "text": [
      "[[ 1.78940322e+02  1.50258051e+01]\n",
      " [ 1.14482569e+03  8.14491422e+00]\n",
      " [-1.95872961e+03  1.07562685e+01]\n",
      " [-6.13931975e+03  7.81820487e+00]\n",
      " [ 5.79884214e+03  3.65605211e+00]]\n",
      "846798119.6842337\n"
     ]
    },
    {
     "data": {
      "image/png": "[encoded data removed]",
      "text/plain": [
       "<Figure size 432x288 with 1 Axes>"
      ]
     },
     "metadata": {
      "needs_background": "light"
     },
     "output_type": "display_data"
    }
   ],
   "source": [
    "# Visualization only\n",
    "df_3 = df[['GSpread', 'RatingSP']]\n",
    "\n",
    "kmeans3 = KMeans(n_clusters=5, init='k-means++', max_iter=500, \n",
    "               n_init=30, verbose=False, random_state=42).fit(df_3)\n",
    "centroids_kmeans3 = kmeans3.cluster_centers_\n",
    "inertias_kmeans3 = kmeans3.inertia_\n",
    "print(centroids_kmeans3)\n",
    "print(inertias_kmeans3)\n",
    "\n",
    "plt.scatter(df_3['RatingSP'], df_3['GSpread'], c= kmeans3.labels_.astype(float), s=25, alpha=0.5)\n",
    "plt.scatter(centroids_kmeans3[:, 1], centroids_kmeans3[:, 0], c='red', s=25)\n",
    "plt.show()"
   ]
  },
  {
   "cell_type": "code",
   "execution_count": 137,
   "metadata": {},
   "outputs": [],
   "source": [
    "distortions = [] \n",
    "inertias = [] \n",
    "mapping1 = {} \n",
    "mapping2 = {} \n",
    "\n",
    "\n",
    "K = range(1,30)\n",
    "\n",
    "for k in K: \n",
    "    #Building and fitting the model \n",
    "    kmeanModel = KMeans(n_clusters=k, init='k-means++', max_iter=500, \n",
    "               n_init=30, verbose=False, random_state=42).fit(df) \n",
    "    kmeanModel.fit(df)     \n",
    "      \n",
    "    distortions.append(sum(np.min(cdist(df, kmeanModel.cluster_centers_, 'euclidean'),axis=1)) / X.shape[0]) \n",
    "    inertias.append(kmeanModel.inertia_) \n",
    "  \n",
    "    mapping1[k] = sum(np.min(cdist(df, kmeanModel.cluster_centers_, 'euclidean'),axis=1)) / df.shape[0] \n",
    "    mapping2[k] = kmeanModel.inertia_ \n",
    "\n",
    "    "
   ]
  },
  {
   "cell_type": "code",
   "execution_count": 140,
   "metadata": {},
   "outputs": [
    {
     "name": "stdout",
     "output_type": "stream",
     "text": [
      "1 : 603610887.7233683\n",
      "2 : 405230668.9045199\n",
      "3 : 301335852.1408393\n",
      "4 : 246985231.1020799\n",
      "5 : 234049861.9781005\n",
      "6 : 204304707.32714078\n",
      "7 : 176761895.16268006\n",
      "8 : 159501181.27886653\n",
      "9 : 147818002.89634016\n",
      "10 : 125539344.4847381\n",
      "11 : 122093891.92075518\n",
      "12 : 122172802.31190497\n",
      "13 : 118391956.09188662\n",
      "14 : 104397112.63815178\n",
      "15 : 100934939.38484876\n",
      "16 : 96282526.79650061\n",
      "17 : 87977085.66457917\n",
      "18 : 85114555.89721273\n",
      "19 : 84377435.58273093\n",
      "20 : 75847254.73131241\n",
      "21 : 74994684.52904712\n",
      "22 : 73741711.02596115\n",
      "23 : 63973476.191504285\n",
      "24 : 59992557.7066531\n",
      "25 : 63806975.43548785\n",
      "26 : 60906009.43330599\n",
      "27 : 55418819.08081497\n",
      "28 : 54667508.9353872\n",
      "29 : 54242207.879752144\n"
     ]
    }
   ],
   "source": [
    "# Tabulate the different values of Distortion\n",
    "for key,val in mapping1.items(): \n",
    "    print(str(key)+' : '+str(val)) "
   ]
  },
  {
   "cell_type": "code",
   "execution_count": 141,
   "metadata": {},
   "outputs": [
    {
     "data": {
      "image/png": "[encoded data removed]",
      "text/plain": [
       "<Figure size 432x288 with 1 Axes>"
      ]
     },
     "metadata": {
      "needs_background": "light"
     },
     "output_type": "display_data"
    }
   ],
   "source": [
    "# Visualize the different values of Distortion\n",
    "plt.plot(K, distortions, 'bx-') \n",
    "plt.xlabel('Values of K') \n",
    "plt.ylabel('Distortion') \n",
    "plt.title('The Elbow Method using Distortion') \n",
    "plt.show()"
   ]
  },
  {
   "cell_type": "code",
   "execution_count": 142,
   "metadata": {},
   "outputs": [
    {
     "name": "stdout",
     "output_type": "stream",
     "text": [
      "1 : 1.0706813318388586e+22\n",
      "2 : 4.5250972655043006e+21\n",
      "3 : 2.695895139228578e+21\n",
      "4 : 1.910698041143052e+21\n",
      "5 : 1.4647739179902215e+21\n",
      "6 : 1.1740002616444394e+21\n",
      "7 : 9.77370722255421e+20\n",
      "8 : 7.861873355599487e+20\n",
      "9 : 6.762139605637216e+20\n",
      "10 : 5.8871332165821366e+20\n",
      "11 : 5.226256716696497e+20\n",
      "12 : 4.7539649945212754e+20\n",
      "13 : 4.122752201282133e+20\n",
      "14 : 3.7893019270821564e+20\n",
      "15 : 3.479862565462584e+20\n",
      "16 : 3.162243381097303e+20\n",
      "17 : 2.8929307477606823e+20\n",
      "18 : 2.6471632732903352e+20\n",
      "19 : 2.4503591033439178e+20\n",
      "20 : 2.2692812467476352e+20\n",
      "21 : 2.1050980563408136e+20\n",
      "22 : 1.9333396086106027e+20\n",
      "23 : 1.8154110471759633e+20\n",
      "24 : 1.6993422422314035e+20\n",
      "25 : 1.633630195894164e+20\n",
      "26 : 1.5098886834021682e+20\n",
      "27 : 1.4055980340405767e+20\n",
      "28 : 1.3332373252147179e+20\n",
      "29 : 1.2496984442282197e+20\n"
     ]
    }
   ],
   "source": [
    "# Tabulate the different values of Inertia\n",
    "for key,val in mapping2.items(): \n",
    "    print(str(key)+' : '+str(val)) "
   ]
  },
  {
   "cell_type": "code",
   "execution_count": 143,
   "metadata": {},
   "outputs": [
    {
     "data": {
      "image/png": "[encoded data removed]",
      "text/plain": [
       "<Figure size 432x288 with 1 Axes>"
      ]
     },
     "metadata": {
      "needs_background": "light"
     },
     "output_type": "display_data"
    }
   ],
   "source": [
    "# Visualize the different values of Inertia\n",
    "plt.plot(K, inertias, 'bx-') \n",
    "plt.xlabel('Values of K') \n",
    "plt.ylabel('Inertia') \n",
    "plt.title('The Elbow Method using Inertia') \n",
    "plt.show() "
   ]
  },
  {
   "cell_type": "code",
   "execution_count": null,
   "metadata": {},
   "outputs": [],
   "source": []
  },
  {
   "cell_type": "code",
   "execution_count": null,
   "metadata": {},
   "outputs": [],
   "source": []
  },
  {
   "cell_type": "code",
   "execution_count": null,
   "metadata": {},
   "outputs": [],
   "source": []
  },
  {
   "cell_type": "code",
   "execution_count": null,
   "metadata": {},
   "outputs": [],
   "source": []
  },
  {
   "cell_type": "code",
   "execution_count": null,
   "metadata": {},
   "outputs": [],
   "source": []
  },
  {
   "cell_type": "code",
   "execution_count": null,
   "metadata": {},
   "outputs": [],
   "source": []
  },
  {
   "cell_type": "code",
   "execution_count": null,
   "metadata": {},
   "outputs": [],
   "source": []
  },
  {
   "cell_type": "code",
   "execution_count": null,
   "metadata": {},
   "outputs": [],
   "source": []
  },
  {
   "cell_type": "code",
   "execution_count": null,
   "metadata": {},
   "outputs": [],
   "source": []
  },
  {
   "cell_type": "code",
   "execution_count": null,
   "metadata": {},
   "outputs": [],
   "source": []
  },
  {
   "cell_type": "code",
   "execution_count": null,
   "metadata": {},
   "outputs": [],
   "source": []
  },
  {
   "cell_type": "code",
   "execution_count": null,
   "metadata": {},
   "outputs": [],
   "source": []
  },
  {
   "cell_type": "code",
   "execution_count": null,
   "metadata": {},
   "outputs": [],
   "source": []
  },
  {
   "cell_type": "code",
   "execution_count": null,
   "metadata": {},
   "outputs": [],
   "source": []
  },
  {
   "cell_type": "code",
   "execution_count": null,
   "metadata": {},
   "outputs": [],
   "source": []
  },
  {
   "cell_type": "code",
   "execution_count": null,
   "metadata": {},
   "outputs": [],
   "source": []
  },
  {
   "cell_type": "code",
   "execution_count": null,
   "metadata": {},
   "outputs": [],
   "source": []
  },
  {
   "cell_type": "code",
   "execution_count": null,
   "metadata": {},
   "outputs": [],
   "source": []
  },
  {
   "cell_type": "code",
   "execution_count": null,
   "metadata": {},
   "outputs": [],
   "source": []
  },
  {
   "cell_type": "code",
   "execution_count": null,
   "metadata": {},
   "outputs": [],
   "source": []
  },
  {
   "cell_type": "code",
   "execution_count": null,
   "metadata": {},
   "outputs": [],
   "source": []
  },
  {
   "cell_type": "raw",
   "metadata": {},
   "source": [
    "# np.random.seed(42)\n",
    "\n",
    "X_digits, y_digits = load_digits(return_X_y=True)\n",
    "data = scale(X_digits)\n",
    "\n",
    "n_samples, n_features = data.shape\n",
    "n_digits = len(np.unique(y_digits))\n",
    "labels = y_digits\n",
    "\n",
    "sample_size = 300\n",
    "\n",
    "print(\"n_digits: %d, \\t n_samples %d, \\t n_features %d\"\n",
    "      % (n_digits, n_samples, n_features))\n",
    "\n",
    "\n",
    "print(82 * '_')\n",
    "print('init\\t\\ttime\\tinertia\\thomo\\tcompl\\tv-meas\\tARI\\tAMI\\tsilhouette')\n",
    "\n",
    "\n",
    "def bench_k_means(estimator, name, data):\n",
    "    t0 = time()\n",
    "    estimator.fit(data)\n",
    "    print('%-9s\\t%.2fs\\t%i\\t%.3f\\t%.3f\\t%.3f\\t%.3f\\t%.3f\\t%.3f'\n",
    "          % (name, (time() - t0), estimator.inertia_,\n",
    "             metrics.homogeneity_score(labels, estimator.labels_),\n",
    "             metrics.completeness_score(labels, estimator.labels_),\n",
    "             metrics.v_measure_score(labels, estimator.labels_),\n",
    "             metrics.adjusted_rand_score(labels, estimator.labels_),\n",
    "             metrics.adjusted_mutual_info_score(labels,  estimator.labels_),\n",
    "             metrics.silhouette_score(data, estimator.labels_,\n",
    "                                      metric='euclidean',\n",
    "                                      sample_size=sample_size)))\n",
    "\n",
    "bench_k_means(KMeans(init='k-means++', n_clusters=n_digits, n_init=10),\n",
    "              name=\"k-means++\", data=data)\n",
    "\n",
    "bench_k_means(KMeans(init='random', n_clusters=n_digits, n_init=10),\n",
    "              name=\"random\", data=data)\n",
    "\n",
    "# in this case the seeding of the centers is deterministic, hence we run the\n",
    "# kmeans algorithm only once with n_init=1\n",
    "pca = PCA(n_components=n_digits).fit(data)\n",
    "bench_k_means(KMeans(init=pca.components_, n_clusters=n_digits, n_init=1),\n",
    "              name=\"PCA-based\",\n",
    "              data=data)\n",
    "print(82 * '_')\n",
    "\n",
    "# #############################################################################\n",
    "# Visualize the results on PCA-reduced data\n",
    "\n",
    "reduced_data = PCA(n_components=2).fit_transform(data)\n",
    "kmeans = KMeans(init='k-means++', n_clusters=n_digits, n_init=10)\n",
    "kmeans.fit(reduced_data)\n",
    "\n",
    "# Step size of the mesh. Decrease to increase the quality of the VQ.\n",
    "h = .02     # point in the mesh [x_min, x_max]x[y_min, y_max].\n",
    "\n",
    "# Plot the decision boundary. For that, we will assign a color to each\n",
    "x_min, x_max = reduced_data[:, 0].min() - 1, reduced_data[:, 0].max() + 1\n",
    "y_min, y_max = reduced_data[:, 1].min() - 1, reduced_data[:, 1].max() + 1\n",
    "xx, yy = np.meshgrid(np.arange(x_min, x_max, h), np.arange(y_min, y_max, h))\n",
    "\n",
    "# Obtain labels for each point in mesh. Use last trained model.\n",
    "Z = kmeans.predict(np.c_[xx.ravel(), yy.ravel()])\n",
    "\n",
    "# Put the result into a color plot\n",
    "Z = Z.reshape(xx.shape)\n",
    "plt.figure(1)\n",
    "plt.clf()\n",
    "plt.imshow(Z, interpolation='nearest',\n",
    "           extent=(xx.min(), xx.max(), yy.min(), yy.max()),\n",
    "           cmap=plt.cm.Paired,\n",
    "           aspect='auto', origin='lower')\n",
    "\n",
    "plt.plot(reduced_data[:, 0], reduced_data[:, 1], 'k.', markersize=2)\n",
    "# Plot the centroids as a white X\n",
    "centroids = kmeans.cluster_centers_\n",
    "plt.scatter(centroids[:, 0], centroids[:, 1],\n",
    "            marker='x', s=169, linewidths=3,\n",
    "            color='w', zorder=10)\n",
    "plt.title('K-means clustering on the digits dataset (PCA-reduced data)\\n'\n",
    "          'Centroids are marked with white cross')\n",
    "plt.xlim(x_min, x_max)\n",
    "plt.ylim(y_min, y_max)\n",
    "plt.xticks(())\n",
    "plt.yticks(())\n",
    "plt.show()"
   ]
  }
 ],
 "metadata": {
  "kernelspec": {
   "display_name": "Python 3",
   "language": "python",
   "name": "python3"
  },
  "language_info": {
   "codemirror_mode": {
    "name": "ipython",
    "version": 3
   },
   "file_extension": ".py",
   "mimetype": "text/x-python",
   "name": "python",
   "nbconvert_exporter": "python",
   "pygments_lexer": "ipython3",
   "version": "3.7.6"
  }
 },
 "nbformat": 4,
 "nbformat_minor": 4
}
