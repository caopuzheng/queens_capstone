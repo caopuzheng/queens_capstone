{
 "cells": [
  {
   "cell_type": "code",
   "execution_count": 1,
   "metadata": {},
   "outputs": [],
   "source": [
    "import pandas as pd\n",
    "import mysql.connector as sql\n",
    "import math"
   ]
  },
  {
   "cell_type": "code",
   "execution_count": 2,
   "metadata": {},
   "outputs": [],
   "source": [
    "def get_all_bonds_in_list(start_date,end_date):\n",
    "    print('start to get data from {} to {}'.format(start_date,end_date))\n",
    "    #####Create engine:\n",
    "    db_connection = sql.connect(host='0.0.0.0', database='bond_db', user='root', password='password')\n",
    "    ##security query\n",
    "    security_query = \"select * from security_info\"\n",
    "    ##read data\n",
    "    security_data = pd.read_sql(security_query,con=db_connection)\n",
    "    security_data = security_data[['SecurityID','Currency','IssueDate','MaturityDate']]\n",
    "    ##price query\n",
    "    price_query = \"select * from bond_spread where  KeyDate between '{}' and '{}'\".format(start_date,end_date)\n",
    "    #####read bond_data from db:\n",
    "    final_data = pd.read_sql(price_query,con=db_connection)\n",
    "    final_data = final_data.merge(security_data, on=['SecurityID'], how='left')\n",
    "    final_data.dropna(subset=[\"ZSpread\"],inplace=True)\n",
    "    final_data_1 = final_data[final_data.Currency == 'USD']\n",
    "    final_data = final_data_1.groupby('SecurityID')\n",
    "    bonds_list = [final_data.get_group(x) for x in final_data.groups]\n",
    "    db_connection.close()\n",
    "    return bonds_list"
   ]
  },
  {
   "cell_type": "code",
   "execution_count": 3,
   "metadata": {},
   "outputs": [],
   "source": [
    "def merge_left_right(data1,data2):\n",
    "    temp_data = data1.append(data2)\n",
    "    return temp_data\n",
    "\n",
    "def merg_sort(list_data):\n",
    "    list_length = len(list_data)\n",
    "    if list_length == 1:\n",
    "        output = list_data[0][2]\n",
    "        return output\n",
    "    else:\n",
    "        mid_point = math.floor(list_length/2)\n",
    "        #print(len(list_data[:mid_point]))\n",
    "        left = list_data[mid_point:]\n",
    "        right = list_data[:mid_point]\n",
    "        return merge_left_right(merg_sort(left), merg_sort(right))"
   ]
  },
  {
   "cell_type": "code",
   "execution_count": 4,
   "metadata": {},
   "outputs": [],
   "source": [
    "silding_windows = [['2018/12/31','2019/2/28'],['2019/03/01','2019/4/30'],\n",
    "                   ['2019/5/1','2019/6/30'],['2019/7/1','2019/8/31'],\n",
    "                   ['2019/9/1','2019/10/31'],['2019/11/01','2019/12/31']]"
   ]
  },
  {
   "cell_type": "markdown",
   "metadata": {},
   "source": [
    "## Cluster data"
   ]
  },
  {
   "cell_type": "code",
   "execution_count": 5,
   "metadata": {},
   "outputs": [],
   "source": [
    "cluster_data = pd.read_csv('Cluster_group_125.csv')"
   ]
  },
  {
   "cell_type": "code",
   "execution_count": 6,
   "metadata": {},
   "outputs": [],
   "source": [
    "cluster_data.drop(columns=['Unnamed: 0'],inplace=True)"
   ]
  },
  {
   "cell_type": "code",
   "execution_count": 7,
   "metadata": {},
   "outputs": [
    {
     "output_type": "execute_result",
     "data": {
      "text/plain": "'2019/2/28'"
     },
     "metadata": {},
     "execution_count": 7
    }
   ],
   "source": [
    "cluster_data.columns[1]"
   ]
  },
  {
   "cell_type": "code",
   "execution_count": 8,
   "metadata": {},
   "outputs": [],
   "source": [
    "def get_the_weekly_spread_windows(bonds_list):\n",
    "    bond_spread_list = []\n",
    "    for bond in bonds_list:\n",
    "        try:\n",
    "            bond['KeyDate'] = pd.to_datetime(bond['KeyDate'])\n",
    "            bond = bond.set_index('KeyDate')\n",
    "            logic = {'GSpread'  : 'last',\n",
    "                    'ModifiedDuration_Plain':'last',\n",
    "                    'YieldWorst':'last',\n",
    "                    'AmtOutstanding':'last',\n",
    "                 'SecurityID':'first'}\n",
    "            offset = pd.offsets.timedelta(days=-6)\n",
    "            d = bond.resample('W', loffset=offset).apply(logic)\n",
    "            d['G_change_Percent']=d.GSpread.pct_change()\n",
    "            d['G_change'] = d.GSpread.diff()\n",
    "            d['ModifiedDuration_Plain_change']=d.ModifiedDuration_Plain.diff()\n",
    "            d['YieldWorst_change']=d.YieldWorst.diff()\n",
    "            d.dropna(subset=['G_change_Percent'],inplace = True)\n",
    "            d.reset_index(inplace=True)\n",
    "            bond_spread_list.append((len(d.GSpread.values),bond.SecurityID.iloc[0],d))\n",
    "        except:\n",
    "            pass\n",
    "    return bond_spread_list"
   ]
  },
  {
   "cell_type": "code",
   "execution_count": 9,
   "metadata": {},
   "outputs": [],
   "source": [
    "def Average_daily_Gspread_change_cluster(window,cluster_data):\n",
    "    ####Grab Data###\n",
    "    bond_list1 = get_all_bonds_in_list(window[0],window[1])\n",
    "    ####G Change ###\n",
    "    daily_spread_1 = get_the_weekly_spread_windows(bond_list1)\n",
    "    new_data = merg_sort(daily_spread_1)\n",
    "    new_data.dropna(inplace=True)\n",
    "    data1 = new_data.merge(cluster_data[['SecurityID',window[1]]],on=['SecurityID'],how ='left')\n",
    "    temp = data1.groupby(by=['KeyDate',window[1]],as_index=False).mean()\n",
    "    data1['Group'] = data1[window[1]] \n",
    "    data1.drop(columns=[window[1]],inplace=True)\n",
    "    temp['Group'] = temp[window[1]]\n",
    "    end = temp[['Group','KeyDate','G_change','YieldWorst_change','ModifiedDuration_Plain_change']]\n",
    "    #end = end.rename(columns={'G_change_Percent':'Cluster_G_change','YieldWorst_change':'Cluster_average_YieldWorst_change',#'ModifiedDuration_Plain_change':'Cluster_average_ModifiedDuration_Plain_change'})\n",
    "    end = end.rename(columns={'G_change':'Cluster_G_change','YieldWorst_change':'Cluster_average_YieldWorst_change',         'ModifiedDuration_Plain_change':'Cluster_average_ModifiedDuration_Plain_change'})\n",
    "    return end,data1"
   ]
  },
  {
   "cell_type": "code",
   "execution_count": 10,
   "metadata": {},
   "outputs": [],
   "source": [
    "db_connection = sql.connect(host='0.0.0.0', database='bond_db', user='root', password='password')\n",
    "security_query = \"select * from security_info\"\n",
    "security_data = pd.read_sql(security_query,con=db_connection)"
   ]
  },
  {
   "cell_type": "markdown",
   "metadata": {},
   "source": [
    "## END"
   ]
  },
  {
   "cell_type": "markdown",
   "metadata": {},
   "source": [
    "## Read Your Rating data"
   ]
  },
  {
   "cell_type": "code",
   "execution_count": 11,
   "metadata": {},
   "outputs": [],
   "source": [
    "def term(x,y):\n",
    "    try:\n",
    "        bond_term = int(x.year) - int(y.year)\n",
    "    except:\n",
    "        bond_term = 100\n",
    "    return bond_term"
   ]
  },
  {
   "cell_type": "code",
   "execution_count": 12,
   "metadata": {},
   "outputs": [],
   "source": [
    "def Type_term(x):\n",
    "    if x >= 10:\n",
    "        return 'Long Term'\n",
    "    elif x < 10 and x >= 5:\n",
    "        return  'Mid Term'\n",
    "    else:\n",
    "        return 'Short Term'"
   ]
  },
  {
   "cell_type": "code",
   "execution_count": 13,
   "metadata": {},
   "outputs": [],
   "source": [
    "def assign_rating(x):\n",
    "    x = float(x)\n",
    "    if math.isnan(x):\n",
    "        return 'UN'\n",
    "    else:\n",
    "        if x < 0:\n",
    "            return 'NR'\n",
    "        elif x<=13.5:\n",
    "            return \"Junk\"\n",
    "        elif x>13.5 and x<=16.5:\n",
    "            return 'Lower medium grade'\n",
    "        elif x>16.5 and x<=19.5:\n",
    "            return 'Upper medium grade'\n",
    "        elif x>19.5 and x<=22.5:\n",
    "            return 'High grade'\n",
    "        else:\n",
    "            return 'Prime'"
   ]
  },
  {
   "cell_type": "code",
   "execution_count": 14,
   "metadata": {},
   "outputs": [],
   "source": [
    "db_connection = sql.connect(host='0.0.0.0', database='bond_db', user='root', password='password')\n",
    "rating_query = \"select * from rating\"\n",
    "rating_data = pd.read_sql(rating_query,con=db_connection)"
   ]
  },
  {
   "cell_type": "code",
   "execution_count": 15,
   "metadata": {},
   "outputs": [],
   "source": [
    "rating_data = rating_data.groupby(by=['SecurityID'],as_index=False).mean()"
   ]
  },
  {
   "cell_type": "code",
   "execution_count": 16,
   "metadata": {},
   "outputs": [],
   "source": [
    "security_data['Term'] = security_data.apply(lambda x:term(x.MaturityDate,x.IssueDate),axis=1)"
   ]
  },
  {
   "cell_type": "code",
   "execution_count": 17,
   "metadata": {},
   "outputs": [],
   "source": [
    "security_data['Term'] = security_data['Term'].fillna(100)\n",
    "security_data['Type of Term'] = security_data['Term'].apply(Type_term)"
   ]
  },
  {
   "cell_type": "code",
   "execution_count": 18,
   "metadata": {},
   "outputs": [],
   "source": [
    "security_data = security_data.merge(rating_data,on =['SecurityID'],how='left')"
   ]
  },
  {
   "cell_type": "code",
   "execution_count": 19,
   "metadata": {},
   "outputs": [
    {
     "output_type": "execute_result",
     "data": {
      "text/plain": "   SecurityID                               OfficialName SecurityType  \\\n0          62                        BACR 4.875 08/13/19         Bond   \n1          64                            POST 5 08/15/26         Bond   \n2          69                        ARNDTN 1.5 05/03/22         Bond   \n3          72  RBS 6.1 06/10/2023 Bullet USD SUBORDINATE         Bond   \n4          78                             AER 5 10/01/21         Bond   \n\n  SecuritySubType SecurityBBGType SecurityBBGYellowKey Series SecuritySector  \\\n0            Bond        EURO MTN                 Corp   None     Financials   \n1            Bond  PRIV PLACEMENT                 Corp   None      Consumers   \n2            Bond       EURO-ZONE                 Corp   None    Real Estate   \n3            Bond          GLOBAL                 Corp   None     Financials   \n4            Bond          GLOBAL                 Corp   None     Financials   \n\n     SecurityIndustry       SecuritySubIndustry  ...   PaymentRank  \\\n0               Banks       Commer Banks Non-US  ...  Sr Unsecured   \n1     Food & Beverage     Food-Misc/Diversified  ...  Sr Unsecured   \n2         Real Estate  Real Estate Oper/Develop  ...  Sr Unsecured   \n3   Diversified Banks  Diversified Banking Inst  ...  Subordinated   \n4  Commercial Finance    Finance-Leasing Compan  ...  Sr Unsecured   \n\n         IsBailIn QuoteSize  AmountIssued MinIncrement  MinPiece  \\\n0               N       100  2.000000e+09       1000.0   50000.0   \n1  Not Applicable       100  1.750000e+09       1000.0    2000.0   \n2  Not Applicable       100  6.000000e+08     100000.0  100000.0   \n3               Y       100  1.000000e+09       1000.0    2000.0   \n4               N       100  8.000000e+08       1000.0  150000.0   \n\n                                      BBGDescription Term Type of Term  \\\n0                                               None   10    Long Term   \n1                                               None   10    Long Term   \n2  COUPON STEP UP PROVISION IF ISSUER IS NOT BBB ...    6     Mid Term   \n3                 Basel III grandfathered instrument   10    Long Term   \n4  ISS'D IN EXCH OF 144A/REGS SEC; SEE CUSIP# 007...    6     Mid Term   \n\n    RatingSP  \n0        NaN  \n1  10.000000  \n2        NaN  \n3  13.000000  \n4  14.652361  \n\n[5 rows x 51 columns]",
      "text/html": "<div>\n<style scoped>\n    .dataframe tbody tr th:only-of-type {\n        vertical-align: middle;\n    }\n\n    .dataframe tbody tr th {\n        vertical-align: top;\n    }\n\n    .dataframe thead th {\n        text-align: right;\n    }\n</style>\n<table border=\"1\" class=\"dataframe\">\n  <thead>\n    <tr style=\"text-align: right;\">\n      <th></th>\n      <th>SecurityID</th>\n      <th>OfficialName</th>\n      <th>SecurityType</th>\n      <th>SecuritySubType</th>\n      <th>SecurityBBGType</th>\n      <th>SecurityBBGYellowKey</th>\n      <th>Series</th>\n      <th>SecuritySector</th>\n      <th>SecurityIndustry</th>\n      <th>SecuritySubIndustry</th>\n      <th>...</th>\n      <th>PaymentRank</th>\n      <th>IsBailIn</th>\n      <th>QuoteSize</th>\n      <th>AmountIssued</th>\n      <th>MinIncrement</th>\n      <th>MinPiece</th>\n      <th>BBGDescription</th>\n      <th>Term</th>\n      <th>Type of Term</th>\n      <th>RatingSP</th>\n    </tr>\n  </thead>\n  <tbody>\n    <tr>\n      <th>0</th>\n      <td>62</td>\n      <td>BACR 4.875 08/13/19</td>\n      <td>Bond</td>\n      <td>Bond</td>\n      <td>EURO MTN</td>\n      <td>Corp</td>\n      <td>None</td>\n      <td>Financials</td>\n      <td>Banks</td>\n      <td>Commer Banks Non-US</td>\n      <td>...</td>\n      <td>Sr Unsecured</td>\n      <td>N</td>\n      <td>100</td>\n      <td>2.000000e+09</td>\n      <td>1000.0</td>\n      <td>50000.0</td>\n      <td>None</td>\n      <td>10</td>\n      <td>Long Term</td>\n      <td>NaN</td>\n    </tr>\n    <tr>\n      <th>1</th>\n      <td>64</td>\n      <td>POST 5 08/15/26</td>\n      <td>Bond</td>\n      <td>Bond</td>\n      <td>PRIV PLACEMENT</td>\n      <td>Corp</td>\n      <td>None</td>\n      <td>Consumers</td>\n      <td>Food &amp; Beverage</td>\n      <td>Food-Misc/Diversified</td>\n      <td>...</td>\n      <td>Sr Unsecured</td>\n      <td>Not Applicable</td>\n      <td>100</td>\n      <td>1.750000e+09</td>\n      <td>1000.0</td>\n      <td>2000.0</td>\n      <td>None</td>\n      <td>10</td>\n      <td>Long Term</td>\n      <td>10.000000</td>\n    </tr>\n    <tr>\n      <th>2</th>\n      <td>69</td>\n      <td>ARNDTN 1.5 05/03/22</td>\n      <td>Bond</td>\n      <td>Bond</td>\n      <td>EURO-ZONE</td>\n      <td>Corp</td>\n      <td>None</td>\n      <td>Real Estate</td>\n      <td>Real Estate</td>\n      <td>Real Estate Oper/Develop</td>\n      <td>...</td>\n      <td>Sr Unsecured</td>\n      <td>Not Applicable</td>\n      <td>100</td>\n      <td>6.000000e+08</td>\n      <td>100000.0</td>\n      <td>100000.0</td>\n      <td>COUPON STEP UP PROVISION IF ISSUER IS NOT BBB ...</td>\n      <td>6</td>\n      <td>Mid Term</td>\n      <td>NaN</td>\n    </tr>\n    <tr>\n      <th>3</th>\n      <td>72</td>\n      <td>RBS 6.1 06/10/2023 Bullet USD SUBORDINATE</td>\n      <td>Bond</td>\n      <td>Bond</td>\n      <td>GLOBAL</td>\n      <td>Corp</td>\n      <td>None</td>\n      <td>Financials</td>\n      <td>Diversified Banks</td>\n      <td>Diversified Banking Inst</td>\n      <td>...</td>\n      <td>Subordinated</td>\n      <td>Y</td>\n      <td>100</td>\n      <td>1.000000e+09</td>\n      <td>1000.0</td>\n      <td>2000.0</td>\n      <td>Basel III grandfathered instrument</td>\n      <td>10</td>\n      <td>Long Term</td>\n      <td>13.000000</td>\n    </tr>\n    <tr>\n      <th>4</th>\n      <td>78</td>\n      <td>AER 5 10/01/21</td>\n      <td>Bond</td>\n      <td>Bond</td>\n      <td>GLOBAL</td>\n      <td>Corp</td>\n      <td>None</td>\n      <td>Financials</td>\n      <td>Commercial Finance</td>\n      <td>Finance-Leasing Compan</td>\n      <td>...</td>\n      <td>Sr Unsecured</td>\n      <td>N</td>\n      <td>100</td>\n      <td>8.000000e+08</td>\n      <td>1000.0</td>\n      <td>150000.0</td>\n      <td>ISS'D IN EXCH OF 144A/REGS SEC; SEE CUSIP# 007...</td>\n      <td>6</td>\n      <td>Mid Term</td>\n      <td>14.652361</td>\n    </tr>\n  </tbody>\n</table>\n<p>5 rows × 51 columns</p>\n</div>"
     },
     "metadata": {},
     "execution_count": 19
    }
   ],
   "source": [
    "security_data.head()"
   ]
  },
  {
   "cell_type": "code",
   "execution_count": 20,
   "metadata": {},
   "outputs": [],
   "source": [
    "security_data['Rating'] = security_data['RatingSP'].apply(assign_rating)"
   ]
  },
  {
   "cell_type": "code",
   "execution_count": 21,
   "metadata": {},
   "outputs": [
    {
     "output_type": "execute_result",
     "data": {
      "text/plain": "   SecurityID                               OfficialName SecurityType  \\\n0          62                        BACR 4.875 08/13/19         Bond   \n1          64                            POST 5 08/15/26         Bond   \n2          69                        ARNDTN 1.5 05/03/22         Bond   \n3          72  RBS 6.1 06/10/2023 Bullet USD SUBORDINATE         Bond   \n4          78                             AER 5 10/01/21         Bond   \n\n  SecuritySubType SecurityBBGType SecurityBBGYellowKey Series SecuritySector  \\\n0            Bond        EURO MTN                 Corp   None     Financials   \n1            Bond  PRIV PLACEMENT                 Corp   None      Consumers   \n2            Bond       EURO-ZONE                 Corp   None    Real Estate   \n3            Bond          GLOBAL                 Corp   None     Financials   \n4            Bond          GLOBAL                 Corp   None     Financials   \n\n     SecurityIndustry       SecuritySubIndustry  ...        IsBailIn  \\\n0               Banks       Commer Banks Non-US  ...               N   \n1     Food & Beverage     Food-Misc/Diversified  ...  Not Applicable   \n2         Real Estate  Real Estate Oper/Develop  ...  Not Applicable   \n3   Diversified Banks  Diversified Banking Inst  ...               Y   \n4  Commercial Finance    Finance-Leasing Compan  ...               N   \n\n  QuoteSize  AmountIssued MinIncrement  MinPiece  \\\n0       100  2.000000e+09       1000.0   50000.0   \n1       100  1.750000e+09       1000.0    2000.0   \n2       100  6.000000e+08     100000.0  100000.0   \n3       100  1.000000e+09       1000.0    2000.0   \n4       100  8.000000e+08       1000.0  150000.0   \n\n                                      BBGDescription  Term Type of Term  \\\n0                                               None    10    Long Term   \n1                                               None    10    Long Term   \n2  COUPON STEP UP PROVISION IF ISSUER IS NOT BBB ...     6     Mid Term   \n3                 Basel III grandfathered instrument    10    Long Term   \n4  ISS'D IN EXCH OF 144A/REGS SEC; SEE CUSIP# 007...     6     Mid Term   \n\n    RatingSP              Rating  \n0        NaN                  UN  \n1  10.000000                Junk  \n2        NaN                  UN  \n3  13.000000                Junk  \n4  14.652361  Lower medium grade  \n\n[5 rows x 52 columns]",
      "text/html": "<div>\n<style scoped>\n    .dataframe tbody tr th:only-of-type {\n        vertical-align: middle;\n    }\n\n    .dataframe tbody tr th {\n        vertical-align: top;\n    }\n\n    .dataframe thead th {\n        text-align: right;\n    }\n</style>\n<table border=\"1\" class=\"dataframe\">\n  <thead>\n    <tr style=\"text-align: right;\">\n      <th></th>\n      <th>SecurityID</th>\n      <th>OfficialName</th>\n      <th>SecurityType</th>\n      <th>SecuritySubType</th>\n      <th>SecurityBBGType</th>\n      <th>SecurityBBGYellowKey</th>\n      <th>Series</th>\n      <th>SecuritySector</th>\n      <th>SecurityIndustry</th>\n      <th>SecuritySubIndustry</th>\n      <th>...</th>\n      <th>IsBailIn</th>\n      <th>QuoteSize</th>\n      <th>AmountIssued</th>\n      <th>MinIncrement</th>\n      <th>MinPiece</th>\n      <th>BBGDescription</th>\n      <th>Term</th>\n      <th>Type of Term</th>\n      <th>RatingSP</th>\n      <th>Rating</th>\n    </tr>\n  </thead>\n  <tbody>\n    <tr>\n      <th>0</th>\n      <td>62</td>\n      <td>BACR 4.875 08/13/19</td>\n      <td>Bond</td>\n      <td>Bond</td>\n      <td>EURO MTN</td>\n      <td>Corp</td>\n      <td>None</td>\n      <td>Financials</td>\n      <td>Banks</td>\n      <td>Commer Banks Non-US</td>\n      <td>...</td>\n      <td>N</td>\n      <td>100</td>\n      <td>2.000000e+09</td>\n      <td>1000.0</td>\n      <td>50000.0</td>\n      <td>None</td>\n      <td>10</td>\n      <td>Long Term</td>\n      <td>NaN</td>\n      <td>UN</td>\n    </tr>\n    <tr>\n      <th>1</th>\n      <td>64</td>\n      <td>POST 5 08/15/26</td>\n      <td>Bond</td>\n      <td>Bond</td>\n      <td>PRIV PLACEMENT</td>\n      <td>Corp</td>\n      <td>None</td>\n      <td>Consumers</td>\n      <td>Food &amp; Beverage</td>\n      <td>Food-Misc/Diversified</td>\n      <td>...</td>\n      <td>Not Applicable</td>\n      <td>100</td>\n      <td>1.750000e+09</td>\n      <td>1000.0</td>\n      <td>2000.0</td>\n      <td>None</td>\n      <td>10</td>\n      <td>Long Term</td>\n      <td>10.000000</td>\n      <td>Junk</td>\n    </tr>\n    <tr>\n      <th>2</th>\n      <td>69</td>\n      <td>ARNDTN 1.5 05/03/22</td>\n      <td>Bond</td>\n      <td>Bond</td>\n      <td>EURO-ZONE</td>\n      <td>Corp</td>\n      <td>None</td>\n      <td>Real Estate</td>\n      <td>Real Estate</td>\n      <td>Real Estate Oper/Develop</td>\n      <td>...</td>\n      <td>Not Applicable</td>\n      <td>100</td>\n      <td>6.000000e+08</td>\n      <td>100000.0</td>\n      <td>100000.0</td>\n      <td>COUPON STEP UP PROVISION IF ISSUER IS NOT BBB ...</td>\n      <td>6</td>\n      <td>Mid Term</td>\n      <td>NaN</td>\n      <td>UN</td>\n    </tr>\n    <tr>\n      <th>3</th>\n      <td>72</td>\n      <td>RBS 6.1 06/10/2023 Bullet USD SUBORDINATE</td>\n      <td>Bond</td>\n      <td>Bond</td>\n      <td>GLOBAL</td>\n      <td>Corp</td>\n      <td>None</td>\n      <td>Financials</td>\n      <td>Diversified Banks</td>\n      <td>Diversified Banking Inst</td>\n      <td>...</td>\n      <td>Y</td>\n      <td>100</td>\n      <td>1.000000e+09</td>\n      <td>1000.0</td>\n      <td>2000.0</td>\n      <td>Basel III grandfathered instrument</td>\n      <td>10</td>\n      <td>Long Term</td>\n      <td>13.000000</td>\n      <td>Junk</td>\n    </tr>\n    <tr>\n      <th>4</th>\n      <td>78</td>\n      <td>AER 5 10/01/21</td>\n      <td>Bond</td>\n      <td>Bond</td>\n      <td>GLOBAL</td>\n      <td>Corp</td>\n      <td>None</td>\n      <td>Financials</td>\n      <td>Commercial Finance</td>\n      <td>Finance-Leasing Compan</td>\n      <td>...</td>\n      <td>N</td>\n      <td>100</td>\n      <td>8.000000e+08</td>\n      <td>1000.0</td>\n      <td>150000.0</td>\n      <td>ISS'D IN EXCH OF 144A/REGS SEC; SEE CUSIP# 007...</td>\n      <td>6</td>\n      <td>Mid Term</td>\n      <td>14.652361</td>\n      <td>Lower medium grade</td>\n    </tr>\n  </tbody>\n</table>\n<p>5 rows × 52 columns</p>\n</div>"
     },
     "metadata": {},
     "execution_count": 21
    }
   ],
   "source": [
    "security_data.head()"
   ]
  },
  {
   "cell_type": "code",
   "execution_count": 22,
   "metadata": {},
   "outputs": [],
   "source": [
    "def combine_data(List1,num_of_clusters):\n",
    "    final = []\n",
    "    length = len(List1)\n",
    "    for j in range(0,length):   \n",
    "        for i in range(0,num_of_clusters):\n",
    "            if i == 0:\n",
    "                f = List1[j].loc['Cluster {}'.format(i)].T.head(1).reset_index().iloc[:,1:]\n",
    "                f['Group'] ='Cluster {}'.format(i)\n",
    "            else:\n",
    "                temp = List1[j].loc['Cluster {}'.format(i)].T.head(1).reset_index().iloc[:,1:]\n",
    "                temp['Group'] ='Cluster {}'.format(i)\n",
    "                f = f.merge(temp,how='outer').fillna(0)\n",
    "        final.append(f)\n",
    "    for i in range(0,len(final)):\n",
    "        if i == 0:\n",
    "            f_data = final[i]\n",
    "        else:\n",
    "            f_data = f_data.merge(final[i],on='Group',how = 'left')\n",
    "    return f_data"
   ]
  },
  {
   "cell_type": "code",
   "execution_count": 23,
   "metadata": {},
   "outputs": [],
   "source": [
    "def get_the_cluster_data(security_info,cluster_data,windows):\n",
    "    print('start to get data for {}'.format(windows[1]))\n",
    "    security_info = security_data[['SecurityID','SecuritySector','AmountIssued','Coupon','Seniority','Term','Type of Term','RatingSP','Rating']]\n",
    "    a = security_info.merge(cluster_data[['SecurityID',windows[1]]],on=['SecurityID'],how='left')\n",
    "    a.dropna(subset=[windows[1]],inplace=True)\n",
    "    a = a.rename(columns={windows[1]:'Group'})\n",
    "    c = a.groupby(by=['Group','Seniority']).count()\n",
    "    s= a.groupby(by=['Group','SecuritySector']).count()\t\n",
    "    r = a.groupby(by=['Group','Rating']).count()\n",
    "    t = a.groupby(by=['Group','Type of Term']).count()\n",
    "    d = a.groupby(by=['Group']).count()\n",
    "    e = c/d\n",
    "    e1 = s/d\n",
    "    e2 = r/d\n",
    "    e3 = t/d\n",
    "    list1 = [e,e1,e2,e3]\n",
    "    f = combine_data(list1,125)\n",
    "    b = a.groupby(by=['Group'],as_index=False).mean()\n",
    "    b.drop(columns=['SecurityID'],inplace=True)\n",
    "    b = b.rename(columns={'AmountIssued':'Cluster_average_AmountIssued','Coupon':'Cluster_average_Coupon','Term':'Cluster_average_Term','RatingSP':'Cluster_average_Rating'})\n",
    "    window_cluster_data = b.merge(f,on='Group',how = 'left')\n",
    "    return window_cluster_data\n"
   ]
  },
  {
   "cell_type": "code",
   "execution_count": 24,
   "metadata": {},
   "outputs": [],
   "source": [
    "from sqlalchemy import create_engine"
   ]
  },
  {
   "cell_type": "code",
   "execution_count": 25,
   "metadata": {
    "tags": []
   },
   "outputs": [
    {
     "output_type": "stream",
     "name": "stdout",
     "text": "start to get data from 2018/12/31 to 2019/2/28\nstart to get data for 2019/2/28\nstart to get data from 2019/03/01 to 2019/4/30\nstart to get data for 2019/4/30\nstart to get data from 2019/5/1 to 2019/6/30\nstart to get data for 2019/6/30\nstart to get data from 2019/7/1 to 2019/8/31\nstart to get data for 2019/8/31\nstart to get data from 2019/9/1 to 2019/10/31\nstart to get data for 2019/10/31\nstart to get data from 2019/11/01 to 2019/12/31\nstart to get data for 2019/12/31\n"
    }
   ],
   "source": [
    "for i in range(0,len(silding_windows)):\n",
    "    if i == 0:\n",
    "        final_change,final = Average_daily_Gspread_change_cluster(silding_windows[i],cluster_data)\n",
    "        temp_cluster = get_the_cluster_data(security_data,cluster_data,silding_windows[i])\n",
    "        final = final.merge(temp_cluster, on='Group',how='left')\n",
    "    else:\n",
    "        temp,temp_data = Average_daily_Gspread_change_cluster(silding_windows[i],cluster_data)\n",
    "        temp_cluster = get_the_cluster_data(security_data,cluster_data,silding_windows[i])\n",
    "        temp_data = temp_data.merge(temp_cluster, on='Group',how='left')\n",
    "        final_change = final_change.append(temp,ignore_index=True)\n",
    "        final = final.append(temp_data,ignore_index=True)"
   ]
  },
  {
   "cell_type": "code",
   "execution_count": 26,
   "metadata": {},
   "outputs": [
    {
     "output_type": "execute_result",
     "data": {
      "text/plain": "            Group    KeyDate  Cluster_G_change  \\\n0       Cluster 0 2019-01-07        -15.712187   \n1       Cluster 1 2019-01-07        -15.735987   \n2      Cluster 10 2019-01-07        -26.500588   \n3     Cluster 100 2019-01-07        -13.612366   \n4     Cluster 101 2019-01-07         -4.395000   \n...           ...        ...               ...   \n6245   Cluster 95 2019-12-30          6.378807   \n6246   Cluster 96 2019-12-30          0.182917   \n6247   Cluster 97 2019-12-30         -0.758340   \n6248   Cluster 98 2019-12-30         -6.504069   \n6249   Cluster 99 2019-12-30         -0.315233   \n\n      Cluster_average_YieldWorst_change  \\\n0                             -0.062611   \n1                             -0.058321   \n2                             -0.163752   \n3                             -0.045639   \n4                              0.051294   \n...                                 ...   \n6245                           0.089239   \n6246                           0.018043   \n6247                           0.016047   \n6248                          -0.032217   \n6249                           0.028957   \n\n      Cluster_average_ModifiedDuration_Plain_change  \n0                                         -0.012971  \n1                                         -0.008302  \n2                                         -0.002128  \n3                                         -0.022716  \n4                                         -0.021335  \n...                                             ...  \n6245                                      -0.008271  \n6246                                      -0.010491  \n6247                                       0.003751  \n6248                                      -0.010249  \n6249                                      -0.027745  \n\n[6250 rows x 5 columns]",
      "text/html": "<div>\n<style scoped>\n    .dataframe tbody tr th:only-of-type {\n        vertical-align: middle;\n    }\n\n    .dataframe tbody tr th {\n        vertical-align: top;\n    }\n\n    .dataframe thead th {\n        text-align: right;\n    }\n</style>\n<table border=\"1\" class=\"dataframe\">\n  <thead>\n    <tr style=\"text-align: right;\">\n      <th></th>\n      <th>Group</th>\n      <th>KeyDate</th>\n      <th>Cluster_G_change</th>\n      <th>Cluster_average_YieldWorst_change</th>\n      <th>Cluster_average_ModifiedDuration_Plain_change</th>\n    </tr>\n  </thead>\n  <tbody>\n    <tr>\n      <th>0</th>\n      <td>Cluster 0</td>\n      <td>2019-01-07</td>\n      <td>-15.712187</td>\n      <td>-0.062611</td>\n      <td>-0.012971</td>\n    </tr>\n    <tr>\n      <th>1</th>\n      <td>Cluster 1</td>\n      <td>2019-01-07</td>\n      <td>-15.735987</td>\n      <td>-0.058321</td>\n      <td>-0.008302</td>\n    </tr>\n    <tr>\n      <th>2</th>\n      <td>Cluster 10</td>\n      <td>2019-01-07</td>\n      <td>-26.500588</td>\n      <td>-0.163752</td>\n      <td>-0.002128</td>\n    </tr>\n    <tr>\n      <th>3</th>\n      <td>Cluster 100</td>\n      <td>2019-01-07</td>\n      <td>-13.612366</td>\n      <td>-0.045639</td>\n      <td>-0.022716</td>\n    </tr>\n    <tr>\n      <th>4</th>\n      <td>Cluster 101</td>\n      <td>2019-01-07</td>\n      <td>-4.395000</td>\n      <td>0.051294</td>\n      <td>-0.021335</td>\n    </tr>\n    <tr>\n      <th>...</th>\n      <td>...</td>\n      <td>...</td>\n      <td>...</td>\n      <td>...</td>\n      <td>...</td>\n    </tr>\n    <tr>\n      <th>6245</th>\n      <td>Cluster 95</td>\n      <td>2019-12-30</td>\n      <td>6.378807</td>\n      <td>0.089239</td>\n      <td>-0.008271</td>\n    </tr>\n    <tr>\n      <th>6246</th>\n      <td>Cluster 96</td>\n      <td>2019-12-30</td>\n      <td>0.182917</td>\n      <td>0.018043</td>\n      <td>-0.010491</td>\n    </tr>\n    <tr>\n      <th>6247</th>\n      <td>Cluster 97</td>\n      <td>2019-12-30</td>\n      <td>-0.758340</td>\n      <td>0.016047</td>\n      <td>0.003751</td>\n    </tr>\n    <tr>\n      <th>6248</th>\n      <td>Cluster 98</td>\n      <td>2019-12-30</td>\n      <td>-6.504069</td>\n      <td>-0.032217</td>\n      <td>-0.010249</td>\n    </tr>\n    <tr>\n      <th>6249</th>\n      <td>Cluster 99</td>\n      <td>2019-12-30</td>\n      <td>-0.315233</td>\n      <td>0.028957</td>\n      <td>-0.027745</td>\n    </tr>\n  </tbody>\n</table>\n<p>6250 rows × 5 columns</p>\n</div>"
     },
     "metadata": {},
     "execution_count": 26
    }
   ],
   "source": [
    "final_change"
   ]
  },
  {
   "cell_type": "code",
   "execution_count": 27,
   "metadata": {},
   "outputs": [
    {
     "output_type": "execute_result",
     "data": {
      "text/plain": "Index(['KeyDate', 'GSpread', 'ModifiedDuration_Plain', 'YieldWorst',\n       'AmtOutstanding', 'SecurityID', 'G_change_Percent', 'G_change',\n       'ModifiedDuration_Plain_change', 'YieldWorst_change', 'Group',\n       'Cluster_average_AmountIssued', 'Cluster_average_Coupon',\n       'Cluster_average_Term', 'Cluster_average_Rating',\n       'Jr Subordinated Unsecured', 'Secured', 'Sr Unsecured',\n       'Subordinated Unsecured', '1st Lien Secured', '2nd Lien Secured',\n       '3rd Lien Secured', '1st lien', 'Auto', 'Basic Materials',\n       'Communications', 'Consumers', 'Energy', 'Financials', 'Health Care',\n       'Industrials', 'Real Estate', 'Technology', 'High grade', 'Junk',\n       'Lower medium grade', 'UN', 'Upper medium grade', 'Prime', 'Long Term',\n       'Mid Term', 'Short Term'],\n      dtype='object')"
     },
     "metadata": {},
     "execution_count": 27
    }
   ],
   "source": [
    "final.columns"
   ]
  },
  {
   "cell_type": "code",
   "execution_count": 28,
   "metadata": {},
   "outputs": [
    {
     "output_type": "execute_result",
     "data": {
      "text/plain": "758189"
     },
     "metadata": {},
     "execution_count": 28
    }
   ],
   "source": [
    "len(final)"
   ]
  },
  {
   "cell_type": "code",
   "execution_count": 29,
   "metadata": {},
   "outputs": [],
   "source": [
    "final = final[['SecurityID','KeyDate','YieldWorst','ModifiedDuration_Plain','AmtOutstanding','G_change','YieldWorst_change',\n",
    "                'ModifiedDuration_Plain_change','Group','Cluster_average_AmountIssued',\n",
    "                'Cluster_average_Coupon', 'Cluster_average_Term',\n",
    "                'Cluster_average_Rating', 'Jr Subordinated Unsecured', 'Secured',\n",
    "                'Sr Unsecured', 'Subordinated Unsecured', '1st Lien Secured',\n",
    "                '2nd Lien Secured', '3rd Lien Secured', '1st lien',\n",
    "                'Auto', 'Basic Materials','Communications', 'Consumers', 'Energy', 'Financials', 'Health Care',\n",
    "                'Industrials', 'Real Estate', 'Technology', 'High grade', 'Junk',\n",
    "                'Lower medium grade', 'UN', 'Upper medium grade', 'Prime', 'Long Term',\n",
    "                'Mid Term', 'Short Term']]"
   ]
  },
  {
   "cell_type": "code",
   "execution_count": 30,
   "metadata": {},
   "outputs": [],
   "source": [
    "final = final.rename(columns={ 'Jr Subordinated Unsecured':'Cluster Perecentage of Jr Subordinated Unsecured',\n",
    "                               'Secured':'Cluster Perecentage of Secured',\n",
    "                               'Sr Unsecured':'Cluster Perecentage of Sr Unsecured', \n",
    "                               'Subordinated Unsecured':'Cluster Perecentage of Subordinated Unsecured', \n",
    "                               '1st Lien Secured':'Cluster Perecentage of 1st Lien Secured',\n",
    "                               '2nd Lien Secured':'Cluster Perecentage of 2nd Lien Secured', \n",
    "                               '3rd Lien Secured':'Cluster Perecentage of 3rd Lien Secured', \n",
    "                               '1st lien':'Cluster Perecentage of 1st lien', \n",
    "                               'Asset Backed':'Cluster Perecentage of Asset Backed',\n",
    "                               'Auto':'Cluster Perecentage of Auto', \n",
    "                               'Basic Materials':'Cluster Perecentage of Basic Materials',\n",
    "                               'Communications':'Cluster Perecentage of Communications', \n",
    "                               'Consumers':'Cluster Perecentage of Consumers', \n",
    "                               'Energy':'Cluster Perecentage of Energy', \n",
    "                               'Financials':'Cluster Perecentage of Financials', \n",
    "                               'Health Care':'Cluster Perecentage of Health Care',\n",
    "                               'Industrials':'Cluster Perecentage of Industrials', \n",
    "                               'Real Estate':'Cluster Perecentage of Real Estate', \n",
    "                               'Technology':'Cluster Perecentage of Technology', \n",
    "                               'High grade':'Cluster Perecentage of High grade', \n",
    "                               'Junk':'Cluster Perecentage of Junk',\n",
    "                               'Lower medium grade':'Cluster Perecentage of Lower medium grade', \n",
    "                               'UN':'Cluster Perecentage of UN', \n",
    "                               'Upper medium grade':'Cluster Perecentage of Upper medium grade',\n",
    "                               'Prime':'Cluster Perecentage of Prime', \n",
    "                               'Long Term':'Cluster Perecentage of Long Term',\n",
    "                               'Mid Term':'Cluster Perecentage of Mid Term', \n",
    "                               'Short Term':'Cluster Perecentage of Short Term'})"
   ]
  },
  {
   "cell_type": "code",
   "execution_count": 31,
   "metadata": {},
   "outputs": [],
   "source": [
    "final = final.rename(columns={\"G_change\": \"Target_G_change\"})"
   ]
  },
  {
   "cell_type": "code",
   "execution_count": 32,
   "metadata": {},
   "outputs": [],
   "source": [
    "final1 =final"
   ]
  },
  {
   "cell_type": "code",
   "execution_count": 33,
   "metadata": {},
   "outputs": [],
   "source": [
    "final = final.merge(final_change,on=['Group','KeyDate'],how = 'left')"
   ]
  },
  {
   "cell_type": "code",
   "execution_count": 34,
   "metadata": {},
   "outputs": [],
   "source": [
    "final.dropna(subset=['Group'],inplace=True)"
   ]
  },
  {
   "cell_type": "code",
   "execution_count": 35,
   "metadata": {},
   "outputs": [
    {
     "output_type": "execute_result",
     "data": {
      "text/plain": "Index(['SecurityID', 'KeyDate', 'YieldWorst', 'ModifiedDuration_Plain',\n       'AmtOutstanding', 'Target_G_change', 'YieldWorst_change',\n       'ModifiedDuration_Plain_change', 'Group',\n       'Cluster_average_AmountIssued', 'Cluster_average_Coupon',\n       'Cluster_average_Term', 'Cluster_average_Rating',\n       'Cluster Perecentage of Jr Subordinated Unsecured',\n       'Cluster Perecentage of Secured', 'Cluster Perecentage of Sr Unsecured',\n       'Cluster Perecentage of Subordinated Unsecured',\n       'Cluster Perecentage of 1st Lien Secured',\n       'Cluster Perecentage of 2nd Lien Secured',\n       'Cluster Perecentage of 3rd Lien Secured',\n       'Cluster Perecentage of 1st lien', 'Cluster Perecentage of Auto',\n       'Cluster Perecentage of Basic Materials',\n       'Cluster Perecentage of Communications',\n       'Cluster Perecentage of Consumers', 'Cluster Perecentage of Energy',\n       'Cluster Perecentage of Financials',\n       'Cluster Perecentage of Health Care',\n       'Cluster Perecentage of Industrials',\n       'Cluster Perecentage of Real Estate',\n       'Cluster Perecentage of Technology',\n       'Cluster Perecentage of High grade', 'Cluster Perecentage of Junk',\n       'Cluster Perecentage of Lower medium grade',\n       'Cluster Perecentage of UN',\n       'Cluster Perecentage of Upper medium grade',\n       'Cluster Perecentage of Prime', 'Cluster Perecentage of Long Term',\n       'Cluster Perecentage of Mid Term', 'Cluster Perecentage of Short Term',\n       'Cluster_G_change', 'Cluster_average_YieldWorst_change',\n       'Cluster_average_ModifiedDuration_Plain_change'],\n      dtype='object')"
     },
     "metadata": {},
     "execution_count": 35
    }
   ],
   "source": [
    "final.columns"
   ]
  },
  {
   "cell_type": "code",
   "execution_count": 36,
   "metadata": {},
   "outputs": [],
   "source": [
    "final = final.fillna(0)"
   ]
  },
  {
   "cell_type": "code",
   "execution_count": 37,
   "metadata": {},
   "outputs": [
    {
     "output_type": "execute_result",
     "data": {
      "text/plain": "693666"
     },
     "metadata": {},
     "execution_count": 37
    }
   ],
   "source": [
    "len(final)"
   ]
  },
  {
   "cell_type": "code",
   "execution_count": 38,
   "metadata": {},
   "outputs": [
    {
     "output_type": "execute_result",
     "data": {
      "text/plain": "        SecurityID    KeyDate  YieldWorst  ModifiedDuration_Plain  \\\n108541        64.0 2019-01-07     5.91076                 6.07625   \n108542        64.0 2019-01-14     5.72403                 6.07073   \n108543        64.0 2019-01-21     5.86272                 6.04487   \n108544        64.0 2019-01-28     5.80981                 6.03392   \n108545        64.0 2019-02-04     5.83174                 6.01464   \n108546        64.0 2019-02-11     5.67192                 6.12945   \n108547        64.0 2019-02-18     5.66178                 6.11500   \n108548        64.0 2019-02-25     5.65774                 6.09504   \n\n        AmtOutstanding  Target_G_change  YieldWorst_change  \\\n108541    1.697270e+09           -52.35           -0.42184   \n108542    1.697270e+09           -28.40           -0.18673   \n108543    1.697270e+09            20.04            0.13869   \n108544    1.697270e+09            -0.44           -0.05291   \n108545    1.697270e+09             7.31            0.02193   \n108546    1.697270e+09           -19.37           -0.15982   \n108547    1.697270e+09             0.64           -0.01014   \n108548    1.697270e+09            -7.50           -0.00404   \n\n        ModifiedDuration_Plain_change        Group  \\\n108541                        0.01557  Cluster 107   \n108542                       -0.00552  Cluster 107   \n108543                       -0.02586  Cluster 107   \n108544                       -0.01095  Cluster 107   \n108545                       -0.01928  Cluster 107   \n108546                        0.11481  Cluster 107   \n108547                       -0.01445  Cluster 107   \n108548                       -0.01996  Cluster 107   \n\n        Cluster_average_AmountIssued  ...  \\\n108541                  7.072015e+08  ...   \n108542                  7.072015e+08  ...   \n108543                  7.072015e+08  ...   \n108544                  7.072015e+08  ...   \n108545                  7.072015e+08  ...   \n108546                  7.072015e+08  ...   \n108547                  7.072015e+08  ...   \n108548                  7.072015e+08  ...   \n\n        Cluster Perecentage of Lower medium grade  Cluster Perecentage of UN  \\\n108541                                   0.275591                   0.023622   \n108542                                   0.275591                   0.023622   \n108543                                   0.275591                   0.023622   \n108544                                   0.275591                   0.023622   \n108545                                   0.275591                   0.023622   \n108546                                   0.275591                   0.023622   \n108547                                   0.275591                   0.023622   \n108548                                   0.275591                   0.023622   \n\n        Cluster Perecentage of Upper medium grade  \\\n108541                                   0.149606   \n108542                                   0.149606   \n108543                                   0.149606   \n108544                                   0.149606   \n108545                                   0.149606   \n108546                                   0.149606   \n108547                                   0.149606   \n108548                                   0.149606   \n\n        Cluster Perecentage of Prime  Cluster Perecentage of Long Term  \\\n108541                           0.0                          0.614173   \n108542                           0.0                          0.614173   \n108543                           0.0                          0.614173   \n108544                           0.0                          0.614173   \n108545                           0.0                          0.614173   \n108546                           0.0                          0.614173   \n108547                           0.0                          0.614173   \n108548                           0.0                          0.614173   \n\n        Cluster Perecentage of Mid Term  Cluster Perecentage of Short Term  \\\n108541                         0.362205                           0.023622   \n108542                         0.362205                           0.023622   \n108543                         0.362205                           0.023622   \n108544                         0.362205                           0.023622   \n108545                         0.362205                           0.023622   \n108546                         0.362205                           0.023622   \n108547                         0.362205                           0.023622   \n108548                         0.362205                           0.023622   \n\n        Cluster_G_change  Cluster_average_YieldWorst_change  \\\n108541        -34.446299                          -0.243794   \n108542        -17.687717                          -0.092741   \n108543         14.199528                           0.086752   \n108544         -7.879598                          -0.131993   \n108545         -1.140488                          -0.064050   \n108546        -10.251378                          -0.063695   \n108547         -3.580811                          -0.051835   \n108548         -8.551142                          -0.035551   \n\n        Cluster_average_ModifiedDuration_Plain_change  \n108541                                       0.017360  \n108542                                      -0.013206  \n108543                                      -0.021077  \n108544                                       0.010410  \n108545                                      -0.005123  \n108546                                      -0.008341  \n108547                                      -0.012227  \n108548                                      -0.011600  \n\n[8 rows x 43 columns]",
      "text/html": "<div>\n<style scoped>\n    .dataframe tbody tr th:only-of-type {\n        vertical-align: middle;\n    }\n\n    .dataframe tbody tr th {\n        vertical-align: top;\n    }\n\n    .dataframe thead th {\n        text-align: right;\n    }\n</style>\n<table border=\"1\" class=\"dataframe\">\n  <thead>\n    <tr style=\"text-align: right;\">\n      <th></th>\n      <th>SecurityID</th>\n      <th>KeyDate</th>\n      <th>YieldWorst</th>\n      <th>ModifiedDuration_Plain</th>\n      <th>AmtOutstanding</th>\n      <th>Target_G_change</th>\n      <th>YieldWorst_change</th>\n      <th>ModifiedDuration_Plain_change</th>\n      <th>Group</th>\n      <th>Cluster_average_AmountIssued</th>\n      <th>...</th>\n      <th>Cluster Perecentage of Lower medium grade</th>\n      <th>Cluster Perecentage of UN</th>\n      <th>Cluster Perecentage of Upper medium grade</th>\n      <th>Cluster Perecentage of Prime</th>\n      <th>Cluster Perecentage of Long Term</th>\n      <th>Cluster Perecentage of Mid Term</th>\n      <th>Cluster Perecentage of Short Term</th>\n      <th>Cluster_G_change</th>\n      <th>Cluster_average_YieldWorst_change</th>\n      <th>Cluster_average_ModifiedDuration_Plain_change</th>\n    </tr>\n  </thead>\n  <tbody>\n    <tr>\n      <th>108541</th>\n      <td>64.0</td>\n      <td>2019-01-07</td>\n      <td>5.91076</td>\n      <td>6.07625</td>\n      <td>1.697270e+09</td>\n      <td>-52.35</td>\n      <td>-0.42184</td>\n      <td>0.01557</td>\n      <td>Cluster 107</td>\n      <td>7.072015e+08</td>\n      <td>...</td>\n      <td>0.275591</td>\n      <td>0.023622</td>\n      <td>0.149606</td>\n      <td>0.0</td>\n      <td>0.614173</td>\n      <td>0.362205</td>\n      <td>0.023622</td>\n      <td>-34.446299</td>\n      <td>-0.243794</td>\n      <td>0.017360</td>\n    </tr>\n    <tr>\n      <th>108542</th>\n      <td>64.0</td>\n      <td>2019-01-14</td>\n      <td>5.72403</td>\n      <td>6.07073</td>\n      <td>1.697270e+09</td>\n      <td>-28.40</td>\n      <td>-0.18673</td>\n      <td>-0.00552</td>\n      <td>Cluster 107</td>\n      <td>7.072015e+08</td>\n      <td>...</td>\n      <td>0.275591</td>\n      <td>0.023622</td>\n      <td>0.149606</td>\n      <td>0.0</td>\n      <td>0.614173</td>\n      <td>0.362205</td>\n      <td>0.023622</td>\n      <td>-17.687717</td>\n      <td>-0.092741</td>\n      <td>-0.013206</td>\n    </tr>\n    <tr>\n      <th>108543</th>\n      <td>64.0</td>\n      <td>2019-01-21</td>\n      <td>5.86272</td>\n      <td>6.04487</td>\n      <td>1.697270e+09</td>\n      <td>20.04</td>\n      <td>0.13869</td>\n      <td>-0.02586</td>\n      <td>Cluster 107</td>\n      <td>7.072015e+08</td>\n      <td>...</td>\n      <td>0.275591</td>\n      <td>0.023622</td>\n      <td>0.149606</td>\n      <td>0.0</td>\n      <td>0.614173</td>\n      <td>0.362205</td>\n      <td>0.023622</td>\n      <td>14.199528</td>\n      <td>0.086752</td>\n      <td>-0.021077</td>\n    </tr>\n    <tr>\n      <th>108544</th>\n      <td>64.0</td>\n      <td>2019-01-28</td>\n      <td>5.80981</td>\n      <td>6.03392</td>\n      <td>1.697270e+09</td>\n      <td>-0.44</td>\n      <td>-0.05291</td>\n      <td>-0.01095</td>\n      <td>Cluster 107</td>\n      <td>7.072015e+08</td>\n      <td>...</td>\n      <td>0.275591</td>\n      <td>0.023622</td>\n      <td>0.149606</td>\n      <td>0.0</td>\n      <td>0.614173</td>\n      <td>0.362205</td>\n      <td>0.023622</td>\n      <td>-7.879598</td>\n      <td>-0.131993</td>\n      <td>0.010410</td>\n    </tr>\n    <tr>\n      <th>108545</th>\n      <td>64.0</td>\n      <td>2019-02-04</td>\n      <td>5.83174</td>\n      <td>6.01464</td>\n      <td>1.697270e+09</td>\n      <td>7.31</td>\n      <td>0.02193</td>\n      <td>-0.01928</td>\n      <td>Cluster 107</td>\n      <td>7.072015e+08</td>\n      <td>...</td>\n      <td>0.275591</td>\n      <td>0.023622</td>\n      <td>0.149606</td>\n      <td>0.0</td>\n      <td>0.614173</td>\n      <td>0.362205</td>\n      <td>0.023622</td>\n      <td>-1.140488</td>\n      <td>-0.064050</td>\n      <td>-0.005123</td>\n    </tr>\n    <tr>\n      <th>108546</th>\n      <td>64.0</td>\n      <td>2019-02-11</td>\n      <td>5.67192</td>\n      <td>6.12945</td>\n      <td>1.697270e+09</td>\n      <td>-19.37</td>\n      <td>-0.15982</td>\n      <td>0.11481</td>\n      <td>Cluster 107</td>\n      <td>7.072015e+08</td>\n      <td>...</td>\n      <td>0.275591</td>\n      <td>0.023622</td>\n      <td>0.149606</td>\n      <td>0.0</td>\n      <td>0.614173</td>\n      <td>0.362205</td>\n      <td>0.023622</td>\n      <td>-10.251378</td>\n      <td>-0.063695</td>\n      <td>-0.008341</td>\n    </tr>\n    <tr>\n      <th>108547</th>\n      <td>64.0</td>\n      <td>2019-02-18</td>\n      <td>5.66178</td>\n      <td>6.11500</td>\n      <td>1.697270e+09</td>\n      <td>0.64</td>\n      <td>-0.01014</td>\n      <td>-0.01445</td>\n      <td>Cluster 107</td>\n      <td>7.072015e+08</td>\n      <td>...</td>\n      <td>0.275591</td>\n      <td>0.023622</td>\n      <td>0.149606</td>\n      <td>0.0</td>\n      <td>0.614173</td>\n      <td>0.362205</td>\n      <td>0.023622</td>\n      <td>-3.580811</td>\n      <td>-0.051835</td>\n      <td>-0.012227</td>\n    </tr>\n    <tr>\n      <th>108548</th>\n      <td>64.0</td>\n      <td>2019-02-25</td>\n      <td>5.65774</td>\n      <td>6.09504</td>\n      <td>1.697270e+09</td>\n      <td>-7.50</td>\n      <td>-0.00404</td>\n      <td>-0.01996</td>\n      <td>Cluster 107</td>\n      <td>7.072015e+08</td>\n      <td>...</td>\n      <td>0.275591</td>\n      <td>0.023622</td>\n      <td>0.149606</td>\n      <td>0.0</td>\n      <td>0.614173</td>\n      <td>0.362205</td>\n      <td>0.023622</td>\n      <td>-8.551142</td>\n      <td>-0.035551</td>\n      <td>-0.011600</td>\n    </tr>\n  </tbody>\n</table>\n<p>8 rows × 43 columns</p>\n</div>"
     },
     "metadata": {},
     "execution_count": 38
    }
   ],
   "source": [
    "final[final['SecurityID'] ==64]"
   ]
  },
  {
   "cell_type": "markdown",
   "metadata": {},
   "source": [
    "## Produce Unscaled Security Dummpy"
   ]
  },
  {
   "cell_type": "code",
   "execution_count": 32,
   "metadata": {},
   "outputs": [
    {
     "output_type": "execute_result",
     "data": {
      "text/plain": "   SecurityID                               OfficialName SecurityType  \\\n0          62                        BACR 4.875 08/13/19         Bond   \n1          64                            POST 5 08/15/26         Bond   \n2          69                        ARNDTN 1.5 05/03/22         Bond   \n3          72  RBS 6.1 06/10/2023 Bullet USD SUBORDINATE         Bond   \n4          78                             AER 5 10/01/21         Bond   \n\n  SecuritySubType SecurityBBGType SecurityBBGYellowKey Series SecuritySector  \\\n0            Bond        EURO MTN                 Corp   None     Financials   \n1            Bond  PRIV PLACEMENT                 Corp   None      Consumers   \n2            Bond       EURO-ZONE                 Corp   None    Real Estate   \n3            Bond          GLOBAL                 Corp   None     Financials   \n4            Bond          GLOBAL                 Corp   None     Financials   \n\n     SecurityIndustry       SecuritySubIndustry  ...               Seniority  \\\n0               Banks       Commer Banks Non-US  ...            Sr Unsecured   \n1     Food & Beverage     Food-Misc/Diversified  ...            Sr Unsecured   \n2         Real Estate  Real Estate Oper/Develop  ...            Sr Unsecured   \n3   Diversified Banks  Diversified Banking Inst  ...  Subordinated Unsecured   \n4  Commercial Finance    Finance-Leasing Compan  ...            Sr Unsecured   \n\n    PaymentRank        IsBailIn QuoteSize  AmountIssued MinIncrement  \\\n0  Sr Unsecured               N       100  2.000000e+09       1000.0   \n1  Sr Unsecured  Not Applicable       100  1.750000e+09       1000.0   \n2  Sr Unsecured  Not Applicable       100  6.000000e+08     100000.0   \n3  Subordinated               Y       100  1.000000e+09       1000.0   \n4  Sr Unsecured               N       100  8.000000e+08       1000.0   \n\n   MinPiece                                     BBGDescription Term   RatingSP  \n0   50000.0                                               None   10        NaN  \n1    2000.0                                               None   10  10.000000  \n2  100000.0  COUPON STEP UP PROVISION IF ISSUER IS NOT BBB ...    6        NaN  \n3    2000.0                 Basel III grandfathered instrument   10  13.000000  \n4  150000.0  ISS'D IN EXCH OF 144A/REGS SEC; SEE CUSIP# 007...    6  14.652361  \n\n[5 rows x 50 columns]",
      "text/html": "<div>\n<style scoped>\n    .dataframe tbody tr th:only-of-type {\n        vertical-align: middle;\n    }\n\n    .dataframe tbody tr th {\n        vertical-align: top;\n    }\n\n    .dataframe thead th {\n        text-align: right;\n    }\n</style>\n<table border=\"1\" class=\"dataframe\">\n  <thead>\n    <tr style=\"text-align: right;\">\n      <th></th>\n      <th>SecurityID</th>\n      <th>OfficialName</th>\n      <th>SecurityType</th>\n      <th>SecuritySubType</th>\n      <th>SecurityBBGType</th>\n      <th>SecurityBBGYellowKey</th>\n      <th>Series</th>\n      <th>SecuritySector</th>\n      <th>SecurityIndustry</th>\n      <th>SecuritySubIndustry</th>\n      <th>...</th>\n      <th>Seniority</th>\n      <th>PaymentRank</th>\n      <th>IsBailIn</th>\n      <th>QuoteSize</th>\n      <th>AmountIssued</th>\n      <th>MinIncrement</th>\n      <th>MinPiece</th>\n      <th>BBGDescription</th>\n      <th>Term</th>\n      <th>RatingSP</th>\n    </tr>\n  </thead>\n  <tbody>\n    <tr>\n      <th>0</th>\n      <td>62</td>\n      <td>BACR 4.875 08/13/19</td>\n      <td>Bond</td>\n      <td>Bond</td>\n      <td>EURO MTN</td>\n      <td>Corp</td>\n      <td>None</td>\n      <td>Financials</td>\n      <td>Banks</td>\n      <td>Commer Banks Non-US</td>\n      <td>...</td>\n      <td>Sr Unsecured</td>\n      <td>Sr Unsecured</td>\n      <td>N</td>\n      <td>100</td>\n      <td>2.000000e+09</td>\n      <td>1000.0</td>\n      <td>50000.0</td>\n      <td>None</td>\n      <td>10</td>\n      <td>NaN</td>\n    </tr>\n    <tr>\n      <th>1</th>\n      <td>64</td>\n      <td>POST 5 08/15/26</td>\n      <td>Bond</td>\n      <td>Bond</td>\n      <td>PRIV PLACEMENT</td>\n      <td>Corp</td>\n      <td>None</td>\n      <td>Consumers</td>\n      <td>Food &amp; Beverage</td>\n      <td>Food-Misc/Diversified</td>\n      <td>...</td>\n      <td>Sr Unsecured</td>\n      <td>Sr Unsecured</td>\n      <td>Not Applicable</td>\n      <td>100</td>\n      <td>1.750000e+09</td>\n      <td>1000.0</td>\n      <td>2000.0</td>\n      <td>None</td>\n      <td>10</td>\n      <td>10.000000</td>\n    </tr>\n    <tr>\n      <th>2</th>\n      <td>69</td>\n      <td>ARNDTN 1.5 05/03/22</td>\n      <td>Bond</td>\n      <td>Bond</td>\n      <td>EURO-ZONE</td>\n      <td>Corp</td>\n      <td>None</td>\n      <td>Real Estate</td>\n      <td>Real Estate</td>\n      <td>Real Estate Oper/Develop</td>\n      <td>...</td>\n      <td>Sr Unsecured</td>\n      <td>Sr Unsecured</td>\n      <td>Not Applicable</td>\n      <td>100</td>\n      <td>6.000000e+08</td>\n      <td>100000.0</td>\n      <td>100000.0</td>\n      <td>COUPON STEP UP PROVISION IF ISSUER IS NOT BBB ...</td>\n      <td>6</td>\n      <td>NaN</td>\n    </tr>\n    <tr>\n      <th>3</th>\n      <td>72</td>\n      <td>RBS 6.1 06/10/2023 Bullet USD SUBORDINATE</td>\n      <td>Bond</td>\n      <td>Bond</td>\n      <td>GLOBAL</td>\n      <td>Corp</td>\n      <td>None</td>\n      <td>Financials</td>\n      <td>Diversified Banks</td>\n      <td>Diversified Banking Inst</td>\n      <td>...</td>\n      <td>Subordinated Unsecured</td>\n      <td>Subordinated</td>\n      <td>Y</td>\n      <td>100</td>\n      <td>1.000000e+09</td>\n      <td>1000.0</td>\n      <td>2000.0</td>\n      <td>Basel III grandfathered instrument</td>\n      <td>10</td>\n      <td>13.000000</td>\n    </tr>\n    <tr>\n      <th>4</th>\n      <td>78</td>\n      <td>AER 5 10/01/21</td>\n      <td>Bond</td>\n      <td>Bond</td>\n      <td>GLOBAL</td>\n      <td>Corp</td>\n      <td>None</td>\n      <td>Financials</td>\n      <td>Commercial Finance</td>\n      <td>Finance-Leasing Compan</td>\n      <td>...</td>\n      <td>Sr Unsecured</td>\n      <td>Sr Unsecured</td>\n      <td>N</td>\n      <td>100</td>\n      <td>8.000000e+08</td>\n      <td>1000.0</td>\n      <td>150000.0</td>\n      <td>ISS'D IN EXCH OF 144A/REGS SEC; SEE CUSIP# 007...</td>\n      <td>6</td>\n      <td>14.652361</td>\n    </tr>\n  </tbody>\n</table>\n<p>5 rows × 50 columns</p>\n</div>"
     },
     "metadata": {},
     "execution_count": 32
    }
   ],
   "source": [
    "security_data.head()"
   ]
  },
  {
   "cell_type": "code",
   "execution_count": 33,
   "metadata": {},
   "outputs": [
    {
     "output_type": "execute_result",
     "data": {
      "text/plain": "28976"
     },
     "metadata": {},
     "execution_count": 33
    }
   ],
   "source": [
    "len(security_data)"
   ]
  },
  {
   "cell_type": "code",
   "execution_count": 34,
   "metadata": {},
   "outputs": [
    {
     "output_type": "execute_result",
     "data": {
      "text/plain": "Index(['SecurityID', 'OfficialName', 'SecurityType', 'SecuritySubType',\n       'SecurityBBGType', 'SecurityBBGYellowKey', 'Series', 'SecuritySector',\n       'SecurityIndustry', 'SecuritySubIndustry', 'BBGSecuritySector',\n       'IssuerParent', 'Obligor', 'Ticker', 'EquityTicker', 'Issuer',\n       'ObligorID', 'CountryDomicile', 'CountryRisk', 'CountryIssue',\n       'Currency', 'Coupon', 'CouponType', 'CouponFrequency', 'CouponDayCount',\n       'CreationDate', 'LastModifiedTime', 'IssueDate', 'PricingDate',\n       'MaturityDate', 'IsCallable', 'IsConvertible', 'IsContingent',\n       'IsFactorable', 'IsHybrid', 'IsMaple', 'IsPrivatePlacement',\n       'IsPreliminary', 'IsPerpetual', 'IsJunior', 'Seniority', 'PaymentRank',\n       'IsBailIn', 'QuoteSize', 'AmountIssued', 'MinIncrement', 'MinPiece',\n       'BBGDescription', 'Term', 'RatingSP'],\n      dtype='object')"
     },
     "metadata": {},
     "execution_count": 34
    }
   ],
   "source": [
    "security_data.columns"
   ]
  },
  {
   "cell_type": "code",
   "execution_count": 35,
   "metadata": {},
   "outputs": [
    {
     "output_type": "execute_result",
     "data": {
      "text/plain": "array(['Sr Unsecured', 'Subordinated Unsecured',\n       'Jr Subordinated Unsecured', 'Secured', '1st Lien Secured',\n       '2nd Lien Secured', 'Asset Backed', '3rd Lien Secured', '1st lien',\n       '1.5 Lien Secured'], dtype=object)"
     },
     "metadata": {},
     "execution_count": 35
    }
   ],
   "source": [
    "security_data.Seniority.unique()"
   ]
  },
  {
   "cell_type": "code",
   "execution_count": 36,
   "metadata": {},
   "outputs": [],
   "source": [
    "df = pd.concat([security_data['SecurityID'],pd.get_dummies(security_data.Seniority)],axis=1) "
   ]
  },
  {
   "cell_type": "code",
   "execution_count": 37,
   "metadata": {},
   "outputs": [],
   "source": [
    "df = pd.concat([df,pd.get_dummies(security_data.SecuritySector)],axis=1) "
   ]
  },
  {
   "cell_type": "code",
   "execution_count": 38,
   "metadata": {},
   "outputs": [],
   "source": [
    "df = pd.concat([df,pd.get_dummies(security_data.CountryRisk)],axis=1) "
   ]
  },
  {
   "cell_type": "code",
   "execution_count": 39,
   "metadata": {},
   "outputs": [],
   "source": [
    "df = pd.concat([df,pd.get_dummies(security_data.CouponType)],axis=1) "
   ]
  },
  {
   "cell_type": "code",
   "execution_count": 40,
   "metadata": {},
   "outputs": [
    {
     "output_type": "execute_result",
     "data": {
      "text/plain": "       SecurityID  1.5 Lien Secured  1st Lien Secured  1st lien  \\\n0              62                 0                 0         0   \n1              64                 0                 0         0   \n2              69                 0                 0         0   \n3              72                 0                 0         0   \n4              78                 0                 0         0   \n...           ...               ...               ...       ...   \n28971       72948                 0                 0         0   \n28972       72949                 0                 0         0   \n28973       72950                 0                 0         0   \n28974       72951                 0                 0         0   \n28975       72952                 0                 0         0   \n\n       2nd Lien Secured  3rd Lien Secured  Asset Backed  \\\n0                     0                 0             0   \n1                     0                 0             0   \n2                     0                 0             0   \n3                     0                 0             0   \n4                     0                 0             0   \n...                 ...               ...           ...   \n28971                 0                 0             0   \n28972                 0                 0             0   \n28973                 0                 0             0   \n28974                 0                 0             0   \n28975                 0                 0             0   \n\n       Jr Subordinated Unsecured  Secured  Sr Unsecured  ...  FIXED  \\\n0                              0        0             1  ...      1   \n1                              0        0             1  ...      1   \n2                              0        0             1  ...      1   \n3                              0        0             0  ...      1   \n4                              0        0             1  ...      1   \n...                          ...      ...           ...  ...    ...   \n28971                          0        0             1  ...      1   \n28972                          0        0             1  ...      0   \n28973                          0        0             1  ...      0   \n28974                          1        0             0  ...      0   \n28975                          0        0             0  ...      0   \n\n       FLAT TRADING  FLOATING  FUNGED  Fixed  PAY-IN-KIND  STEP CPN  VARIABLE  \\\n0                 0         0       0      0            0         0         0   \n1                 0         0       0      0            0         0         0   \n2                 0         0       0      0            0         0         0   \n3                 0         0       0      0            0         0         0   \n4                 0         0       0      0            0         0         0   \n...             ...       ...     ...    ...          ...       ...       ...   \n28971             0         0       0      0            0         0         0   \n28972             0         0       0      0            0         0         1   \n28973             0         0       0      0            0         0         1   \n28974             0         0       0      0            0         0         1   \n28975             0         0       0      0            0         0         1   \n\n       WHEN ISSUED  ZERO COUPON  \n0                0            0  \n1                0            0  \n2                0            0  \n3                0            0  \n4                0            0  \n...            ...          ...  \n28971            0            0  \n28972            0            0  \n28973            0            0  \n28974            0            0  \n28975            0            0  \n\n[28976 rows x 141 columns]",
      "text/html": "<div>\n<style scoped>\n    .dataframe tbody tr th:only-of-type {\n        vertical-align: middle;\n    }\n\n    .dataframe tbody tr th {\n        vertical-align: top;\n    }\n\n    .dataframe thead th {\n        text-align: right;\n    }\n</style>\n<table border=\"1\" class=\"dataframe\">\n  <thead>\n    <tr style=\"text-align: right;\">\n      <th></th>\n      <th>SecurityID</th>\n      <th>1.5 Lien Secured</th>\n      <th>1st Lien Secured</th>\n      <th>1st lien</th>\n      <th>2nd Lien Secured</th>\n      <th>3rd Lien Secured</th>\n      <th>Asset Backed</th>\n      <th>Jr Subordinated Unsecured</th>\n      <th>Secured</th>\n      <th>Sr Unsecured</th>\n      <th>...</th>\n      <th>FIXED</th>\n      <th>FLAT TRADING</th>\n      <th>FLOATING</th>\n      <th>FUNGED</th>\n      <th>Fixed</th>\n      <th>PAY-IN-KIND</th>\n      <th>STEP CPN</th>\n      <th>VARIABLE</th>\n      <th>WHEN ISSUED</th>\n      <th>ZERO COUPON</th>\n    </tr>\n  </thead>\n  <tbody>\n    <tr>\n      <th>0</th>\n      <td>62</td>\n      <td>0</td>\n      <td>0</td>\n      <td>0</td>\n      <td>0</td>\n      <td>0</td>\n      <td>0</td>\n      <td>0</td>\n      <td>0</td>\n      <td>1</td>\n      <td>...</td>\n      <td>1</td>\n      <td>0</td>\n      <td>0</td>\n      <td>0</td>\n      <td>0</td>\n      <td>0</td>\n      <td>0</td>\n      <td>0</td>\n      <td>0</td>\n      <td>0</td>\n    </tr>\n    <tr>\n      <th>1</th>\n      <td>64</td>\n      <td>0</td>\n      <td>0</td>\n      <td>0</td>\n      <td>0</td>\n      <td>0</td>\n      <td>0</td>\n      <td>0</td>\n      <td>0</td>\n      <td>1</td>\n      <td>...</td>\n      <td>1</td>\n      <td>0</td>\n      <td>0</td>\n      <td>0</td>\n      <td>0</td>\n      <td>0</td>\n      <td>0</td>\n      <td>0</td>\n      <td>0</td>\n      <td>0</td>\n    </tr>\n    <tr>\n      <th>2</th>\n      <td>69</td>\n      <td>0</td>\n      <td>0</td>\n      <td>0</td>\n      <td>0</td>\n      <td>0</td>\n      <td>0</td>\n      <td>0</td>\n      <td>0</td>\n      <td>1</td>\n      <td>...</td>\n      <td>1</td>\n      <td>0</td>\n      <td>0</td>\n      <td>0</td>\n      <td>0</td>\n      <td>0</td>\n      <td>0</td>\n      <td>0</td>\n      <td>0</td>\n      <td>0</td>\n    </tr>\n    <tr>\n      <th>3</th>\n      <td>72</td>\n      <td>0</td>\n      <td>0</td>\n      <td>0</td>\n      <td>0</td>\n      <td>0</td>\n      <td>0</td>\n      <td>0</td>\n      <td>0</td>\n      <td>0</td>\n      <td>...</td>\n      <td>1</td>\n      <td>0</td>\n      <td>0</td>\n      <td>0</td>\n      <td>0</td>\n      <td>0</td>\n      <td>0</td>\n      <td>0</td>\n      <td>0</td>\n      <td>0</td>\n    </tr>\n    <tr>\n      <th>4</th>\n      <td>78</td>\n      <td>0</td>\n      <td>0</td>\n      <td>0</td>\n      <td>0</td>\n      <td>0</td>\n      <td>0</td>\n      <td>0</td>\n      <td>0</td>\n      <td>1</td>\n      <td>...</td>\n      <td>1</td>\n      <td>0</td>\n      <td>0</td>\n      <td>0</td>\n      <td>0</td>\n      <td>0</td>\n      <td>0</td>\n      <td>0</td>\n      <td>0</td>\n      <td>0</td>\n    </tr>\n    <tr>\n      <th>...</th>\n      <td>...</td>\n      <td>...</td>\n      <td>...</td>\n      <td>...</td>\n      <td>...</td>\n      <td>...</td>\n      <td>...</td>\n      <td>...</td>\n      <td>...</td>\n      <td>...</td>\n      <td>...</td>\n      <td>...</td>\n      <td>...</td>\n      <td>...</td>\n      <td>...</td>\n      <td>...</td>\n      <td>...</td>\n      <td>...</td>\n      <td>...</td>\n      <td>...</td>\n      <td>...</td>\n    </tr>\n    <tr>\n      <th>28971</th>\n      <td>72948</td>\n      <td>0</td>\n      <td>0</td>\n      <td>0</td>\n      <td>0</td>\n      <td>0</td>\n      <td>0</td>\n      <td>0</td>\n      <td>0</td>\n      <td>1</td>\n      <td>...</td>\n      <td>1</td>\n      <td>0</td>\n      <td>0</td>\n      <td>0</td>\n      <td>0</td>\n      <td>0</td>\n      <td>0</td>\n      <td>0</td>\n      <td>0</td>\n      <td>0</td>\n    </tr>\n    <tr>\n      <th>28972</th>\n      <td>72949</td>\n      <td>0</td>\n      <td>0</td>\n      <td>0</td>\n      <td>0</td>\n      <td>0</td>\n      <td>0</td>\n      <td>0</td>\n      <td>0</td>\n      <td>1</td>\n      <td>...</td>\n      <td>0</td>\n      <td>0</td>\n      <td>0</td>\n      <td>0</td>\n      <td>0</td>\n      <td>0</td>\n      <td>0</td>\n      <td>1</td>\n      <td>0</td>\n      <td>0</td>\n    </tr>\n    <tr>\n      <th>28973</th>\n      <td>72950</td>\n      <td>0</td>\n      <td>0</td>\n      <td>0</td>\n      <td>0</td>\n      <td>0</td>\n      <td>0</td>\n      <td>0</td>\n      <td>0</td>\n      <td>1</td>\n      <td>...</td>\n      <td>0</td>\n      <td>0</td>\n      <td>0</td>\n      <td>0</td>\n      <td>0</td>\n      <td>0</td>\n      <td>0</td>\n      <td>1</td>\n      <td>0</td>\n      <td>0</td>\n    </tr>\n    <tr>\n      <th>28974</th>\n      <td>72951</td>\n      <td>0</td>\n      <td>0</td>\n      <td>0</td>\n      <td>0</td>\n      <td>0</td>\n      <td>0</td>\n      <td>1</td>\n      <td>0</td>\n      <td>0</td>\n      <td>...</td>\n      <td>0</td>\n      <td>0</td>\n      <td>0</td>\n      <td>0</td>\n      <td>0</td>\n      <td>0</td>\n      <td>0</td>\n      <td>1</td>\n      <td>0</td>\n      <td>0</td>\n    </tr>\n    <tr>\n      <th>28975</th>\n      <td>72952</td>\n      <td>0</td>\n      <td>0</td>\n      <td>0</td>\n      <td>0</td>\n      <td>0</td>\n      <td>0</td>\n      <td>0</td>\n      <td>0</td>\n      <td>0</td>\n      <td>...</td>\n      <td>0</td>\n      <td>0</td>\n      <td>0</td>\n      <td>0</td>\n      <td>0</td>\n      <td>0</td>\n      <td>0</td>\n      <td>1</td>\n      <td>0</td>\n      <td>0</td>\n    </tr>\n  </tbody>\n</table>\n<p>28976 rows × 141 columns</p>\n</div>"
     },
     "metadata": {},
     "execution_count": 40
    }
   ],
   "source": [
    "df"
   ]
  },
  {
   "cell_type": "code",
   "execution_count": 37,
   "metadata": {},
   "outputs": [],
   "source": [
    "df_unsacled = pd.concat([df,security_data[['MinIncrement','MinPiece','Term','RatingSP']]],axis=1) "
   ]
  },
  {
   "cell_type": "code",
   "execution_count": 39,
   "metadata": {},
   "outputs": [
    {
     "output_type": "execute_result",
     "data": {
      "text/plain": "       SecurityID  1.5 Lien Secured  1st Lien Secured  1st lien  \\\n0              62                 0                 0         0   \n1              64                 0                 0         0   \n2              69                 0                 0         0   \n3              72                 0                 0         0   \n4              78                 0                 0         0   \n...           ...               ...               ...       ...   \n28971       72948                 0                 0         0   \n28972       72949                 0                 0         0   \n28973       72950                 0                 0         0   \n28974       72951                 0                 0         0   \n28975       72952                 0                 0         0   \n\n       2nd Lien Secured  3rd Lien Secured  Asset Backed  \\\n0                     0                 0             0   \n1                     0                 0             0   \n2                     0                 0             0   \n3                     0                 0             0   \n4                     0                 0             0   \n...                 ...               ...           ...   \n28971                 0                 0             0   \n28972                 0                 0             0   \n28973                 0                 0             0   \n28974                 0                 0             0   \n28975                 0                 0             0   \n\n       Jr Subordinated Unsecured  Secured  Sr Unsecured  ...  Fixed  \\\n0                              0        0             1  ...      0   \n1                              0        0             1  ...      0   \n2                              0        0             1  ...      0   \n3                              0        0             0  ...      0   \n4                              0        0             1  ...      0   \n...                          ...      ...           ...  ...    ...   \n28971                          0        0             1  ...      0   \n28972                          0        0             1  ...      0   \n28973                          0        0             1  ...      0   \n28974                          1        0             0  ...      0   \n28975                          0        0             0  ...      0   \n\n       PAY-IN-KIND  STEP CPN  VARIABLE  WHEN ISSUED  ZERO COUPON  \\\n0                0         0         0            0            0   \n1                0         0         0            0            0   \n2                0         0         0            0            0   \n3                0         0         0            0            0   \n4                0         0         0            0            0   \n...            ...       ...       ...          ...          ...   \n28971            0         0         0            0            0   \n28972            0         0         1            0            0   \n28973            0         0         1            0            0   \n28974            0         0         1            0            0   \n28975            0         0         1            0            0   \n\n       MinIncrement  MinPiece  Term   RatingSP  \n0            1000.0   50000.0    10        NaN  \n1            1000.0    2000.0    10  10.000000  \n2          100000.0  100000.0     6        NaN  \n3            1000.0    2000.0    10  13.000000  \n4            1000.0  150000.0     6  14.652361  \n...             ...       ...   ...        ...  \n28971        1000.0  200000.0     3        NaN  \n28972        1000.0  200000.0   100        NaN  \n28973        1000.0  200000.0   100        NaN  \n28974      200000.0  200000.0   100        NaN  \n28975        1000.0  200000.0   100        NaN  \n\n[28976 rows x 145 columns]",
      "text/html": "<div>\n<style scoped>\n    .dataframe tbody tr th:only-of-type {\n        vertical-align: middle;\n    }\n\n    .dataframe tbody tr th {\n        vertical-align: top;\n    }\n\n    .dataframe thead th {\n        text-align: right;\n    }\n</style>\n<table border=\"1\" class=\"dataframe\">\n  <thead>\n    <tr style=\"text-align: right;\">\n      <th></th>\n      <th>SecurityID</th>\n      <th>1.5 Lien Secured</th>\n      <th>1st Lien Secured</th>\n      <th>1st lien</th>\n      <th>2nd Lien Secured</th>\n      <th>3rd Lien Secured</th>\n      <th>Asset Backed</th>\n      <th>Jr Subordinated Unsecured</th>\n      <th>Secured</th>\n      <th>Sr Unsecured</th>\n      <th>...</th>\n      <th>Fixed</th>\n      <th>PAY-IN-KIND</th>\n      <th>STEP CPN</th>\n      <th>VARIABLE</th>\n      <th>WHEN ISSUED</th>\n      <th>ZERO COUPON</th>\n      <th>MinIncrement</th>\n      <th>MinPiece</th>\n      <th>Term</th>\n      <th>RatingSP</th>\n    </tr>\n  </thead>\n  <tbody>\n    <tr>\n      <th>0</th>\n      <td>62</td>\n      <td>0</td>\n      <td>0</td>\n      <td>0</td>\n      <td>0</td>\n      <td>0</td>\n      <td>0</td>\n      <td>0</td>\n      <td>0</td>\n      <td>1</td>\n      <td>...</td>\n      <td>0</td>\n      <td>0</td>\n      <td>0</td>\n      <td>0</td>\n      <td>0</td>\n      <td>0</td>\n      <td>1000.0</td>\n      <td>50000.0</td>\n      <td>10</td>\n      <td>NaN</td>\n    </tr>\n    <tr>\n      <th>1</th>\n      <td>64</td>\n      <td>0</td>\n      <td>0</td>\n      <td>0</td>\n      <td>0</td>\n      <td>0</td>\n      <td>0</td>\n      <td>0</td>\n      <td>0</td>\n      <td>1</td>\n      <td>...</td>\n      <td>0</td>\n      <td>0</td>\n      <td>0</td>\n      <td>0</td>\n      <td>0</td>\n      <td>0</td>\n      <td>1000.0</td>\n      <td>2000.0</td>\n      <td>10</td>\n      <td>10.000000</td>\n    </tr>\n    <tr>\n      <th>2</th>\n      <td>69</td>\n      <td>0</td>\n      <td>0</td>\n      <td>0</td>\n      <td>0</td>\n      <td>0</td>\n      <td>0</td>\n      <td>0</td>\n      <td>0</td>\n      <td>1</td>\n      <td>...</td>\n      <td>0</td>\n      <td>0</td>\n      <td>0</td>\n      <td>0</td>\n      <td>0</td>\n      <td>0</td>\n      <td>100000.0</td>\n      <td>100000.0</td>\n      <td>6</td>\n      <td>NaN</td>\n    </tr>\n    <tr>\n      <th>3</th>\n      <td>72</td>\n      <td>0</td>\n      <td>0</td>\n      <td>0</td>\n      <td>0</td>\n      <td>0</td>\n      <td>0</td>\n      <td>0</td>\n      <td>0</td>\n      <td>0</td>\n      <td>...</td>\n      <td>0</td>\n      <td>0</td>\n      <td>0</td>\n      <td>0</td>\n      <td>0</td>\n      <td>0</td>\n      <td>1000.0</td>\n      <td>2000.0</td>\n      <td>10</td>\n      <td>13.000000</td>\n    </tr>\n    <tr>\n      <th>4</th>\n      <td>78</td>\n      <td>0</td>\n      <td>0</td>\n      <td>0</td>\n      <td>0</td>\n      <td>0</td>\n      <td>0</td>\n      <td>0</td>\n      <td>0</td>\n      <td>1</td>\n      <td>...</td>\n      <td>0</td>\n      <td>0</td>\n      <td>0</td>\n      <td>0</td>\n      <td>0</td>\n      <td>0</td>\n      <td>1000.0</td>\n      <td>150000.0</td>\n      <td>6</td>\n      <td>14.652361</td>\n    </tr>\n    <tr>\n      <th>...</th>\n      <td>...</td>\n      <td>...</td>\n      <td>...</td>\n      <td>...</td>\n      <td>...</td>\n      <td>...</td>\n      <td>...</td>\n      <td>...</td>\n      <td>...</td>\n      <td>...</td>\n      <td>...</td>\n      <td>...</td>\n      <td>...</td>\n      <td>...</td>\n      <td>...</td>\n      <td>...</td>\n      <td>...</td>\n      <td>...</td>\n      <td>...</td>\n      <td>...</td>\n      <td>...</td>\n    </tr>\n    <tr>\n      <th>28971</th>\n      <td>72948</td>\n      <td>0</td>\n      <td>0</td>\n      <td>0</td>\n      <td>0</td>\n      <td>0</td>\n      <td>0</td>\n      <td>0</td>\n      <td>0</td>\n      <td>1</td>\n      <td>...</td>\n      <td>0</td>\n      <td>0</td>\n      <td>0</td>\n      <td>0</td>\n      <td>0</td>\n      <td>0</td>\n      <td>1000.0</td>\n      <td>200000.0</td>\n      <td>3</td>\n      <td>NaN</td>\n    </tr>\n    <tr>\n      <th>28972</th>\n      <td>72949</td>\n      <td>0</td>\n      <td>0</td>\n      <td>0</td>\n      <td>0</td>\n      <td>0</td>\n      <td>0</td>\n      <td>0</td>\n      <td>0</td>\n      <td>1</td>\n      <td>...</td>\n      <td>0</td>\n      <td>0</td>\n      <td>0</td>\n      <td>1</td>\n      <td>0</td>\n      <td>0</td>\n      <td>1000.0</td>\n      <td>200000.0</td>\n      <td>100</td>\n      <td>NaN</td>\n    </tr>\n    <tr>\n      <th>28973</th>\n      <td>72950</td>\n      <td>0</td>\n      <td>0</td>\n      <td>0</td>\n      <td>0</td>\n      <td>0</td>\n      <td>0</td>\n      <td>0</td>\n      <td>0</td>\n      <td>1</td>\n      <td>...</td>\n      <td>0</td>\n      <td>0</td>\n      <td>0</td>\n      <td>1</td>\n      <td>0</td>\n      <td>0</td>\n      <td>1000.0</td>\n      <td>200000.0</td>\n      <td>100</td>\n      <td>NaN</td>\n    </tr>\n    <tr>\n      <th>28974</th>\n      <td>72951</td>\n      <td>0</td>\n      <td>0</td>\n      <td>0</td>\n      <td>0</td>\n      <td>0</td>\n      <td>0</td>\n      <td>1</td>\n      <td>0</td>\n      <td>0</td>\n      <td>...</td>\n      <td>0</td>\n      <td>0</td>\n      <td>0</td>\n      <td>1</td>\n      <td>0</td>\n      <td>0</td>\n      <td>200000.0</td>\n      <td>200000.0</td>\n      <td>100</td>\n      <td>NaN</td>\n    </tr>\n    <tr>\n      <th>28975</th>\n      <td>72952</td>\n      <td>0</td>\n      <td>0</td>\n      <td>0</td>\n      <td>0</td>\n      <td>0</td>\n      <td>0</td>\n      <td>0</td>\n      <td>0</td>\n      <td>0</td>\n      <td>...</td>\n      <td>0</td>\n      <td>0</td>\n      <td>0</td>\n      <td>1</td>\n      <td>0</td>\n      <td>0</td>\n      <td>1000.0</td>\n      <td>200000.0</td>\n      <td>100</td>\n      <td>NaN</td>\n    </tr>\n  </tbody>\n</table>\n<p>28976 rows × 145 columns</p>\n</div>"
     },
     "metadata": {},
     "execution_count": 39
    }
   ],
   "source": [
    "df_unsacled"
   ]
  },
  {
   "cell_type": "code",
   "execution_count": 40,
   "metadata": {},
   "outputs": [],
   "source": [
    "df_unsacled.to_csv('Security_info_post_dummy.csv')"
   ]
  },
  {
   "cell_type": "code",
   "execution_count": 38,
   "metadata": {},
   "outputs": [],
   "source": [
    "##Market query\n",
    "Market_query = \"select * from market_data_weekly\"\n",
    "Market_data = pd.read_sql(Market_query,con=db_connection)"
   ]
  },
  {
   "cell_type": "code",
   "execution_count": 39,
   "metadata": {},
   "outputs": [],
   "source": [
    "Market_data = Market_data.fillna(0)"
   ]
  },
  {
   "cell_type": "code",
   "execution_count": 40,
   "metadata": {},
   "outputs": [
    {
     "output_type": "execute_result",
     "data": {
      "text/plain": "       KeyDate  skew_change  swap_change  vix_change  Close_change  \\\n0   2019-01-02    -0.004584    -0.004966   -0.086546      0.001269   \n1   2019-01-03    -0.042981     0.000000    0.096038     -0.024757   \n2   2019-01-04    -0.006951    -0.012668   -0.159921      0.034336   \n3   2019-01-07     0.019024     0.005443    0.000935      0.007010   \n4   2019-01-08     0.015322     0.020495   -0.043458      0.009695   \n..         ...          ...          ...         ...           ...   \n410 2020-08-18     0.000000     0.000000    0.000000      0.002303   \n411 2020-08-19     0.000000     0.000000    0.000000     -0.004404   \n412 2020-08-20     0.000000     0.000000    0.000000      0.003159   \n413 2020-08-21     0.000000     0.000000    0.000000      0.003441   \n414 2020-08-24     0.000000     0.000000    0.000000      0.010044   \n\n     slope_change  skew_change_Weekly  swap_change_Weekly  vix_change_Weekly  \\\n0       -0.238095            0.000000                 0.0            0.00000   \n1        0.062500            0.000000                 0.0            0.00000   \n2        0.000000            0.000000                 0.0            0.00000   \n3        0.000000            0.000000                 0.0            0.00000   \n4       -0.117647           -0.004034                 0.0           -0.03859   \n..            ...                 ...                 ...                ...   \n410      0.000000            0.000000                 0.0            0.00000   \n411      0.000000            0.000000                 0.0            0.00000   \n412      0.000000            0.000000                 0.0            0.00000   \n413      0.000000            0.000000                 0.0            0.00000   \n414      0.000000            0.000000                 0.0            0.00000   \n\n     Close_change_Weekly  slope_change_Weekly  \n0               0.000000            -0.026617  \n1               0.000000            -0.024643  \n2               0.000000            -0.034643  \n3               0.000000            -0.025119  \n4               0.005511            -0.058648  \n..                   ...                  ...  \n410             0.003358             0.000000  \n411            -0.000322             0.000000  \n412             0.000719             0.000000  \n413             0.001442             0.000000  \n414             0.002908             0.000000  \n\n[415 rows x 11 columns]",
      "text/html": "<div>\n<style scoped>\n    .dataframe tbody tr th:only-of-type {\n        vertical-align: middle;\n    }\n\n    .dataframe tbody tr th {\n        vertical-align: top;\n    }\n\n    .dataframe thead th {\n        text-align: right;\n    }\n</style>\n<table border=\"1\" class=\"dataframe\">\n  <thead>\n    <tr style=\"text-align: right;\">\n      <th></th>\n      <th>KeyDate</th>\n      <th>skew_change</th>\n      <th>swap_change</th>\n      <th>vix_change</th>\n      <th>Close_change</th>\n      <th>slope_change</th>\n      <th>skew_change_Weekly</th>\n      <th>swap_change_Weekly</th>\n      <th>vix_change_Weekly</th>\n      <th>Close_change_Weekly</th>\n      <th>slope_change_Weekly</th>\n    </tr>\n  </thead>\n  <tbody>\n    <tr>\n      <th>0</th>\n      <td>2019-01-02</td>\n      <td>-0.004584</td>\n      <td>-0.004966</td>\n      <td>-0.086546</td>\n      <td>0.001269</td>\n      <td>-0.238095</td>\n      <td>0.000000</td>\n      <td>0.0</td>\n      <td>0.00000</td>\n      <td>0.000000</td>\n      <td>-0.026617</td>\n    </tr>\n    <tr>\n      <th>1</th>\n      <td>2019-01-03</td>\n      <td>-0.042981</td>\n      <td>0.000000</td>\n      <td>0.096038</td>\n      <td>-0.024757</td>\n      <td>0.062500</td>\n      <td>0.000000</td>\n      <td>0.0</td>\n      <td>0.00000</td>\n      <td>0.000000</td>\n      <td>-0.024643</td>\n    </tr>\n    <tr>\n      <th>2</th>\n      <td>2019-01-04</td>\n      <td>-0.006951</td>\n      <td>-0.012668</td>\n      <td>-0.159921</td>\n      <td>0.034336</td>\n      <td>0.000000</td>\n      <td>0.000000</td>\n      <td>0.0</td>\n      <td>0.00000</td>\n      <td>0.000000</td>\n      <td>-0.034643</td>\n    </tr>\n    <tr>\n      <th>3</th>\n      <td>2019-01-07</td>\n      <td>0.019024</td>\n      <td>0.005443</td>\n      <td>0.000935</td>\n      <td>0.007010</td>\n      <td>0.000000</td>\n      <td>0.000000</td>\n      <td>0.0</td>\n      <td>0.00000</td>\n      <td>0.000000</td>\n      <td>-0.025119</td>\n    </tr>\n    <tr>\n      <th>4</th>\n      <td>2019-01-08</td>\n      <td>0.015322</td>\n      <td>0.020495</td>\n      <td>-0.043458</td>\n      <td>0.009695</td>\n      <td>-0.117647</td>\n      <td>-0.004034</td>\n      <td>0.0</td>\n      <td>-0.03859</td>\n      <td>0.005511</td>\n      <td>-0.058648</td>\n    </tr>\n    <tr>\n      <th>...</th>\n      <td>...</td>\n      <td>...</td>\n      <td>...</td>\n      <td>...</td>\n      <td>...</td>\n      <td>...</td>\n      <td>...</td>\n      <td>...</td>\n      <td>...</td>\n      <td>...</td>\n      <td>...</td>\n    </tr>\n    <tr>\n      <th>410</th>\n      <td>2020-08-18</td>\n      <td>0.000000</td>\n      <td>0.000000</td>\n      <td>0.000000</td>\n      <td>0.002303</td>\n      <td>0.000000</td>\n      <td>0.000000</td>\n      <td>0.0</td>\n      <td>0.00000</td>\n      <td>0.003358</td>\n      <td>0.000000</td>\n    </tr>\n    <tr>\n      <th>411</th>\n      <td>2020-08-19</td>\n      <td>0.000000</td>\n      <td>0.000000</td>\n      <td>0.000000</td>\n      <td>-0.004404</td>\n      <td>0.000000</td>\n      <td>0.000000</td>\n      <td>0.0</td>\n      <td>0.00000</td>\n      <td>-0.000322</td>\n      <td>0.000000</td>\n    </tr>\n    <tr>\n      <th>412</th>\n      <td>2020-08-20</td>\n      <td>0.000000</td>\n      <td>0.000000</td>\n      <td>0.000000</td>\n      <td>0.003159</td>\n      <td>0.000000</td>\n      <td>0.000000</td>\n      <td>0.0</td>\n      <td>0.00000</td>\n      <td>0.000719</td>\n      <td>0.000000</td>\n    </tr>\n    <tr>\n      <th>413</th>\n      <td>2020-08-21</td>\n      <td>0.000000</td>\n      <td>0.000000</td>\n      <td>0.000000</td>\n      <td>0.003441</td>\n      <td>0.000000</td>\n      <td>0.000000</td>\n      <td>0.0</td>\n      <td>0.00000</td>\n      <td>0.001442</td>\n      <td>0.000000</td>\n    </tr>\n    <tr>\n      <th>414</th>\n      <td>2020-08-24</td>\n      <td>0.000000</td>\n      <td>0.000000</td>\n      <td>0.000000</td>\n      <td>0.010044</td>\n      <td>0.000000</td>\n      <td>0.000000</td>\n      <td>0.0</td>\n      <td>0.00000</td>\n      <td>0.002908</td>\n      <td>0.000000</td>\n    </tr>\n  </tbody>\n</table>\n<p>415 rows × 11 columns</p>\n</div>"
     },
     "metadata": {},
     "execution_count": 40
    }
   ],
   "source": [
    "Market_data"
   ]
  },
  {
   "cell_type": "code",
   "execution_count": 41,
   "metadata": {},
   "outputs": [],
   "source": [
    "Market_data = Market_data[['KeyDate','skew_change_Weekly','swap_change_Weekly','vix_change_Weekly','Close_change_Weekly','slope_change_Weekly']]"
   ]
  },
  {
   "cell_type": "code",
   "execution_count": 42,
   "metadata": {},
   "outputs": [],
   "source": [
    "final_change_data2 = final.merge(Market_data,on=['KeyDate'],how='left')"
   ]
  },
  {
   "cell_type": "code",
   "execution_count": 43,
   "metadata": {},
   "outputs": [
    {
     "output_type": "execute_result",
     "data": {
      "text/plain": "        SecurityID    KeyDate  YieldWorst  ModifiedDuration_Plain  \\\n0          56535.0 2019-01-07    26.58950                 1.83121   \n1          56535.0 2019-01-14    21.54340                 1.86436   \n2          56535.0 2019-01-21    18.51400                 1.88186   \n3          56535.0 2019-01-28    17.52680                 1.87785   \n4          56535.0 2019-02-04    17.76590                 1.85843   \n...            ...        ...         ...                     ...   \n693661        64.0 2019-12-02     3.47623                 5.60152   \n693662        64.0 2019-12-09     3.39679                 5.58468   \n693663        64.0 2019-12-16     3.06738                 5.57198   \n693664        64.0 2019-12-23     2.96338                 5.55818   \n693665        64.0 2019-12-30     2.87120                 5.55172   \n\n        AmtOutstanding  Target_G_change  YieldWorst_change  \\\n0         3.000000e+08          -49.590           -0.36610   \n1         3.000000e+08         -512.500           -5.04610   \n2         3.000000e+08         -299.500           -3.02940   \n3         3.000000e+08          -90.430           -0.98720   \n4         3.000000e+08           27.600            0.23910   \n...                ...              ...                ...   \n693661    1.697270e+09            2.754            0.01824   \n693662    1.697270e+09           -6.099           -0.07944   \n693663    1.697270e+09          -33.788           -0.32941   \n693664    1.697270e+09           -6.522           -0.10400   \n693665    1.697270e+09          -13.190           -0.09218   \n\n        ModifiedDuration_Plain_change       Group  \\\n0                            -0.01231  Cluster 83   \n1                             0.03315  Cluster 83   \n2                             0.01750  Cluster 83   \n3                            -0.00401  Cluster 83   \n4                            -0.01942  Cluster 83   \n...                               ...         ...   \n693661                       -0.01851  Cluster 88   \n693662                       -0.01684  Cluster 88   \n693663                       -0.01270  Cluster 88   \n693664                       -0.01380  Cluster 88   \n693665                       -0.00646  Cluster 88   \n\n        Cluster_average_AmountIssued  ...  Cluster Perecentage of Mid Term  \\\n0                       6.380922e+08  ...                         0.288889   \n1                       6.380922e+08  ...                         0.288889   \n2                       6.380922e+08  ...                         0.288889   \n3                       6.380922e+08  ...                         0.288889   \n4                       6.380922e+08  ...                         0.288889   \n...                              ...  ...                              ...   \n693661                  6.511981e+08  ...                         0.287129   \n693662                  6.511981e+08  ...                         0.287129   \n693663                  6.511981e+08  ...                         0.287129   \n693664                  6.511981e+08  ...                         0.287129   \n693665                  6.511981e+08  ...                         0.287129   \n\n        Cluster Perecentage of Short Term  Cluster_G_change  \\\n0                                0.211111         -8.323034   \n1                                0.211111        -10.901124   \n2                                0.211111         -7.869888   \n3                                0.211111         -7.062360   \n4                                0.211111         -5.068888   \n...                                   ...               ...   \n693661                           0.148515          4.676652   \n693662                           0.148515         -7.185492   \n693663                           0.148515         -6.449757   \n693664                           0.148515         -5.008364   \n693665                           0.148515         -4.029546   \n\n        Cluster_average_YieldWorst_change  \\\n0                               -0.005768   \n1                               -0.052095   \n2                               -0.113064   \n3                               -0.115870   \n4                               -0.094566   \n...                                   ...   \n693661                           0.057565   \n693662                          -0.083447   \n693663                          -0.023533   \n693664                          -0.081422   \n693665                          -0.002552   \n\n        Cluster_average_ModifiedDuration_Plain_change  skew_change_Weekly  \\\n0                                           -0.018838            0.000000   \n1                                           -0.024014            0.019833   \n2                                            0.002135            0.000000   \n3                                           -0.005511           -0.011853   \n4                                           -0.006133            0.008622   \n...                                               ...                 ...   \n693661                                      -0.026117            0.001454   \n693662                                      -0.005194            0.016157   \n693663                                      -0.023271            0.011185   \n693664                                      -0.006762            0.000777   \n693665                                      -0.014288           -0.019079   \n\n        swap_change_Weekly  vix_change_Weekly  Close_change_Weekly  \\\n0                 0.000000           0.000000             0.000000   \n1                 0.004032          -0.022044             0.002582   \n2                 0.000000           0.000000             0.000000   \n3                -0.002704           0.016029            -0.001987   \n4                -0.003730          -0.035228             0.006073   \n...                    ...                ...                  ...   \n693661            0.000000           0.041562             0.000247   \n693662            0.005062           0.016261             0.001432   \n693663            0.006814          -0.051634             0.003521   \n693664            0.000000           0.007677             0.002035   \n693665            0.000000           0.035267             0.000010   \n\n        slope_change_Weekly  \n0                 -0.025119  \n1                  0.019248  \n2                  0.000000  \n3                 -0.021487  \n4                  0.060556  \n...                     ...  \n693661             0.077514  \n693662            -0.012690  \n693663             0.050238  \n693664             0.039974  \n693665             0.022584  \n\n[693666 rows x 48 columns]",
      "text/html": "<div>\n<style scoped>\n    .dataframe tbody tr th:only-of-type {\n        vertical-align: middle;\n    }\n\n    .dataframe tbody tr th {\n        vertical-align: top;\n    }\n\n    .dataframe thead th {\n        text-align: right;\n    }\n</style>\n<table border=\"1\" class=\"dataframe\">\n  <thead>\n    <tr style=\"text-align: right;\">\n      <th></th>\n      <th>SecurityID</th>\n      <th>KeyDate</th>\n      <th>YieldWorst</th>\n      <th>ModifiedDuration_Plain</th>\n      <th>AmtOutstanding</th>\n      <th>Target_G_change</th>\n      <th>YieldWorst_change</th>\n      <th>ModifiedDuration_Plain_change</th>\n      <th>Group</th>\n      <th>Cluster_average_AmountIssued</th>\n      <th>...</th>\n      <th>Cluster Perecentage of Mid Term</th>\n      <th>Cluster Perecentage of Short Term</th>\n      <th>Cluster_G_change</th>\n      <th>Cluster_average_YieldWorst_change</th>\n      <th>Cluster_average_ModifiedDuration_Plain_change</th>\n      <th>skew_change_Weekly</th>\n      <th>swap_change_Weekly</th>\n      <th>vix_change_Weekly</th>\n      <th>Close_change_Weekly</th>\n      <th>slope_change_Weekly</th>\n    </tr>\n  </thead>\n  <tbody>\n    <tr>\n      <th>0</th>\n      <td>56535.0</td>\n      <td>2019-01-07</td>\n      <td>26.58950</td>\n      <td>1.83121</td>\n      <td>3.000000e+08</td>\n      <td>-49.590</td>\n      <td>-0.36610</td>\n      <td>-0.01231</td>\n      <td>Cluster 83</td>\n      <td>6.380922e+08</td>\n      <td>...</td>\n      <td>0.288889</td>\n      <td>0.211111</td>\n      <td>-8.323034</td>\n      <td>-0.005768</td>\n      <td>-0.018838</td>\n      <td>0.000000</td>\n      <td>0.000000</td>\n      <td>0.000000</td>\n      <td>0.000000</td>\n      <td>-0.025119</td>\n    </tr>\n    <tr>\n      <th>1</th>\n      <td>56535.0</td>\n      <td>2019-01-14</td>\n      <td>21.54340</td>\n      <td>1.86436</td>\n      <td>3.000000e+08</td>\n      <td>-512.500</td>\n      <td>-5.04610</td>\n      <td>0.03315</td>\n      <td>Cluster 83</td>\n      <td>6.380922e+08</td>\n      <td>...</td>\n      <td>0.288889</td>\n      <td>0.211111</td>\n      <td>-10.901124</td>\n      <td>-0.052095</td>\n      <td>-0.024014</td>\n      <td>0.019833</td>\n      <td>0.004032</td>\n      <td>-0.022044</td>\n      <td>0.002582</td>\n      <td>0.019248</td>\n    </tr>\n    <tr>\n      <th>2</th>\n      <td>56535.0</td>\n      <td>2019-01-21</td>\n      <td>18.51400</td>\n      <td>1.88186</td>\n      <td>3.000000e+08</td>\n      <td>-299.500</td>\n      <td>-3.02940</td>\n      <td>0.01750</td>\n      <td>Cluster 83</td>\n      <td>6.380922e+08</td>\n      <td>...</td>\n      <td>0.288889</td>\n      <td>0.211111</td>\n      <td>-7.869888</td>\n      <td>-0.113064</td>\n      <td>0.002135</td>\n      <td>0.000000</td>\n      <td>0.000000</td>\n      <td>0.000000</td>\n      <td>0.000000</td>\n      <td>0.000000</td>\n    </tr>\n    <tr>\n      <th>3</th>\n      <td>56535.0</td>\n      <td>2019-01-28</td>\n      <td>17.52680</td>\n      <td>1.87785</td>\n      <td>3.000000e+08</td>\n      <td>-90.430</td>\n      <td>-0.98720</td>\n      <td>-0.00401</td>\n      <td>Cluster 83</td>\n      <td>6.380922e+08</td>\n      <td>...</td>\n      <td>0.288889</td>\n      <td>0.211111</td>\n      <td>-7.062360</td>\n      <td>-0.115870</td>\n      <td>-0.005511</td>\n      <td>-0.011853</td>\n      <td>-0.002704</td>\n      <td>0.016029</td>\n      <td>-0.001987</td>\n      <td>-0.021487</td>\n    </tr>\n    <tr>\n      <th>4</th>\n      <td>56535.0</td>\n      <td>2019-02-04</td>\n      <td>17.76590</td>\n      <td>1.85843</td>\n      <td>3.000000e+08</td>\n      <td>27.600</td>\n      <td>0.23910</td>\n      <td>-0.01942</td>\n      <td>Cluster 83</td>\n      <td>6.380922e+08</td>\n      <td>...</td>\n      <td>0.288889</td>\n      <td>0.211111</td>\n      <td>-5.068888</td>\n      <td>-0.094566</td>\n      <td>-0.006133</td>\n      <td>0.008622</td>\n      <td>-0.003730</td>\n      <td>-0.035228</td>\n      <td>0.006073</td>\n      <td>0.060556</td>\n    </tr>\n    <tr>\n      <th>...</th>\n      <td>...</td>\n      <td>...</td>\n      <td>...</td>\n      <td>...</td>\n      <td>...</td>\n      <td>...</td>\n      <td>...</td>\n      <td>...</td>\n      <td>...</td>\n      <td>...</td>\n      <td>...</td>\n      <td>...</td>\n      <td>...</td>\n      <td>...</td>\n      <td>...</td>\n      <td>...</td>\n      <td>...</td>\n      <td>...</td>\n      <td>...</td>\n      <td>...</td>\n      <td>...</td>\n    </tr>\n    <tr>\n      <th>693661</th>\n      <td>64.0</td>\n      <td>2019-12-02</td>\n      <td>3.47623</td>\n      <td>5.60152</td>\n      <td>1.697270e+09</td>\n      <td>2.754</td>\n      <td>0.01824</td>\n      <td>-0.01851</td>\n      <td>Cluster 88</td>\n      <td>6.511981e+08</td>\n      <td>...</td>\n      <td>0.287129</td>\n      <td>0.148515</td>\n      <td>4.676652</td>\n      <td>0.057565</td>\n      <td>-0.026117</td>\n      <td>0.001454</td>\n      <td>0.000000</td>\n      <td>0.041562</td>\n      <td>0.000247</td>\n      <td>0.077514</td>\n    </tr>\n    <tr>\n      <th>693662</th>\n      <td>64.0</td>\n      <td>2019-12-09</td>\n      <td>3.39679</td>\n      <td>5.58468</td>\n      <td>1.697270e+09</td>\n      <td>-6.099</td>\n      <td>-0.07944</td>\n      <td>-0.01684</td>\n      <td>Cluster 88</td>\n      <td>6.511981e+08</td>\n      <td>...</td>\n      <td>0.287129</td>\n      <td>0.148515</td>\n      <td>-7.185492</td>\n      <td>-0.083447</td>\n      <td>-0.005194</td>\n      <td>0.016157</td>\n      <td>0.005062</td>\n      <td>0.016261</td>\n      <td>0.001432</td>\n      <td>-0.012690</td>\n    </tr>\n    <tr>\n      <th>693663</th>\n      <td>64.0</td>\n      <td>2019-12-16</td>\n      <td>3.06738</td>\n      <td>5.57198</td>\n      <td>1.697270e+09</td>\n      <td>-33.788</td>\n      <td>-0.32941</td>\n      <td>-0.01270</td>\n      <td>Cluster 88</td>\n      <td>6.511981e+08</td>\n      <td>...</td>\n      <td>0.287129</td>\n      <td>0.148515</td>\n      <td>-6.449757</td>\n      <td>-0.023533</td>\n      <td>-0.023271</td>\n      <td>0.011185</td>\n      <td>0.006814</td>\n      <td>-0.051634</td>\n      <td>0.003521</td>\n      <td>0.050238</td>\n    </tr>\n    <tr>\n      <th>693664</th>\n      <td>64.0</td>\n      <td>2019-12-23</td>\n      <td>2.96338</td>\n      <td>5.55818</td>\n      <td>1.697270e+09</td>\n      <td>-6.522</td>\n      <td>-0.10400</td>\n      <td>-0.01380</td>\n      <td>Cluster 88</td>\n      <td>6.511981e+08</td>\n      <td>...</td>\n      <td>0.287129</td>\n      <td>0.148515</td>\n      <td>-5.008364</td>\n      <td>-0.081422</td>\n      <td>-0.006762</td>\n      <td>0.000777</td>\n      <td>0.000000</td>\n      <td>0.007677</td>\n      <td>0.002035</td>\n      <td>0.039974</td>\n    </tr>\n    <tr>\n      <th>693665</th>\n      <td>64.0</td>\n      <td>2019-12-30</td>\n      <td>2.87120</td>\n      <td>5.55172</td>\n      <td>1.697270e+09</td>\n      <td>-13.190</td>\n      <td>-0.09218</td>\n      <td>-0.00646</td>\n      <td>Cluster 88</td>\n      <td>6.511981e+08</td>\n      <td>...</td>\n      <td>0.287129</td>\n      <td>0.148515</td>\n      <td>-4.029546</td>\n      <td>-0.002552</td>\n      <td>-0.014288</td>\n      <td>-0.019079</td>\n      <td>0.000000</td>\n      <td>0.035267</td>\n      <td>0.000010</td>\n      <td>0.022584</td>\n    </tr>\n  </tbody>\n</table>\n<p>693666 rows × 48 columns</p>\n</div>"
     },
     "metadata": {},
     "execution_count": 43
    }
   ],
   "source": [
    "final_change_data2.fillna(0)"
   ]
  },
  {
   "cell_type": "code",
   "execution_count": 44,
   "metadata": {},
   "outputs": [],
   "source": [
    "final_change_data2.to_csv('Security_and_market_movement_unscaled_cluster_weekly_125_v2.csv')"
   ]
  },
  {
   "cell_type": "code",
   "execution_count": 45,
   "metadata": {},
   "outputs": [
    {
     "output_type": "execute_result",
     "data": {
      "text/plain": "693666"
     },
     "metadata": {},
     "execution_count": 45
    }
   ],
   "source": [
    "len(final_change_data2)"
   ]
  },
  {
   "cell_type": "code",
   "execution_count": null,
   "metadata": {},
   "outputs": [],
   "source": []
  }
 ],
 "metadata": {
  "kernelspec": {
   "name": "python_defaultSpec_1600469850783",
   "display_name": "Python 3.6.8 64-bit"
  }
 },
 "nbformat": 4,
 "nbformat_minor": 4
}