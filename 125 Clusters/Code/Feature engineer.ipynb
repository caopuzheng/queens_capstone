{
 "cells": [
  {
   "cell_type": "code",
   "execution_count": 1,
   "metadata": {},
   "outputs": [],
   "source": [
    "import pandas as pd\n",
    "import mysql.connector as sql\n",
    "import math"
   ]
  },
  {
   "cell_type": "code",
   "execution_count": 2,
   "metadata": {},
   "outputs": [],
   "source": [
    "def get_all_bonds_in_list(start_date,end_date):\n",
    "    print('start to get data from {} to {}'.format(start_date,end_date))\n",
    "    #####Create engine:\n",
    "    db_connection = sql.connect(host='0.0.0.0', database='bond_db', user='root', password='password')\n",
    "    ##security query\n",
    "    security_query = \"select * from security_info\"\n",
    "    ##read data\n",
    "    security_data = pd.read_sql(security_query,con=db_connection)\n",
    "    security_data = security_data[['SecurityID','Currency','IssueDate','MaturityDate']]\n",
    "    ##price query\n",
    "    price_query = \"select * from bond_spread where  KeyDate between '{}' and '{}'\".format(start_date,end_date)\n",
    "    #####read bond_data from db:\n",
    "    final_data = pd.read_sql(price_query,con=db_connection)\n",
    "    final_data = final_data.merge(security_data, on=['SecurityID'], how='left')\n",
    "    final_data.dropna(subset=[\"ZSpread\"],inplace=True)\n",
    "    final_data_1 = final_data[final_data.Currency == 'USD']\n",
    "    final_data = final_data_1.groupby('SecurityID')\n",
    "    bonds_list = [final_data.get_group(x) for x in final_data.groups]\n",
    "    db_connection.close()\n",
    "    return bonds_list"
   ]
  },
  {
   "cell_type": "code",
   "execution_count": 3,
   "metadata": {},
   "outputs": [],
   "source": [
    "def merge_left_right(data1,data2):\n",
    "    temp_data = data1.append(data2)\n",
    "    return temp_data\n",
    "\n",
    "def merg_sort(list_data):\n",
    "    list_length = len(list_data)\n",
    "    if list_length == 1:\n",
    "        output = list_data[0][2]\n",
    "        return output\n",
    "    else:\n",
    "        mid_point = math.floor(list_length/2)\n",
    "        #print(len(list_data[:mid_point]))\n",
    "        left = list_data[mid_point:]\n",
    "        right = list_data[:mid_point]\n",
    "        return merge_left_right(merg_sort(left), merg_sort(right))"
   ]
  },
  {
   "cell_type": "code",
   "execution_count": 4,
   "metadata": {},
   "outputs": [],
   "source": [
    "silding_windows = [['2018-12-31','2019-02-28'],['2019-03-01','2019-04-30'],\n",
    "                   ['2019-05-01','2019-06-30'],['2019-07-01','2019-08-31'],\n",
    "                   ['2019-09-01','2019-10-31'],['2019-11-01','2019-12-31']]"
   ]
  },
  {
   "cell_type": "markdown",
   "metadata": {},
   "source": [
    "## Cluster data"
   ]
  },
  {
   "cell_type": "code",
   "execution_count": 5,
   "metadata": {},
   "outputs": [],
   "source": [
    "cluster_data = pd.read_csv('Cluster_group_125.csv')"
   ]
  },
  {
   "cell_type": "code",
   "execution_count": 6,
   "metadata": {},
   "outputs": [],
   "source": [
    "cluster_data.drop(columns=['Unnamed: 0'],inplace=True)"
   ]
  },
  {
   "cell_type": "code",
   "execution_count": 7,
   "metadata": {},
   "outputs": [
    {
     "output_type": "execute_result",
     "data": {
      "text/plain": "   SecurityID 2019-02-28   2019-04-30   2019-06-30  2019-08-31   2019-10-31  \\\n0      3051.0  Cluster 0   Cluster 85   Cluster 70  Cluster 82   Cluster 99   \n1      3704.0  Cluster 0  Cluster 119    Cluster 0  Cluster 12   Cluster 65   \n2      4121.0  Cluster 0   Cluster 52   Cluster 53  Cluster 72    Cluster 6   \n3      4130.0  Cluster 0   Cluster 76  Cluster 124  Cluster 89   Cluster 10   \n4      4259.0  Cluster 0   Cluster 95   Cluster 28  Cluster 86  Cluster 105   \n\n    2019-12-31  \n0   Cluster 91  \n1   Cluster 87  \n2   Cluster 91  \n3  Cluster 109  \n4   Cluster 76  ",
      "text/html": "<div>\n<style scoped>\n    .dataframe tbody tr th:only-of-type {\n        vertical-align: middle;\n    }\n\n    .dataframe tbody tr th {\n        vertical-align: top;\n    }\n\n    .dataframe thead th {\n        text-align: right;\n    }\n</style>\n<table border=\"1\" class=\"dataframe\">\n  <thead>\n    <tr style=\"text-align: right;\">\n      <th></th>\n      <th>SecurityID</th>\n      <th>2019-02-28</th>\n      <th>2019-04-30</th>\n      <th>2019-06-30</th>\n      <th>2019-08-31</th>\n      <th>2019-10-31</th>\n      <th>2019-12-31</th>\n    </tr>\n  </thead>\n  <tbody>\n    <tr>\n      <th>0</th>\n      <td>3051.0</td>\n      <td>Cluster 0</td>\n      <td>Cluster 85</td>\n      <td>Cluster 70</td>\n      <td>Cluster 82</td>\n      <td>Cluster 99</td>\n      <td>Cluster 91</td>\n    </tr>\n    <tr>\n      <th>1</th>\n      <td>3704.0</td>\n      <td>Cluster 0</td>\n      <td>Cluster 119</td>\n      <td>Cluster 0</td>\n      <td>Cluster 12</td>\n      <td>Cluster 65</td>\n      <td>Cluster 87</td>\n    </tr>\n    <tr>\n      <th>2</th>\n      <td>4121.0</td>\n      <td>Cluster 0</td>\n      <td>Cluster 52</td>\n      <td>Cluster 53</td>\n      <td>Cluster 72</td>\n      <td>Cluster 6</td>\n      <td>Cluster 91</td>\n    </tr>\n    <tr>\n      <th>3</th>\n      <td>4130.0</td>\n      <td>Cluster 0</td>\n      <td>Cluster 76</td>\n      <td>Cluster 124</td>\n      <td>Cluster 89</td>\n      <td>Cluster 10</td>\n      <td>Cluster 109</td>\n    </tr>\n    <tr>\n      <th>4</th>\n      <td>4259.0</td>\n      <td>Cluster 0</td>\n      <td>Cluster 95</td>\n      <td>Cluster 28</td>\n      <td>Cluster 86</td>\n      <td>Cluster 105</td>\n      <td>Cluster 76</td>\n    </tr>\n  </tbody>\n</table>\n</div>"
     },
     "metadata": {},
     "execution_count": 7
    }
   ],
   "source": [
    "cluster_data.head()"
   ]
  },
  {
   "cell_type": "code",
   "execution_count": 29,
   "metadata": {},
   "outputs": [],
   "source": [
    "def get_the_weekly_spread_windows(bonds_list):\n",
    "    bond_spread_list = []\n",
    "    for bond in bonds_list:\n",
    "        try:\n",
    "            bond['KeyDate'] = pd.to_datetime(bond['KeyDate'])\n",
    "            bond = bond.set_index('KeyDate')\n",
    "            logic = {'GSpread'  : 'last',\n",
    "                    'ModifiedDuration_Plain':'last',\n",
    "                    'YieldWorst':'last',\n",
    "                    'AmtOutstanding':'last',\n",
    "                 'SecurityID':'first'}\n",
    "            offset = pd.offsets.timedelta(days=-6)\n",
    "            d = bond.resample('W', loffset=offset).apply(logic)\n",
    "            d['G_change_Percent']=d.GSpread.pct_change()\n",
    "            d['G_change'] = d.GSpread.diff()\n",
    "            d['ModifiedDuration_Plain_change']=d.ModifiedDuration_Plain.pct_change()\n",
    "            d['YieldWorst_change']=d.YieldWorst.pct_change()\n",
    "            d.dropna(subset=['G_change_Percent'],inplace = True)\n",
    "            d.reset_index(inplace=True)\n",
    "            bond_spread_list.append((len(d.GSpread.values),bond.SecurityID.iloc[0],d))\n",
    "        except:\n",
    "            pass\n",
    "    return bond_spread_list"
   ]
  },
  {
   "cell_type": "code",
   "execution_count": 9,
   "metadata": {},
   "outputs": [],
   "source": [
    "def Average_daily_Gspread_change_cluster(window,cluster_data):\n",
    "    ####Grab Data###\n",
    "    bond_list1 = get_all_bonds_in_list(window[0],window[1])\n",
    "    ####G Change ###\n",
    "    daily_spread_1 = get_the_weekly_spread_windows(bond_list1)\n",
    "    new_data = merg_sort(daily_spread_1)\n",
    "    new_data.dropna(inplace=True)\n",
    "    data1 = new_data.merge(cluster_data[['SecurityID',window[1]]],on=['SecurityID'],how ='left')\n",
    "    temp = data1.groupby(by=['KeyDate',window[1]],as_index=False).mean()\n",
    "    data1['Group'] = data1[window[1]] \n",
    "    data1.drop(columns=[window[1]],inplace=True)\n",
    "    temp['Group'] = temp[window[1]]\n",
    "    end = temp[['Group','KeyDate','G_change_Percent','YieldWorst_change','ModifiedDuration_Plain_change']]\n",
    "    end = end.rename(columns={'G_change_Percent':'Cluster_G_change','YieldWorst_change':'Cluster_average_YieldWorst_change','ModifiedDuration_Plain_change':'Cluster_average_ModifiedDuration_Plain_change'})\n",
    "    return end,data1"
   ]
  },
  {
   "cell_type": "code",
   "execution_count": 10,
   "metadata": {},
   "outputs": [],
   "source": [
    "db_connection = sql.connect(host='0.0.0.0', database='bond_db', user='root', password='password')\n",
    "security_query = \"select * from security_info\"\n",
    "security_data = pd.read_sql(security_query,con=db_connection)"
   ]
  },
  {
   "cell_type": "markdown",
   "metadata": {},
   "source": [
    "## END"
   ]
  },
  {
   "cell_type": "markdown",
   "metadata": {},
   "source": [
    "## Read Your Rating data"
   ]
  },
  {
   "cell_type": "code",
   "execution_count": 11,
   "metadata": {},
   "outputs": [],
   "source": [
    "def term(x,y):\n",
    "    try:\n",
    "        bond_term = int(x.year) - int(y.year)\n",
    "    except:\n",
    "        bond_term = 100\n",
    "    return bond_term"
   ]
  },
  {
   "cell_type": "code",
   "execution_count": 12,
   "metadata": {},
   "outputs": [],
   "source": [
    "def Type_term(x):\n",
    "    if x >= 10:\n",
    "        return 'Long Term'\n",
    "    elif x < 10 and x >= 5:\n",
    "        return  'Mid Term'\n",
    "    else:\n",
    "        return 'Short Term'"
   ]
  },
  {
   "cell_type": "code",
   "execution_count": 13,
   "metadata": {},
   "outputs": [],
   "source": [
    "def assign_rating(x):\n",
    "    x = float(x)\n",
    "    if math.isnan(x):\n",
    "        return 'UN'\n",
    "    else:\n",
    "        if x < 0:\n",
    "            return 'NR'\n",
    "        elif x<=13.5:\n",
    "            return \"Junk\"\n",
    "        elif x>13.5 and x<=16.5:\n",
    "            return 'Lower medium grade'\n",
    "        elif x>16.5 and x<=19.5:\n",
    "            return 'Upper medium grade'\n",
    "        elif x>19.5 and x<=22.5:\n",
    "            return 'High grade'\n",
    "        else:\n",
    "            return 'Prime'"
   ]
  },
  {
   "cell_type": "code",
   "execution_count": 14,
   "metadata": {},
   "outputs": [],
   "source": [
    "db_connection = sql.connect(host='0.0.0.0', database='bond_db', user='root', password='password')\n",
    "rating_query = \"select * from rating\"\n",
    "rating_data = pd.read_sql(rating_query,con=db_connection)"
   ]
  },
  {
   "cell_type": "code",
   "execution_count": 15,
   "metadata": {},
   "outputs": [],
   "source": [
    "rating_data = rating_data.groupby(by=['SecurityID'],as_index=False).mean()"
   ]
  },
  {
   "cell_type": "code",
   "execution_count": 16,
   "metadata": {},
   "outputs": [],
   "source": [
    "security_data['Term'] = security_data.apply(lambda x:term(x.MaturityDate,x.IssueDate),axis=1)"
   ]
  },
  {
   "cell_type": "code",
   "execution_count": 17,
   "metadata": {},
   "outputs": [],
   "source": [
    "security_data['Term'] = security_data['Term'].fillna(100)\n",
    "security_data['Type of Term'] = security_data['Term'].apply(Type_term)"
   ]
  },
  {
   "cell_type": "code",
   "execution_count": 18,
   "metadata": {},
   "outputs": [],
   "source": [
    "security_data = security_data.merge(rating_data,on =['SecurityID'],how='left')"
   ]
  },
  {
   "cell_type": "code",
   "execution_count": 19,
   "metadata": {},
   "outputs": [
    {
     "output_type": "execute_result",
     "data": {
      "text/plain": "   SecurityID                               OfficialName SecurityType  \\\n0          62                        BACR 4.875 08/13/19         Bond   \n1          64                            POST 5 08/15/26         Bond   \n2          69                        ARNDTN 1.5 05/03/22         Bond   \n3          72  RBS 6.1 06/10/2023 Bullet USD SUBORDINATE         Bond   \n4          78                             AER 5 10/01/21         Bond   \n\n  SecuritySubType SecurityBBGType SecurityBBGYellowKey Series SecuritySector  \\\n0            Bond        EURO MTN                 Corp   None     Financials   \n1            Bond  PRIV PLACEMENT                 Corp   None      Consumers   \n2            Bond       EURO-ZONE                 Corp   None    Real Estate   \n3            Bond          GLOBAL                 Corp   None     Financials   \n4            Bond          GLOBAL                 Corp   None     Financials   \n\n     SecurityIndustry       SecuritySubIndustry  ...   PaymentRank  \\\n0               Banks       Commer Banks Non-US  ...  Sr Unsecured   \n1     Food & Beverage     Food-Misc/Diversified  ...  Sr Unsecured   \n2         Real Estate  Real Estate Oper/Develop  ...  Sr Unsecured   \n3   Diversified Banks  Diversified Banking Inst  ...  Subordinated   \n4  Commercial Finance    Finance-Leasing Compan  ...  Sr Unsecured   \n\n         IsBailIn QuoteSize  AmountIssued MinIncrement  MinPiece  \\\n0               N       100  2.000000e+09       1000.0   50000.0   \n1  Not Applicable       100  1.750000e+09       1000.0    2000.0   \n2  Not Applicable       100  6.000000e+08     100000.0  100000.0   \n3               Y       100  1.000000e+09       1000.0    2000.0   \n4               N       100  8.000000e+08       1000.0  150000.0   \n\n                                      BBGDescription Term Type of Term  \\\n0                                               None   10    Long Term   \n1                                               None   10    Long Term   \n2  COUPON STEP UP PROVISION IF ISSUER IS NOT BBB ...    6     Mid Term   \n3                 Basel III grandfathered instrument   10    Long Term   \n4  ISS'D IN EXCH OF 144A/REGS SEC; SEE CUSIP# 007...    6     Mid Term   \n\n    RatingSP  \n0        NaN  \n1  10.000000  \n2        NaN  \n3  13.000000  \n4  14.652361  \n\n[5 rows x 51 columns]",
      "text/html": "<div>\n<style scoped>\n    .dataframe tbody tr th:only-of-type {\n        vertical-align: middle;\n    }\n\n    .dataframe tbody tr th {\n        vertical-align: top;\n    }\n\n    .dataframe thead th {\n        text-align: right;\n    }\n</style>\n<table border=\"1\" class=\"dataframe\">\n  <thead>\n    <tr style=\"text-align: right;\">\n      <th></th>\n      <th>SecurityID</th>\n      <th>OfficialName</th>\n      <th>SecurityType</th>\n      <th>SecuritySubType</th>\n      <th>SecurityBBGType</th>\n      <th>SecurityBBGYellowKey</th>\n      <th>Series</th>\n      <th>SecuritySector</th>\n      <th>SecurityIndustry</th>\n      <th>SecuritySubIndustry</th>\n      <th>...</th>\n      <th>PaymentRank</th>\n      <th>IsBailIn</th>\n      <th>QuoteSize</th>\n      <th>AmountIssued</th>\n      <th>MinIncrement</th>\n      <th>MinPiece</th>\n      <th>BBGDescription</th>\n      <th>Term</th>\n      <th>Type of Term</th>\n      <th>RatingSP</th>\n    </tr>\n  </thead>\n  <tbody>\n    <tr>\n      <th>0</th>\n      <td>62</td>\n      <td>BACR 4.875 08/13/19</td>\n      <td>Bond</td>\n      <td>Bond</td>\n      <td>EURO MTN</td>\n      <td>Corp</td>\n      <td>None</td>\n      <td>Financials</td>\n      <td>Banks</td>\n      <td>Commer Banks Non-US</td>\n      <td>...</td>\n      <td>Sr Unsecured</td>\n      <td>N</td>\n      <td>100</td>\n      <td>2.000000e+09</td>\n      <td>1000.0</td>\n      <td>50000.0</td>\n      <td>None</td>\n      <td>10</td>\n      <td>Long Term</td>\n      <td>NaN</td>\n    </tr>\n    <tr>\n      <th>1</th>\n      <td>64</td>\n      <td>POST 5 08/15/26</td>\n      <td>Bond</td>\n      <td>Bond</td>\n      <td>PRIV PLACEMENT</td>\n      <td>Corp</td>\n      <td>None</td>\n      <td>Consumers</td>\n      <td>Food &amp; Beverage</td>\n      <td>Food-Misc/Diversified</td>\n      <td>...</td>\n      <td>Sr Unsecured</td>\n      <td>Not Applicable</td>\n      <td>100</td>\n      <td>1.750000e+09</td>\n      <td>1000.0</td>\n      <td>2000.0</td>\n      <td>None</td>\n      <td>10</td>\n      <td>Long Term</td>\n      <td>10.000000</td>\n    </tr>\n    <tr>\n      <th>2</th>\n      <td>69</td>\n      <td>ARNDTN 1.5 05/03/22</td>\n      <td>Bond</td>\n      <td>Bond</td>\n      <td>EURO-ZONE</td>\n      <td>Corp</td>\n      <td>None</td>\n      <td>Real Estate</td>\n      <td>Real Estate</td>\n      <td>Real Estate Oper/Develop</td>\n      <td>...</td>\n      <td>Sr Unsecured</td>\n      <td>Not Applicable</td>\n      <td>100</td>\n      <td>6.000000e+08</td>\n      <td>100000.0</td>\n      <td>100000.0</td>\n      <td>COUPON STEP UP PROVISION IF ISSUER IS NOT BBB ...</td>\n      <td>6</td>\n      <td>Mid Term</td>\n      <td>NaN</td>\n    </tr>\n    <tr>\n      <th>3</th>\n      <td>72</td>\n      <td>RBS 6.1 06/10/2023 Bullet USD SUBORDINATE</td>\n      <td>Bond</td>\n      <td>Bond</td>\n      <td>GLOBAL</td>\n      <td>Corp</td>\n      <td>None</td>\n      <td>Financials</td>\n      <td>Diversified Banks</td>\n      <td>Diversified Banking Inst</td>\n      <td>...</td>\n      <td>Subordinated</td>\n      <td>Y</td>\n      <td>100</td>\n      <td>1.000000e+09</td>\n      <td>1000.0</td>\n      <td>2000.0</td>\n      <td>Basel III grandfathered instrument</td>\n      <td>10</td>\n      <td>Long Term</td>\n      <td>13.000000</td>\n    </tr>\n    <tr>\n      <th>4</th>\n      <td>78</td>\n      <td>AER 5 10/01/21</td>\n      <td>Bond</td>\n      <td>Bond</td>\n      <td>GLOBAL</td>\n      <td>Corp</td>\n      <td>None</td>\n      <td>Financials</td>\n      <td>Commercial Finance</td>\n      <td>Finance-Leasing Compan</td>\n      <td>...</td>\n      <td>Sr Unsecured</td>\n      <td>N</td>\n      <td>100</td>\n      <td>8.000000e+08</td>\n      <td>1000.0</td>\n      <td>150000.0</td>\n      <td>ISS'D IN EXCH OF 144A/REGS SEC; SEE CUSIP# 007...</td>\n      <td>6</td>\n      <td>Mid Term</td>\n      <td>14.652361</td>\n    </tr>\n  </tbody>\n</table>\n<p>5 rows × 51 columns</p>\n</div>"
     },
     "metadata": {},
     "execution_count": 19
    }
   ],
   "source": [
    "security_data.head()"
   ]
  },
  {
   "cell_type": "code",
   "execution_count": 20,
   "metadata": {},
   "outputs": [],
   "source": [
    "security_data['Rating'] = security_data['RatingSP'].apply(assign_rating)"
   ]
  },
  {
   "cell_type": "code",
   "execution_count": 21,
   "metadata": {},
   "outputs": [
    {
     "output_type": "execute_result",
     "data": {
      "text/plain": "   SecurityID                               OfficialName SecurityType  \\\n0          62                        BACR 4.875 08/13/19         Bond   \n1          64                            POST 5 08/15/26         Bond   \n2          69                        ARNDTN 1.5 05/03/22         Bond   \n3          72  RBS 6.1 06/10/2023 Bullet USD SUBORDINATE         Bond   \n4          78                             AER 5 10/01/21         Bond   \n\n  SecuritySubType SecurityBBGType SecurityBBGYellowKey Series SecuritySector  \\\n0            Bond        EURO MTN                 Corp   None     Financials   \n1            Bond  PRIV PLACEMENT                 Corp   None      Consumers   \n2            Bond       EURO-ZONE                 Corp   None    Real Estate   \n3            Bond          GLOBAL                 Corp   None     Financials   \n4            Bond          GLOBAL                 Corp   None     Financials   \n\n     SecurityIndustry       SecuritySubIndustry  ...        IsBailIn  \\\n0               Banks       Commer Banks Non-US  ...               N   \n1     Food & Beverage     Food-Misc/Diversified  ...  Not Applicable   \n2         Real Estate  Real Estate Oper/Develop  ...  Not Applicable   \n3   Diversified Banks  Diversified Banking Inst  ...               Y   \n4  Commercial Finance    Finance-Leasing Compan  ...               N   \n\n  QuoteSize  AmountIssued MinIncrement  MinPiece  \\\n0       100  2.000000e+09       1000.0   50000.0   \n1       100  1.750000e+09       1000.0    2000.0   \n2       100  6.000000e+08     100000.0  100000.0   \n3       100  1.000000e+09       1000.0    2000.0   \n4       100  8.000000e+08       1000.0  150000.0   \n\n                                      BBGDescription  Term Type of Term  \\\n0                                               None    10    Long Term   \n1                                               None    10    Long Term   \n2  COUPON STEP UP PROVISION IF ISSUER IS NOT BBB ...     6     Mid Term   \n3                 Basel III grandfathered instrument    10    Long Term   \n4  ISS'D IN EXCH OF 144A/REGS SEC; SEE CUSIP# 007...     6     Mid Term   \n\n    RatingSP              Rating  \n0        NaN                  UN  \n1  10.000000                Junk  \n2        NaN                  UN  \n3  13.000000                Junk  \n4  14.652361  Lower medium grade  \n\n[5 rows x 52 columns]",
      "text/html": "<div>\n<style scoped>\n    .dataframe tbody tr th:only-of-type {\n        vertical-align: middle;\n    }\n\n    .dataframe tbody tr th {\n        vertical-align: top;\n    }\n\n    .dataframe thead th {\n        text-align: right;\n    }\n</style>\n<table border=\"1\" class=\"dataframe\">\n  <thead>\n    <tr style=\"text-align: right;\">\n      <th></th>\n      <th>SecurityID</th>\n      <th>OfficialName</th>\n      <th>SecurityType</th>\n      <th>SecuritySubType</th>\n      <th>SecurityBBGType</th>\n      <th>SecurityBBGYellowKey</th>\n      <th>Series</th>\n      <th>SecuritySector</th>\n      <th>SecurityIndustry</th>\n      <th>SecuritySubIndustry</th>\n      <th>...</th>\n      <th>IsBailIn</th>\n      <th>QuoteSize</th>\n      <th>AmountIssued</th>\n      <th>MinIncrement</th>\n      <th>MinPiece</th>\n      <th>BBGDescription</th>\n      <th>Term</th>\n      <th>Type of Term</th>\n      <th>RatingSP</th>\n      <th>Rating</th>\n    </tr>\n  </thead>\n  <tbody>\n    <tr>\n      <th>0</th>\n      <td>62</td>\n      <td>BACR 4.875 08/13/19</td>\n      <td>Bond</td>\n      <td>Bond</td>\n      <td>EURO MTN</td>\n      <td>Corp</td>\n      <td>None</td>\n      <td>Financials</td>\n      <td>Banks</td>\n      <td>Commer Banks Non-US</td>\n      <td>...</td>\n      <td>N</td>\n      <td>100</td>\n      <td>2.000000e+09</td>\n      <td>1000.0</td>\n      <td>50000.0</td>\n      <td>None</td>\n      <td>10</td>\n      <td>Long Term</td>\n      <td>NaN</td>\n      <td>UN</td>\n    </tr>\n    <tr>\n      <th>1</th>\n      <td>64</td>\n      <td>POST 5 08/15/26</td>\n      <td>Bond</td>\n      <td>Bond</td>\n      <td>PRIV PLACEMENT</td>\n      <td>Corp</td>\n      <td>None</td>\n      <td>Consumers</td>\n      <td>Food &amp; Beverage</td>\n      <td>Food-Misc/Diversified</td>\n      <td>...</td>\n      <td>Not Applicable</td>\n      <td>100</td>\n      <td>1.750000e+09</td>\n      <td>1000.0</td>\n      <td>2000.0</td>\n      <td>None</td>\n      <td>10</td>\n      <td>Long Term</td>\n      <td>10.000000</td>\n      <td>Junk</td>\n    </tr>\n    <tr>\n      <th>2</th>\n      <td>69</td>\n      <td>ARNDTN 1.5 05/03/22</td>\n      <td>Bond</td>\n      <td>Bond</td>\n      <td>EURO-ZONE</td>\n      <td>Corp</td>\n      <td>None</td>\n      <td>Real Estate</td>\n      <td>Real Estate</td>\n      <td>Real Estate Oper/Develop</td>\n      <td>...</td>\n      <td>Not Applicable</td>\n      <td>100</td>\n      <td>6.000000e+08</td>\n      <td>100000.0</td>\n      <td>100000.0</td>\n      <td>COUPON STEP UP PROVISION IF ISSUER IS NOT BBB ...</td>\n      <td>6</td>\n      <td>Mid Term</td>\n      <td>NaN</td>\n      <td>UN</td>\n    </tr>\n    <tr>\n      <th>3</th>\n      <td>72</td>\n      <td>RBS 6.1 06/10/2023 Bullet USD SUBORDINATE</td>\n      <td>Bond</td>\n      <td>Bond</td>\n      <td>GLOBAL</td>\n      <td>Corp</td>\n      <td>None</td>\n      <td>Financials</td>\n      <td>Diversified Banks</td>\n      <td>Diversified Banking Inst</td>\n      <td>...</td>\n      <td>Y</td>\n      <td>100</td>\n      <td>1.000000e+09</td>\n      <td>1000.0</td>\n      <td>2000.0</td>\n      <td>Basel III grandfathered instrument</td>\n      <td>10</td>\n      <td>Long Term</td>\n      <td>13.000000</td>\n      <td>Junk</td>\n    </tr>\n    <tr>\n      <th>4</th>\n      <td>78</td>\n      <td>AER 5 10/01/21</td>\n      <td>Bond</td>\n      <td>Bond</td>\n      <td>GLOBAL</td>\n      <td>Corp</td>\n      <td>None</td>\n      <td>Financials</td>\n      <td>Commercial Finance</td>\n      <td>Finance-Leasing Compan</td>\n      <td>...</td>\n      <td>N</td>\n      <td>100</td>\n      <td>8.000000e+08</td>\n      <td>1000.0</td>\n      <td>150000.0</td>\n      <td>ISS'D IN EXCH OF 144A/REGS SEC; SEE CUSIP# 007...</td>\n      <td>6</td>\n      <td>Mid Term</td>\n      <td>14.652361</td>\n      <td>Lower medium grade</td>\n    </tr>\n  </tbody>\n</table>\n<p>5 rows × 52 columns</p>\n</div>"
     },
     "metadata": {},
     "execution_count": 21
    }
   ],
   "source": [
    "security_data.head()"
   ]
  },
  {
   "cell_type": "code",
   "execution_count": 22,
   "metadata": {},
   "outputs": [],
   "source": [
    "def combine_data(List1,num_of_clusters):\n",
    "    final = []\n",
    "    length = len(List1)\n",
    "    for j in range(0,length):   \n",
    "        for i in range(0,num_of_clusters):\n",
    "            if i == 0:\n",
    "                f = List1[j].loc['Cluster {}'.format(i)].T.head(1).reset_index().iloc[:,1:]\n",
    "                f['Group'] ='Cluster {}'.format(i)\n",
    "            else:\n",
    "                temp = List1[j].loc['Cluster {}'.format(i)].T.head(1).reset_index().iloc[:,1:]\n",
    "                temp['Group'] ='Cluster {}'.format(i)\n",
    "                f = f.merge(temp,how='outer').fillna(0)\n",
    "        final.append(f)\n",
    "    for i in range(0,len(final)):\n",
    "        if i == 0:\n",
    "            f_data = final[i]\n",
    "        else:\n",
    "            f_data = f_data.merge(final[i],on='Group',how = 'left')\n",
    "    return f_data"
   ]
  },
  {
   "cell_type": "code",
   "execution_count": 23,
   "metadata": {},
   "outputs": [],
   "source": [
    "def get_the_cluster_data(security_info,cluster_data,windows):\n",
    "    print('start to get data for {}'.format(windows[1]))\n",
    "    security_info = security_data[['SecurityID','SecuritySector','AmountIssued','Coupon','Seniority','Term','Type of Term','RatingSP','Rating']]\n",
    "    a = security_info.merge(cluster_data[['SecurityID',windows[1]]],on=['SecurityID'],how='left')\n",
    "    a.dropna(subset=[windows[1]],inplace=True)\n",
    "    a = a.rename(columns={windows[1]:'Group'})\n",
    "    c = a.groupby(by=['Group','Seniority']).count()\n",
    "    s= a.groupby(by=['Group','SecuritySector']).count()\t\n",
    "    r = a.groupby(by=['Group','Rating']).count()\n",
    "    t = a.groupby(by=['Group','Type of Term']).count()\n",
    "    d = a.groupby(by=['Group']).count()\n",
    "    e = c/d\n",
    "    e1 = s/d\n",
    "    e2 = r/d\n",
    "    e3 = t/d\n",
    "    list1 = [e,e1,e2,e3]\n",
    "    f = combine_data(list1,125)\n",
    "    b = a.groupby(by=['Group'],as_index=False).mean()\n",
    "    b.drop(columns=['SecurityID'],inplace=True)\n",
    "    b = b.rename(columns={'AmountIssued':'Cluster_average_AmountIssued','Coupon':'Cluster_average_Coupon','Term':'Cluster_average_Term','RatingSP':'Cluster_average_Rating'})\n",
    "    window_cluster_data = b.merge(f,on='Group',how = 'left')\n",
    "    return window_cluster_data\n"
   ]
  },
  {
   "cell_type": "code",
   "execution_count": 24,
   "metadata": {},
   "outputs": [],
   "source": [
    "from sqlalchemy import create_engine"
   ]
  },
  {
   "cell_type": "code",
   "execution_count": 30,
   "metadata": {
    "tags": []
   },
   "outputs": [
    {
     "output_type": "stream",
     "name": "stdout",
     "text": "start to get data from 2018-12-31 to 2019-02-28\nstart to get data for 2019-02-28\nstart to get data from 2019-03-01 to 2019-04-30\nstart to get data for 2019-04-30\nstart to get data from 2019-05-01 to 2019-06-30\nstart to get data for 2019-06-30\nstart to get data from 2019-07-01 to 2019-08-31\nstart to get data for 2019-08-31\nstart to get data from 2019-09-01 to 2019-10-31\nstart to get data for 2019-10-31\nstart to get data from 2019-11-01 to 2019-12-31\nstart to get data for 2019-12-31\n"
    }
   ],
   "source": [
    "for i in range(0,len(silding_windows)):\n",
    "    if i == 0:\n",
    "        final_change,final = Average_daily_Gspread_change_cluster(silding_windows[i],cluster_data)\n",
    "        temp_cluster = get_the_cluster_data(security_data,cluster_data,silding_windows[i])\n",
    "        final = final.merge(temp_cluster, on='Group',how='left')\n",
    "    else:\n",
    "        temp,temp_data = Average_daily_Gspread_change_cluster(silding_windows[i],cluster_data)\n",
    "        temp_cluster = get_the_cluster_data(security_data,cluster_data,silding_windows[i])\n",
    "        temp_data = temp_data.merge(temp_cluster, on='Group',how='left')\n",
    "        final_change = final_change.append(temp,ignore_index=True)\n",
    "        final = final.append(temp_data,ignore_index=True)"
   ]
  },
  {
   "cell_type": "code",
   "execution_count": 31,
   "metadata": {},
   "outputs": [
    {
     "output_type": "execute_result",
     "data": {
      "text/plain": "            Group    KeyDate  Cluster_G_change  \\\n0       Cluster 0 2019-01-07         -0.084004   \n1       Cluster 1 2019-01-07         -0.077047   \n2      Cluster 10 2019-01-07         -0.086713   \n3     Cluster 100 2019-01-07         -0.038036   \n4     Cluster 101 2019-01-07         -0.026352   \n...           ...        ...               ...   \n6245   Cluster 95 2019-12-30         -0.021033   \n6246   Cluster 96 2019-12-30          0.006330   \n6247   Cluster 97 2019-12-30         -0.001332   \n6248   Cluster 98 2019-12-30         -0.042790   \n6249   Cluster 99 2019-12-30         -0.003170   \n\n      Cluster_average_YieldWorst_change  \\\n0                             -0.008013   \n1                             -0.008904   \n2                             -0.018195   \n3                              0.004060   \n4                              0.012550   \n...                                 ...   \n6245                           0.003518   \n6246                           0.005908   \n6247                           0.004865   \n6248                          -0.002651   \n6249                           0.008454   \n\n      Cluster_average_ModifiedDuration_Plain_change  \n0                                         -0.003674  \n1                                         -0.002232  \n2                                         -0.000821  \n3                                         -0.004694  \n4                                         -0.005123  \n...                                             ...  \n6245                                      -0.003206  \n6246                                      -0.005893  \n6247                                      -0.002280  \n6248                                      -0.006107  \n6249                                      -0.002747  \n\n[6250 rows x 5 columns]",
      "text/html": "<div>\n<style scoped>\n    .dataframe tbody tr th:only-of-type {\n        vertical-align: middle;\n    }\n\n    .dataframe tbody tr th {\n        vertical-align: top;\n    }\n\n    .dataframe thead th {\n        text-align: right;\n    }\n</style>\n<table border=\"1\" class=\"dataframe\">\n  <thead>\n    <tr style=\"text-align: right;\">\n      <th></th>\n      <th>Group</th>\n      <th>KeyDate</th>\n      <th>Cluster_G_change</th>\n      <th>Cluster_average_YieldWorst_change</th>\n      <th>Cluster_average_ModifiedDuration_Plain_change</th>\n    </tr>\n  </thead>\n  <tbody>\n    <tr>\n      <th>0</th>\n      <td>Cluster 0</td>\n      <td>2019-01-07</td>\n      <td>-0.084004</td>\n      <td>-0.008013</td>\n      <td>-0.003674</td>\n    </tr>\n    <tr>\n      <th>1</th>\n      <td>Cluster 1</td>\n      <td>2019-01-07</td>\n      <td>-0.077047</td>\n      <td>-0.008904</td>\n      <td>-0.002232</td>\n    </tr>\n    <tr>\n      <th>2</th>\n      <td>Cluster 10</td>\n      <td>2019-01-07</td>\n      <td>-0.086713</td>\n      <td>-0.018195</td>\n      <td>-0.000821</td>\n    </tr>\n    <tr>\n      <th>3</th>\n      <td>Cluster 100</td>\n      <td>2019-01-07</td>\n      <td>-0.038036</td>\n      <td>0.004060</td>\n      <td>-0.004694</td>\n    </tr>\n    <tr>\n      <th>4</th>\n      <td>Cluster 101</td>\n      <td>2019-01-07</td>\n      <td>-0.026352</td>\n      <td>0.012550</td>\n      <td>-0.005123</td>\n    </tr>\n    <tr>\n      <th>...</th>\n      <td>...</td>\n      <td>...</td>\n      <td>...</td>\n      <td>...</td>\n      <td>...</td>\n    </tr>\n    <tr>\n      <th>6245</th>\n      <td>Cluster 95</td>\n      <td>2019-12-30</td>\n      <td>-0.021033</td>\n      <td>0.003518</td>\n      <td>-0.003206</td>\n    </tr>\n    <tr>\n      <th>6246</th>\n      <td>Cluster 96</td>\n      <td>2019-12-30</td>\n      <td>0.006330</td>\n      <td>0.005908</td>\n      <td>-0.005893</td>\n    </tr>\n    <tr>\n      <th>6247</th>\n      <td>Cluster 97</td>\n      <td>2019-12-30</td>\n      <td>-0.001332</td>\n      <td>0.004865</td>\n      <td>-0.002280</td>\n    </tr>\n    <tr>\n      <th>6248</th>\n      <td>Cluster 98</td>\n      <td>2019-12-30</td>\n      <td>-0.042790</td>\n      <td>-0.002651</td>\n      <td>-0.006107</td>\n    </tr>\n    <tr>\n      <th>6249</th>\n      <td>Cluster 99</td>\n      <td>2019-12-30</td>\n      <td>-0.003170</td>\n      <td>0.008454</td>\n      <td>-0.002747</td>\n    </tr>\n  </tbody>\n</table>\n<p>6250 rows × 5 columns</p>\n</div>"
     },
     "metadata": {},
     "execution_count": 31
    }
   ],
   "source": [
    "final_change"
   ]
  },
  {
   "cell_type": "code",
   "execution_count": 34,
   "metadata": {},
   "outputs": [
    {
     "output_type": "execute_result",
     "data": {
      "text/plain": "Index(['KeyDate', 'GSpread', 'ModifiedDuration_Plain', 'YieldWorst',\n       'AmtOutstanding', 'SecurityID', 'G_change_Percent', 'G_change',\n       'ModifiedDuration_Plain_change', 'YieldWorst_change', 'Group',\n       'Cluster_average_AmountIssued', 'Cluster_average_Coupon',\n       'Cluster_average_Term', 'Cluster_average_Rating',\n       'Jr Subordinated Unsecured', 'Secured', 'Sr Unsecured',\n       'Subordinated Unsecured', '1st Lien Secured', '2nd Lien Secured',\n       '3rd Lien Secured', '1st lien', 'Auto', 'Basic Materials',\n       'Communications', 'Consumers', 'Energy', 'Financials', 'Health Care',\n       'Industrials', 'Real Estate', 'Technology', 'High grade', 'Junk',\n       'Lower medium grade', 'UN', 'Upper medium grade', 'Prime', 'Long Term',\n       'Mid Term', 'Short Term', 'Diversified', 'Asset Backed'],\n      dtype='object')"
     },
     "metadata": {},
     "execution_count": 34
    }
   ],
   "source": [
    "final.columns"
   ]
  },
  {
   "cell_type": "code",
   "execution_count": 35,
   "metadata": {},
   "outputs": [
    {
     "output_type": "execute_result",
     "data": {
      "text/plain": "758189"
     },
     "metadata": {},
     "execution_count": 35
    }
   ],
   "source": [
    "len(final)"
   ]
  },
  {
   "cell_type": "code",
   "execution_count": 36,
   "metadata": {},
   "outputs": [],
   "source": [
    "final = final[['SecurityID','KeyDate','YieldWorst','ModifiedDuration_Plain','AmtOutstanding','G_change','YieldWorst_change',\n",
    "                'ModifiedDuration_Plain_change','Group','Cluster_average_AmountIssued',\n",
    "                'Cluster_average_Coupon', 'Cluster_average_Term',\n",
    "                'Cluster_average_Rating', 'Jr Subordinated Unsecured', 'Secured',\n",
    "                'Sr Unsecured', 'Subordinated Unsecured', '1st Lien Secured',\n",
    "                '2nd Lien Secured', '3rd Lien Secured', '1st lien', 'Asset Backed',\n",
    "                'Auto', 'Basic Materials','Communications', 'Consumers', 'Energy', 'Financials', 'Health Care',\n",
    "                'Industrials', 'Real Estate', 'Technology', 'High grade', 'Junk',\n",
    "                'Lower medium grade', 'UN', 'Upper medium grade', 'Prime', 'Long Term',\n",
    "                'Mid Term', 'Short Term']]"
   ]
  },
  {
   "cell_type": "code",
   "execution_count": 38,
   "metadata": {},
   "outputs": [],
   "source": [
    "final = final.rename(columns={ 'Jr Subordinated Unsecured':'Cluster Perecentage of Jr Subordinated Unsecured',\n",
    "                               'Secured':'Cluster Perecentage of Secured',\n",
    "                               'Sr Unsecured':'Cluster Perecentage of Sr Unsecured', \n",
    "                               'Subordinated Unsecured':'Cluster Perecentage of Subordinated Unsecured', \n",
    "                               '1st Lien Secured':'Cluster Perecentage of 1st Lien Secured',\n",
    "                               '2nd Lien Secured':'Cluster Perecentage of 2nd Lien Secured', \n",
    "                               '3rd Lien Secured':'Cluster Perecentage of 3rd Lien Secured', \n",
    "                               '1st lien':'Cluster Perecentage of 1st lien', \n",
    "                               'Asset Backed':'Cluster Perecentage of Asset Backed',\n",
    "                               'Auto':'Cluster Perecentage of Auto', \n",
    "                               'Basic Materials':'Cluster Perecentage of Basic Materials',\n",
    "                               'Communications':'Cluster Perecentage of Communications', \n",
    "                               'Consumers':'Cluster Perecentage of Consumers', \n",
    "                               'Energy':'Cluster Perecentage of Energy', \n",
    "                               'Financials':'Cluster Perecentage of Financials', \n",
    "                               'Health Care':'Cluster Perecentage of Health Care',\n",
    "                               'Industrials':'Cluster Perecentage of Industrials', \n",
    "                               'Real Estate':'Cluster Perecentage of Real Estate', \n",
    "                               'Technology':'Cluster Perecentage of Technology', \n",
    "                               'High grade':'Cluster Perecentage of High grade', \n",
    "                               'Junk':'Cluster Perecentage of Junk',\n",
    "                               'Lower medium grade':'Cluster Perecentage of Lower medium grade', \n",
    "                               'UN':'Cluster Perecentage of UN', \n",
    "                               'Upper medium grade':'Cluster Perecentage of Upper medium grade',\n",
    "                               'Prime':'Cluster Perecentage of Prime', \n",
    "                               'Long Term':'Cluster Perecentage of Long Term',\n",
    "                               'Mid Term':'Cluster Perecentage of Mid Term', \n",
    "                               'Short Term':'Cluster Perecentage of Short Term'})\n",
    "\n"
   ]
  },
  {
   "cell_type": "code",
   "execution_count": 39,
   "metadata": {},
   "outputs": [],
   "source": [
    "final = final.rename(columns={\"G_change\": \"Target_G_change\"})"
   ]
  },
  {
   "cell_type": "code",
   "execution_count": 40,
   "metadata": {},
   "outputs": [],
   "source": [
    "final1 =final"
   ]
  },
  {
   "cell_type": "code",
   "execution_count": 41,
   "metadata": {},
   "outputs": [],
   "source": [
    "final = final.merge(final_change,on=['Group','KeyDate'],how = 'left')"
   ]
  },
  {
   "cell_type": "code",
   "execution_count": 42,
   "metadata": {},
   "outputs": [],
   "source": [
    "final.dropna(subset=['Group'],inplace=True)"
   ]
  },
  {
   "cell_type": "code",
   "execution_count": 43,
   "metadata": {},
   "outputs": [
    {
     "output_type": "execute_result",
     "data": {
      "text/plain": "Index(['SecurityID', 'KeyDate', 'YieldWorst', 'ModifiedDuration_Plain',\n       'AmtOutstanding', 'Target_G_change', 'YieldWorst_change',\n       'ModifiedDuration_Plain_change', 'Group',\n       'Cluster_average_AmountIssued', 'Cluster_average_Coupon',\n       'Cluster_average_Term', 'Cluster_average_Rating',\n       'Cluster Perecentage of Jr Subordinated Unsecured',\n       'Cluster Perecentage of Secured', 'Cluster Perecentage of Sr Unsecured',\n       'Cluster Perecentage of Subordinated Unsecured',\n       'Cluster Perecentage of 1st Lien Secured',\n       'Cluster Perecentage of 2nd Lien Secured',\n       'Cluster Perecentage of 3rd Lien Secured',\n       'Cluster Perecentage of 1st lien',\n       'Cluster Perecentage of Asset Backed', 'Cluster Perecentage of Auto',\n       'Cluster Perecentage of Basic Materials',\n       'Cluster Perecentage of Communications',\n       'Cluster Perecentage of Consumers', 'Cluster Perecentage of Energy',\n       'Cluster Perecentage of Financials',\n       'Cluster Perecentage of Health Care',\n       'Cluster Perecentage of Industrials',\n       'Cluster Perecentage of Real Estate',\n       'Cluster Perecentage of Technology',\n       'Cluster Perecentage of High grade', 'Cluster Perecentage of Junk',\n       'Cluster Perecentage of Lower medium grade',\n       'Cluster Perecentage of UN',\n       'Cluster Perecentage of Upper medium grade',\n       'Cluster Perecentage of Prime', 'Cluster Perecentage of Long Term',\n       'Cluster Perecentage of Mid Term', 'Cluster Perecentage of Short Term',\n       'Cluster_G_change', 'Cluster_average_YieldWorst_change',\n       'Cluster_average_ModifiedDuration_Plain_change'],\n      dtype='object')"
     },
     "metadata": {},
     "execution_count": 43
    }
   ],
   "source": [
    "final.columns"
   ]
  },
  {
   "cell_type": "code",
   "execution_count": 44,
   "metadata": {},
   "outputs": [],
   "source": [
    "final = final.fillna(0)"
   ]
  },
  {
   "cell_type": "code",
   "execution_count": 45,
   "metadata": {},
   "outputs": [
    {
     "output_type": "execute_result",
     "data": {
      "text/plain": "724376"
     },
     "metadata": {},
     "execution_count": 45
    }
   ],
   "source": [
    "len(final)"
   ]
  },
  {
   "cell_type": "code",
   "execution_count": 46,
   "metadata": {},
   "outputs": [
    {
     "output_type": "execute_result",
     "data": {
      "text/plain": "3622   \n108548                                   0.275591                   0.023622   \n239085                                   0.455090                   0.017964   \n239086                                   0.455090                   0.017964   \n239087                                   0.455090                   0.017964   \n239088                                   0.455090                   0.017964   \n239089                                   0.455090                   0.017964   \n239090                                   0.455090                   0.017964   \n239091                                   0.455090                   0.017964   \n239092                                   0.455090                   0.017964   \n239093                                   0.455090                   0.017964   \n359310                                   0.364865                   0.081081   \n359311                                   0.364865                   0.081081   \n359312                                   0.364865                   0.081081   \n359313                                   0.364865                   0.081081   \n359314                                   0.364865                   0.081081   \n359315                                   0.364865                   0.081081   \n359316                                   0.364865                   0.081081   \n359317                                   0.364865                   0.081081   \n484028                                   0.313609                   0.047337   \n484029                                   0.313609                   0.047337   \n484030                                   0.313609                   0.047337   \n484031                                   0.313609                   0.047337   \n484032                                   0.313609                   0.047337   \n484033                                   0.313609                   0.047337   \n484034                                   0.313609                   0.047337   \n484035                                   0.313609                   0.047337   \n612223                                   0.366667                   0.026667   \n612224                                   0.366667                   0.026667   \n612225                                   0.366667                   0.026667   \n612226                                   0.366667                   0.026667   \n612227                                   0.366667                   0.026667   \n612228                                   0.366667                   0.026667   \n612229                                   0.366667                   0.026667   \n612230                                   0.366667                   0.026667   \n758180                                   0.387387                   0.126126   \n758181                                   0.387387                   0.126126   \n758182                                   0.387387                   0.126126   \n758183                                   0.387387                   0.126126   \n758184                                   0.387387                   0.126126   \n758185                                   0.387387                   0.126126   \n758186                                   0.387387                   0.126126   \n758187                                   0.387387                   0.126126   \n758188                                   0.387387                   0.126126   \n\n        Cluster Perecentage of Upper medium grade  \\\n108541                                   0.149606   \n108542                                   0.149606   \n108543                                   0.149606   \n108544                                   0.149606   \n108545                                   0.149606   \n108546                                   0.149606   \n108547                                   0.149606   \n108548                                   0.149606   \n239085                                   0.323353   \n239086                                   0.323353   \n239087                                   0.323353   \n239088                                   0.323353   \n239089                                   0.323353   \n239090                                   0.323353   \n239091                                   0.323353   \n239092                                   0.323353   \n239093                                   0.323353   \n359310                                   0.189189   \n359311                                   0.189189   \n359312                                   0.189189   \n359313                                   0.189189   \n359314                                   0.189189   \n359315                                   0.189189   \n359316                                   0.189189   \n359317                                   0.189189   \n484028                                   0.218935   \n484029                                   0.218935   \n484030                                   0.218935   \n484031                                   0.218935   \n484032                                   0.218935   \n484033                                   0.218935   \n484034                                   0.218935   \n484035                                   0.218935   \n612223                                   0.386667   \n612224                                   0.386667   \n612225                                   0.386667   \n612226                                   0.386667   \n612227                                   0.386667   \n612228                                   0.386667   \n612229                                   0.386667   \n612230                                   0.386667   \n758180                                   0.297297   \n758181                                   0.297297   \n758182                                   0.297297   \n758183                                   0.297297   \n758184                                   0.297297   \n758185                                   0.297297   \n758186                                   0.297297   \n758187                                   0.297297   \n758188                                   0.297297   \n\n        Cluster Perecentage of Prime  Cluster Perecentage of Long Term  \\\n108541                      0.000000                          0.614173   \n108542                      0.000000                          0.614173   \n108543                      0.000000                          0.614173   \n108544                      0.000000                          0.614173   \n108545                      0.000000                          0.614173   \n108546                      0.000000                          0.614173   \n108547                      0.000000                          0.614173   \n108548                      0.000000                          0.614173   \n239085                      0.000000                          0.826347   \n239086                      0.000000                          0.826347   \n239087                      0.000000                          0.826347   \n239088                      0.000000                          0.826347   \n239089                      0.000000                          0.826347   \n239090                      0.000000                          0.826347   \n239091                      0.000000                          0.826347   \n239092                      0.000000                          0.826347   \n239093                      0.000000                          0.826347   \n359310                      0.006757                          0.662162   \n359311                      0.006757                          0.662162   \n359312                      0.006757                          0.662162   \n359313                      0.006757                          0.662162   \n359314                      0.006757                          0.662162   \n359315                      0.006757                          0.662162   \n359316                      0.006757                          0.662162   \n359317                      0.006757                          0.662162   \n484028                      0.000000                          0.449704   \n484029                      0.000000                          0.449704   \n484030                      0.000000                          0.449704   \n484031                      0.000000                          0.449704   \n484032                      0.000000                          0.449704   \n484033                      0.000000                          0.449704   \n484034                      0.000000                          0.449704   \n484035                      0.000000                          0.449704   \n612223                      0.006667                          0.820000   \n612224                      0.006667                          0.820000   \n612225                      0.006667                          0.820000   \n612226                      0.006667                          0.820000   \n612227                      0.006667                          0.820000   \n612228                      0.006667                          0.820000   \n612229                      0.006667                          0.820000   \n612230                      0.006667                          0.820000   \n758180                      0.009009                          0.549550   \n758181                      0.009009                          0.549550   \n758182                      0.009009                          0.549550   \n758183                      0.009009                          0.549550   \n758184                      0.009009                          0.549550   \n758185                      0.009009                          0.549550   \n758186                      0.009009                          0.549550   \n758187                      0.009009                          0.549550   \n758188                      0.009009                          0.549550   \n\n        Cluster Perecentage of Mid Term  Cluster Perecentage of Short Term  \\\n108541                         0.362205                           0.023622   \n108542                         0.362205                           0.023622   \n108543                         0.362205                           0.023622   \n108544                         0.362205                           0.023622   \n108545                         0.362205                           0.023622   \n108546                         0.362205                           0.023622   \n108547                         0.362205                           0.023622   \n108548                         0.362205                           0.023622   \n239085                         0.167665                           0.005988   \n239086                         0.167665                           0.005988   \n239087                         0.167665                           0.005988   \n239088                         0.167665                           0.005988   \n239089                         0.167665                           0.005988   \n239090                         0.167665                           0.005988   \n239091                         0.167665                           0.005988   \n239092                         0.167665                           0.005988   \n239093                         0.167665                           0.005988   \n359310                         0.304054                           0.033784   \n359311                         0.304054                           0.033784   \n359312                         0.304054                           0.033784   \n359313                         0.304054                           0.033784   \n359314                         0.304054                           0.033784   \n359315                         0.304054                           0.033784   \n359316                         0.304054                           0.033784   \n359317                         0.304054                           0.033784   \n484028                         0.473373                           0.076923   \n484029                         0.473373                           0.076923   \n484030                         0.473373                           0.076923   \n484031                         0.473373                           0.076923   \n484032                         0.473373                           0.076923   \n484033                         0.473373                           0.076923   \n484034                         0.473373                           0.076923   \n484035                         0.473373                           0.076923   \n612223                         0.146667                           0.033333   \n612224                         0.146667                           0.033333   \n612225                         0.146667                           0.033333   \n612226                         0.146667                           0.033333   \n612227                         0.146667                           0.033333   \n612228                         0.146667                           0.033333   \n612229                         0.146667                           0.033333   \n612230                         0.146667                           0.033333   \n758180                         0.297297                           0.153153   \n758181                         0.297297                           0.153153   \n758182                         0.297297                           0.153153   \n758183                         0.297297                           0.153153   \n758184                         0.297297                           0.153153   \n758185                         0.297297                           0.153153   \n758186                         0.297297                           0.153153   \n758187                         0.297297                           0.153153   \n758188                         0.297297                           0.153153   \n\n        Cluster_G_change  Cluster_average_YieldWorst_change  \\\n108541         -0.105282                          -0.037501   \n108542         -0.063508                          -0.014419   \n108543          0.057335                           0.014442   \n108544         -0.030705                          -0.024576   \n108545         -0.004846                          -0.012482   \n108546         -0.038582                          -0.010549   \n108547         -0.014700                          -0.010173   \n108548         -0.032302                          -0.005922   \n239085          0.034905                          -0.013627   \n239086         -0.015036                          -0.012801   \n239087          0.007162                          -0.030695   \n239088         -0.009436                          -0.012291   \n239089         -0.029572                           0.007780   \n239090         -0.079918                          -0.015976   \n239091         -0.020888                          -0.009792   \n239092          0.014709                          -0.011095   \n239093         -0.001901                          -0.000590   \n359310          0.049070                           0.008685   \n359311          0.048207                           0.002723   \n359312          0.030002                           0.000831   \n359313          0.077954                          -0.008264   \n359314         -0.030304                          -0.026188   \n359315         -0.030148                          -0.019767   \n359316         -0.054752                          -0.035558   \n359317         -0.032459                          -0.024634   \n484028         -0.009888                          -0.005572   \n484029         -0.000987                          -0.011019   \n484030         -0.032133                          -0.003681   \n484031          0.024837                          -0.035701   \n484032         -0.005800                          -0.025688   \n484033          0.077645                          -0.013283   \n484034         -0.104444                          -0.038125   \n484035         -0.066940                          -0.032113   \n612223         -0.027243                           0.084484   \n612224          0.004802                          -0.043869   \n612225         -0.009164                          -0.013747   \n612226          0.044253                          -0.027724   \n612227         -0.035567                           0.041293   \n612228         -0.063265                          -0.020758   \n612229         -0.059555                          -0.013502   \n612230          0.068959                          -0.003775   \n758180         -0.037063                           0.031824   \n758181          0.004163                          -0.022837   \n758182         -0.011459                          -0.010025   \n758183         -0.012166                          -0.005399   \n758184          0.038067                           0.013617   \n758185         -0.031402                          -0.017380   \n758186         -0.033877                          -0.001036   \n758187         -0.024797                          -0.020291   \n758188         -0.048462                          -0.003913   \n\n        Cluster_average_ModifiedDuration_Plain_change  \n108541                                       0.001981  \n108542                                      -0.003099  \n108543                                      -0.004128  \n108544                                       0.000210  \n108545                                      -0.002300  \n108546                                      -0.002442  \n108547                                      -0.002856  \n108548                                      -0.003034  \n239085                                      -0.000910  \n239086                                       0.000532  \n239087                                       0.001378  \n239088                                       0.000347  \n239089                                      -0.003767  \n239090                                       0.000166  \n239091                                      -0.000902  \n239092                                      -0.001252  \n239093                                      -0.000127  \n359310                                      -0.003679  \n359311                                      -0.001514  \n359312                                      -0.003941  \n359313                                      -0.000516  \n359314                                      -0.001610  \n359315                                      -0.002108  \n359316                                      -0.000938  \n359317                                      -0.001312  \n484028                                      -0.006699  \n484029                                      -0.008171  \n484030                                      -0.008638  \n484031                                      -0.005978  \n484032                                      -0.008840  \n484033                                      -0.008558  \n484034                                      -0.009392  \n484035                                      -0.008879  \n612223                                      -0.011086  \n612224                                       0.002293  \n612225                                      -0.001311  \n612226                                      -0.001295  \n612227                                      -0.006749  \n612228                                      -0.001340  \n612229                                      -0.002775  \n612230                                      -0.000587  \n758180                                      -0.014613  \n758181                                      -0.008096  \n758182                                      -0.010351  \n758183                                      -0.011243  \n758184                                      -0.013243  \n758185                                      -0.011350  \n758186                                      -0.013194  \n758187                                      -0.010527  \n758188                                      -0.006364  \n\n[50 rows x 44 columns]",
      "text/html": "<div>\n<style scoped>\n    .dataframe tbody tr th:only-of-type {\n        vertical-align: middle;\n    }\n\n    .dataframe tbody tr th {\n        vertical-align: top;\n    }\n\n    .dataframe thead th {\n        text-align: right;\n    }\n</style>\n<table border=\"1\" class=\"dataframe\">\n  <thead>\n    <tr style=\"text-align: right;\">\n      <th></th>\n      <th>SecurityID</th>\n      <th>KeyDate</th>\n      <th>YieldWorst</th>\n      <th>ModifiedDuration_Plain</th>\n      <th>AmtOutstanding</th>\n      <th>Target_G_change</th>\n      <th>YieldWorst_change</th>\n      <th>ModifiedDuration_Plain_change</th>\n      <th>Group</th>\n      <th>Cluster_average_AmountIssued</th>\n      <th>...</th>\n      <th>Cluster Perecentage of Lower medium grade</th>\n      <th>Cluster Perecentage of UN</th>\n      <th>Cluster Perecentage of Upper medium grade</th>\n      <th>Cluster Perecentage of Prime</th>\n      <th>Cluster Perecentage of Long Term</th>\n      <th>Cluster Perecentage of Mid Term</th>\n      <th>Cluster Perecentage of Short Term</th>\n      <th>Cluster_G_change</th>\n      <th>Cluster_average_YieldWorst_change</th>\n      <th>Cluster_average_ModifiedDuration_Plain_change</th>\n    </tr>\n  </thead>\n  <tbody>\n    <tr>\n      <th>108541</th>\n      <td>64.0</td>\n      <td>2019-01-07</td>\n      <td>5.91076</td>\n      <td>6.07625</td>\n      <td>1.697270e+09</td>\n      <td>-52.350</td>\n      <td>-0.066614</td>\n      <td>0.002569</td>\n      <td>Cluster 107</td>\n      <td>7.072015e+08</td>\n      <td>...</td>\n      <td>0.275591</td>\n      <td>0.023622</td>\n      <td>0.149606</td>\n      <td>0.000000</td>\n      <td>0.614173</td>\n      <td>0.362205</td>\n      <td>0.023622</td>\n      <td>-0.105282</td>\n      <td>-0.037501</td>\n      <td>0.001981</td>\n    </tr>\n    <tr>\n      <th>108542</th>\n      <td>64.0</td>\n      <td>2019-01-14</td>\n      <td>5.72403</td>\n      <td>6.07073</td>\n      <td>1.697270e+09</td>\n      <td>-28.400</td>\n      <td>-0.031592</td>\n      <td>-0.000908</td>\n      <td>Cluster 107</td>\n      <td>7.072015e+08</td>\n      <td>...</td>\n      <td>0.275591</td>\n      <td>0.023622</td>\n      <td>0.149606</td>\n      <td>0.000000</td>\n      <td>0.614173</td>\n      <td>0.362205</td>\n      <td>0.023622</td>\n      <td>-0.063508</td>\n      <td>-0.014419</td>\n      <td>-0.003099</td>\n    </tr>\n    <tr>\n      <th>108543</th>\n      <td>64.0</td>\n      <td>2019-01-21</td>\n      <td>5.86272</td>\n      <td>6.04487</td>\n      <td>1.697270e+09</td>\n      <td>20.040</td>\n      <td>0.024229</td>\n      <td>-0.004260</td>\n      <td>Cluster 107</td>\n      <td>7.072015e+08</td>\n      <td>...</td>\n      <td>0.275591</td>\n      <td>0.023622</td>\n      <td>0.149606</td>\n      <td>0.000000</td>\n      <td>0.614173</td>\n      <td>0.362205</td>\n      <td>0.023622</td>\n      <td>0.057335</td>\n      <td>0.014442</td>\n      <td>-0.004128</td>\n    </tr>\n    <tr>\n      <th>108544</th>\n      <td>64.0</td>\n      <td>2019-01-28</td>\n      <td>5.80981</td>\n      <td>6.03392</td>\n      <td>1.697270e+09</td>\n      <td>-0.440</td>\n      <td>-0.009025</td>\n      <td>-0.001811</td>\n      <td>Cluster 107</td>\n      <td>7.072015e+08</td>\n      <td>...</td>\n      <td>0.275591</td>\n      <td>0.023622</td>\n      <td>0.149606</td>\n      <td>0.000000</td>\n      <td>0.614173</td>\n      <td>0.362205</td>\n      <td>0.023622</td>\n      <td>-0.030705</td>\n      <td>-0.024576</td>\n      <td>0.000210</td>\n    </tr>\n    <tr>\n      <th>108545</th>\n      <td>64.0</td>\n      <td>2019-02-04</td>\n      <td>5.83174</td>\n      <td>6.01464</td>\n      <td>1.697270e+09</td>\n      <td>7.310</td>\n      <td>0.003775</td>\n      <td>-0.003195</td>\n      <td>Cluster 107</td>\n      <td>7.072015e+08</td>\n      <td>...</td>\n      <td>0.275591</td>\n      <td>0.023622</td>\n      <td>0.149606</td>\n      <td>0.000000</td>\n      <td>0.614173</td>\n      <td>0.362205</td>\n      <td>0.023622</td>\n      <td>-0.004846</td>\n      <td>-0.012482</td>\n      <td>-0.002300</td>\n    </tr>\n    <tr>\n      <th>108546</th>\n      <td>64.0</td>\n      <td>2019-02-11</td>\n      <td>5.67192</td>\n      <td>6.12945</td>\n      <td>1.697270e+09</td>\n      <td>-19.370</td>\n      <td>-0.027405</td>\n      <td>0.019088</td>\n      <td>Cluster 107</td>\n      <td>7.072015e+08</td>\n      <td>...</td>\n      <td>0.275591</td>\n      <td>0.023622</td>\n      <td>0.149606</td>\n      <td>0.000000</td>\n      <td>0.614173</td>\n      <td>0.362205</td>\n      <td>0.023622</td>\n      <td>-0.038582</td>\n      <td>-0.010549</td>\n      <td>-0.002442</td>\n    </tr>\n    <tr>\n      <th>108547</th>\n      <td>64.0</td>\n      <td>2019-02-18</td>\n      <td>5.66178</td>\n      <td>6.11500</td>\n      <td>1.697270e+09</td>\n      <td>0.640</td>\n      <td>-0.001788</td>\n      <td>-0.002357</td>\n      <td>Cluster 107</td>\n      <td>7.072015e+08</td>\n      <td>...</td>\n      <td>0.275591</td>\n      <td>0.023622</td>\n      <td>0.149606</td>\n      <td>0.000000</td>\n      <td>0.614173</td>\n      <td>0.362205</td>\n      <td>0.023622</td>\n      <td>-0.014700</td>\n      <td>-0.010173</td>\n      <td>-0.002856</td>\n    </tr>\n    <tr>\n      <th>108548</th>\n      <td>64.0</td>\n      <td>2019-02-25</td>\n      <td>5.65774</td>\n      <td>6.09504</td>\n      <td>1.697270e+09</td>\n      <td>-7.500</td>\n      <td>-0.000714</td>\n      <td>-0.003264</td>\n      <td>Cluster 107</td>\n      <td>7.072015e+08</td>\n      <td>...</td>\n      <td>0.275591</td>\n      <td>0.023622</td>\n      <td>0.149606</td>\n      <td>0.000000</td>\n      <td>0.614173</td>\n      <td>0.362205</td>\n      <td>0.023622</td>\n      <td>-0.032302</td>\n      <td>-0.005922</td>\n      <td>-0.003034</td>\n    </tr>\n    <tr>\n      <th>239085</th>\n      <td>64.0</td>\n      <td>2019-03-04</td>\n      <td>5.70859</td>\n      <td>6.07115</td>\n      <td>1.697270e+09</td>\n      <td>25.620</td>\n      <td>0.019866</td>\n      <td>-0.004215</td>\n      <td>Cluster 80</td>\n      <td>8.381850e+08</td>\n      <td>...</td>\n      <td>0.455090</td>\n      <td>0.017964</td>\n      <td>0.323353</td>\n      <td>0.000000</td>\n      <td>0.826347</td>\n      <td>0.167665</td>\n      <td>0.005988</td>\n      <td>0.034905</td>\n      <td>-0.013627</td>\n      <td>-0.000910</td>\n    </tr>\n    <tr>\n      <th>239086</th>\n      <td>64.0</td>\n      <td>2019-03-11</td>\n      <td>5.54003</td>\n      <td>6.06551</td>\n      <td>1.697270e+09</td>\n      <td>-13.520</td>\n      <td>-0.029527</td>\n      <td>-0.000929</td>\n      <td>Cluster 80</td>\n      <td>8.381850e+08</td>\n      <td>...</td>\n      <td>0.455090</td>\n      <td>0.017964</td>\n      <td>0.323353</td>\n      <td>0.000000</td>\n      <td>0.826347</td>\n      <td>0.167665</td>\n      <td>0.005988</td>\n      <td>-0.015036</td>\n      <td>-0.012801</td>\n      <td>0.000532</td>\n    </tr>\n    <tr>\n      <th>239087</th>\n      <td>64.0</td>\n      <td>2019-03-18</td>\n      <td>5.44780</td>\n      <td>6.05435</td>\n      <td>1.697270e+09</td>\n      <td>5.980</td>\n      <td>-0.016648</td>\n      <td>-0.001840</td>\n      <td>Cluster 80</td>\n      <td>8.381850e+08</td>\n      <td>...</td>\n      <td>0.455090</td>\n      <td>0.017964</td>\n      <td>0.323353</td>\n      <td>0.000000</td>\n      <td>0.826347</td>\n      <td>0.167665</td>\n      <td>0.005988</td>\n      <td>0.007162</td>\n      <td>-0.030695</td>\n      <td>0.001378</td>\n    </tr>\n    <tr>\n      <th>239088</th>\n      <td>64.0</td>\n      <td>2019-03-25</td>\n      <td>5.44421</td>\n      <td>6.03938</td>\n      <td>1.697270e+09</td>\n      <td>2.270</td>\n      <td>-0.000659</td>\n      <td>-0.002473</td>\n      <td>Cluster 80</td>\n      <td>8.381850e+08</td>\n      <td>...</td>\n      <td>0.455090</td>\n      <td>0.017964</td>\n      <td>0.323353</td>\n      <td>0.000000</td>\n      <td>0.826347</td>\n      <td>0.167665</td>\n      <td>0.005988</td>\n      <td>-0.009436</td>\n      <td>-0.012291</td>\n      <td>0.000347</td>\n    </tr>\n    <tr>\n      <th>239089</th>\n      <td>64.0</td>\n      <td>2019-04-01</td>\n      <td>5.34903</td>\n      <td>6.02838</td>\n      <td>1.697270e+09</td>\n      <td>-17.560</td>\n      <td>-0.017483</td>\n      <td>-0.001821</td>\n      <td>Cluster 80</td>\n      <td>8.381850e+08</td>\n      <td>...</td>\n      <td>0.455090</td>\n      <td>0.017964</td>\n      <td>0.323353</td>\n      <td>0.000000</td>\n      <td>0.826347</td>\n      <td>0.167665</td>\n      <td>0.005988</td>\n      <td>-0.029572</td>\n      <td>0.007780</td>\n      <td>-0.003767</td>\n    </tr>\n    <tr>\n      <th>239090</th>\n      <td>64.0</td>\n      <td>2019-04-08</td>\n      <td>5.08654</td>\n      <td>6.02916</td>\n      <td>1.697270e+09</td>\n      <td>-33.410</td>\n      <td>-0.049072</td>\n      <td>0.000129</td>\n      <td>Cluster 80</td>\n      <td>8.381850e+08</td>\n      <td>...</td>\n      <td>0.455090</td>\n      <td>0.017964</td>\n      <td>0.323353</td>\n      <td>0.000000</td>\n      <td>0.826347</td>\n      <td>0.167665</td>\n      <td>0.005988</td>\n      <td>-0.079918</td>\n      <td>-0.015976</td>\n      <td>0.000166</td>\n    </tr>\n    <tr>\n      <th>239091</th>\n      <td>64.0</td>\n      <td>2019-04-15</td>\n      <td>5.07532</td>\n      <td>6.01214</td>\n      <td>1.697270e+09</td>\n      <td>-0.780</td>\n      <td>-0.002206</td>\n      <td>-0.002823</td>\n      <td>Cluster 80</td>\n      <td>8.381850e+08</td>\n      <td>...</td>\n      <td>0.455090</td>\n      <td>0.017964</td>\n      <td>0.323353</td>\n      <td>0.000000</td>\n      <td>0.826347</td>\n      <td>0.167665</td>\n      <td>0.005988</td>\n      <td>-0.020888</td>\n      <td>-0.009792</td>\n      <td>-0.000902</td>\n    </tr>\n    <tr>\n      <th>239092</th>\n      <td>64.0</td>\n      <td>2019-04-22</td>\n      <td>5.05397</td>\n      <td>5.99582</td>\n      <td>1.697270e+09</td>\n      <td>5.580</td>\n      <td>-0.004207</td>\n      <td>-0.002715</td>\n      <td>Cluster 80</td>\n      <td>8.381850e+08</td>\n      <td>...</td>\n      <td>0.455090</td>\n      <td>0.017964</td>\n      <td>0.323353</td>\n      <td>0.000000</td>\n      <td>0.826347</td>\n      <td>0.167665</td>\n      <td>0.005988</td>\n      <td>0.014709</td>\n      <td>-0.011095</td>\n      <td>-0.001252</td>\n    </tr>\n    <tr>\n      <th>239093</th>\n      <td>64.0</td>\n      <td>2019-04-29</td>\n      <td>5.05288</td>\n      <td>5.99080</td>\n      <td>1.697270e+09</td>\n      <td>-0.330</td>\n      <td>-0.000216</td>\n      <td>-0.000837</td>\n      <td>Cluster 80</td>\n      <td>8.381850e+08</td>\n      <td>...</td>\n      <td>0.455090</td>\n      <td>0.017964</td>\n      <td>0.323353</td>\n      <td>0.000000</td>\n      <td>0.826347</td>\n      <td>0.167665</td>\n      <td>0.005988</td>\n      <td>-0.001901</td>\n      <td>-0.000590</td>\n      <td>-0.000127</td>\n    </tr>\n    <tr>\n      <th>359310</th>\n      <td>64.0</td>\n      <td>2019-05-06</td>\n      <td>5.25873</td>\n      <td>5.94586</td>\n      <td>1.697270e+09</td>\n      <td>28.460</td>\n      <td>0.043763</td>\n      <td>-0.005559</td>\n      <td>Cluster 59</td>\n      <td>8.455429e+08</td>\n      <td>...</td>\n      <td>0.364865</td>\n      <td>0.081081</td>\n      <td>0.189189</td>\n      <td>0.006757</td>\n      <td>0.662162</td>\n      <td>0.304054</td>\n      <td>0.033784</td>\n      <td>0.049070</td>\n      <td>0.008685</td>\n      <td>-0.003679</td>\n    </tr>\n    <tr>\n      <th>359311</th>\n      <td>64.0</td>\n      <td>2019-05-13</td>\n      <td>5.31636</td>\n      <td>5.92406</td>\n      <td>1.697270e+09</td>\n      <td>14.990</td>\n      <td>0.010959</td>\n      <td>-0.003666</td>\n      <td>Cluster 59</td>\n      <td>8.455429e+08</td>\n      <td>...</td>\n      <td>0.364865</td>\n      <td>0.081081</td>\n      <td>0.189189</td>\n      <td>0.006757</td>\n      <td>0.662162</td>\n      <td>0.304054</td>\n      <td>0.033784</td>\n      <td>0.048207</td>\n      <td>0.002723</td>\n      <td>-0.001514</td>\n    </tr>\n    <tr>\n      <th>359312</th>\n      <td>64.0</td>\n      <td>2019-05-20</td>\n      <td>5.20319</td>\n      <td>5.91162</td>\n      <td>1.697270e+09</td>\n      <td>-5.620</td>\n      <td>-0.021287</td>\n      <td>-0.002100</td>\n      <td>Cluster 59</td>\n      <td>8.455429e+08</td>\n      <td>...</td>\n      <td>0.364865</td>\n      <td>0.081081</td>\n      <td>0.189189</td>\n      <td>0.006757</td>\n      <td>0.662162</td>\n      <td>0.304054</td>\n      <td>0.033784</td>\n      <td>0.030002</td>\n      <td>0.000831</td>\n      <td>-0.003941</td>\n    </tr>\n    <tr>\n      <th>359313</th>\n      <td>64.0</td>\n      <td>2019-05-27</td>\n      <td>5.36102</td>\n      <td>5.88795</td>\n      <td>1.697270e+09</td>\n      <td>35.740</td>\n      <td>0.030333</td>\n      <td>-0.004004</td>\n      <td>Cluster 59</td>\n      <td>8.455429e+08</td>\n      <td>...</td>\n      <td>0.364865</td>\n      <td>0.081081</td>\n      <td>0.189189</td>\n      <td>0.006757</td>\n      <td>0.662162</td>\n      <td>0.304054</td>\n      <td>0.033784</td>\n      <td>0.077954</td>\n      <td>-0.008264</td>\n      <td>-0.000516</td>\n    </tr>\n    <tr>\n      <th>359314</th>\n      <td>64.0</td>\n      <td>2019-06-03</td>\n      <td>5.08566</td>\n      <td>5.88926</td>\n      <td>1.697270e+09</td>\n      <td>-22.780</td>\n      <td>-0.051363</td>\n      <td>0.000222</td>\n      <td>Cluster 59</td>\n      <td>8.455429e+08</td>\n      <td>...</td>\n      <td>0.364865</td>\n      <td>0.081081</td>\n      <td>0.189189</td>\n      <td>0.006757</td>\n      <td>0.662162</td>\n      <td>0.304054</td>\n      <td>0.033784</td>\n      <td>-0.030304</td>\n      <td>-0.026188</td>\n      <td>-0.001610</td>\n    </tr>\n    <tr>\n      <th>359315</th>\n      <td>64.0</td>\n      <td>2019-06-10</td>\n      <td>4.83010</td>\n      <td>5.88621</td>\n      <td>1.697270e+09</td>\n      <td>-12.050</td>\n      <td>-0.050251</td>\n      <td>-0.000518</td>\n      <td>Cluster 59</td>\n      <td>8.455429e+08</td>\n      <td>...</td>\n      <td>0.364865</td>\n      <td>0.081081</td>\n      <td>0.189189</td>\n      <td>0.006757</td>\n      <td>0.662162</td>\n      <td>0.304054</td>\n      <td>0.033784</td>\n      <td>-0.030148</td>\n      <td>-0.019767</td>\n      <td>-0.002108</td>\n    </tr>\n    <tr>\n      <th>359316</th>\n      <td>64.0</td>\n      <td>2019-06-17</td>\n      <td>4.50090</td>\n      <td>5.88542</td>\n      <td>1.697270e+09</td>\n      <td>-29.420</td>\n      <td>-0.068156</td>\n      <td>-0.000134</td>\n      <td>Cluster 59</td>\n      <td>8.455429e+08</td>\n      <td>...</td>\n      <td>0.364865</td>\n      <td>0.081081</td>\n      <td>0.189189</td>\n      <td>0.006757</td>\n      <td>0.662162</td>\n      <td>0.304054</td>\n      <td>0.033784</td>\n      <td>-0.054752</td>\n      <td>-0.035558</td>\n      <td>-0.000938</td>\n    </tr>\n    <tr>\n      <th>359317</th>\n      <td>64.0</td>\n      <td>2019-06-24</td>\n      <td>4.64902</td>\n      <td>5.85985</td>\n      <td>1.697270e+09</td>\n      <td>18.280</td>\n      <td>0.032909</td>\n      <td>-0.004345</td>\n      <td>Cluster 59</td>\n      <td>8.455429e+08</td>\n      <td>...</td>\n      <td>0.364865</td>\n      <td>0.081081</td>\n      <td>0.189189</td>\n      <td>0.006757</td>\n      <td>0.662162</td>\n      <td>0.304054</td>\n      <td>0.033784</td>\n      <td>-0.032459</td>\n      <td>-0.024634</td>\n      <td>-0.001312</td>\n    </tr>\n    <tr>\n      <th>484028</th>\n      <td>64.0</td>\n      <td>2019-07-08</td>\n      <td>4.75286</td>\n      <td>5.81875</td>\n      <td>1.697270e+09</td>\n      <td>12.530</td>\n      <td>0.034150</td>\n      <td>-0.004440</td>\n      <td>Cluster 49</td>\n      <td>7.944978e+08</td>\n      <td>...</td>\n      <td>0.313609</td>\n      <td>0.047337</td>\n      <td>0.218935</td>\n      <td>0.000000</td>\n      <td>0.449704</td>\n      <td>0.473373</td>\n      <td>0.076923</td>\n      <td>-0.009888</td>\n      <td>-0.005572</td>\n      <td>-0.006699</td>\n    </tr>\n    <tr>\n      <th>484029</th>\n      <td>64.0</td>\n      <td>2019-07-15</td>\n      <td>4.75341</td>\n      <td>5.80086</td>\n      <td>1.697270e+09</td>\n      <td>5.040</td>\n      <td>0.000116</td>\n      <td>-0.003075</td>\n      <td>Cluster 49</td>\n      <td>7.944978e+08</td>\n      <td>...</td>\n      <td>0.313609</td>\n      <td>0.047337</td>\n      <td>0.218935</td>\n      <td>0.000000</td>\n      <td>0.449704</td>\n      <td>0.473373</td>\n      <td>0.076923</td>\n      <td>-0.000987</td>\n      <td>-0.011019</td>\n      <td>-0.008171</td>\n    </tr>\n    <tr>\n      <th>484030</th>\n      <td>64.0</td>\n      <td>2019-07-22</td>\n      <td>4.60310</td>\n      <td>5.79064</td>\n      <td>1.697270e+09</td>\n      <td>-17.800</td>\n      <td>-0.031622</td>\n      <td>-0.001762</td>\n      <td>Cluster 49</td>\n      <td>7.944978e+08</td>\n      <td>...</td>\n      <td>0.313609</td>\n      <td>0.047337</td>\n      <td>0.218935</td>\n      <td>0.000000</td>\n      <td>0.449704</td>\n      <td>0.473373</td>\n      <td>0.076923</td>\n      <td>-0.032133</td>\n      <td>-0.003681</td>\n      <td>-0.008638</td>\n    </tr>\n    <tr>\n      <th>484031</th>\n      <td>64.0</td>\n      <td>2019-07-29</td>\n      <td>4.53608</td>\n      <td>5.77871</td>\n      <td>1.697270e+09</td>\n      <td>12.380</td>\n      <td>-0.014560</td>\n      <td>-0.002060</td>\n      <td>Cluster 49</td>\n      <td>7.944978e+08</td>\n      <td>...</td>\n      <td>0.313609</td>\n      <td>0.047337</td>\n      <td>0.218935</td>\n      <td>0.000000</td>\n      <td>0.449704</td>\n      <td>0.473373</td>\n      <td>0.076923</td>\n      <td>0.024837</td>\n      <td>-0.035701</td>\n      <td>-0.005978</td>\n    </tr>\n    <tr>\n      <th>484032</th>\n      <td>64.0</td>\n      <td>2019-08-05</td>\n      <td>4.42202</td>\n      <td>5.76657</td>\n      <td>1.697270e+09</td>\n      <td>-3.700</td>\n      <td>-0.025145</td>\n      <td>-0.002101</td>\n      <td>Cluster 49</td>\n      <td>7.944978e+08</td>\n      <td>...</td>\n      <td>0.313609</td>\n      <td>0.047337</td>\n      <td>0.218935</td>\n      <td>0.000000</td>\n      <td>0.449704</td>\n      <td>0.473373</td>\n      <td>0.076923</td>\n      <td>-0.005800</td>\n      <td>-0.025688</td>\n      <td>-0.008840</td>\n    </tr>\n    <tr>\n      <th>484033</th>\n      <td>64.0</td>\n      <td>2019-08-12</td>\n      <td>4.47328</td>\n      <td>5.85748</td>\n      <td>1.697270e+09</td>\n      <td>21.380</td>\n      <td>0.011592</td>\n      <td>0.015765</td>\n      <td>Cluster 49</td>\n      <td>7.944978e+08</td>\n      <td>...</td>\n      <td>0.313609</td>\n      <td>0.047337</td>\n      <td>0.218935</td>\n      <td>0.000000</td>\n      <td>0.449704</td>\n      <td>0.473373</td>\n      <td>0.076923</td>\n      <td>0.077645</td>\n      <td>-0.013283</td>\n      <td>-0.008558</td>\n    </tr>\n    <tr>\n      <th>484034</th>\n      <td>64.0</td>\n      <td>2019-08-19</td>\n      <td>4.16309</td>\n      <td>5.85401</td>\n      <td>1.697270e+09</td>\n      <td>-30.870</td>\n      <td>-0.069343</td>\n      <td>-0.000592</td>\n      <td>Cluster 49</td>\n      <td>7.944978e+08</td>\n      <td>...</td>\n      <td>0.313609</td>\n      <td>0.047337</td>\n      <td>0.218935</td>\n      <td>0.000000</td>\n      <td>0.449704</td>\n      <td>0.473373</td>\n      <td>0.076923</td>\n      <td>-0.104444</td>\n      <td>-0.038125</td>\n      <td>-0.009392</td>\n    </tr>\n    <tr>\n      <th>484035</th>\n      <td>64.0</td>\n      <td>2019-08-26</td>\n      <td>3.95401</td>\n      <td>5.84160</td>\n      <td>1.697270e+09</td>\n      <td>-20.150</td>\n      <td>-0.050222</td>\n      <td>-0.002120</td>\n      <td>Cluster 49</td>\n      <td>7.944978e+08</td>\n      <td>...</td>\n      <td>0.313609</td>\n      <td>0.047337</td>\n      <td>0.218935</td>\n      <td>0.000000</td>\n      <td>0.449704</td>\n      <td>0.473373</td>\n      <td>0.076923</td>\n      <td>-0.066940</td>\n      <td>-0.032113</td>\n      <td>-0.008879</td>\n    </tr>\n    <tr>\n      <th>612223</th>\n      <td>64.0</td>\n      <td>2019-09-09</td>\n      <td>4.24501</td>\n      <td>5.79859</td>\n      <td>1.697270e+09</td>\n      <td>-3.950</td>\n      <td>0.069949</td>\n      <td>-0.004674</td>\n      <td>Cluster 23</td>\n      <td>1.116895e+09</td>\n      <td>...</td>\n      <td>0.366667</td>\n      <td>0.026667</td>\n      <td>0.386667</td>\n      <td>0.006667</td>\n      <td>0.820000</td>\n      <td>0.146667</td>\n      <td>0.033333</td>\n      <td>-0.027243</td>\n      <td>0.084484</td>\n      <td>-0.011086</td>\n    </tr>\n    <tr>\n      <th>612224</th>\n      <td>64.0</td>\n      <td>2019-09-16</td>\n      <td>4.18555</td>\n      <td>5.78329</td>\n      <td>1.697270e+09</td>\n      <td>9.080</td>\n      <td>-0.014007</td>\n      <td>-0.002639</td>\n      <td>Cluster 23</td>\n      <td>1.116895e+09</td>\n      <td>...</td>\n      <td>0.366667</td>\n      <td>0.026667</td>\n      <td>0.386667</td>\n      <td>0.006667</td>\n      <td>0.820000</td>\n      <td>0.146667</td>\n      <td>0.033333</td>\n      <td>0.004802</td>\n      <td>-0.043869</td>\n      <td>0.002293</td>\n    </tr>\n    <tr>\n      <th>612225</th>\n      <td>64.0</td>\n      <td>2019-09-23</td>\n      <td>4.20125</td>\n      <td>5.76450</td>\n      <td>1.697270e+09</td>\n      <td>5.660</td>\n      <td>0.003751</td>\n      <td>-0.003249</td>\n      <td>Cluster 23</td>\n      <td>1.116895e+09</td>\n      <td>...</td>\n      <td>0.366667</td>\n      <td>0.026667</td>\n      <td>0.386667</td>\n      <td>0.006667</td>\n      <td>0.820000</td>\n      <td>0.146667</td>\n      <td>0.033333</td>\n      <td>-0.009164</td>\n      <td>-0.013747</td>\n      <td>-0.001311</td>\n    </tr>\n    <tr>\n      <th>612226</th>\n      <td>64.0</td>\n      <td>2019-09-30</td>\n      <td>4.20669</td>\n      <td>5.74620</td>\n      <td>1.697270e+09</td>\n      <td>15.340</td>\n      <td>0.001295</td>\n      <td>-0.003175</td>\n      <td>Cluster 23</td>\n      <td>1.116895e+09</td>\n      <td>...</td>\n      <td>0.366667</td>\n      <td>0.026667</td>\n      <td>0.386667</td>\n      <td>0.006667</td>\n      <td>0.820000</td>\n      <td>0.146667</td>\n      <td>0.033333</td>\n      <td>0.044253</td>\n      <td>-0.027724</td>\n      <td>-0.001295</td>\n    </tr>\n    <tr>\n      <th>612227</th>\n      <td>64.0</td>\n      <td>2019-10-07</td>\n      <td>4.11930</td>\n      <td>5.72937</td>\n      <td>1.697270e+09</td>\n      <td>-26.530</td>\n      <td>-0.020774</td>\n      <td>-0.002929</td>\n      <td>Cluster 23</td>\n      <td>1.116895e+09</td>\n      <td>...</td>\n      <td>0.366667</td>\n      <td>0.026667</td>\n      <td>0.386667</td>\n      <td>0.006667</td>\n      <td>0.820000</td>\n      <td>0.146667</td>\n      <td>0.033333</td>\n      <td>-0.035567</td>\n      <td>0.041293</td>\n      <td>-0.006749</td>\n    </tr>\n    <tr>\n      <th>612228</th>\n      <td>64.0</td>\n      <td>2019-10-14</td>\n      <td>3.84926</td>\n      <td>5.71939</td>\n      <td>1.697270e+09</td>\n      <td>-24.570</td>\n      <td>-0.065555</td>\n      <td>-0.001742</td>\n      <td>Cluster 23</td>\n      <td>1.116895e+09</td>\n      <td>...</td>\n      <td>0.366667</td>\n      <td>0.026667</td>\n      <td>0.386667</td>\n      <td>0.006667</td>\n      <td>0.820000</td>\n      <td>0.146667</td>\n      <td>0.033333</td>\n      <td>-0.063265</td>\n      <td>-0.020758</td>\n      <td>-0.001340</td>\n    </tr>\n    <tr>\n      <th>612229</th>\n      <td>64.0</td>\n      <td>2019-10-21</td>\n      <td>3.72182</td>\n      <td>5.70359</td>\n      <td>1.697270e+09</td>\n      <td>-15.643</td>\n      <td>-0.033108</td>\n      <td>-0.002763</td>\n      <td>Cluster 23</td>\n      <td>1.116895e+09</td>\n      <td>...</td>\n      <td>0.366667</td>\n      <td>0.026667</td>\n      <td>0.386667</td>\n      <td>0.006667</td>\n      <td>0.820000</td>\n      <td>0.146667</td>\n      <td>0.033333</td>\n      <td>-0.059555</td>\n      <td>-0.013502</td>\n      <td>-0.002775</td>\n    </tr>\n    <tr>\n      <th>612230</th>\n      <td>64.0</td>\n      <td>2019-10-28</td>\n      <td>3.92688</td>\n      <td>5.68693</td>\n      <td>1.697270e+09</td>\n      <td>28.782</td>\n      <td>0.055097</td>\n      <td>-0.002921</td>\n      <td>Cluster 23</td>\n      <td>1.116895e+09</td>\n      <td>...</td>\n      <td>0.366667</td>\n      <td>0.026667</td>\n      <td>0.386667</td>\n      <td>0.006667</td>\n      <td>0.820000</td>\n      <td>0.146667</td>\n      <td>0.033333</td>\n      <td>0.068959</td>\n      <td>-0.003775</td>\n      <td>-0.000587</td>\n    </tr>\n    <tr>\n      <th>758180</th>\n      <td>64.0</td>\n      <td>2019-11-04</td>\n      <td>3.96800</td>\n      <td>5.66292</td>\n      <td>1.697270e+09</td>\n      <td>4.361</td>\n      <td>0.042239</td>\n      <td>-0.004147</td>\n      <td>Cluster 88</td>\n      <td>6.523597e+08</td>\n      <td>...</td>\n      <td>0.387387</td>\n      <td>0.126126</td>\n      <td>0.297297</td>\n      <td>0.009009</td>\n      <td>0.549550</td>\n      <td>0.297297</td>\n      <td>0.153153</td>\n      <td>-0.037063</td>\n      <td>0.031824</td>\n      <td>-0.014613</td>\n    </tr>\n    <tr>\n      <th>758181</th>\n      <td>64.0</td>\n      <td>2019-11-11</td>\n      <td>3.85007</td>\n      <td>5.64949</td>\n      <td>1.697270e+09</td>\n      <td>-5.342</td>\n      <td>-0.029720</td>\n      <td>-0.002372</td>\n      <td>Cluster 88</td>\n      <td>6.523597e+08</td>\n      <td>...</td>\n      <td>0.387387</td>\n      <td>0.126126</td>\n      <td>0.297297</td>\n      <td>0.009009</td>\n      <td>0.549550</td>\n      <td>0.297297</td>\n      <td>0.153153</td>\n      <td>0.004163</td>\n      <td>-0.022837</td>\n      <td>-0.008096</td>\n    </tr>\n    <tr>\n      <th>758182</th>\n      <td>64.0</td>\n      <td>2019-11-18</td>\n      <td>3.83955</td>\n      <td>5.63156</td>\n      <td>1.697270e+09</td>\n      <td>-2.823</td>\n      <td>-0.002732</td>\n      <td>-0.003174</td>\n      <td>Cluster 88</td>\n      <td>6.523597e+08</td>\n      <td>...</td>\n      <td>0.387387</td>\n      <td>0.126126</td>\n      <td>0.297297</td>\n      <td>0.009009</td>\n      <td>0.549550</td>\n      <td>0.297297</td>\n      <td>0.153153</td>\n      <td>-0.011459</td>\n      <td>-0.010025</td>\n      <td>-0.010351</td>\n    </tr>\n    <tr>\n      <th>758183</th>\n      <td>64.0</td>\n      <td>2019-11-25</td>\n      <td>3.45799</td>\n      <td>5.62003</td>\n      <td>1.697270e+09</td>\n      <td>-36.600</td>\n      <td>-0.099376</td>\n      <td>-0.002047</td>\n      <td>Cluster 88</td>\n      <td>6.523597e+08</td>\n      <td>...</td>\n      <td>0.387387</td>\n      <td>0.126126</td>\n      <td>0.297297</td>\n      <td>0.009009</td>\n      <td>0.549550</td>\n      <td>0.297297</td>\n      <td>0.153153</td>\n      <td>-0.012166</td>\n      <td>-0.005399</td>\n      <td>-0.011243</td>\n    </tr>\n    <tr>\n      <th>758184</th>\n      <td>64.0</td>\n      <td>2019-12-02</td>\n      <td>3.47623</td>\n      <td>5.60152</td>\n      <td>1.697270e+09</td>\n      <td>2.754</td>\n      <td>0.005275</td>\n      <td>-0.003294</td>\n      <td>Cluster 88</td>\n      <td>6.523597e+08</td>\n      <td>...</td>\n      <td>0.387387</td>\n      <td>0.126126</td>\n      <td>0.297297</td>\n      <td>0.009009</td>\n      <td>0.549550</td>\n      <td>0.297297</td>\n      <td>0.153153</td>\n      <td>0.038067</td>\n      <td>0.013617</td>\n      <td>-0.013243</td>\n    </tr>\n    <tr>\n      <th>758185</th>\n      <td>64.0</td>\n      <td>2019-12-09</td>\n      <td>3.39679</td>\n      <td>5.58468</td>\n      <td>1.697270e+09</td>\n      <td>-6.099</td>\n      <td>-0.022852</td>\n      <td>-0.003006</td>\n      <td>Cluster 88</td>\n      <td>6.523597e+08</td>\n      <td>...</td>\n      <td>0.387387</td>\n      <td>0.126126</td>\n      <td>0.297297</td>\n      <td>0.009009</td>\n      <td>0.549550</td>\n      <td>0.297297</td>\n      <td>0.153153</td>\n      <td>-0.031402</td>\n      <td>-0.017380</td>\n      <td>-0.011350</td>\n    </tr>\n    <tr>\n      <th>758186</th>\n      <td>64.0</td>\n      <td>2019-12-16</td>\n      <td>3.06738</td>\n      <td>5.57198</td>\n      <td>1.697270e+09</td>\n      <td>-33.788</td>\n      <td>-0.096977</td>\n      <td>-0.002274</td>\n      <td>Cluster 88</td>\n      <td>6.523597e+08</td>\n      <td>...</td>\n      <td>0.387387</td>\n      <td>0.126126</td>\n      <td>0.297297</td>\n      <td>0.009009</td>\n      <td>0.549550</td>\n      <td>0.297297</td>\n      <td>0.153153</td>\n      <td>-0.033877</td>\n      <td>-0.001036</td>\n      <td>-0.013194</td>\n    </tr>\n    <tr>\n      <th>758187</th>\n      <td>64.0</td>\n      <td>2019-12-23</td>\n      <td>2.96338</td>\n      <td>5.55818</td>\n      <td>1.697270e+09</td>\n      <td>-6.522</td>\n      <td>-0.033905</td>\n      <td>-0.002477</td>\n      <td>Cluster 88</td>\n      <td>6.523597e+08</td>\n      <td>...</td>\n      <td>0.387387</td>\n      <td>0.126126</td>\n      <td>0.297297</td>\n      <td>0.009009</td>\n      <td>0.549550</td>\n      <td>0.297297</td>\n      <td>0.153153</td>\n      <td>-0.024797</td>\n      <td>-0.020291</td>\n      <td>-0.010527</td>\n    </tr>\n    <tr>\n      <th>758188</th>\n      <td>64.0</td>\n      <td>2019-12-30</td>\n      <td>2.87120</td>\n      <td>5.55172</td>\n      <td>1.697270e+09</td>\n      <td>-13.190</td>\n      <td>-0.031106</td>\n      <td>-0.001162</td>\n      <td>Cluster 88</td>\n      <td>6.523597e+08</td>\n      <td>...</td>\n      <td>0.387387</td>\n      <td>0.126126</td>\n      <td>0.297297</td>\n      <td>0.009009</td>\n      <td>0.549550</td>\n      <td>0.297297</td>\n      <td>0.153153</td>\n      <td>-0.048462</td>\n      <td>-0.003913</td>\n      <td>-0.006364</td>\n    </tr>\n  </tbody>\n</table>\n<p>50 rows × 44 columns</p>\n</div>"
     },
     "metadata": {},
     "execution_count": 46
    }
   ],
   "source": [
    "final[final['SecurityID'] ==64]"
   ]
  },
  {
   "cell_type": "markdown",
   "metadata": {},
   "source": [
    "## Produce Unscaled Security Dummpy"
   ]
  },
  {
   "cell_type": "code",
   "execution_count": 32,
   "metadata": {},
   "outputs": [
    {
     "output_type": "execute_result",
     "data": {
      "text/plain": "   SecurityID                               OfficialName SecurityType  \\\n0          62                        BACR 4.875 08/13/19         Bond   \n1          64                            POST 5 08/15/26         Bond   \n2          69                        ARNDTN 1.5 05/03/22         Bond   \n3          72  RBS 6.1 06/10/2023 Bullet USD SUBORDINATE         Bond   \n4          78                             AER 5 10/01/21         Bond   \n\n  SecuritySubType SecurityBBGType SecurityBBGYellowKey Series SecuritySector  \\\n0            Bond        EURO MTN                 Corp   None     Financials   \n1            Bond  PRIV PLACEMENT                 Corp   None      Consumers   \n2            Bond       EURO-ZONE                 Corp   None    Real Estate   \n3            Bond          GLOBAL                 Corp   None     Financials   \n4            Bond          GLOBAL                 Corp   None     Financials   \n\n     SecurityIndustry       SecuritySubIndustry  ...               Seniority  \\\n0               Banks       Commer Banks Non-US  ...            Sr Unsecured   \n1     Food & Beverage     Food-Misc/Diversified  ...            Sr Unsecured   \n2         Real Estate  Real Estate Oper/Develop  ...            Sr Unsecured   \n3   Diversified Banks  Diversified Banking Inst  ...  Subordinated Unsecured   \n4  Commercial Finance    Finance-Leasing Compan  ...            Sr Unsecured   \n\n    PaymentRank        IsBailIn QuoteSize  AmountIssued MinIncrement  \\\n0  Sr Unsecured               N       100  2.000000e+09       1000.0   \n1  Sr Unsecured  Not Applicable       100  1.750000e+09       1000.0   \n2  Sr Unsecured  Not Applicable       100  6.000000e+08     100000.0   \n3  Subordinated               Y       100  1.000000e+09       1000.0   \n4  Sr Unsecured               N       100  8.000000e+08       1000.0   \n\n   MinPiece                                     BBGDescription Term   RatingSP  \n0   50000.0                                               None   10        NaN  \n1    2000.0                                               None   10  10.000000  \n2  100000.0  COUPON STEP UP PROVISION IF ISSUER IS NOT BBB ...    6        NaN  \n3    2000.0                 Basel III grandfathered instrument   10  13.000000  \n4  150000.0  ISS'D IN EXCH OF 144A/REGS SEC; SEE CUSIP# 007...    6  14.652361  \n\n[5 rows x 50 columns]",
      "text/html": "<div>\n<style scoped>\n    .dataframe tbody tr th:only-of-type {\n        vertical-align: middle;\n    }\n\n    .dataframe tbody tr th {\n        vertical-align: top;\n    }\n\n    .dataframe thead th {\n        text-align: right;\n    }\n</style>\n<table border=\"1\" class=\"dataframe\">\n  <thead>\n    <tr style=\"text-align: right;\">\n      <th></th>\n      <th>SecurityID</th>\n      <th>OfficialName</th>\n      <th>SecurityType</th>\n      <th>SecuritySubType</th>\n      <th>SecurityBBGType</th>\n      <th>SecurityBBGYellowKey</th>\n      <th>Series</th>\n      <th>SecuritySector</th>\n      <th>SecurityIndustry</th>\n      <th>SecuritySubIndustry</th>\n      <th>...</th>\n      <th>Seniority</th>\n      <th>PaymentRank</th>\n      <th>IsBailIn</th>\n      <th>QuoteSize</th>\n      <th>AmountIssued</th>\n      <th>MinIncrement</th>\n      <th>MinPiece</th>\n      <th>BBGDescription</th>\n      <th>Term</th>\n      <th>RatingSP</th>\n    </tr>\n  </thead>\n  <tbody>\n    <tr>\n      <th>0</th>\n      <td>62</td>\n      <td>BACR 4.875 08/13/19</td>\n      <td>Bond</td>\n      <td>Bond</td>\n      <td>EURO MTN</td>\n      <td>Corp</td>\n      <td>None</td>\n      <td>Financials</td>\n      <td>Banks</td>\n      <td>Commer Banks Non-US</td>\n      <td>...</td>\n      <td>Sr Unsecured</td>\n      <td>Sr Unsecured</td>\n      <td>N</td>\n      <td>100</td>\n      <td>2.000000e+09</td>\n      <td>1000.0</td>\n      <td>50000.0</td>\n      <td>None</td>\n      <td>10</td>\n      <td>NaN</td>\n    </tr>\n    <tr>\n      <th>1</th>\n      <td>64</td>\n      <td>POST 5 08/15/26</td>\n      <td>Bond</td>\n      <td>Bond</td>\n      <td>PRIV PLACEMENT</td>\n      <td>Corp</td>\n      <td>None</td>\n      <td>Consumers</td>\n      <td>Food &amp; Beverage</td>\n      <td>Food-Misc/Diversified</td>\n      <td>...</td>\n      <td>Sr Unsecured</td>\n      <td>Sr Unsecured</td>\n      <td>Not Applicable</td>\n      <td>100</td>\n      <td>1.750000e+09</td>\n      <td>1000.0</td>\n      <td>2000.0</td>\n      <td>None</td>\n      <td>10</td>\n      <td>10.000000</td>\n    </tr>\n    <tr>\n      <th>2</th>\n      <td>69</td>\n      <td>ARNDTN 1.5 05/03/22</td>\n      <td>Bond</td>\n      <td>Bond</td>\n      <td>EURO-ZONE</td>\n      <td>Corp</td>\n      <td>None</td>\n      <td>Real Estate</td>\n      <td>Real Estate</td>\n      <td>Real Estate Oper/Develop</td>\n      <td>...</td>\n      <td>Sr Unsecured</td>\n      <td>Sr Unsecured</td>\n      <td>Not Applicable</td>\n      <td>100</td>\n      <td>6.000000e+08</td>\n      <td>100000.0</td>\n      <td>100000.0</td>\n      <td>COUPON STEP UP PROVISION IF ISSUER IS NOT BBB ...</td>\n      <td>6</td>\n      <td>NaN</td>\n    </tr>\n    <tr>\n      <th>3</th>\n      <td>72</td>\n      <td>RBS 6.1 06/10/2023 Bullet USD SUBORDINATE</td>\n      <td>Bond</td>\n      <td>Bond</td>\n      <td>GLOBAL</td>\n      <td>Corp</td>\n      <td>None</td>\n      <td>Financials</td>\n      <td>Diversified Banks</td>\n      <td>Diversified Banking Inst</td>\n      <td>...</td>\n      <td>Subordinated Unsecured</td>\n      <td>Subordinated</td>\n      <td>Y</td>\n      <td>100</td>\n      <td>1.000000e+09</td>\n      <td>1000.0</td>\n      <td>2000.0</td>\n      <td>Basel III grandfathered instrument</td>\n      <td>10</td>\n      <td>13.000000</td>\n    </tr>\n    <tr>\n      <th>4</th>\n      <td>78</td>\n      <td>AER 5 10/01/21</td>\n      <td>Bond</td>\n      <td>Bond</td>\n      <td>GLOBAL</td>\n      <td>Corp</td>\n      <td>None</td>\n      <td>Financials</td>\n      <td>Commercial Finance</td>\n      <td>Finance-Leasing Compan</td>\n      <td>...</td>\n      <td>Sr Unsecured</td>\n      <td>Sr Unsecured</td>\n      <td>N</td>\n      <td>100</td>\n      <td>8.000000e+08</td>\n      <td>1000.0</td>\n      <td>150000.0</td>\n      <td>ISS'D IN EXCH OF 144A/REGS SEC; SEE CUSIP# 007...</td>\n      <td>6</td>\n      <td>14.652361</td>\n    </tr>\n  </tbody>\n</table>\n<p>5 rows × 50 columns</p>\n</div>"
     },
     "metadata": {},
     "execution_count": 32
    }
   ],
   "source": [
    "security_data.head()"
   ]
  },
  {
   "cell_type": "code",
   "execution_count": 33,
   "metadata": {},
   "outputs": [
    {
     "output_type": "execute_result",
     "data": {
      "text/plain": "28976"
     },
     "metadata": {},
     "execution_count": 33
    }
   ],
   "source": [
    "len(security_data)"
   ]
  },
  {
   "cell_type": "code",
   "execution_count": 34,
   "metadata": {},
   "outputs": [
    {
     "output_type": "execute_result",
     "data": {
      "text/plain": "Index(['SecurityID', 'OfficialName', 'SecurityType', 'SecuritySubType',\n       'SecurityBBGType', 'SecurityBBGYellowKey', 'Series', 'SecuritySector',\n       'SecurityIndustry', 'SecuritySubIndustry', 'BBGSecuritySector',\n       'IssuerParent', 'Obligor', 'Ticker', 'EquityTicker', 'Issuer',\n       'ObligorID', 'CountryDomicile', 'CountryRisk', 'CountryIssue',\n       'Currency', 'Coupon', 'CouponType', 'CouponFrequency', 'CouponDayCount',\n       'CreationDate', 'LastModifiedTime', 'IssueDate', 'PricingDate',\n       'MaturityDate', 'IsCallable', 'IsConvertible', 'IsContingent',\n       'IsFactorable', 'IsHybrid', 'IsMaple', 'IsPrivatePlacement',\n       'IsPreliminary', 'IsPerpetual', 'IsJunior', 'Seniority', 'PaymentRank',\n       'IsBailIn', 'QuoteSize', 'AmountIssued', 'MinIncrement', 'MinPiece',\n       'BBGDescription', 'Term', 'RatingSP'],\n      dtype='object')"
     },
     "metadata": {},
     "execution_count": 34
    }
   ],
   "source": [
    "security_data.columns"
   ]
  },
  {
   "cell_type": "code",
   "execution_count": 35,
   "metadata": {},
   "outputs": [
    {
     "output_type": "execute_result",
     "data": {
      "text/plain": "array(['Sr Unsecured', 'Subordinated Unsecured',\n       'Jr Subordinated Unsecured', 'Secured', '1st Lien Secured',\n       '2nd Lien Secured', 'Asset Backed', '3rd Lien Secured', '1st lien',\n       '1.5 Lien Secured'], dtype=object)"
     },
     "metadata": {},
     "execution_count": 35
    }
   ],
   "source": [
    "security_data.Seniority.unique()"
   ]
  },
  {
   "cell_type": "code",
   "execution_count": 36,
   "metadata": {},
   "outputs": [],
   "source": [
    "df = pd.concat([security_data['SecurityID'],pd.get_dummies(security_data.Seniority)],axis=1) "
   ]
  },
  {
   "cell_type": "code",
   "execution_count": 37,
   "metadata": {},
   "outputs": [],
   "source": [
    "df = pd.concat([df,pd.get_dummies(security_data.SecuritySector)],axis=1) "
   ]
  },
  {
   "cell_type": "code",
   "execution_count": 38,
   "metadata": {},
   "outputs": [],
   "source": [
    "df = pd.concat([df,pd.get_dummies(security_data.CountryRisk)],axis=1) "
   ]
  },
  {
   "cell_type": "code",
   "execution_count": 39,
   "metadata": {},
   "outputs": [],
   "source": [
    "df = pd.concat([df,pd.get_dummies(security_data.CouponType)],axis=1) "
   ]
  },
  {
   "cell_type": "code",
   "execution_count": 40,
   "metadata": {},
   "outputs": [
    {
     "output_type": "execute_result",
     "data": {
      "text/plain": "       SecurityID  1.5 Lien Secured  1st Lien Secured  1st lien  \\\n0              62                 0                 0         0   \n1              64                 0                 0         0   \n2              69                 0                 0         0   \n3              72                 0                 0         0   \n4              78                 0                 0         0   \n...           ...               ...               ...       ...   \n28971       72948                 0                 0         0   \n28972       72949                 0                 0         0   \n28973       72950                 0                 0         0   \n28974       72951                 0                 0         0   \n28975       72952                 0                 0         0   \n\n       2nd Lien Secured  3rd Lien Secured  Asset Backed  \\\n0                     0                 0             0   \n1                     0                 0             0   \n2                     0                 0             0   \n3                     0                 0             0   \n4                     0                 0             0   \n...                 ...               ...           ...   \n28971                 0                 0             0   \n28972                 0                 0             0   \n28973                 0                 0             0   \n28974                 0                 0             0   \n28975                 0                 0             0   \n\n       Jr Subordinated Unsecured  Secured  Sr Unsecured  ...  FIXED  \\\n0                              0        0             1  ...      1   \n1                              0        0             1  ...      1   \n2                              0        0             1  ...      1   \n3                              0        0             0  ...      1   \n4                              0        0             1  ...      1   \n...                          ...      ...           ...  ...    ...   \n28971                          0        0             1  ...      1   \n28972                          0        0             1  ...      0   \n28973                          0        0             1  ...      0   \n28974                          1        0             0  ...      0   \n28975                          0        0             0  ...      0   \n\n       FLAT TRADING  FLOATING  FUNGED  Fixed  PAY-IN-KIND  STEP CPN  VARIABLE  \\\n0                 0         0       0      0            0         0         0   \n1                 0         0       0      0            0         0         0   \n2                 0         0       0      0            0         0         0   \n3                 0         0       0      0            0         0         0   \n4                 0         0       0      0            0         0         0   \n...             ...       ...     ...    ...          ...       ...       ...   \n28971             0         0       0      0            0         0         0   \n28972             0         0       0      0            0         0         1   \n28973             0         0       0      0            0         0         1   \n28974             0         0       0      0            0         0         1   \n28975             0         0       0      0            0         0         1   \n\n       WHEN ISSUED  ZERO COUPON  \n0                0            0  \n1                0            0  \n2                0            0  \n3                0            0  \n4                0            0  \n...            ...          ...  \n28971            0            0  \n28972            0            0  \n28973            0            0  \n28974            0            0  \n28975            0            0  \n\n[28976 rows x 141 columns]",
      "text/html": "<div>\n<style scoped>\n    .dataframe tbody tr th:only-of-type {\n        vertical-align: middle;\n    }\n\n    .dataframe tbody tr th {\n        vertical-align: top;\n    }\n\n    .dataframe thead th {\n        text-align: right;\n    }\n</style>\n<table border=\"1\" class=\"dataframe\">\n  <thead>\n    <tr style=\"text-align: right;\">\n      <th></th>\n      <th>SecurityID</th>\n      <th>1.5 Lien Secured</th>\n      <th>1st Lien Secured</th>\n      <th>1st lien</th>\n      <th>2nd Lien Secured</th>\n      <th>3rd Lien Secured</th>\n      <th>Asset Backed</th>\n      <th>Jr Subordinated Unsecured</th>\n      <th>Secured</th>\n      <th>Sr Unsecured</th>\n      <th>...</th>\n      <th>FIXED</th>\n      <th>FLAT TRADING</th>\n      <th>FLOATING</th>\n      <th>FUNGED</th>\n      <th>Fixed</th>\n      <th>PAY-IN-KIND</th>\n      <th>STEP CPN</th>\n      <th>VARIABLE</th>\n      <th>WHEN ISSUED</th>\n      <th>ZERO COUPON</th>\n    </tr>\n  </thead>\n  <tbody>\n    <tr>\n      <th>0</th>\n      <td>62</td>\n      <td>0</td>\n      <td>0</td>\n      <td>0</td>\n      <td>0</td>\n      <td>0</td>\n      <td>0</td>\n      <td>0</td>\n      <td>0</td>\n      <td>1</td>\n      <td>...</td>\n      <td>1</td>\n      <td>0</td>\n      <td>0</td>\n      <td>0</td>\n      <td>0</td>\n      <td>0</td>\n      <td>0</td>\n      <td>0</td>\n      <td>0</td>\n      <td>0</td>\n    </tr>\n    <tr>\n      <th>1</th>\n      <td>64</td>\n      <td>0</td>\n      <td>0</td>\n      <td>0</td>\n      <td>0</td>\n      <td>0</td>\n      <td>0</td>\n      <td>0</td>\n      <td>0</td>\n      <td>1</td>\n      <td>...</td>\n      <td>1</td>\n      <td>0</td>\n      <td>0</td>\n      <td>0</td>\n      <td>0</td>\n      <td>0</td>\n      <td>0</td>\n      <td>0</td>\n      <td>0</td>\n      <td>0</td>\n    </tr>\n    <tr>\n      <th>2</th>\n      <td>69</td>\n      <td>0</td>\n      <td>0</td>\n      <td>0</td>\n      <td>0</td>\n      <td>0</td>\n      <td>0</td>\n      <td>0</td>\n      <td>0</td>\n      <td>1</td>\n      <td>...</td>\n      <td>1</td>\n      <td>0</td>\n      <td>0</td>\n      <td>0</td>\n      <td>0</td>\n      <td>0</td>\n      <td>0</td>\n      <td>0</td>\n      <td>0</td>\n      <td>0</td>\n    </tr>\n    <tr>\n      <th>3</th>\n      <td>72</td>\n      <td>0</td>\n      <td>0</td>\n      <td>0</td>\n      <td>0</td>\n      <td>0</td>\n      <td>0</td>\n      <td>0</td>\n      <td>0</td>\n      <td>0</td>\n      <td>...</td>\n      <td>1</td>\n      <td>0</td>\n      <td>0</td>\n      <td>0</td>\n      <td>0</td>\n      <td>0</td>\n      <td>0</td>\n      <td>0</td>\n      <td>0</td>\n      <td>0</td>\n    </tr>\n    <tr>\n      <th>4</th>\n      <td>78</td>\n      <td>0</td>\n      <td>0</td>\n      <td>0</td>\n      <td>0</td>\n      <td>0</td>\n      <td>0</td>\n      <td>0</td>\n      <td>0</td>\n      <td>1</td>\n      <td>...</td>\n      <td>1</td>\n      <td>0</td>\n      <td>0</td>\n      <td>0</td>\n      <td>0</td>\n      <td>0</td>\n      <td>0</td>\n      <td>0</td>\n      <td>0</td>\n      <td>0</td>\n    </tr>\n    <tr>\n      <th>...</th>\n      <td>...</td>\n      <td>...</td>\n      <td>...</td>\n      <td>...</td>\n      <td>...</td>\n      <td>...</td>\n      <td>...</td>\n      <td>...</td>\n      <td>...</td>\n      <td>...</td>\n      <td>...</td>\n      <td>...</td>\n      <td>...</td>\n      <td>...</td>\n      <td>...</td>\n      <td>...</td>\n      <td>...</td>\n      <td>...</td>\n      <td>...</td>\n      <td>...</td>\n      <td>...</td>\n    </tr>\n    <tr>\n      <th>28971</th>\n      <td>72948</td>\n      <td>0</td>\n      <td>0</td>\n      <td>0</td>\n      <td>0</td>\n      <td>0</td>\n      <td>0</td>\n      <td>0</td>\n      <td>0</td>\n      <td>1</td>\n      <td>...</td>\n      <td>1</td>\n      <td>0</td>\n      <td>0</td>\n      <td>0</td>\n      <td>0</td>\n      <td>0</td>\n      <td>0</td>\n      <td>0</td>\n      <td>0</td>\n      <td>0</td>\n    </tr>\n    <tr>\n      <th>28972</th>\n      <td>72949</td>\n      <td>0</td>\n      <td>0</td>\n      <td>0</td>\n      <td>0</td>\n      <td>0</td>\n      <td>0</td>\n      <td>0</td>\n      <td>0</td>\n      <td>1</td>\n      <td>...</td>\n      <td>0</td>\n      <td>0</td>\n      <td>0</td>\n      <td>0</td>\n      <td>0</td>\n      <td>0</td>\n      <td>0</td>\n      <td>1</td>\n      <td>0</td>\n      <td>0</td>\n    </tr>\n    <tr>\n      <th>28973</th>\n      <td>72950</td>\n      <td>0</td>\n      <td>0</td>\n      <td>0</td>\n      <td>0</td>\n      <td>0</td>\n      <td>0</td>\n      <td>0</td>\n      <td>0</td>\n      <td>1</td>\n      <td>...</td>\n      <td>0</td>\n      <td>0</td>\n      <td>0</td>\n      <td>0</td>\n      <td>0</td>\n      <td>0</td>\n      <td>0</td>\n      <td>1</td>\n      <td>0</td>\n      <td>0</td>\n    </tr>\n    <tr>\n      <th>28974</th>\n      <td>72951</td>\n      <td>0</td>\n      <td>0</td>\n      <td>0</td>\n      <td>0</td>\n      <td>0</td>\n      <td>0</td>\n      <td>1</td>\n      <td>0</td>\n      <td>0</td>\n      <td>...</td>\n      <td>0</td>\n      <td>0</td>\n      <td>0</td>\n      <td>0</td>\n      <td>0</td>\n      <td>0</td>\n      <td>0</td>\n      <td>1</td>\n      <td>0</td>\n      <td>0</td>\n    </tr>\n    <tr>\n      <th>28975</th>\n      <td>72952</td>\n      <td>0</td>\n      <td>0</td>\n      <td>0</td>\n      <td>0</td>\n      <td>0</td>\n      <td>0</td>\n      <td>0</td>\n      <td>0</td>\n      <td>0</td>\n      <td>...</td>\n      <td>0</td>\n      <td>0</td>\n      <td>0</td>\n      <td>0</td>\n      <td>0</td>\n      <td>0</td>\n      <td>0</td>\n      <td>1</td>\n      <td>0</td>\n      <td>0</td>\n    </tr>\n  </tbody>\n</table>\n<p>28976 rows × 141 columns</p>\n</div>"
     },
     "metadata": {},
     "execution_count": 40
    }
   ],
   "source": [
    "df"
   ]
  },
  {
   "cell_type": "code",
   "execution_count": 37,
   "metadata": {},
   "outputs": [],
   "source": [
    "df_unsacled = pd.concat([df,security_data[['MinIncrement','MinPiece','Term','RatingSP']]],axis=1) "
   ]
  },
  {
   "cell_type": "code",
   "execution_count": 39,
   "metadata": {},
   "outputs": [
    {
     "output_type": "execute_result",
     "data": {
      "text/plain": "       SecurityID  1.5 Lien Secured  1st Lien Secured  1st lien  \\\n0              62                 0                 0         0   \n1              64                 0                 0         0   \n2              69                 0                 0         0   \n3              72                 0                 0         0   \n4              78                 0                 0         0   \n...           ...               ...               ...       ...   \n28971       72948                 0                 0         0   \n28972       72949                 0                 0         0   \n28973       72950                 0                 0         0   \n28974       72951                 0                 0         0   \n28975       72952                 0                 0         0   \n\n       2nd Lien Secured  3rd Lien Secured  Asset Backed  \\\n0                     0                 0             0   \n1                     0                 0             0   \n2                     0                 0             0   \n3                     0                 0             0   \n4                     0                 0             0   \n...                 ...               ...           ...   \n28971                 0                 0             0   \n28972                 0                 0             0   \n28973                 0                 0             0   \n28974                 0                 0             0   \n28975                 0                 0             0   \n\n       Jr Subordinated Unsecured  Secured  Sr Unsecured  ...  Fixed  \\\n0                              0        0             1  ...      0   \n1                              0        0             1  ...      0   \n2                              0        0             1  ...      0   \n3                              0        0             0  ...      0   \n4                              0        0             1  ...      0   \n...                          ...      ...           ...  ...    ...   \n28971                          0        0             1  ...      0   \n28972                          0        0             1  ...      0   \n28973                          0        0             1  ...      0   \n28974                          1        0             0  ...      0   \n28975                          0        0             0  ...      0   \n\n       PAY-IN-KIND  STEP CPN  VARIABLE  WHEN ISSUED  ZERO COUPON  \\\n0                0         0         0            0            0   \n1                0         0         0            0            0   \n2                0         0         0            0            0   \n3                0         0         0            0            0   \n4                0         0         0            0            0   \n...            ...       ...       ...          ...          ...   \n28971            0         0         0            0            0   \n28972            0         0         1            0            0   \n28973            0         0         1            0            0   \n28974            0         0         1            0            0   \n28975            0         0         1            0            0   \n\n       MinIncrement  MinPiece  Term   RatingSP  \n0            1000.0   50000.0    10        NaN  \n1            1000.0    2000.0    10  10.000000  \n2          100000.0  100000.0     6        NaN  \n3            1000.0    2000.0    10  13.000000  \n4            1000.0  150000.0     6  14.652361  \n...             ...       ...   ...        ...  \n28971        1000.0  200000.0     3        NaN  \n28972        1000.0  200000.0   100        NaN  \n28973        1000.0  200000.0   100        NaN  \n28974      200000.0  200000.0   100        NaN  \n28975        1000.0  200000.0   100        NaN  \n\n[28976 rows x 145 columns]",
      "text/html": "<div>\n<style scoped>\n    .dataframe tbody tr th:only-of-type {\n        vertical-align: middle;\n    }\n\n    .dataframe tbody tr th {\n        vertical-align: top;\n    }\n\n    .dataframe thead th {\n        text-align: right;\n    }\n</style>\n<table border=\"1\" class=\"dataframe\">\n  <thead>\n    <tr style=\"text-align: right;\">\n      <th></th>\n      <th>SecurityID</th>\n      <th>1.5 Lien Secured</th>\n      <th>1st Lien Secured</th>\n      <th>1st lien</th>\n      <th>2nd Lien Secured</th>\n      <th>3rd Lien Secured</th>\n      <th>Asset Backed</th>\n      <th>Jr Subordinated Unsecured</th>\n      <th>Secured</th>\n      <th>Sr Unsecured</th>\n      <th>...</th>\n      <th>Fixed</th>\n      <th>PAY-IN-KIND</th>\n      <th>STEP CPN</th>\n      <th>VARIABLE</th>\n      <th>WHEN ISSUED</th>\n      <th>ZERO COUPON</th>\n      <th>MinIncrement</th>\n      <th>MinPiece</th>\n      <th>Term</th>\n      <th>RatingSP</th>\n    </tr>\n  </thead>\n  <tbody>\n    <tr>\n      <th>0</th>\n      <td>62</td>\n      <td>0</td>\n      <td>0</td>\n      <td>0</td>\n      <td>0</td>\n      <td>0</td>\n      <td>0</td>\n      <td>0</td>\n      <td>0</td>\n      <td>1</td>\n      <td>...</td>\n      <td>0</td>\n      <td>0</td>\n      <td>0</td>\n      <td>0</td>\n      <td>0</td>\n      <td>0</td>\n      <td>1000.0</td>\n      <td>50000.0</td>\n      <td>10</td>\n      <td>NaN</td>\n    </tr>\n    <tr>\n      <th>1</th>\n      <td>64</td>\n      <td>0</td>\n      <td>0</td>\n      <td>0</td>\n      <td>0</td>\n      <td>0</td>\n      <td>0</td>\n      <td>0</td>\n      <td>0</td>\n      <td>1</td>\n      <td>...</td>\n      <td>0</td>\n      <td>0</td>\n      <td>0</td>\n      <td>0</td>\n      <td>0</td>\n      <td>0</td>\n      <td>1000.0</td>\n      <td>2000.0</td>\n      <td>10</td>\n      <td>10.000000</td>\n    </tr>\n    <tr>\n      <th>2</th>\n      <td>69</td>\n      <td>0</td>\n      <td>0</td>\n      <td>0</td>\n      <td>0</td>\n      <td>0</td>\n      <td>0</td>\n      <td>0</td>\n      <td>0</td>\n      <td>1</td>\n      <td>...</td>\n      <td>0</td>\n      <td>0</td>\n      <td>0</td>\n      <td>0</td>\n      <td>0</td>\n      <td>0</td>\n      <td>100000.0</td>\n      <td>100000.0</td>\n      <td>6</td>\n      <td>NaN</td>\n    </tr>\n    <tr>\n      <th>3</th>\n      <td>72</td>\n      <td>0</td>\n      <td>0</td>\n      <td>0</td>\n      <td>0</td>\n      <td>0</td>\n      <td>0</td>\n      <td>0</td>\n      <td>0</td>\n      <td>0</td>\n      <td>...</td>\n      <td>0</td>\n      <td>0</td>\n      <td>0</td>\n      <td>0</td>\n      <td>0</td>\n      <td>0</td>\n      <td>1000.0</td>\n      <td>2000.0</td>\n      <td>10</td>\n      <td>13.000000</td>\n    </tr>\n    <tr>\n      <th>4</th>\n      <td>78</td>\n      <td>0</td>\n      <td>0</td>\n      <td>0</td>\n      <td>0</td>\n      <td>0</td>\n      <td>0</td>\n      <td>0</td>\n      <td>0</td>\n      <td>1</td>\n      <td>...</td>\n      <td>0</td>\n      <td>0</td>\n      <td>0</td>\n      <td>0</td>\n      <td>0</td>\n      <td>0</td>\n      <td>1000.0</td>\n      <td>150000.0</td>\n      <td>6</td>\n      <td>14.652361</td>\n    </tr>\n    <tr>\n      <th>...</th>\n      <td>...</td>\n      <td>...</td>\n      <td>...</td>\n      <td>...</td>\n      <td>...</td>\n      <td>...</td>\n      <td>...</td>\n      <td>...</td>\n      <td>...</td>\n      <td>...</td>\n      <td>...</td>\n      <td>...</td>\n      <td>...</td>\n      <td>...</td>\n      <td>...</td>\n      <td>...</td>\n      <td>...</td>\n      <td>...</td>\n      <td>...</td>\n      <td>...</td>\n      <td>...</td>\n    </tr>\n    <tr>\n      <th>28971</th>\n      <td>72948</td>\n      <td>0</td>\n      <td>0</td>\n      <td>0</td>\n      <td>0</td>\n      <td>0</td>\n      <td>0</td>\n      <td>0</td>\n      <td>0</td>\n      <td>1</td>\n      <td>...</td>\n      <td>0</td>\n      <td>0</td>\n      <td>0</td>\n      <td>0</td>\n      <td>0</td>\n      <td>0</td>\n      <td>1000.0</td>\n      <td>200000.0</td>\n      <td>3</td>\n      <td>NaN</td>\n    </tr>\n    <tr>\n      <th>28972</th>\n      <td>72949</td>\n      <td>0</td>\n      <td>0</td>\n      <td>0</td>\n      <td>0</td>\n      <td>0</td>\n      <td>0</td>\n      <td>0</td>\n      <td>0</td>\n      <td>1</td>\n      <td>...</td>\n      <td>0</td>\n      <td>0</td>\n      <td>0</td>\n      <td>1</td>\n      <td>0</td>\n      <td>0</td>\n      <td>1000.0</td>\n      <td>200000.0</td>\n      <td>100</td>\n      <td>NaN</td>\n    </tr>\n    <tr>\n      <th>28973</th>\n      <td>72950</td>\n      <td>0</td>\n      <td>0</td>\n      <td>0</td>\n      <td>0</td>\n      <td>0</td>\n      <td>0</td>\n      <td>0</td>\n      <td>0</td>\n      <td>1</td>\n      <td>...</td>\n      <td>0</td>\n      <td>0</td>\n      <td>0</td>\n      <td>1</td>\n      <td>0</td>\n      <td>0</td>\n      <td>1000.0</td>\n      <td>200000.0</td>\n      <td>100</td>\n      <td>NaN</td>\n    </tr>\n    <tr>\n      <th>28974</th>\n      <td>72951</td>\n      <td>0</td>\n      <td>0</td>\n      <td>0</td>\n      <td>0</td>\n      <td>0</td>\n      <td>0</td>\n      <td>1</td>\n      <td>0</td>\n      <td>0</td>\n      <td>...</td>\n      <td>0</td>\n      <td>0</td>\n      <td>0</td>\n      <td>1</td>\n      <td>0</td>\n      <td>0</td>\n      <td>200000.0</td>\n      <td>200000.0</td>\n      <td>100</td>\n      <td>NaN</td>\n    </tr>\n    <tr>\n      <th>28975</th>\n      <td>72952</td>\n      <td>0</td>\n      <td>0</td>\n      <td>0</td>\n      <td>0</td>\n      <td>0</td>\n      <td>0</td>\n      <td>0</td>\n      <td>0</td>\n      <td>0</td>\n      <td>...</td>\n      <td>0</td>\n      <td>0</td>\n      <td>0</td>\n      <td>1</td>\n      <td>0</td>\n      <td>0</td>\n      <td>1000.0</td>\n      <td>200000.0</td>\n      <td>100</td>\n      <td>NaN</td>\n    </tr>\n  </tbody>\n</table>\n<p>28976 rows × 145 columns</p>\n</div>"
     },
     "metadata": {},
     "execution_count": 39
    }
   ],
   "source": [
    "df_unsacled"
   ]
  },
  {
   "cell_type": "code",
   "execution_count": 40,
   "metadata": {},
   "outputs": [],
   "source": [
    "df_unsacled.to_csv('Security_info_post_dummy.csv')"
   ]
  },
  {
   "cell_type": "code",
   "execution_count": 59,
   "metadata": {},
   "outputs": [],
   "source": [
    "##Market query\n",
    "Market_query = \"select * from market_data_weekly\"\n",
    "Market_data = pd.read_sql(Market_query,con=db_connection)"
   ]
  },
  {
   "cell_type": "code",
   "execution_count": 60,
   "metadata": {},
   "outputs": [],
   "source": [
    "Market_data = Market_data.fillna(0)"
   ]
  },
  {
   "cell_type": "code",
   "execution_count": 61,
   "metadata": {},
   "outputs": [
    {
     "output_type": "execute_result",
     "data": {
      "text/plain": "       KeyDate  skew_change  swap_change  vix_change  Close_change  \\\n0   2019-01-02    -0.004584    -0.004966   -0.086546      0.001269   \n1   2019-01-03    -0.042981     0.000000    0.096038     -0.024757   \n2   2019-01-04    -0.006951    -0.012668   -0.159921      0.034336   \n3   2019-01-07     0.019024     0.005443    0.000935      0.007010   \n4   2019-01-08     0.015322     0.020495   -0.043458      0.009695   \n..         ...          ...          ...         ...           ...   \n410 2020-08-18     0.000000     0.000000    0.000000      0.002303   \n411 2020-08-19     0.000000     0.000000    0.000000     -0.004404   \n412 2020-08-20     0.000000     0.000000    0.000000      0.003159   \n413 2020-08-21     0.000000     0.000000    0.000000      0.003441   \n414 2020-08-24     0.000000     0.000000    0.000000      0.010044   \n\n     slope_change  skew_change_Weekly  swap_change_Weekly  vix_change_Weekly  \\\n0       -0.238095            0.000000                 0.0            0.00000   \n1        0.062500            0.000000                 0.0            0.00000   \n2        0.000000            0.000000                 0.0            0.00000   \n3        0.000000            0.000000                 0.0            0.00000   \n4       -0.117647           -0.004034                 0.0           -0.03859   \n..            ...                 ...                 ...                ...   \n410      0.000000            0.000000                 0.0            0.00000   \n411      0.000000            0.000000                 0.0            0.00000   \n412      0.000000            0.000000                 0.0            0.00000   \n413      0.000000            0.000000                 0.0            0.00000   \n414      0.000000            0.000000                 0.0            0.00000   \n\n     Close_change_Weekly  slope_change_Weekly  \n0               0.000000            -0.026617  \n1               0.000000            -0.024643  \n2               0.000000            -0.034643  \n3               0.000000            -0.025119  \n4               0.005511            -0.058648  \n..                   ...                  ...  \n410             0.003358             0.000000  \n411            -0.000322             0.000000  \n412             0.000719             0.000000  \n413             0.001442             0.000000  \n414             0.002908             0.000000  \n\n[415 rows x 11 columns]",
      "text/html": "<div>\n<style scoped>\n    .dataframe tbody tr th:only-of-type {\n        vertical-align: middle;\n    }\n\n    .dataframe tbody tr th {\n        vertical-align: top;\n    }\n\n    .dataframe thead th {\n        text-align: right;\n    }\n</style>\n<table border=\"1\" class=\"dataframe\">\n  <thead>\n    <tr style=\"text-align: right;\">\n      <th></th>\n      <th>KeyDate</th>\n      <th>skew_change</th>\n      <th>swap_change</th>\n      <th>vix_change</th>\n      <th>Close_change</th>\n      <th>slope_change</th>\n      <th>skew_change_Weekly</th>\n      <th>swap_change_Weekly</th>\n      <th>vix_change_Weekly</th>\n      <th>Close_change_Weekly</th>\n      <th>slope_change_Weekly</th>\n    </tr>\n  </thead>\n  <tbody>\n    <tr>\n      <th>0</th>\n      <td>2019-01-02</td>\n      <td>-0.004584</td>\n      <td>-0.004966</td>\n      <td>-0.086546</td>\n      <td>0.001269</td>\n      <td>-0.238095</td>\n      <td>0.000000</td>\n      <td>0.0</td>\n      <td>0.00000</td>\n      <td>0.000000</td>\n      <td>-0.026617</td>\n    </tr>\n    <tr>\n      <th>1</th>\n      <td>2019-01-03</td>\n      <td>-0.042981</td>\n      <td>0.000000</td>\n      <td>0.096038</td>\n      <td>-0.024757</td>\n      <td>0.062500</td>\n      <td>0.000000</td>\n      <td>0.0</td>\n      <td>0.00000</td>\n      <td>0.000000</td>\n      <td>-0.024643</td>\n    </tr>\n    <tr>\n      <th>2</th>\n      <td>2019-01-04</td>\n      <td>-0.006951</td>\n      <td>-0.012668</td>\n      <td>-0.159921</td>\n      <td>0.034336</td>\n      <td>0.000000</td>\n      <td>0.000000</td>\n      <td>0.0</td>\n      <td>0.00000</td>\n      <td>0.000000</td>\n      <td>-0.034643</td>\n    </tr>\n    <tr>\n      <th>3</th>\n      <td>2019-01-07</td>\n      <td>0.019024</td>\n      <td>0.005443</td>\n      <td>0.000935</td>\n      <td>0.007010</td>\n      <td>0.000000</td>\n      <td>0.000000</td>\n      <td>0.0</td>\n      <td>0.00000</td>\n      <td>0.000000</td>\n      <td>-0.025119</td>\n    </tr>\n    <tr>\n      <th>4</th>\n      <td>2019-01-08</td>\n      <td>0.015322</td>\n      <td>0.020495</td>\n      <td>-0.043458</td>\n      <td>0.009695</td>\n      <td>-0.117647</td>\n      <td>-0.004034</td>\n      <td>0.0</td>\n      <td>-0.03859</td>\n      <td>0.005511</td>\n      <td>-0.058648</td>\n    </tr>\n    <tr>\n      <th>...</th>\n      <td>...</td>\n      <td>...</td>\n      <td>...</td>\n      <td>...</td>\n      <td>...</td>\n      <td>...</td>\n      <td>...</td>\n      <td>...</td>\n      <td>...</td>\n      <td>...</td>\n      <td>...</td>\n    </tr>\n    <tr>\n      <th>410</th>\n      <td>2020-08-18</td>\n      <td>0.000000</td>\n      <td>0.000000</td>\n      <td>0.000000</td>\n      <td>0.002303</td>\n      <td>0.000000</td>\n      <td>0.000000</td>\n      <td>0.0</td>\n      <td>0.00000</td>\n      <td>0.003358</td>\n      <td>0.000000</td>\n    </tr>\n    <tr>\n      <th>411</th>\n      <td>2020-08-19</td>\n      <td>0.000000</td>\n      <td>0.000000</td>\n      <td>0.000000</td>\n      <td>-0.004404</td>\n      <td>0.000000</td>\n      <td>0.000000</td>\n      <td>0.0</td>\n      <td>0.00000</td>\n      <td>-0.000322</td>\n      <td>0.000000</td>\n    </tr>\n    <tr>\n      <th>412</th>\n      <td>2020-08-20</td>\n      <td>0.000000</td>\n      <td>0.000000</td>\n      <td>0.000000</td>\n      <td>0.003159</td>\n      <td>0.000000</td>\n      <td>0.000000</td>\n      <td>0.0</td>\n      <td>0.00000</td>\n      <td>0.000719</td>\n      <td>0.000000</td>\n    </tr>\n    <tr>\n      <th>413</th>\n      <td>2020-08-21</td>\n      <td>0.000000</td>\n      <td>0.000000</td>\n      <td>0.000000</td>\n      <td>0.003441</td>\n      <td>0.000000</td>\n      <td>0.000000</td>\n      <td>0.0</td>\n      <td>0.00000</td>\n      <td>0.001442</td>\n      <td>0.000000</td>\n    </tr>\n    <tr>\n      <th>414</th>\n      <td>2020-08-24</td>\n      <td>0.000000</td>\n      <td>0.000000</td>\n      <td>0.000000</td>\n      <td>0.010044</td>\n      <td>0.000000</td>\n      <td>0.000000</td>\n      <td>0.0</td>\n      <td>0.00000</td>\n      <td>0.002908</td>\n      <td>0.000000</td>\n    </tr>\n  </tbody>\n</table>\n<p>415 rows × 11 columns</p>\n</div>"
     },
     "metadata": {},
     "execution_count": 61
    }
   ],
   "source": [
    "Market_data"
   ]
  },
  {
   "cell_type": "code",
   "execution_count": 62,
   "metadata": {},
   "outputs": [],
   "source": [
    "Market_data = Market_data[['KeyDate','skew_change_Weekly','swap_change_Weekly','vix_change_Weekly','Close_change_Weekly','slope_change_Weekly']]"
   ]
  },
  {
   "cell_type": "code",
   "execution_count": 63,
   "metadata": {},
   "outputs": [],
   "source": [
    "final_change_data2 = final.merge(Market_data,on=['KeyDate'],how='left')"
   ]
  },
  {
   "cell_type": "code",
   "execution_count": 66,
   "metadata": {},
   "outputs": [
    {
     "output_type": "execute_result",
     "data": {
      "text/plain": "        SecurityID    KeyDate  YieldWorst  ModifiedDuration_Plain  \\\n0          56535.0 2019-01-07    26.58950                 1.83121   \n1          56535.0 2019-01-14    21.54340                 1.86436   \n2          56535.0 2019-01-21    18.51400                 1.88186   \n3          56535.0 2019-01-28    17.52680                 1.87785   \n4          56535.0 2019-02-04    17.76590                 1.85843   \n...            ...        ...         ...                     ...   \n724371        64.0 2019-12-02     3.47623                 5.60152   \n724372        64.0 2019-12-09     3.39679                 5.58468   \n724373        64.0 2019-12-16     3.06738                 5.57198   \n724374        64.0 2019-12-23     2.96338                 5.55818   \n724375        64.0 2019-12-30     2.87120                 5.55172   \n\n        AmtOutstanding  Target_G_change  YieldWorst_change  \\\n0         3.000000e+08          -49.590          -0.013582   \n1         3.000000e+08         -512.500          -0.189778   \n2         3.000000e+08         -299.500          -0.140618   \n3         3.000000e+08          -90.430          -0.053322   \n4         3.000000e+08           27.600           0.013642   \n...                ...              ...                ...   \n724371    1.697270e+09            2.754           0.005275   \n724372    1.697270e+09           -6.099          -0.022852   \n724373    1.697270e+09          -33.788          -0.096977   \n724374    1.697270e+09           -6.522          -0.033905   \n724375    1.697270e+09          -13.190          -0.031106   \n\n        ModifiedDuration_Plain_change       Group  \\\n0                           -0.006677  Cluster 83   \n1                            0.018103  Cluster 83   \n2                            0.009387  Cluster 83   \n3                           -0.002131  Cluster 83   \n4                           -0.010342  Cluster 83   \n...                               ...         ...   \n724371                      -0.003294  Cluster 88   \n724372                      -0.003006  Cluster 88   \n724373                      -0.002274  Cluster 88   \n724374                      -0.002477  Cluster 88   \n724375                      -0.001162  Cluster 88   \n\n        Cluster_average_AmountIssued  ...  Cluster Perecentage of Mid Term  \\\n0                       6.380922e+08  ...                         0.288889   \n1                       6.380922e+08  ...                         0.288889   \n2                       6.380922e+08  ...                         0.288889   \n3                       6.380922e+08  ...                         0.288889   \n4                       6.380922e+08  ...                         0.288889   \n...                              ...  ...                              ...   \n724371                  6.523597e+08  ...                         0.297297   \n724372                  6.523597e+08  ...                         0.297297   \n724373                  6.523597e+08  ...                         0.297297   \n724374                  6.523597e+08  ...                         0.297297   \n724375                  6.523597e+08  ...                         0.297297   \n\n        Cluster Perecentage of Short Term  Cluster_G_change  \\\n0                                0.211111         -0.049186   \n1                                0.211111         -0.049477   \n2                                0.211111         -0.051169   \n3                                0.211111         -0.059208   \n4                                0.211111         -0.043795   \n...                                   ...               ...   \n724371                           0.153153          0.038067   \n724372                           0.153153         -0.031402   \n724373                           0.153153         -0.033877   \n724374                           0.153153         -0.024797   \n724375                           0.153153         -0.048462   \n\n        Cluster_average_YieldWorst_change  \\\n0                                0.001261   \n1                               -0.001030   \n2                               -0.019856   \n3                               -0.026304   \n4                               -0.023787   \n...                                   ...   \n724371                           0.013617   \n724372                          -0.017380   \n724373                          -0.001036   \n724374                          -0.020291   \n724375                          -0.003913   \n\n        Cluster_average_ModifiedDuration_Plain_change  skew_change_Weekly  \\\n0                                           -0.008545            0.000000   \n1                                           -0.010469            0.019833   \n2                                           -0.006177            0.000000   \n3                                           -0.006901           -0.011853   \n4                                           -0.008677            0.008622   \n...                                               ...                 ...   \n724371                                      -0.013243            0.001454   \n724372                                      -0.011350            0.016157   \n724373                                      -0.013194            0.011185   \n724374                                      -0.010527            0.000777   \n724375                                      -0.006364           -0.019079   \n\n        swap_change_Weekly  vix_change_Weekly  Close_change_Weekly  \\\n0                 0.000000           0.000000             0.000000   \n1                 0.004032          -0.022044             0.002582   \n2                 0.000000           0.000000             0.000000   \n3                -0.002704           0.016029            -0.001987   \n4                -0.003730          -0.035228             0.006073   \n...                    ...                ...                  ...   \n724371            0.000000           0.041562             0.000247   \n724372            0.005062           0.016261             0.001432   \n724373            0.006814          -0.051634             0.003521   \n724374            0.000000           0.007677             0.002035   \n724375            0.000000           0.035267             0.000010   \n\n        slope_change_Weekly  \n0                 -0.025119  \n1                  0.019248  \n2                  0.000000  \n3                 -0.021487  \n4                  0.060556  \n...                     ...  \n724371             0.077514  \n724372            -0.012690  \n724373             0.050238  \n724374             0.039974  \n724375             0.022584  \n\n[724376 rows x 49 columns]",
      "text/html": "<div>\n<style scoped>\n    .dataframe tbody tr th:only-of-type {\n        vertical-align: middle;\n    }\n\n    .dataframe tbody tr th {\n        vertical-align: top;\n    }\n\n    .dataframe thead th {\n        text-align: right;\n    }\n</style>\n<table border=\"1\" class=\"dataframe\">\n  <thead>\n    <tr style=\"text-align: right;\">\n      <th></th>\n      <th>SecurityID</th>\n      <th>KeyDate</th>\n      <th>YieldWorst</th>\n      <th>ModifiedDuration_Plain</th>\n      <th>AmtOutstanding</th>\n      <th>Target_G_change</th>\n      <th>YieldWorst_change</th>\n      <th>ModifiedDuration_Plain_change</th>\n      <th>Group</th>\n      <th>Cluster_average_AmountIssued</th>\n      <th>...</th>\n      <th>Cluster Perecentage of Mid Term</th>\n      <th>Cluster Perecentage of Short Term</th>\n      <th>Cluster_G_change</th>\n      <th>Cluster_average_YieldWorst_change</th>\n      <th>Cluster_average_ModifiedDuration_Plain_change</th>\n      <th>skew_change_Weekly</th>\n      <th>swap_change_Weekly</th>\n      <th>vix_change_Weekly</th>\n      <th>Close_change_Weekly</th>\n      <th>slope_change_Weekly</th>\n    </tr>\n  </thead>\n  <tbody>\n    <tr>\n      <th>0</th>\n      <td>56535.0</td>\n      <td>2019-01-07</td>\n      <td>26.58950</td>\n      <td>1.83121</td>\n      <td>3.000000e+08</td>\n      <td>-49.590</td>\n      <td>-0.013582</td>\n      <td>-0.006677</td>\n      <td>Cluster 83</td>\n      <td>6.380922e+08</td>\n      <td>...</td>\n      <td>0.288889</td>\n      <td>0.211111</td>\n      <td>-0.049186</td>\n      <td>0.001261</td>\n      <td>-0.008545</td>\n      <td>0.000000</td>\n      <td>0.000000</td>\n      <td>0.000000</td>\n      <td>0.000000</td>\n      <td>-0.025119</td>\n    </tr>\n    <tr>\n      <th>1</th>\n      <td>56535.0</td>\n      <td>2019-01-14</td>\n      <td>21.54340</td>\n      <td>1.86436</td>\n      <td>3.000000e+08</td>\n      <td>-512.500</td>\n      <td>-0.189778</td>\n      <td>0.018103</td>\n      <td>Cluster 83</td>\n      <td>6.380922e+08</td>\n      <td>...</td>\n      <td>0.288889</td>\n      <td>0.211111</td>\n      <td>-0.049477</td>\n      <td>-0.001030</td>\n      <td>-0.010469</td>\n      <td>0.019833</td>\n      <td>0.004032</td>\n      <td>-0.022044</td>\n      <td>0.002582</td>\n      <td>0.019248</td>\n    </tr>\n    <tr>\n      <th>2</th>\n      <td>56535.0</td>\n      <td>2019-01-21</td>\n      <td>18.51400</td>\n      <td>1.88186</td>\n      <td>3.000000e+08</td>\n      <td>-299.500</td>\n      <td>-0.140618</td>\n      <td>0.009387</td>\n      <td>Cluster 83</td>\n      <td>6.380922e+08</td>\n      <td>...</td>\n      <td>0.288889</td>\n      <td>0.211111</td>\n      <td>-0.051169</td>\n      <td>-0.019856</td>\n      <td>-0.006177</td>\n      <td>0.000000</td>\n      <td>0.000000</td>\n      <td>0.000000</td>\n      <td>0.000000</td>\n      <td>0.000000</td>\n    </tr>\n    <tr>\n      <th>3</th>\n      <td>56535.0</td>\n      <td>2019-01-28</td>\n      <td>17.52680</td>\n      <td>1.87785</td>\n      <td>3.000000e+08</td>\n      <td>-90.430</td>\n      <td>-0.053322</td>\n      <td>-0.002131</td>\n      <td>Cluster 83</td>\n      <td>6.380922e+08</td>\n      <td>...</td>\n      <td>0.288889</td>\n      <td>0.211111</td>\n      <td>-0.059208</td>\n      <td>-0.026304</td>\n      <td>-0.006901</td>\n      <td>-0.011853</td>\n      <td>-0.002704</td>\n      <td>0.016029</td>\n      <td>-0.001987</td>\n      <td>-0.021487</td>\n    </tr>\n    <tr>\n      <th>4</th>\n      <td>56535.0</td>\n      <td>2019-02-04</td>\n      <td>17.76590</td>\n      <td>1.85843</td>\n      <td>3.000000e+08</td>\n      <td>27.600</td>\n      <td>0.013642</td>\n      <td>-0.010342</td>\n      <td>Cluster 83</td>\n      <td>6.380922e+08</td>\n      <td>...</td>\n      <td>0.288889</td>\n      <td>0.211111</td>\n      <td>-0.043795</td>\n      <td>-0.023787</td>\n      <td>-0.008677</td>\n      <td>0.008622</td>\n      <td>-0.003730</td>\n      <td>-0.035228</td>\n      <td>0.006073</td>\n      <td>0.060556</td>\n    </tr>\n    <tr>\n      <th>...</th>\n      <td>...</td>\n      <td>...</td>\n      <td>...</td>\n      <td>...</td>\n      <td>...</td>\n      <td>...</td>\n      <td>...</td>\n      <td>...</td>\n      <td>...</td>\n      <td>...</td>\n      <td>...</td>\n      <td>...</td>\n      <td>...</td>\n      <td>...</td>\n      <td>...</td>\n      <td>...</td>\n      <td>...</td>\n      <td>...</td>\n      <td>...</td>\n      <td>...</td>\n      <td>...</td>\n    </tr>\n    <tr>\n      <th>724371</th>\n      <td>64.0</td>\n      <td>2019-12-02</td>\n      <td>3.47623</td>\n      <td>5.60152</td>\n      <td>1.697270e+09</td>\n      <td>2.754</td>\n      <td>0.005275</td>\n      <td>-0.003294</td>\n      <td>Cluster 88</td>\n      <td>6.523597e+08</td>\n      <td>...</td>\n      <td>0.297297</td>\n      <td>0.153153</td>\n      <td>0.038067</td>\n      <td>0.013617</td>\n      <td>-0.013243</td>\n      <td>0.001454</td>\n      <td>0.000000</td>\n      <td>0.041562</td>\n      <td>0.000247</td>\n      <td>0.077514</td>\n    </tr>\n    <tr>\n      <th>724372</th>\n      <td>64.0</td>\n      <td>2019-12-09</td>\n      <td>3.39679</td>\n      <td>5.58468</td>\n      <td>1.697270e+09</td>\n      <td>-6.099</td>\n      <td>-0.022852</td>\n      <td>-0.003006</td>\n      <td>Cluster 88</td>\n      <td>6.523597e+08</td>\n      <td>...</td>\n      <td>0.297297</td>\n      <td>0.153153</td>\n      <td>-0.031402</td>\n      <td>-0.017380</td>\n      <td>-0.011350</td>\n      <td>0.016157</td>\n      <td>0.005062</td>\n      <td>0.016261</td>\n      <td>0.001432</td>\n      <td>-0.012690</td>\n    </tr>\n    <tr>\n      <th>724373</th>\n      <td>64.0</td>\n      <td>2019-12-16</td>\n      <td>3.06738</td>\n      <td>5.57198</td>\n      <td>1.697270e+09</td>\n      <td>-33.788</td>\n      <td>-0.096977</td>\n      <td>-0.002274</td>\n      <td>Cluster 88</td>\n      <td>6.523597e+08</td>\n      <td>...</td>\n      <td>0.297297</td>\n      <td>0.153153</td>\n      <td>-0.033877</td>\n      <td>-0.001036</td>\n      <td>-0.013194</td>\n      <td>0.011185</td>\n      <td>0.006814</td>\n      <td>-0.051634</td>\n      <td>0.003521</td>\n      <td>0.050238</td>\n    </tr>\n    <tr>\n      <th>724374</th>\n      <td>64.0</td>\n      <td>2019-12-23</td>\n      <td>2.96338</td>\n      <td>5.55818</td>\n      <td>1.697270e+09</td>\n      <td>-6.522</td>\n      <td>-0.033905</td>\n      <td>-0.002477</td>\n      <td>Cluster 88</td>\n      <td>6.523597e+08</td>\n      <td>...</td>\n      <td>0.297297</td>\n      <td>0.153153</td>\n      <td>-0.024797</td>\n      <td>-0.020291</td>\n      <td>-0.010527</td>\n      <td>0.000777</td>\n      <td>0.000000</td>\n      <td>0.007677</td>\n      <td>0.002035</td>\n      <td>0.039974</td>\n    </tr>\n    <tr>\n      <th>724375</th>\n      <td>64.0</td>\n      <td>2019-12-30</td>\n      <td>2.87120</td>\n      <td>5.55172</td>\n      <td>1.697270e+09</td>\n      <td>-13.190</td>\n      <td>-0.031106</td>\n      <td>-0.001162</td>\n      <td>Cluster 88</td>\n      <td>6.523597e+08</td>\n      <td>...</td>\n      <td>0.297297</td>\n      <td>0.153153</td>\n      <td>-0.048462</td>\n      <td>-0.003913</td>\n      <td>-0.006364</td>\n      <td>-0.019079</td>\n      <td>0.000000</td>\n      <td>0.035267</td>\n      <td>0.000010</td>\n      <td>0.022584</td>\n    </tr>\n  </tbody>\n</table>\n<p>724376 rows × 49 columns</p>\n</div>"
     },
     "metadata": {},
     "execution_count": 66
    }
   ],
   "source": [
    "final_change_data2.fillna(0)"
   ]
  },
  {
   "cell_type": "code",
   "execution_count": 67,
   "metadata": {},
   "outputs": [],
   "source": [
    "final_change_data2.to_csv('Security_and_market_movement_unscaled_cluster_weekly_125.csv')"
   ]
  },
  {
   "cell_type": "code",
   "execution_count": 68,
   "metadata": {},
   "outputs": [
    {
     "output_type": "execute_result",
     "data": {
      "text/plain": "724376"
     },
     "metadata": {},
     "execution_count": 68
    }
   ],
   "source": [
    "len(final_change_data2)"
   ]
  },
  {
   "cell_type": "code",
   "execution_count": null,
   "metadata": {},
   "outputs": [],
   "source": []
  }
 ],
 "metadata": {
  "kernelspec": {
   "name": "python_defaultSpec_1599921025906",
   "display_name": "Python 3.6.8 64-bit"
  }
 },
 "nbformat": 4,
 "nbformat_minor": 4
}