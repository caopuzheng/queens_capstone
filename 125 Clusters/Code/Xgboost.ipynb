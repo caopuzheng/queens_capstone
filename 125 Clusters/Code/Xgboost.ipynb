{
 "cells": [
  {
   "cell_type": "markdown",
   "metadata": {},
   "source": [
    "# Xgboost Regression"
   ]
  },
  {
   "cell_type": "markdown",
   "metadata": {},
   "source": [
    "### Import libraries"
   ]
  },
  {
   "cell_type": "code",
   "execution_count": 1,
   "metadata": {},
   "outputs": [],
   "source": [
    "import pandas as pd \n",
    "import numpy as np\n",
    "import pandas as pd\n",
    "import numpy as np\n",
    "import matplotlib\n",
    "import matplotlib.pyplot as plt\n",
    "import xgboost as xgb\n",
    "from sklearn.metrics import mean_squared_error,r2_score\n",
    "import xgboost as xgb\n",
    "from sklearn.preprocessing import MinMaxScaler\n",
    "from sklearn.preprocessing import Normalizer\n",
    "from sklearn.model_selection import train_test_split\n",
    "import math\n",
    "import datetime\n",
    "import seaborn as sns;\n",
    "from sklearn.preprocessing import StandardScaler"
   ]
  },
  {
   "cell_type": "markdown",
   "metadata": {},
   "source": [
    "### Read Preprocessed Data & Preprocess data for feature Regression"
   ]
  },
  {
   "cell_type": "code",
   "execution_count": 2,
   "metadata": {},
   "outputs": [],
   "source": [
    "data = pd.read_csv('Security_and_market_movement_unscaled_cluster125.csv')"
   ]
  },
  {
   "cell_type": "code",
   "execution_count": 3,
   "metadata": {},
   "outputs": [
    {
     "output_type": "execute_result",
     "data": {
      "text/plain": "   Unnamed: 0  SecurityID     KeyDate  YieldWorst  ModifiedDuration_Plain  \\\n0           0       56535  2019-01-02     26.9747                 1.85247   \n1           1       56535  2019-01-03     26.7432                 1.84797   \n2           2       56535  2019-01-04     26.9556                 1.84352   \n3           3       56535  2019-01-07     27.0412                 1.84036   \n4           4       56535  2019-01-08     26.9041                 1.83947   \n\n   AmtOutstanding  Target_G_change  YieldWorst_change  \\\n0     300000000.0             5.22           0.000805   \n1     300000000.0           -14.51          -0.008582   \n2     300000000.0            15.61           0.007942   \n3     300000000.0            -3.60           0.003176   \n4     300000000.0           -18.33          -0.005070   \n\n   ModifiedDuration_Plain_change       Group  ...  skew_change  swap_change  \\\n0                      -0.001348  Cluster 83  ...    -0.004584    -0.004966   \n1                      -0.002429  Cluster 83  ...    -0.042981     0.000000   \n2                      -0.002408  Cluster 83  ...    -0.006951    -0.012668   \n3                      -0.001714  Cluster 83  ...     0.019024     0.005443   \n4                      -0.000484  Cluster 83  ...     0.015322     0.020495   \n\n   vix_change  Close_change  slope_change  skew_change_Weekly  \\\n0   -0.086546      0.001269     -0.238095            0.000000   \n1    0.096038     -0.024757      0.062500            0.000000   \n2   -0.159921      0.034336      0.000000            0.000000   \n3    0.000935      0.007010      0.000000            0.000000   \n4   -0.043458      0.009695     -0.117647           -0.004034   \n\n   swap_change_Weekly  vix_change_Weekly  Close_change_Weekly  \\\n0                 0.0            0.00000             0.000000   \n1                 0.0            0.00000             0.000000   \n2                 0.0            0.00000             0.000000   \n3                 0.0            0.00000             0.000000   \n4                 0.0           -0.03859             0.005511   \n\n   slope_change_Weekly  \n0            -0.026617  \n1            -0.024643  \n2            -0.034643  \n3            -0.025119  \n4            -0.058648  \n\n[5 rows x 36 columns]",
      "text/html": "<div>\n<style scoped>\n    .dataframe tbody tr th:only-of-type {\n        vertical-align: middle;\n    }\n\n    .dataframe tbody tr th {\n        vertical-align: top;\n    }\n\n    .dataframe thead th {\n        text-align: right;\n    }\n</style>\n<table border=\"1\" class=\"dataframe\">\n  <thead>\n    <tr style=\"text-align: right;\">\n      <th></th>\n      <th>Unnamed: 0</th>\n      <th>SecurityID</th>\n      <th>KeyDate</th>\n      <th>YieldWorst</th>\n      <th>ModifiedDuration_Plain</th>\n      <th>AmtOutstanding</th>\n      <th>Target_G_change</th>\n      <th>YieldWorst_change</th>\n      <th>ModifiedDuration_Plain_change</th>\n      <th>Group</th>\n      <th>...</th>\n      <th>skew_change</th>\n      <th>swap_change</th>\n      <th>vix_change</th>\n      <th>Close_change</th>\n      <th>slope_change</th>\n      <th>skew_change_Weekly</th>\n      <th>swap_change_Weekly</th>\n      <th>vix_change_Weekly</th>\n      <th>Close_change_Weekly</th>\n      <th>slope_change_Weekly</th>\n    </tr>\n  </thead>\n  <tbody>\n    <tr>\n      <th>0</th>\n      <td>0</td>\n      <td>56535</td>\n      <td>2019-01-02</td>\n      <td>26.9747</td>\n      <td>1.85247</td>\n      <td>300000000.0</td>\n      <td>5.22</td>\n      <td>0.000805</td>\n      <td>-0.001348</td>\n      <td>Cluster 83</td>\n      <td>...</td>\n      <td>-0.004584</td>\n      <td>-0.004966</td>\n      <td>-0.086546</td>\n      <td>0.001269</td>\n      <td>-0.238095</td>\n      <td>0.000000</td>\n      <td>0.0</td>\n      <td>0.00000</td>\n      <td>0.000000</td>\n      <td>-0.026617</td>\n    </tr>\n    <tr>\n      <th>1</th>\n      <td>1</td>\n      <td>56535</td>\n      <td>2019-01-03</td>\n      <td>26.7432</td>\n      <td>1.84797</td>\n      <td>300000000.0</td>\n      <td>-14.51</td>\n      <td>-0.008582</td>\n      <td>-0.002429</td>\n      <td>Cluster 83</td>\n      <td>...</td>\n      <td>-0.042981</td>\n      <td>0.000000</td>\n      <td>0.096038</td>\n      <td>-0.024757</td>\n      <td>0.062500</td>\n      <td>0.000000</td>\n      <td>0.0</td>\n      <td>0.00000</td>\n      <td>0.000000</td>\n      <td>-0.024643</td>\n    </tr>\n    <tr>\n      <th>2</th>\n      <td>2</td>\n      <td>56535</td>\n      <td>2019-01-04</td>\n      <td>26.9556</td>\n      <td>1.84352</td>\n      <td>300000000.0</td>\n      <td>15.61</td>\n      <td>0.007942</td>\n      <td>-0.002408</td>\n      <td>Cluster 83</td>\n      <td>...</td>\n      <td>-0.006951</td>\n      <td>-0.012668</td>\n      <td>-0.159921</td>\n      <td>0.034336</td>\n      <td>0.000000</td>\n      <td>0.000000</td>\n      <td>0.0</td>\n      <td>0.00000</td>\n      <td>0.000000</td>\n      <td>-0.034643</td>\n    </tr>\n    <tr>\n      <th>3</th>\n      <td>3</td>\n      <td>56535</td>\n      <td>2019-01-07</td>\n      <td>27.0412</td>\n      <td>1.84036</td>\n      <td>300000000.0</td>\n      <td>-3.60</td>\n      <td>0.003176</td>\n      <td>-0.001714</td>\n      <td>Cluster 83</td>\n      <td>...</td>\n      <td>0.019024</td>\n      <td>0.005443</td>\n      <td>0.000935</td>\n      <td>0.007010</td>\n      <td>0.000000</td>\n      <td>0.000000</td>\n      <td>0.0</td>\n      <td>0.00000</td>\n      <td>0.000000</td>\n      <td>-0.025119</td>\n    </tr>\n    <tr>\n      <th>4</th>\n      <td>4</td>\n      <td>56535</td>\n      <td>2019-01-08</td>\n      <td>26.9041</td>\n      <td>1.83947</td>\n      <td>300000000.0</td>\n      <td>-18.33</td>\n      <td>-0.005070</td>\n      <td>-0.000484</td>\n      <td>Cluster 83</td>\n      <td>...</td>\n      <td>0.015322</td>\n      <td>0.020495</td>\n      <td>-0.043458</td>\n      <td>0.009695</td>\n      <td>-0.117647</td>\n      <td>-0.004034</td>\n      <td>0.0</td>\n      <td>-0.03859</td>\n      <td>0.005511</td>\n      <td>-0.058648</td>\n    </tr>\n  </tbody>\n</table>\n<p>5 rows × 36 columns</p>\n</div>"
     },
     "metadata": {},
     "execution_count": 3
    }
   ],
   "source": [
    "data.head()"
   ]
  },
  {
   "cell_type": "code",
   "execution_count": 4,
   "metadata": {},
   "outputs": [],
   "source": [
    "### Drop the 'Unnamed: 0'\n",
    "data.drop(columns=['Unnamed: 0'],inplace=True)"
   ]
  },
  {
   "cell_type": "code",
   "execution_count": 5,
   "metadata": {},
   "outputs": [],
   "source": [
    "### Remove the moving average of the market data\n",
    "data_1 = data.drop(columns = ['skew_change_Weekly','swap_change_Weekly','vix_change_Weekly','Close_change_Weekly','slope_change_Weekly','AmtOutstanding'])"
   ]
  },
  {
   "cell_type": "markdown",
   "metadata": {},
   "source": [
    "### Read Preprocessed dummy variable"
   ]
  },
  {
   "cell_type": "code",
   "execution_count": 6,
   "metadata": {},
   "outputs": [],
   "source": [
    "dummy_variable = pd.read_csv('Security_info_post_dummy.csv')"
   ]
  },
  {
   "cell_type": "code",
   "execution_count": 7,
   "metadata": {},
   "outputs": [],
   "source": [
    "dummy_variable.drop(columns=['Unnamed: 0'],inplace=True)"
   ]
  },
  {
   "cell_type": "code",
   "execution_count": 8,
   "metadata": {},
   "outputs": [],
   "source": [
    "dummy_variable_part1 = dummy_variable.drop(columns=['MinPiece', 'Term', 'RatingSP','MinIncrement'])"
   ]
  },
  {
   "cell_type": "code",
   "execution_count": 9,
   "metadata": {},
   "outputs": [],
   "source": [
    "dummy_variable_part2 =dummy_variable[['SecurityID','MinPiece', 'Term', 'RatingSP','MinIncrement']]"
   ]
  },
  {
   "cell_type": "markdown",
   "metadata": {},
   "source": [
    "### Feature Engineering"
   ]
  },
  {
   "cell_type": "code",
   "execution_count": 10,
   "metadata": {},
   "outputs": [],
   "source": [
    "### Merge the dummy variable to the market&security change\n",
    "data_1 = data_1.merge(dummy_variable_part2,on=['SecurityID'],how='left')"
   ]
  },
  {
   "cell_type": "code",
   "execution_count": 11,
   "metadata": {},
   "outputs": [
    {
     "output_type": "execute_result",
     "data": {
      "text/plain": "array(['2019-01-02', '2019-01-03', '2019-01-04', '2019-01-07',\n       '2019-01-08', '2019-01-09', '2019-01-10', '2019-01-11',\n       '2019-01-14', '2019-01-15', '2019-01-16', '2019-01-17',\n       '2019-01-18', '2019-01-22', '2019-01-23', '2019-01-24',\n       '2019-01-25', '2019-01-28', '2019-01-29', '2019-01-30',\n       '2019-01-31', '2019-02-01', '2019-02-04', '2019-02-05',\n       '2019-02-06', '2019-02-07', '2019-02-08', '2019-02-11',\n       '2019-02-12', '2019-02-13', '2019-02-14', '2019-02-15',\n       '2019-02-19', '2019-02-20', '2019-02-21', '2019-02-22',\n       '2019-02-25', '2019-02-26', '2019-02-27', '2019-02-28',\n       '2019-03-04', '2019-03-05', '2019-03-06', '2019-03-07',\n       '2019-03-08', '2019-03-11', '2019-03-12', '2019-03-13',\n       '2019-03-14', '2019-03-15', '2019-03-18', '2019-03-19',\n       '2019-03-20', '2019-03-21', '2019-03-22', '2019-03-25',\n       '2019-03-26', '2019-03-27', '2019-03-28', '2019-03-29',\n       '2019-04-01', '2019-04-02', '2019-04-03', '2019-04-04',\n       '2019-04-05', '2019-04-08', '2019-04-09', '2019-04-10',\n       '2019-04-11', '2019-04-12', '2019-04-15', '2019-04-16',\n       '2019-04-17', '2019-04-18', '2019-04-22', '2019-04-23',\n       '2019-04-24', '2019-04-25', '2019-04-26', '2019-04-29',\n       '2019-04-30', '2019-05-02', '2019-05-03', '2019-05-06',\n       '2019-05-07', '2019-05-09', '2019-05-10', '2019-05-13',\n       '2019-05-14', '2019-05-15', '2019-05-16', '2019-05-17',\n       '2019-05-20', '2019-05-21', '2019-05-22', '2019-05-23',\n       '2019-05-24', '2019-05-28', '2019-05-29', '2019-05-30',\n       '2019-05-31', '2019-06-03', '2019-06-04', '2019-06-05',\n       '2019-06-06', '2019-06-07', '2019-06-10', '2019-06-11',\n       '2019-06-12', '2019-06-13', '2019-06-14', '2019-06-17',\n       '2019-06-18', '2019-06-19', '2019-06-20', '2019-06-21',\n       '2019-06-24', '2019-06-25', '2019-06-26', '2019-06-27',\n       '2019-06-28', '2019-05-08', '2019-07-02', '2019-07-03',\n       '2019-07-05', '2019-07-08', '2019-07-09', '2019-07-10',\n       '2019-07-11', '2019-07-12', '2019-07-15', '2019-07-16',\n       '2019-07-17', '2019-07-18', '2019-07-19', '2019-07-22',\n       '2019-07-23', '2019-07-24', '2019-07-25', '2019-07-26',\n       '2019-07-29', '2019-07-30', '2019-07-31', '2019-08-01',\n       '2019-08-02', '2019-08-05', '2019-08-06', '2019-08-07',\n       '2019-08-08', '2019-08-09', '2019-08-12', '2019-08-13',\n       '2019-08-14', '2019-08-15', '2019-08-16', '2019-08-19',\n       '2019-08-20', '2019-08-21', '2019-08-22', '2019-08-23',\n       '2019-08-26', '2019-08-27', '2019-08-28', '2019-08-29',\n       '2019-08-30', '2019-09-04', '2019-09-05', '2019-09-06',\n       '2019-09-09', '2019-09-10', '2019-09-11', '2019-09-12',\n       '2019-09-13', '2019-09-16', '2019-09-17', '2019-09-18',\n       '2019-09-19', '2019-09-20', '2019-09-23', '2019-09-24',\n       '2019-09-25', '2019-09-26', '2019-09-27', '2019-09-30',\n       '2019-10-02', '2019-10-03', '2019-10-04', '2019-10-08',\n       '2019-10-09', '2019-10-10', '2019-10-11', '2019-10-15',\n       '2019-10-16', '2019-10-17', '2019-10-18', '2019-10-21',\n       '2019-10-22', '2019-10-23', '2019-10-24', '2019-10-25',\n       '2019-10-28', '2019-10-29', '2019-10-30', '2019-10-31',\n       '2019-10-01', '2019-10-07', '2019-12-30', '2019-12-31',\n       '2019-11-04', '2019-11-05', '2019-11-06', '2019-11-07',\n       '2019-11-08', '2019-11-12', '2019-11-13', '2019-11-14',\n       '2019-11-15', '2019-11-18', '2019-11-19', '2019-11-20',\n       '2019-11-21', '2019-11-22', '2019-11-25', '2019-11-26',\n       '2019-11-27', '2019-11-29', '2019-12-02', '2019-12-03',\n       '2019-12-04', '2019-12-05', '2019-12-06', '2019-12-09',\n       '2019-12-10', '2019-12-11', '2019-12-12', '2019-12-13',\n       '2019-12-16', '2019-12-17', '2019-12-18', '2019-12-19',\n       '2019-12-20', '2019-12-23', '2019-12-24', '2019-12-26',\n       '2019-12-27'], dtype=object)"
     },
     "metadata": {},
     "execution_count": 11
    }
   ],
   "source": [
    "data_1.KeyDate.unique()"
   ]
  },
  {
   "cell_type": "code",
   "execution_count": 12,
   "metadata": {},
   "outputs": [
    {
     "output_type": "execute_result",
     "data": {
      "text/plain": "   SecurityID     KeyDate  YieldWorst  ModifiedDuration_Plain  \\\n0       56535  2019-01-02     26.9747                 1.85247   \n1       56535  2019-01-03     26.7432                 1.84797   \n2       56535  2019-01-04     26.9556                 1.84352   \n3       56535  2019-01-07     27.0412                 1.84036   \n4       56535  2019-01-08     26.9041                 1.83947   \n\n   Target_G_change  YieldWorst_change  ModifiedDuration_Plain_change  \\\n0             5.22           0.000805                      -0.001348   \n1           -14.51          -0.008582                      -0.002429   \n2            15.61           0.007942                      -0.002408   \n3            -3.60           0.003176                      -0.001714   \n4           -18.33          -0.005070                      -0.000484   \n\n        Group  Cluster_average_AmountIssued  Cluster_average_Coupon  ...  \\\n0  Cluster 83                  6.380922e+08                4.015979  ...   \n1  Cluster 83                  6.380922e+08                4.015979  ...   \n2  Cluster 83                  6.380922e+08                4.015979  ...   \n3  Cluster 83                  6.380922e+08                4.015979  ...   \n4  Cluster 83                  6.380922e+08                4.015979  ...   \n\n   Cluster_average_ModifiedDuration_Plain_change  skew_change  swap_change  \\\n0                                      -0.000966    -0.004584    -0.004966   \n1                                      -0.002828    -0.042981     0.000000   \n2                                      -0.002305    -0.006951    -0.012668   \n3                                      -0.001536     0.019024     0.005443   \n4                                      -0.001538     0.015322     0.020495   \n\n   vix_change  Close_change  slope_change  MinPiece  Term  RatingSP  \\\n0   -0.086546      0.001269     -0.238095  200000.0     3       NaN   \n1    0.096038     -0.024757      0.062500  200000.0     3       NaN   \n2   -0.159921      0.034336      0.000000  200000.0     3       NaN   \n3    0.000935      0.007010      0.000000  200000.0     3       NaN   \n4   -0.043458      0.009695     -0.117647  200000.0     3       NaN   \n\n   MinIncrement  \n0        1000.0  \n1        1000.0  \n2        1000.0  \n3        1000.0  \n4        1000.0  \n\n[5 rows x 33 columns]",
      "text/html": "<div>\n<style scoped>\n    .dataframe tbody tr th:only-of-type {\n        vertical-align: middle;\n    }\n\n    .dataframe tbody tr th {\n        vertical-align: top;\n    }\n\n    .dataframe thead th {\n        text-align: right;\n    }\n</style>\n<table border=\"1\" class=\"dataframe\">\n  <thead>\n    <tr style=\"text-align: right;\">\n      <th></th>\n      <th>SecurityID</th>\n      <th>KeyDate</th>\n      <th>YieldWorst</th>\n      <th>ModifiedDuration_Plain</th>\n      <th>Target_G_change</th>\n      <th>YieldWorst_change</th>\n      <th>ModifiedDuration_Plain_change</th>\n      <th>Group</th>\n      <th>Cluster_average_AmountIssued</th>\n      <th>Cluster_average_Coupon</th>\n      <th>...</th>\n      <th>Cluster_average_ModifiedDuration_Plain_change</th>\n      <th>skew_change</th>\n      <th>swap_change</th>\n      <th>vix_change</th>\n      <th>Close_change</th>\n      <th>slope_change</th>\n      <th>MinPiece</th>\n      <th>Term</th>\n      <th>RatingSP</th>\n      <th>MinIncrement</th>\n    </tr>\n  </thead>\n  <tbody>\n    <tr>\n      <th>0</th>\n      <td>56535</td>\n      <td>2019-01-02</td>\n      <td>26.9747</td>\n      <td>1.85247</td>\n      <td>5.22</td>\n      <td>0.000805</td>\n      <td>-0.001348</td>\n      <td>Cluster 83</td>\n      <td>6.380922e+08</td>\n      <td>4.015979</td>\n      <td>...</td>\n      <td>-0.000966</td>\n      <td>-0.004584</td>\n      <td>-0.004966</td>\n      <td>-0.086546</td>\n      <td>0.001269</td>\n      <td>-0.238095</td>\n      <td>200000.0</td>\n      <td>3</td>\n      <td>NaN</td>\n      <td>1000.0</td>\n    </tr>\n    <tr>\n      <th>1</th>\n      <td>56535</td>\n      <td>2019-01-03</td>\n      <td>26.7432</td>\n      <td>1.84797</td>\n      <td>-14.51</td>\n      <td>-0.008582</td>\n      <td>-0.002429</td>\n      <td>Cluster 83</td>\n      <td>6.380922e+08</td>\n      <td>4.015979</td>\n      <td>...</td>\n      <td>-0.002828</td>\n      <td>-0.042981</td>\n      <td>0.000000</td>\n      <td>0.096038</td>\n      <td>-0.024757</td>\n      <td>0.062500</td>\n      <td>200000.0</td>\n      <td>3</td>\n      <td>NaN</td>\n      <td>1000.0</td>\n    </tr>\n    <tr>\n      <th>2</th>\n      <td>56535</td>\n      <td>2019-01-04</td>\n      <td>26.9556</td>\n      <td>1.84352</td>\n      <td>15.61</td>\n      <td>0.007942</td>\n      <td>-0.002408</td>\n      <td>Cluster 83</td>\n      <td>6.380922e+08</td>\n      <td>4.015979</td>\n      <td>...</td>\n      <td>-0.002305</td>\n      <td>-0.006951</td>\n      <td>-0.012668</td>\n      <td>-0.159921</td>\n      <td>0.034336</td>\n      <td>0.000000</td>\n      <td>200000.0</td>\n      <td>3</td>\n      <td>NaN</td>\n      <td>1000.0</td>\n    </tr>\n    <tr>\n      <th>3</th>\n      <td>56535</td>\n      <td>2019-01-07</td>\n      <td>27.0412</td>\n      <td>1.84036</td>\n      <td>-3.60</td>\n      <td>0.003176</td>\n      <td>-0.001714</td>\n      <td>Cluster 83</td>\n      <td>6.380922e+08</td>\n      <td>4.015979</td>\n      <td>...</td>\n      <td>-0.001536</td>\n      <td>0.019024</td>\n      <td>0.005443</td>\n      <td>0.000935</td>\n      <td>0.007010</td>\n      <td>0.000000</td>\n      <td>200000.0</td>\n      <td>3</td>\n      <td>NaN</td>\n      <td>1000.0</td>\n    </tr>\n    <tr>\n      <th>4</th>\n      <td>56535</td>\n      <td>2019-01-08</td>\n      <td>26.9041</td>\n      <td>1.83947</td>\n      <td>-18.33</td>\n      <td>-0.005070</td>\n      <td>-0.000484</td>\n      <td>Cluster 83</td>\n      <td>6.380922e+08</td>\n      <td>4.015979</td>\n      <td>...</td>\n      <td>-0.001538</td>\n      <td>0.015322</td>\n      <td>0.020495</td>\n      <td>-0.043458</td>\n      <td>0.009695</td>\n      <td>-0.117647</td>\n      <td>200000.0</td>\n      <td>3</td>\n      <td>NaN</td>\n      <td>1000.0</td>\n    </tr>\n  </tbody>\n</table>\n<p>5 rows × 33 columns</p>\n</div>"
     },
     "metadata": {},
     "execution_count": 12
    }
   ],
   "source": [
    "data_1.head()"
   ]
  },
  {
   "cell_type": "code",
   "execution_count": 13,
   "metadata": {},
   "outputs": [],
   "source": [
    "data_1[\"RatingSP\"] = data_1['RatingSP'].fillna(data_1.groupby('Group')['RatingSP'].transform('mean'))"
   ]
  },
  {
   "cell_type": "code",
   "execution_count": 14,
   "metadata": {},
   "outputs": [],
   "source": [
    "data_1['KeyDate'] = pd.to_datetime(data_1['KeyDate'])"
   ]
  },
  {
   "cell_type": "code",
   "execution_count": 15,
   "metadata": {},
   "outputs": [
    {
     "output_type": "execute_result",
     "data": {
      "text/plain": "pandas._libs.tslibs.timestamps.Timestamp"
     },
     "metadata": {},
     "execution_count": 15
    }
   ],
   "source": [
    "type(data_1['KeyDate'].iloc[0])"
   ]
  },
  {
   "cell_type": "markdown",
   "metadata": {},
   "source": [
    "###Select a given period:\n",
    "data_1 = data_1[(data_1['KeyDate']>= datetime.datetime(2018,12,31))&(data_1['KeyDate']<= datetime.datetime(2019,2,28))]"
   ]
  },
  {
   "cell_type": "code",
   "execution_count": 1,
   "metadata": {},
   "outputs": [
    {
     "output_type": "error",
     "ename": "NameError",
     "evalue": "name 'data_1' is not defined",
     "traceback": [
      "\u001b[0;31m---------------------------------------------------------------------------\u001b[0m",
      "\u001b[0;31mNameError\u001b[0m                                 Traceback (most recent call last)",
      "\u001b[0;32m<ipython-input-1-5b903481e483>\u001b[0m in \u001b[0;36m<module>\u001b[0;34m\u001b[0m\n\u001b[0;32m----> 1\u001b[0;31m \u001b[0mdata_1\u001b[0m\u001b[0;34m\u001b[0m\u001b[0;34m\u001b[0m\u001b[0m\n\u001b[0m",
      "\u001b[0;31mNameError\u001b[0m: name 'data_1' is not defined"
     ]
    }
   ],
   "source": [
    "data_1.head()"
   ]
  },
  {
   "cell_type": "markdown",
   "metadata": {},
   "source": [
    "data_1 = data_1.groupby('SecurityID').agg(np.random.choice)"
   ]
  },
  {
   "cell_type": "code",
   "execution_count": 17,
   "metadata": {},
   "outputs": [],
   "source": [
    "final_regression_data = data_1.loc[:,'ModifiedDuration_Plain':'RatingSP']"
   ]
  },
  {
   "cell_type": "code",
   "execution_count": 18,
   "metadata": {},
   "outputs": [],
   "source": [
    "final_regression_data.dropna(inplace=True)"
   ]
  },
  {
   "cell_type": "code",
   "execution_count": 19,
   "metadata": {},
   "outputs": [
    {
     "output_type": "execute_result",
     "data": {
      "text/plain": "Index(['ModifiedDuration_Plain', 'Target_G_change', 'YieldWorst_change',\n       'ModifiedDuration_Plain_change', 'Group',\n       'Cluster_average_AmountIssued', 'Cluster_average_Coupon',\n       'Cluster_average_Term', 'Cluster_average_Rating',\n       'Jr Subordinated Unsecured', 'Secured', 'Sr Unsecured',\n       'Subordinated Unsecured', '1st Lien Secured', '2nd Lien Secured',\n       '3rd Lien Secured', '1st lien', 'Asset Backed', 'Cluster_G_change',\n       'Cluster_average_YieldWorst_change',\n       'Cluster_average_ModifiedDuration_Plain_change', 'skew_change',\n       'swap_change', 'vix_change', 'Close_change', 'slope_change', 'MinPiece',\n       'Term', 'RatingSP'],\n      dtype='object')"
     },
     "metadata": {},
     "execution_count": 19
    }
   ],
   "source": [
    "final_regression_data.columns"
   ]
  },
  {
   "cell_type": "code",
   "execution_count": 20,
   "metadata": {},
   "outputs": [],
   "source": [
    "final_regression_data.replace([np.inf, -np.inf], np.NaN, inplace=True)\n",
    "final_regression_data.dropna(inplace=True)"
   ]
  },
  {
   "cell_type": "markdown",
   "metadata": {},
   "source": [
    "### Set the Target and the Features"
   ]
  },
  {
   "cell_type": "code",
   "execution_count": 21,
   "metadata": {},
   "outputs": [],
   "source": [
    "Y = final_regression_data['Target_G_change']\n",
    "X = final_regression_data.drop(columns =['Target_G_change','Group'])"
   ]
  },
  {
   "cell_type": "code",
   "execution_count": 22,
   "metadata": {},
   "outputs": [],
   "source": [
    "removed_outliers = Y.between(Y.quantile(.01), Y.quantile(.99))"
   ]
  },
  {
   "cell_type": "code",
   "execution_count": 23,
   "metadata": {},
   "outputs": [],
   "source": [
    "final_regression_data_head = data_1[['SecurityID','KeyDate']]"
   ]
  },
  {
   "cell_type": "markdown",
   "metadata": {},
   "source": [
    "### Remove Outliers in the period\n",
    "We Select the 5 Percentile to 95 percentile"
   ]
  },
  {
   "cell_type": "code",
   "execution_count": 24,
   "metadata": {},
   "outputs": [],
   "source": [
    "removed_outliers = Y.between(Y.quantile(.01), Y.quantile(.99))"
   ]
  },
  {
   "cell_type": "code",
   "execution_count": 25,
   "metadata": {
    "tags": []
   },
   "outputs": [
    {
     "output_type": "stream",
     "name": "stdout",
     "text": "True     3349188\nFalse      68346\nName: Target_G_change, dtype: int64\n"
    }
   ],
   "source": [
    "print(removed_outliers.value_counts())"
   ]
  },
  {
   "cell_type": "code",
   "execution_count": 26,
   "metadata": {},
   "outputs": [],
   "source": [
    "X = X[removed_outliers]\n",
    "Y = Y[removed_outliers]"
   ]
  },
  {
   "cell_type": "code",
   "execution_count": 27,
   "metadata": {},
   "outputs": [],
   "source": [
    "columns = X.columns\n",
    "index = X.index"
   ]
  },
  {
   "cell_type": "code",
   "execution_count": 28,
   "metadata": {},
   "outputs": [],
   "source": [
    "transformer = StandardScaler().fit(X)\n",
    "X = transformer.transform(X)"
   ]
  },
  {
   "cell_type": "code",
   "execution_count": 29,
   "metadata": {},
   "outputs": [],
   "source": [
    "X = pd.DataFrame(data=X,    # values\n",
    "                 index=index,    # 1st column as index\n",
    "                 columns=columns)"
   ]
  },
  {
   "cell_type": "code",
   "execution_count": 30,
   "metadata": {},
   "outputs": [],
   "source": [
    "X = pd.merge(final_regression_data_head, X, left_index=True, right_index=True)"
   ]
  },
  {
   "cell_type": "code",
   "execution_count": 31,
   "metadata": {},
   "outputs": [
    {
     "output_type": "execute_result",
     "data": {
      "text/plain": "   SecurityID    KeyDate  ModifiedDuration_Plain  YieldWorst_change  \\\n0       56535 2019-01-02               -0.881861           0.126263   \n1       56535 2019-01-03               -0.882788          -0.397132   \n2       56535 2019-01-04               -0.883705           0.524201   \n3       56535 2019-01-07               -0.884356           0.258432   \n4       56535 2019-01-08               -0.884539          -0.201312   \n\n   ModifiedDuration_Plain_change  Cluster_average_AmountIssued  \\\n0                      -0.028705                     -0.813629   \n1                      -0.260859                     -0.813629   \n2                      -0.256320                     -0.813629   \n3                      -0.107355                     -0.813629   \n4                       0.156796                     -0.813629   \n\n   Cluster_average_Coupon  Cluster_average_Term  Cluster_average_Rating  \\\n0               -1.739785             -0.663244                 1.74941   \n1               -1.739785             -0.663244                 1.74941   \n2               -1.739785             -0.663244                 1.74941   \n3               -1.739785             -0.663244                 1.74941   \n4               -1.739785             -0.663244                 1.74941   \n\n   Jr Subordinated Unsecured  ...  Cluster_average_YieldWorst_change  \\\n0                  -0.475642  ...                          -0.062499   \n1                  -0.475642  ...                          -0.530052   \n2                  -0.475642  ...                           0.679026   \n3                  -0.475642  ...                           0.163505   \n4                  -0.475642  ...                           0.280170   \n\n   Cluster_average_ModifiedDuration_Plain_change  skew_change  swap_change  \\\n0                                       0.147293    -0.272570    -0.135764   \n1                                      -0.919563    -2.175207     0.060375   \n2                                      -0.620243    -0.389837    -0.440000   \n3                                      -0.179291     0.897223     0.275380   \n4                                      -0.180424     0.713814     0.869918   \n\n   vix_change  Close_change  slope_change  MinPiece      Term  RatingSP  \n0   -1.129489      0.031595     -0.841534  1.473639 -0.990365  0.064759  \n1    1.229473     -3.301233      0.157112  1.473639 -0.990365  0.064759  \n2   -2.077485      4.266232     -0.050528  1.473639 -0.990365  0.064759  \n3    0.000761      0.766915     -0.050528  1.473639 -0.990365  0.064759  \n4   -0.572796      1.110741     -0.441378  1.473639 -0.990365  0.064759  \n\n[5 rows x 29 columns]",
      "text/html": "<div>\n<style scoped>\n    .dataframe tbody tr th:only-of-type {\n        vertical-align: middle;\n    }\n\n    .dataframe tbody tr th {\n        vertical-align: top;\n    }\n\n    .dataframe thead th {\n        text-align: right;\n    }\n</style>\n<table border=\"1\" class=\"dataframe\">\n  <thead>\n    <tr style=\"text-align: right;\">\n      <th></th>\n      <th>SecurityID</th>\n      <th>KeyDate</th>\n      <th>ModifiedDuration_Plain</th>\n      <th>YieldWorst_change</th>\n      <th>ModifiedDuration_Plain_change</th>\n      <th>Cluster_average_AmountIssued</th>\n      <th>Cluster_average_Coupon</th>\n      <th>Cluster_average_Term</th>\n      <th>Cluster_average_Rating</th>\n      <th>Jr Subordinated Unsecured</th>\n      <th>...</th>\n      <th>Cluster_average_YieldWorst_change</th>\n      <th>Cluster_average_ModifiedDuration_Plain_change</th>\n      <th>skew_change</th>\n      <th>swap_change</th>\n      <th>vix_change</th>\n      <th>Close_change</th>\n      <th>slope_change</th>\n      <th>MinPiece</th>\n      <th>Term</th>\n      <th>RatingSP</th>\n    </tr>\n  </thead>\n  <tbody>\n    <tr>\n      <th>0</th>\n      <td>56535</td>\n      <td>2019-01-02</td>\n      <td>-0.881861</td>\n      <td>0.126263</td>\n      <td>-0.028705</td>\n      <td>-0.813629</td>\n      <td>-1.739785</td>\n      <td>-0.663244</td>\n      <td>1.74941</td>\n      <td>-0.475642</td>\n      <td>...</td>\n      <td>-0.062499</td>\n      <td>0.147293</td>\n      <td>-0.272570</td>\n      <td>-0.135764</td>\n      <td>-1.129489</td>\n      <td>0.031595</td>\n      <td>-0.841534</td>\n      <td>1.473639</td>\n      <td>-0.990365</td>\n      <td>0.064759</td>\n    </tr>\n    <tr>\n      <th>1</th>\n      <td>56535</td>\n      <td>2019-01-03</td>\n      <td>-0.882788</td>\n      <td>-0.397132</td>\n      <td>-0.260859</td>\n      <td>-0.813629</td>\n      <td>-1.739785</td>\n      <td>-0.663244</td>\n      <td>1.74941</td>\n      <td>-0.475642</td>\n      <td>...</td>\n      <td>-0.530052</td>\n      <td>-0.919563</td>\n      <td>-2.175207</td>\n      <td>0.060375</td>\n      <td>1.229473</td>\n      <td>-3.301233</td>\n      <td>0.157112</td>\n      <td>1.473639</td>\n      <td>-0.990365</td>\n      <td>0.064759</td>\n    </tr>\n    <tr>\n      <th>2</th>\n      <td>56535</td>\n      <td>2019-01-04</td>\n      <td>-0.883705</td>\n      <td>0.524201</td>\n      <td>-0.256320</td>\n      <td>-0.813629</td>\n      <td>-1.739785</td>\n      <td>-0.663244</td>\n      <td>1.74941</td>\n      <td>-0.475642</td>\n      <td>...</td>\n      <td>0.679026</td>\n      <td>-0.620243</td>\n      <td>-0.389837</td>\n      <td>-0.440000</td>\n      <td>-2.077485</td>\n      <td>4.266232</td>\n      <td>-0.050528</td>\n      <td>1.473639</td>\n      <td>-0.990365</td>\n      <td>0.064759</td>\n    </tr>\n    <tr>\n      <th>3</th>\n      <td>56535</td>\n      <td>2019-01-07</td>\n      <td>-0.884356</td>\n      <td>0.258432</td>\n      <td>-0.107355</td>\n      <td>-0.813629</td>\n      <td>-1.739785</td>\n      <td>-0.663244</td>\n      <td>1.74941</td>\n      <td>-0.475642</td>\n      <td>...</td>\n      <td>0.163505</td>\n      <td>-0.179291</td>\n      <td>0.897223</td>\n      <td>0.275380</td>\n      <td>0.000761</td>\n      <td>0.766915</td>\n      <td>-0.050528</td>\n      <td>1.473639</td>\n      <td>-0.990365</td>\n      <td>0.064759</td>\n    </tr>\n    <tr>\n      <th>4</th>\n      <td>56535</td>\n      <td>2019-01-08</td>\n      <td>-0.884539</td>\n      <td>-0.201312</td>\n      <td>0.156796</td>\n      <td>-0.813629</td>\n      <td>-1.739785</td>\n      <td>-0.663244</td>\n      <td>1.74941</td>\n      <td>-0.475642</td>\n      <td>...</td>\n      <td>0.280170</td>\n      <td>-0.180424</td>\n      <td>0.713814</td>\n      <td>0.869918</td>\n      <td>-0.572796</td>\n      <td>1.110741</td>\n      <td>-0.441378</td>\n      <td>1.473639</td>\n      <td>-0.990365</td>\n      <td>0.064759</td>\n    </tr>\n  </tbody>\n</table>\n<p>5 rows × 29 columns</p>\n</div>"
     },
     "metadata": {},
     "execution_count": 31
    }
   ],
   "source": [
    "X.head()"
   ]
  },
  {
   "cell_type": "code",
   "execution_count": 32,
   "metadata": {},
   "outputs": [
    {
     "output_type": "execute_result",
     "data": {
      "text/plain": "       SecurityID  1.5 Lien Secured  1st Lien Secured  1st lien  \\\n0              62                 0                 0         0   \n1              64                 0                 0         0   \n2              69                 0                 0         0   \n3              72                 0                 0         0   \n4              78                 0                 0         0   \n...           ...               ...               ...       ...   \n28971       72948                 0                 0         0   \n28972       72949                 0                 0         0   \n28973       72950                 0                 0         0   \n28974       72951                 0                 0         0   \n28975       72952                 0                 0         0   \n\n       2nd Lien Secured  3rd Lien Secured  Asset Backed  \\\n0                     0                 0             0   \n1                     0                 0             0   \n2                     0                 0             0   \n3                     0                 0             0   \n4                     0                 0             0   \n...                 ...               ...           ...   \n28971                 0                 0             0   \n28972                 0                 0             0   \n28973                 0                 0             0   \n28974                 0                 0             0   \n28975                 0                 0             0   \n\n       Jr Subordinated Unsecured  Secured  Sr Unsecured  ...  FIXED  \\\n0                              0        0             1  ...      1   \n1                              0        0             1  ...      1   \n2                              0        0             1  ...      1   \n3                              0        0             0  ...      1   \n4                              0        0             1  ...      1   \n...                          ...      ...           ...  ...    ...   \n28971                          0        0             1  ...      1   \n28972                          0        0             1  ...      0   \n28973                          0        0             1  ...      0   \n28974                          1        0             0  ...      0   \n28975                          0        0             0  ...      0   \n\n       FLAT TRADING  FLOATING  FUNGED  Fixed  PAY-IN-KIND  STEP CPN  VARIABLE  \\\n0                 0         0       0      0            0         0         0   \n1                 0         0       0      0            0         0         0   \n2                 0         0       0      0            0         0         0   \n3                 0         0       0      0            0         0         0   \n4                 0         0       0      0            0         0         0   \n...             ...       ...     ...    ...          ...       ...       ...   \n28971             0         0       0      0            0         0         0   \n28972             0         0       0      0            0         0         1   \n28973             0         0       0      0            0         0         1   \n28974             0         0       0      0            0         0         1   \n28975             0         0       0      0            0         0         1   \n\n       WHEN ISSUED  ZERO COUPON  \n0                0            0  \n1                0            0  \n2                0            0  \n3                0            0  \n4                0            0  \n...            ...          ...  \n28971            0            0  \n28972            0            0  \n28973            0            0  \n28974            0            0  \n28975            0            0  \n\n[28976 rows x 141 columns]",
      "text/html": "<div>\n<style scoped>\n    .dataframe tbody tr th:only-of-type {\n        vertical-align: middle;\n    }\n\n    .dataframe tbody tr th {\n        vertical-align: top;\n    }\n\n    .dataframe thead th {\n        text-align: right;\n    }\n</style>\n<table border=\"1\" class=\"dataframe\">\n  <thead>\n    <tr style=\"text-align: right;\">\n      <th></th>\n      <th>SecurityID</th>\n      <th>1.5 Lien Secured</th>\n      <th>1st Lien Secured</th>\n      <th>1st lien</th>\n      <th>2nd Lien Secured</th>\n      <th>3rd Lien Secured</th>\n      <th>Asset Backed</th>\n      <th>Jr Subordinated Unsecured</th>\n      <th>Secured</th>\n      <th>Sr Unsecured</th>\n      <th>...</th>\n      <th>FIXED</th>\n      <th>FLAT TRADING</th>\n      <th>FLOATING</th>\n      <th>FUNGED</th>\n      <th>Fixed</th>\n      <th>PAY-IN-KIND</th>\n      <th>STEP CPN</th>\n      <th>VARIABLE</th>\n      <th>WHEN ISSUED</th>\n      <th>ZERO COUPON</th>\n    </tr>\n  </thead>\n  <tbody>\n    <tr>\n      <th>0</th>\n      <td>62</td>\n      <td>0</td>\n      <td>0</td>\n      <td>0</td>\n      <td>0</td>\n      <td>0</td>\n      <td>0</td>\n      <td>0</td>\n      <td>0</td>\n      <td>1</td>\n      <td>...</td>\n      <td>1</td>\n      <td>0</td>\n      <td>0</td>\n      <td>0</td>\n      <td>0</td>\n      <td>0</td>\n      <td>0</td>\n      <td>0</td>\n      <td>0</td>\n      <td>0</td>\n    </tr>\n    <tr>\n      <th>1</th>\n      <td>64</td>\n      <td>0</td>\n      <td>0</td>\n      <td>0</td>\n      <td>0</td>\n      <td>0</td>\n      <td>0</td>\n      <td>0</td>\n      <td>0</td>\n      <td>1</td>\n      <td>...</td>\n      <td>1</td>\n      <td>0</td>\n      <td>0</td>\n      <td>0</td>\n      <td>0</td>\n      <td>0</td>\n      <td>0</td>\n      <td>0</td>\n      <td>0</td>\n      <td>0</td>\n    </tr>\n    <tr>\n      <th>2</th>\n      <td>69</td>\n      <td>0</td>\n      <td>0</td>\n      <td>0</td>\n      <td>0</td>\n      <td>0</td>\n      <td>0</td>\n      <td>0</td>\n      <td>0</td>\n      <td>1</td>\n      <td>...</td>\n      <td>1</td>\n      <td>0</td>\n      <td>0</td>\n      <td>0</td>\n      <td>0</td>\n      <td>0</td>\n      <td>0</td>\n      <td>0</td>\n      <td>0</td>\n      <td>0</td>\n    </tr>\n    <tr>\n      <th>3</th>\n      <td>72</td>\n      <td>0</td>\n      <td>0</td>\n      <td>0</td>\n      <td>0</td>\n      <td>0</td>\n      <td>0</td>\n      <td>0</td>\n      <td>0</td>\n      <td>0</td>\n      <td>...</td>\n      <td>1</td>\n      <td>0</td>\n      <td>0</td>\n      <td>0</td>\n      <td>0</td>\n      <td>0</td>\n      <td>0</td>\n      <td>0</td>\n      <td>0</td>\n      <td>0</td>\n    </tr>\n    <tr>\n      <th>4</th>\n      <td>78</td>\n      <td>0</td>\n      <td>0</td>\n      <td>0</td>\n      <td>0</td>\n      <td>0</td>\n      <td>0</td>\n      <td>0</td>\n      <td>0</td>\n      <td>1</td>\n      <td>...</td>\n      <td>1</td>\n      <td>0</td>\n      <td>0</td>\n      <td>0</td>\n      <td>0</td>\n      <td>0</td>\n      <td>0</td>\n      <td>0</td>\n      <td>0</td>\n      <td>0</td>\n    </tr>\n    <tr>\n      <th>...</th>\n      <td>...</td>\n      <td>...</td>\n      <td>...</td>\n      <td>...</td>\n      <td>...</td>\n      <td>...</td>\n      <td>...</td>\n      <td>...</td>\n      <td>...</td>\n      <td>...</td>\n      <td>...</td>\n      <td>...</td>\n      <td>...</td>\n      <td>...</td>\n      <td>...</td>\n      <td>...</td>\n      <td>...</td>\n      <td>...</td>\n      <td>...</td>\n      <td>...</td>\n      <td>...</td>\n    </tr>\n    <tr>\n      <th>28971</th>\n      <td>72948</td>\n      <td>0</td>\n      <td>0</td>\n      <td>0</td>\n      <td>0</td>\n      <td>0</td>\n      <td>0</td>\n      <td>0</td>\n      <td>0</td>\n      <td>1</td>\n      <td>...</td>\n      <td>1</td>\n      <td>0</td>\n      <td>0</td>\n      <td>0</td>\n      <td>0</td>\n      <td>0</td>\n      <td>0</td>\n      <td>0</td>\n      <td>0</td>\n      <td>0</td>\n    </tr>\n    <tr>\n      <th>28972</th>\n      <td>72949</td>\n      <td>0</td>\n      <td>0</td>\n      <td>0</td>\n      <td>0</td>\n      <td>0</td>\n      <td>0</td>\n      <td>0</td>\n      <td>0</td>\n      <td>1</td>\n      <td>...</td>\n      <td>0</td>\n      <td>0</td>\n      <td>0</td>\n      <td>0</td>\n      <td>0</td>\n      <td>0</td>\n      <td>0</td>\n      <td>1</td>\n      <td>0</td>\n      <td>0</td>\n    </tr>\n    <tr>\n      <th>28973</th>\n      <td>72950</td>\n      <td>0</td>\n      <td>0</td>\n      <td>0</td>\n      <td>0</td>\n      <td>0</td>\n      <td>0</td>\n      <td>0</td>\n      <td>0</td>\n      <td>1</td>\n      <td>...</td>\n      <td>0</td>\n      <td>0</td>\n      <td>0</td>\n      <td>0</td>\n      <td>0</td>\n      <td>0</td>\n      <td>0</td>\n      <td>1</td>\n      <td>0</td>\n      <td>0</td>\n    </tr>\n    <tr>\n      <th>28974</th>\n      <td>72951</td>\n      <td>0</td>\n      <td>0</td>\n      <td>0</td>\n      <td>0</td>\n      <td>0</td>\n      <td>0</td>\n      <td>1</td>\n      <td>0</td>\n      <td>0</td>\n      <td>...</td>\n      <td>0</td>\n      <td>0</td>\n      <td>0</td>\n      <td>0</td>\n      <td>0</td>\n      <td>0</td>\n      <td>0</td>\n      <td>1</td>\n      <td>0</td>\n      <td>0</td>\n    </tr>\n    <tr>\n      <th>28975</th>\n      <td>72952</td>\n      <td>0</td>\n      <td>0</td>\n      <td>0</td>\n      <td>0</td>\n      <td>0</td>\n      <td>0</td>\n      <td>0</td>\n      <td>0</td>\n      <td>0</td>\n      <td>...</td>\n      <td>0</td>\n      <td>0</td>\n      <td>0</td>\n      <td>0</td>\n      <td>0</td>\n      <td>0</td>\n      <td>0</td>\n      <td>1</td>\n      <td>0</td>\n      <td>0</td>\n    </tr>\n  </tbody>\n</table>\n<p>28976 rows × 141 columns</p>\n</div>"
     },
     "metadata": {},
     "execution_count": 32
    }
   ],
   "source": [
    "dummy_variable_part1"
   ]
  },
  {
   "cell_type": "code",
   "execution_count": 33,
   "metadata": {},
   "outputs": [],
   "source": [
    "X = X.merge(dummy_variable_part1,on='SecurityID',how='left')"
   ]
  },
  {
   "cell_type": "code",
   "execution_count": 34,
   "metadata": {},
   "outputs": [
    {
     "output_type": "execute_result",
     "data": {
      "text/plain": "   SecurityID    KeyDate  ModifiedDuration_Plain  YieldWorst_change  \\\n0       56535 2019-01-02               -0.881861           0.126263   \n1       56535 2019-01-03               -0.882788          -0.397132   \n2       56535 2019-01-04               -0.883705           0.524201   \n3       56535 2019-01-07               -0.884356           0.258432   \n4       56535 2019-01-08               -0.884539          -0.201312   \n\n   ModifiedDuration_Plain_change  Cluster_average_AmountIssued  \\\n0                      -0.028705                     -0.813629   \n1                      -0.260859                     -0.813629   \n2                      -0.256320                     -0.813629   \n3                      -0.107355                     -0.813629   \n4                       0.156796                     -0.813629   \n\n   Cluster_average_Coupon  Cluster_average_Term  Cluster_average_Rating  \\\n0               -1.739785             -0.663244                 1.74941   \n1               -1.739785             -0.663244                 1.74941   \n2               -1.739785             -0.663244                 1.74941   \n3               -1.739785             -0.663244                 1.74941   \n4               -1.739785             -0.663244                 1.74941   \n\n   Jr Subordinated Unsecured_x  ...  FIXED  FLAT TRADING  FLOATING  FUNGED  \\\n0                    -0.475642  ...      1             0         0       0   \n1                    -0.475642  ...      1             0         0       0   \n2                    -0.475642  ...      1             0         0       0   \n3                    -0.475642  ...      1             0         0       0   \n4                    -0.475642  ...      1             0         0       0   \n\n   Fixed  PAY-IN-KIND  STEP CPN  VARIABLE  WHEN ISSUED  ZERO COUPON  \n0      0            0         0         0            0            0  \n1      0            0         0         0            0            0  \n2      0            0         0         0            0            0  \n3      0            0         0         0            0            0  \n4      0            0         0         0            0            0  \n\n[5 rows x 169 columns]",
      "text/html": "<div>\n<style scoped>\n    .dataframe tbody tr th:only-of-type {\n        vertical-align: middle;\n    }\n\n    .dataframe tbody tr th {\n        vertical-align: top;\n    }\n\n    .dataframe thead th {\n        text-align: right;\n    }\n</style>\n<table border=\"1\" class=\"dataframe\">\n  <thead>\n    <tr style=\"text-align: right;\">\n      <th></th>\n      <th>SecurityID</th>\n      <th>KeyDate</th>\n      <th>ModifiedDuration_Plain</th>\n      <th>YieldWorst_change</th>\n      <th>ModifiedDuration_Plain_change</th>\n      <th>Cluster_average_AmountIssued</th>\n      <th>Cluster_average_Coupon</th>\n      <th>Cluster_average_Term</th>\n      <th>Cluster_average_Rating</th>\n      <th>Jr Subordinated Unsecured_x</th>\n      <th>...</th>\n      <th>FIXED</th>\n      <th>FLAT TRADING</th>\n      <th>FLOATING</th>\n      <th>FUNGED</th>\n      <th>Fixed</th>\n      <th>PAY-IN-KIND</th>\n      <th>STEP CPN</th>\n      <th>VARIABLE</th>\n      <th>WHEN ISSUED</th>\n      <th>ZERO COUPON</th>\n    </tr>\n  </thead>\n  <tbody>\n    <tr>\n      <th>0</th>\n      <td>56535</td>\n      <td>2019-01-02</td>\n      <td>-0.881861</td>\n      <td>0.126263</td>\n      <td>-0.028705</td>\n      <td>-0.813629</td>\n      <td>-1.739785</td>\n      <td>-0.663244</td>\n      <td>1.74941</td>\n      <td>-0.475642</td>\n      <td>...</td>\n      <td>1</td>\n      <td>0</td>\n      <td>0</td>\n      <td>0</td>\n      <td>0</td>\n      <td>0</td>\n      <td>0</td>\n      <td>0</td>\n      <td>0</td>\n      <td>0</td>\n    </tr>\n    <tr>\n      <th>1</th>\n      <td>56535</td>\n      <td>2019-01-03</td>\n      <td>-0.882788</td>\n      <td>-0.397132</td>\n      <td>-0.260859</td>\n      <td>-0.813629</td>\n      <td>-1.739785</td>\n      <td>-0.663244</td>\n      <td>1.74941</td>\n      <td>-0.475642</td>\n      <td>...</td>\n      <td>1</td>\n      <td>0</td>\n      <td>0</td>\n      <td>0</td>\n      <td>0</td>\n      <td>0</td>\n      <td>0</td>\n      <td>0</td>\n      <td>0</td>\n      <td>0</td>\n    </tr>\n    <tr>\n      <th>2</th>\n      <td>56535</td>\n      <td>2019-01-04</td>\n      <td>-0.883705</td>\n      <td>0.524201</td>\n      <td>-0.256320</td>\n      <td>-0.813629</td>\n      <td>-1.739785</td>\n      <td>-0.663244</td>\n      <td>1.74941</td>\n      <td>-0.475642</td>\n      <td>...</td>\n      <td>1</td>\n      <td>0</td>\n      <td>0</td>\n      <td>0</td>\n      <td>0</td>\n      <td>0</td>\n      <td>0</td>\n      <td>0</td>\n      <td>0</td>\n      <td>0</td>\n    </tr>\n    <tr>\n      <th>3</th>\n      <td>56535</td>\n      <td>2019-01-07</td>\n      <td>-0.884356</td>\n      <td>0.258432</td>\n      <td>-0.107355</td>\n      <td>-0.813629</td>\n      <td>-1.739785</td>\n      <td>-0.663244</td>\n      <td>1.74941</td>\n      <td>-0.475642</td>\n      <td>...</td>\n      <td>1</td>\n      <td>0</td>\n      <td>0</td>\n      <td>0</td>\n      <td>0</td>\n      <td>0</td>\n      <td>0</td>\n      <td>0</td>\n      <td>0</td>\n      <td>0</td>\n    </tr>\n    <tr>\n      <th>4</th>\n      <td>56535</td>\n      <td>2019-01-08</td>\n      <td>-0.884539</td>\n      <td>-0.201312</td>\n      <td>0.156796</td>\n      <td>-0.813629</td>\n      <td>-1.739785</td>\n      <td>-0.663244</td>\n      <td>1.74941</td>\n      <td>-0.475642</td>\n      <td>...</td>\n      <td>1</td>\n      <td>0</td>\n      <td>0</td>\n      <td>0</td>\n      <td>0</td>\n      <td>0</td>\n      <td>0</td>\n      <td>0</td>\n      <td>0</td>\n      <td>0</td>\n    </tr>\n  </tbody>\n</table>\n<p>5 rows × 169 columns</p>\n</div>"
     },
     "metadata": {},
     "execution_count": 34
    }
   ],
   "source": [
    "X.head()"
   ]
  },
  {
   "cell_type": "code",
   "execution_count": 35,
   "metadata": {},
   "outputs": [],
   "source": [
    "X = X.loc[:,'ModifiedDuration_Plain':'ZERO COUPON']"
   ]
  },
  {
   "cell_type": "code",
   "execution_count": 36,
   "metadata": {
    "tags": []
   },
   "outputs": [
    {
     "output_type": "stream",
     "name": "stdout",
     "text": "3349188 3349188\n"
    }
   ],
   "source": [
    "print(len(X),len(Y))"
   ]
  },
  {
   "cell_type": "code",
   "execution_count": 37,
   "metadata": {},
   "outputs": [],
   "source": [
    "### Split the X,Y to training and testing data\n",
    "X_train, X_test, y_train, y_test = train_test_split(X, Y, test_size=0.33, random_state=10)"
   ]
  },
  {
   "cell_type": "code",
   "execution_count": 38,
   "metadata": {},
   "outputs": [],
   "source": [
    "### set up the the xgb regression\n",
    "xg_reg = xgb.XGBRegressor(objective ='reg:squarederror', colsample_bytree = 0.1, learning_rate = 0.1,\n",
    "                max_depth =100, alpha = 100, n_estimators = 100)"
   ]
  },
  {
   "cell_type": "code",
   "execution_count": 39,
   "metadata": {
    "tags": []
   },
   "outputs": [
    {
     "output_type": "execute_result",
     "data": {
      "text/plain": "XGBRegressor(alpha=100, base_score=0.5, booster='gbtree', colsample_bylevel=1,\n             colsample_bynode=1, colsample_bytree=0.1, gamma=0, gpu_id=-1,\n             importance_type='gain', interaction_constraints='',\n             learning_rate=0.1, max_delta_step=0, max_depth=100,\n             min_child_weight=1, missing=nan, monotone_constraints='()',\n             n_estimators=100, n_jobs=0, num_parallel_tree=1, random_state=0,\n             reg_alpha=100, reg_lambda=1, scale_pos_weight=1, subsample=1,\n             tree_method='exact', validate_parameters=1, verbosity=None)"
     },
     "metadata": {},
     "execution_count": 39
    }
   ],
   "source": [
    "xg_reg.fit(X_train,y_train)"
   ]
  },
  {
   "cell_type": "code",
   "execution_count": 40,
   "metadata": {},
   "outputs": [],
   "source": [
    "preds = xg_reg.predict(X_test)\n",
    "pred_train= xg_reg.predict(X_train)"
   ]
  },
  {
   "cell_type": "code",
   "execution_count": 41,
   "metadata": {
    "tags": []
   },
   "outputs": [
    {
     "output_type": "stream",
     "name": "stdout",
     "text": "RMSE Test: 3.364214\nRMSE Train: 3.206286\nTest R2:0.7111318447647343\nTrain R2:0.7365249248656061\n"
    }
   ],
   "source": [
    "rmse_test = np.sqrt(mean_squared_error(y_test, preds))\n",
    "rmse_train = np.sqrt(mean_squared_error(y_train, pred_train))\n",
    "print(\"RMSE Test: %f\" % (rmse_test))\n",
    "print(\"RMSE Train: %f\" % (rmse_train))\n",
    "r2_test = r2_score(y_test, preds)\n",
    "r2_train = r2_score(y_train,pred_train)\n",
    "print(\"Test R2:{}\".format(r2_test))\n",
    "print(\"Train R2:{}\".format(r2_train))"
   ]
  },
  {
   "cell_type": "code",
   "execution_count": 46,
   "metadata": {},
   "outputs": [],
   "source": [
    "import matplotlib as mpl\n",
    "xgb.plot_importance(xg_reg)\n",
    "plt.rcParams['figure.facecolor'] = 'white'\n",
    "plt.rcParams['figure.figsize'] = [500, 500]\n",
    "plt.rcParams.update({'font.size': 34})\n",
    "plt.title('Feature importance')\n",
    "plt.xlabel('F1')\n",
    "plt.ylabel('Feature')\n",
    "plt.show()"
   ]
  },
  {
   "source": [
    "import matplotlib.pyplot as plt\n",
    "xgb.plot_tree(xg_reg,num_trees=0,rankdir='LR')\n",
    "plt.rcParams['figure.figsize'] = [100, 100]\n",
    "plt.show()"
   ],
   "cell_type": "code",
   "metadata": {},
   "execution_count": null,
   "outputs": []
  },
  {
   "cell_type": "code",
   "execution_count": 45,
   "metadata": {},
   "outputs": [
    {
     "output_type": "execute_result",
     "data": {
      "text/plain": "Index(['ModifiedDuration_Plain', 'YieldWorst_change',\n       'ModifiedDuration_Plain_change', 'Cluster_average_AmountIssued',\n       'Cluster_average_Coupon', 'Cluster_average_Term',\n       'Cluster_average_Rating', 'Jr Subordinated Unsecured', 'Secured',\n       'Sr Unsecured', 'Subordinated Unsecured', '1st Lien Secured',\n       '2nd Lien Secured', '3rd Lien Secured', '1st lien', 'Asset Backed',\n       'Cluster_G_change', 'Cluster_average_YieldWorst_change',\n       'Cluster_average_ModifiedDuration_Plain_change', 'skew_change',\n       'swap_change', 'vix_change', 'Close_change', 'slope_change', 'MinPiece',\n       'Term', 'RatingSP'],\n      dtype='object')"
     },
     "metadata": {},
     "execution_count": 45
    }
   ],
   "source": [
    "columns"
   ]
  },
  {
   "cell_type": "markdown",
   "metadata": {},
   "source": [
    "### After Feature Importance"
   ]
  },
  {
   "cell_type": "markdown",
   "metadata": {},
   "source": [
    "new_X = X[['YieldWorst_change','vix_change','swap_change','Cluster_average_YieldWorst_change','Cluster_average_Rating','Cluster_average_ModifiedDuration_Plain_change','Close_change','MinIncrement','ModifiedDuration_Plain_change','Cluster Perecentage of Secured','Cluster_average_Coupon','slope_change','Cluster_G_change','skew_change','DEFAULTED','Term','Cluster_average_Term']]"
   ]
  },
  {
   "cell_type": "markdown",
   "metadata": {},
   "source": [
    "new_X.tail()"
   ]
  },
  {
   "cell_type": "markdown",
   "metadata": {},
   "source": [
    "X_train, X_test, y_train, y_test = train_test_split(new_X, Y, test_size=0.33, random_state=10)"
   ]
  },
  {
   "cell_type": "markdown",
   "metadata": {},
   "source": [
    "xg_reg2 = xgb.XGBRegressor(objective ='reg:squarederror', colsample_bytree = 0.1, learning_rate = 0.1,\n",
    "                max_depth =100, alpha = 100, n_estimators = 50)"
   ]
  },
  {
   "cell_type": "markdown",
   "metadata": {},
   "source": [
    "xg_reg2.fit(X_train,y_train)"
   ]
  },
  {
   "cell_type": "markdown",
   "metadata": {},
   "source": [
    "preds = xg_reg2.predict(X_test)"
   ]
  },
  {
   "cell_type": "markdown",
   "metadata": {
    "tags": []
   },
   "source": [
    "rmse = np.sqrt(mean_squared_error(y_test, preds))\n",
    "print(\"RMSE: %f\" % (rmse))\n",
    "r2 = r2_score(y_test, preds)\n",
    "print(\"R2:{}\".format(r2))"
   ]
  },
  {
   "cell_type": "markdown",
   "metadata": {},
   "source": [
    "import matplotlib as mpl\n",
    "xgb.plot_importance(xg_reg2)\n",
    "plt.rcParams['figure.facecolor'] = 'white'\n",
    "plt.rcParams['figure.figsize'] = [200, 200]\n",
    "plt.rcParams.update({'font.size': 34})\n",
    "plt.title('Feature importance')\n",
    "plt.xlabel('F1')\n",
    "plt.ylabel('Feature')\n",
    "plt.show()"
   ]
  },
  {
   "cell_type": "markdown",
   "metadata": {
    "tags": []
   },
   "source": [
    "import matplotlib.pyplot as plt\n",
    "xgb.plot_tree(xg_reg2,num_trees=0,rankdir='LR')\n",
    "plt.rcParams['figure.figsize'] = [1000, 1000]\n",
    "plt.show()"
   ]
  },
  {
   "cell_type": "markdown",
   "metadata": {},
   "source": [
    "GLM"
   ]
  },
  {
   "source": [
    "from sklearn import linear_model\n",
    "reg = linear_model.Ridge(alpha=0.01)\n",
    "reg.fit(X_train,y_train)"
   ],
   "cell_type": "markdown",
   "metadata": {}
  },
  {
   "source": [
    "preds = reg.predict(X_test)\n",
    "pred_train= reg.predict(X_train)"
   ],
   "cell_type": "markdown",
   "metadata": {}
  },
  {
   "source": [
    "rmse_test = np.sqrt(mean_squared_error(y_test, preds))\n",
    "rmse_train = np.sqrt(mean_squared_error(y_train, pred_train))\n",
    "print(\"RMSE Test: %f\" % (rmse_test))\n",
    "print(\"RMSE Train: %f\" % (rmse_train))\n",
    "r2_test = r2_score(y_test, preds)\n",
    "r2_train = r2_score(y_train,pred_train)\n",
    "print(\"R2 Test:{}\".format(r2_test))\n",
    "print(\"R2 Train:{}\".format(r2_train))"
   ],
   "cell_type": "markdown",
   "metadata": {
    "tags": []
   }
  },
  {
   "cell_type": "markdown",
   "metadata": {},
   "source": [
    "X.corr()"
   ]
  },
  {
   "source": [
    "from sklearn.neural_network import MLPRegressor\n",
    "from sklearn.datasets import make_regression\n",
    "regr = MLPRegressor(random_state=42, max_iter=100).fit(X_train, y_train)"
   ],
   "cell_type": "markdown",
   "metadata": {}
  },
  {
   "source": [
    "preds = regr.predict(X_test)\n",
    "pred_train= regr.predict(X_train)"
   ],
   "cell_type": "markdown",
   "metadata": {}
  },
  {
   "source": [
    "rmse_test = np.sqrt(mean_squared_error(y_test, preds))\n",
    "rmse_train = np.sqrt(mean_squared_error(y_train, pred_train))\n",
    "print(\"RMSE Test: %f\" % (rmse_test))\n",
    "print(\"RMSE Train: %f\" % (rmse_train))\n",
    "r2_test = r2_score(y_test, preds)\n",
    "r2_train = r2_score(y_train,pred_train)\n",
    "print(\"R2 Test:{}\".format(r2_test))\n",
    "print(\"R2 Train:{}\".format(r2_train))"
   ],
   "cell_type": "markdown",
   "metadata": {
    "tags": []
   }
  },
  {
   "source": [
    "regr.get_params()"
   ],
   "cell_type": "markdown",
   "metadata": {}
  },
  {
   "source": [],
   "cell_type": "markdown",
   "metadata": {}
  }
 ],
 "metadata": {
  "kernelspec": {
   "display_name": "Python 3",
   "language": "python",
   "name": "python3"
  }
 },
 "nbformat": 4,
 "nbformat_minor": 4
}