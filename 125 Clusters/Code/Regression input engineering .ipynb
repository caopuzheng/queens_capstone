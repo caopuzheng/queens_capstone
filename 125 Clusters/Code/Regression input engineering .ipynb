{
 "cells": [
  {
   "cell_type": "code",
   "execution_count": 1,
   "metadata": {},
   "outputs": [],
   "source": [
    "import pandas as pd\n",
    "import mysql.connector as sql\n",
    "import math"
   ]
  },
  {
   "cell_type": "code",
   "execution_count": 2,
   "metadata": {},
   "outputs": [],
   "source": [
    "def get_all_bonds_in_list(start_date,end_date):\n",
    "    print('start to get data from {} to {}'.format(start_date,end_date))\n",
    "    #####Create engine:\n",
    "    db_connection = sql.connect(host='0.0.0.0', database='bond_db', user='root', password='password')\n",
    "    ##security query\n",
    "    security_query = \"select * from security_info\"\n",
    "    ##read data\n",
    "    security_data = pd.read_sql(security_query,con=db_connection)\n",
    "    security_data = security_data[['SecurityID','Currency','IssueDate','MaturityDate']]\n",
    "    ##price query\n",
    "    price_query = \"select * from bond_spread where  KeyDate between '{}' and '{}'\".format(start_date,end_date)\n",
    "    #####read bond_data from db:\n",
    "    final_data = pd.read_sql(price_query,con=db_connection)\n",
    "    final_data = final_data.merge(security_data, on=['SecurityID'], how='left')\n",
    "    final_data.dropna(subset=[\"ZSpread\"],inplace=True)\n",
    "    final_data_1 = final_data[final_data.Currency == 'USD']\n",
    "    final_data = final_data_1.groupby('SecurityID')\n",
    "    bonds_list = [final_data.get_group(x) for x in final_data.groups]\n",
    "    db_connection.close()\n",
    "    return bonds_list"
   ]
  },
  {
   "cell_type": "code",
   "execution_count": 3,
   "metadata": {},
   "outputs": [],
   "source": [
    "def merge_left_right(data1,data2):\n",
    "    temp_data = data1.append(data2)\n",
    "    return temp_data\n",
    "\n",
    "def merg_sort(list_data):\n",
    "    list_length = len(list_data)\n",
    "    if list_length == 1:\n",
    "        output = list_data[0][2]\n",
    "        return output\n",
    "    else:\n",
    "        mid_point = math.floor(list_length/2)\n",
    "        #print(len(list_data[:mid_point]))\n",
    "        left = list_data[mid_point:]\n",
    "        right = list_data[:mid_point]\n",
    "        return merge_left_right(merg_sort(left), merg_sort(right))"
   ]
  },
  {
   "cell_type": "code",
   "execution_count": 4,
   "metadata": {},
   "outputs": [],
   "source": [
    "silding_windows = [['2018-12-31','2019-02-28'],['2019-03-01','2019-04-30'],\n",
    "                   ['2019-05-01','2019-06-30'],['2019-07-01','2019-08-31'],\n",
    "                   ['2019-09-01','2019-10-31'],['2019-11-01','2019-12-31']]"
   ]
  },
  {
   "cell_type": "markdown",
   "metadata": {},
   "source": [
    "## Cluster data"
   ]
  },
  {
   "cell_type": "code",
   "execution_count": 5,
   "metadata": {},
   "outputs": [],
   "source": [
    "cluster_data = pd.read_csv('Cluster_group.csv')"
   ]
  },
  {
   "cell_type": "code",
   "execution_count": 6,
   "metadata": {},
   "outputs": [],
   "source": [
    "cluster_data.drop(columns=['Unnamed: 0'],inplace=True)"
   ]
  },
  {
   "cell_type": "code",
   "execution_count": 7,
   "metadata": {},
   "outputs": [
    {
     "output_type": "execute_result",
     "data": {
      "text/plain": "   SecurityID 2019-02-28  2019-04-30 2019-06-30  2019-08-31  2019-10-31  \\\n0       109.0  Cluster 0  Cluster 10  Cluster 1   Cluster 7  Cluster 21   \n1       135.0  Cluster 0   Cluster 6  Cluster 3  Cluster 21   Cluster 5   \n2       160.0  Cluster 0  Cluster 23  Cluster 1  Cluster 16  Cluster 22   \n3       267.0  Cluster 0   Cluster 9  Cluster 4  Cluster 16  Cluster 15   \n4       339.0  Cluster 0   Cluster 5  Cluster 6  Cluster 19   Cluster 5   \n\n   2019-12-31  \n0  Cluster 12  \n1  Cluster 11  \n2  Cluster 12  \n3  Cluster 12  \n4   Cluster 1  ",
      "text/html": "<div>\n<style scoped>\n    .dataframe tbody tr th:only-of-type {\n        vertical-align: middle;\n    }\n\n    .dataframe tbody tr th {\n        vertical-align: top;\n    }\n\n    .dataframe thead th {\n        text-align: right;\n    }\n</style>\n<table border=\"1\" class=\"dataframe\">\n  <thead>\n    <tr style=\"text-align: right;\">\n      <th></th>\n      <th>SecurityID</th>\n      <th>2019-02-28</th>\n      <th>2019-04-30</th>\n      <th>2019-06-30</th>\n      <th>2019-08-31</th>\n      <th>2019-10-31</th>\n      <th>2019-12-31</th>\n    </tr>\n  </thead>\n  <tbody>\n    <tr>\n      <th>0</th>\n      <td>109.0</td>\n      <td>Cluster 0</td>\n      <td>Cluster 10</td>\n      <td>Cluster 1</td>\n      <td>Cluster 7</td>\n      <td>Cluster 21</td>\n      <td>Cluster 12</td>\n    </tr>\n    <tr>\n      <th>1</th>\n      <td>135.0</td>\n      <td>Cluster 0</td>\n      <td>Cluster 6</td>\n      <td>Cluster 3</td>\n      <td>Cluster 21</td>\n      <td>Cluster 5</td>\n      <td>Cluster 11</td>\n    </tr>\n    <tr>\n      <th>2</th>\n      <td>160.0</td>\n      <td>Cluster 0</td>\n      <td>Cluster 23</td>\n      <td>Cluster 1</td>\n      <td>Cluster 16</td>\n      <td>Cluster 22</td>\n      <td>Cluster 12</td>\n    </tr>\n    <tr>\n      <th>3</th>\n      <td>267.0</td>\n      <td>Cluster 0</td>\n      <td>Cluster 9</td>\n      <td>Cluster 4</td>\n      <td>Cluster 16</td>\n      <td>Cluster 15</td>\n      <td>Cluster 12</td>\n    </tr>\n    <tr>\n      <th>4</th>\n      <td>339.0</td>\n      <td>Cluster 0</td>\n      <td>Cluster 5</td>\n      <td>Cluster 6</td>\n      <td>Cluster 19</td>\n      <td>Cluster 5</td>\n      <td>Cluster 1</td>\n    </tr>\n  </tbody>\n</table>\n</div>"
     },
     "metadata": {},
     "execution_count": 7
    }
   ],
   "source": [
    "cluster_data.head()"
   ]
  },
  {
   "cell_type": "code",
   "execution_count": 8,
   "metadata": {},
   "outputs": [],
   "source": [
    "def get_the_daily_spread_windows(bonds_list):\n",
    "    bond_spread_list = []\n",
    "    for bond in bonds_list:\n",
    "        try:\n",
    "            bond['G_change']=bond.GSpread.pct_change()\n",
    "            bond.dropna(subset=['G_change'],inplace = True)\n",
    "            bond_spread_list.append((len(bond.GSpread.values),bond.SecurityID.iloc[0],bond))\n",
    "        except:\n",
    "            pass\n",
    "    return bond_spread_list"
   ]
  },
  {
   "cell_type": "code",
   "execution_count": 9,
   "metadata": {},
   "outputs": [],
   "source": [
    "def Average_daily_Gspread_change_cluster(window,cluster_data):\n",
    "    bond_list1 = get_all_bonds_in_list(window[0],window[1])\n",
    "    daily_spread_1 = get_the_daily_spread_windows(bond_list1)\n",
    "    new_data = merg_sort(daily_spread_1)\n",
    "    new_data.dropna(inplace=True)\n",
    "    data1 = new_data.merge(cluster_data[['SecurityID',window[1]]],on=['SecurityID'],how ='left')\n",
    "    temp = data1.groupby(by=['KeyDate',window[1]],as_index=False).mean()\n",
    "    data1['Group'] = data1[window[1]] \n",
    "    data1.drop(columns=[window[1]],inplace=True)\n",
    "    temp['Group'] = temp[window[1]]\n",
    "    end = temp[['Group','KeyDate','G_change']]\n",
    "    return end,data1"
   ]
  },
  {
   "cell_type": "code",
   "execution_count": 10,
   "metadata": {},
   "outputs": [],
   "source": [
    "from sqlalchemy import create_engine"
   ]
  },
  {
   "cell_type": "code",
   "execution_count": 12,
   "metadata": {
    "tags": []
   },
   "outputs": [
    {
     "output_type": "stream",
     "name": "stdout",
     "text": "start to get data from 2018-12-31 to 2019-02-28\nstart to get data from 2019-03-01 to 2019-04-30\nstart to get data from 2019-05-01 to 2019-06-30\nstart to get data from 2019-07-01 to 2019-08-31\nstart to get data from 2019-09-01 to 2019-10-31\nstart to get data from 2019-11-01 to 2019-12-31\n"
    }
   ],
   "source": [
    "for i in range(0,len(silding_windows)):\n",
    "    if i == 0:\n",
    "        final_change,final = Average_daily_Gspread_change_cluster(silding_windows[i],cluster_data)\n",
    "    else:\n",
    "        temp,temp_data = Average_daily_Gspread_change_cluster(silding_windows[i],cluster_data)\n",
    "        final_change.append(temp,ignore_index=True)\n",
    "        final.append(temp_data,ignore_index=True)"
   ]
  },
  {
   "cell_type": "code",
   "execution_count": 13,
   "metadata": {},
   "outputs": [
    {
     "output_type": "execute_result",
     "data": {
      "text/plain": "        Group    KeyDate  G_change\n0   Cluster 0 2019-01-02  0.017571\n1   Cluster 1 2019-01-02  0.017209\n2  Cluster 10 2019-01-02  0.014612\n3  Cluster 11 2019-01-02  0.026336\n4  Cluster 12 2019-01-02  0.012627",
      "text/html": "<div>\n<style scoped>\n    .dataframe tbody tr th:only-of-type {\n        vertical-align: middle;\n    }\n\n    .dataframe tbody tr th {\n        vertical-align: top;\n    }\n\n    .dataframe thead th {\n        text-align: right;\n    }\n</style>\n<table border=\"1\" class=\"dataframe\">\n  <thead>\n    <tr style=\"text-align: right;\">\n      <th></th>\n      <th>Group</th>\n      <th>KeyDate</th>\n      <th>G_change</th>\n    </tr>\n  </thead>\n  <tbody>\n    <tr>\n      <th>0</th>\n      <td>Cluster 0</td>\n      <td>2019-01-02</td>\n      <td>0.017571</td>\n    </tr>\n    <tr>\n      <th>1</th>\n      <td>Cluster 1</td>\n      <td>2019-01-02</td>\n      <td>0.017209</td>\n    </tr>\n    <tr>\n      <th>2</th>\n      <td>Cluster 10</td>\n      <td>2019-01-02</td>\n      <td>0.014612</td>\n    </tr>\n    <tr>\n      <th>3</th>\n      <td>Cluster 11</td>\n      <td>2019-01-02</td>\n      <td>0.026336</td>\n    </tr>\n    <tr>\n      <th>4</th>\n      <td>Cluster 12</td>\n      <td>2019-01-02</td>\n      <td>0.012627</td>\n    </tr>\n  </tbody>\n</table>\n</div>"
     },
     "metadata": {},
     "execution_count": 13
    }
   ],
   "source": [
    "final_change.head()"
   ]
  },
  {
   "cell_type": "code",
   "execution_count": 14,
   "metadata": {},
   "outputs": [
    {
     "output_type": "execute_result",
     "data": {
      "text/plain": "   SecurityID    KeyDate    Price  YieldWorst  ModifiedDuration_Plain  \\\n0       62650 2019-01-28  100.362     6.56471                0.941645   \n1       62650 2019-01-29  100.246     6.80844                0.941076   \n2       62650 2019-01-30  100.263     6.77007                0.938578   \n3       62650 2019-01-31  100.316     6.64465                0.931103   \n4       62650 2019-02-28  100.387     6.30099                0.854065   \n\n  WorkoutDate  AmtOutstanding  GSpread  OAS_Spread  ZSpread   AswUsd Currency  \\\n0  2020-01-27     200000000.0   397.02     367.779  379.397  372.792      USD   \n1  2020-01-27     200000000.0   422.16     387.983  405.557  399.980      USD   \n2  2020-01-27     200000000.0   427.97     385.729  403.238  397.452      USD   \n3  2020-01-27     200000000.0   410.11     379.871  391.700  386.778      USD   \n4  2020-01-27     200000000.0   376.88     353.846  360.896  348.068      USD   \n\n   IssueDate         MaturityDate  G_change Group  \n0 2019-01-29  2020-01-27 00:00:00 -0.000478   NaN  \n1 2019-01-29  2020-01-27 00:00:00  0.063322   NaN  \n2 2019-01-29  2020-01-27 00:00:00  0.013763   NaN  \n3 2019-01-29  2020-01-27 00:00:00 -0.041732   NaN  \n4 2019-01-29  2020-01-27 00:00:00 -0.081027   NaN  ",
      "text/html": "<div>\n<style scoped>\n    .dataframe tbody tr th:only-of-type {\n        vertical-align: middle;\n    }\n\n    .dataframe tbody tr th {\n        vertical-align: top;\n    }\n\n    .dataframe thead th {\n        text-align: right;\n    }\n</style>\n<table border=\"1\" class=\"dataframe\">\n  <thead>\n    <tr style=\"text-align: right;\">\n      <th></th>\n      <th>SecurityID</th>\n      <th>KeyDate</th>\n      <th>Price</th>\n      <th>YieldWorst</th>\n      <th>ModifiedDuration_Plain</th>\n      <th>WorkoutDate</th>\n      <th>AmtOutstanding</th>\n      <th>GSpread</th>\n      <th>OAS_Spread</th>\n      <th>ZSpread</th>\n      <th>AswUsd</th>\n      <th>Currency</th>\n      <th>IssueDate</th>\n      <th>MaturityDate</th>\n      <th>G_change</th>\n      <th>Group</th>\n    </tr>\n  </thead>\n  <tbody>\n    <tr>\n      <th>0</th>\n      <td>62650</td>\n      <td>2019-01-28</td>\n      <td>100.362</td>\n      <td>6.56471</td>\n      <td>0.941645</td>\n      <td>2020-01-27</td>\n      <td>200000000.0</td>\n      <td>397.02</td>\n      <td>367.779</td>\n      <td>379.397</td>\n      <td>372.792</td>\n      <td>USD</td>\n      <td>2019-01-29</td>\n      <td>2020-01-27 00:00:00</td>\n      <td>-0.000478</td>\n      <td>NaN</td>\n    </tr>\n    <tr>\n      <th>1</th>\n      <td>62650</td>\n      <td>2019-01-29</td>\n      <td>100.246</td>\n      <td>6.80844</td>\n      <td>0.941076</td>\n      <td>2020-01-27</td>\n      <td>200000000.0</td>\n      <td>422.16</td>\n      <td>387.983</td>\n      <td>405.557</td>\n      <td>399.980</td>\n      <td>USD</td>\n      <td>2019-01-29</td>\n      <td>2020-01-27 00:00:00</td>\n      <td>0.063322</td>\n      <td>NaN</td>\n    </tr>\n    <tr>\n      <th>2</th>\n      <td>62650</td>\n      <td>2019-01-30</td>\n      <td>100.263</td>\n      <td>6.77007</td>\n      <td>0.938578</td>\n      <td>2020-01-27</td>\n      <td>200000000.0</td>\n      <td>427.97</td>\n      <td>385.729</td>\n      <td>403.238</td>\n      <td>397.452</td>\n      <td>USD</td>\n      <td>2019-01-29</td>\n      <td>2020-01-27 00:00:00</td>\n      <td>0.013763</td>\n      <td>NaN</td>\n    </tr>\n    <tr>\n      <th>3</th>\n      <td>62650</td>\n      <td>2019-01-31</td>\n      <td>100.316</td>\n      <td>6.64465</td>\n      <td>0.931103</td>\n      <td>2020-01-27</td>\n      <td>200000000.0</td>\n      <td>410.11</td>\n      <td>379.871</td>\n      <td>391.700</td>\n      <td>386.778</td>\n      <td>USD</td>\n      <td>2019-01-29</td>\n      <td>2020-01-27 00:00:00</td>\n      <td>-0.041732</td>\n      <td>NaN</td>\n    </tr>\n    <tr>\n      <th>4</th>\n      <td>62650</td>\n      <td>2019-02-28</td>\n      <td>100.387</td>\n      <td>6.30099</td>\n      <td>0.854065</td>\n      <td>2020-01-27</td>\n      <td>200000000.0</td>\n      <td>376.88</td>\n      <td>353.846</td>\n      <td>360.896</td>\n      <td>348.068</td>\n      <td>USD</td>\n      <td>2019-01-29</td>\n      <td>2020-01-27 00:00:00</td>\n      <td>-0.081027</td>\n      <td>NaN</td>\n    </tr>\n  </tbody>\n</table>\n</div>"
     },
     "metadata": {},
     "execution_count": 14
    }
   ],
   "source": [
    "final.head()"
   ]
  },
  {
   "cell_type": "code",
   "execution_count": 15,
   "metadata": {},
   "outputs": [
    {
     "output_type": "execute_result",
     "data": {
      "text/plain": "528333"
     },
     "metadata": {},
     "execution_count": 15
    }
   ],
   "source": [
    "len(final)"
   ]
  },
  {
   "cell_type": "code",
   "execution_count": 16,
   "metadata": {},
   "outputs": [],
   "source": [
    "final = final[['SecurityID','KeyDate','YieldWorst','ModifiedDuration_Plain','AmtOutstanding','G_change','Group']]"
   ]
  },
  {
   "cell_type": "code",
   "execution_count": 17,
   "metadata": {},
   "outputs": [],
   "source": [
    "final = final.rename(columns={\"G_change\": \"Target_G_change\"})"
   ]
  },
  {
   "cell_type": "code",
   "execution_count": 140,
   "metadata": {},
   "outputs": [
    {
     "output_type": "execute_result",
     "data": {
      "text/plain": "      SecurityID    KeyDate  YieldWorst  ModifiedDuration_Plain  \\\n2199       56535 2019-01-02     26.9747                 1.85247   \n2200       56535 2019-01-03     26.7432                 1.84797   \n2201       56535 2019-01-04     26.9556                 1.84352   \n2202       56535 2019-01-07     27.0412                 1.84036   \n2203       56535 2019-01-08     26.9041                 1.83947   \n\n      AmtOutstanding  Target_G_change  G_change  \n2199     300000000.0         0.002132  0.014612  \n2200     300000000.0        -0.005914  0.007046  \n2201     300000000.0         0.006400  0.017257  \n2202     300000000.0        -0.001467 -0.045289  \n2203     300000000.0        -0.007478 -0.005836  ",
      "text/html": "<div>\n<style scoped>\n    .dataframe tbody tr th:only-of-type {\n        vertical-align: middle;\n    }\n\n    .dataframe tbody tr th {\n        vertical-align: top;\n    }\n\n    .dataframe thead th {\n        text-align: right;\n    }\n</style>\n<table border=\"1\" class=\"dataframe\">\n  <thead>\n    <tr style=\"text-align: right;\">\n      <th></th>\n      <th>SecurityID</th>\n      <th>KeyDate</th>\n      <th>YieldWorst</th>\n      <th>ModifiedDuration_Plain</th>\n      <th>AmtOutstanding</th>\n      <th>Target_G_change</th>\n      <th>G_change</th>\n    </tr>\n  </thead>\n  <tbody>\n    <tr>\n      <th>2199</th>\n      <td>56535</td>\n      <td>2019-01-02</td>\n      <td>26.9747</td>\n      <td>1.85247</td>\n      <td>300000000.0</td>\n      <td>0.002132</td>\n      <td>0.014612</td>\n    </tr>\n    <tr>\n      <th>2200</th>\n      <td>56535</td>\n      <td>2019-01-03</td>\n      <td>26.7432</td>\n      <td>1.84797</td>\n      <td>300000000.0</td>\n      <td>-0.005914</td>\n      <td>0.007046</td>\n    </tr>\n    <tr>\n      <th>2201</th>\n      <td>56535</td>\n      <td>2019-01-04</td>\n      <td>26.9556</td>\n      <td>1.84352</td>\n      <td>300000000.0</td>\n      <td>0.006400</td>\n      <td>0.017257</td>\n    </tr>\n    <tr>\n      <th>2202</th>\n      <td>56535</td>\n      <td>2019-01-07</td>\n      <td>27.0412</td>\n      <td>1.84036</td>\n      <td>300000000.0</td>\n      <td>-0.001467</td>\n      <td>-0.045289</td>\n    </tr>\n    <tr>\n      <th>2203</th>\n      <td>56535</td>\n      <td>2019-01-08</td>\n      <td>26.9041</td>\n      <td>1.83947</td>\n      <td>300000000.0</td>\n      <td>-0.007478</td>\n      <td>-0.005836</td>\n    </tr>\n  </tbody>\n</table>\n</div>"
     },
     "metadata": {},
     "execution_count": 140
    }
   ],
   "source": [
    "final.head()"
   ]
  },
  {
   "cell_type": "code",
   "execution_count": 19,
   "metadata": {},
   "outputs": [],
   "source": [
    "final = final.merge(final_change,on=['Group','KeyDate'],how = 'left')"
   ]
  },
  {
   "cell_type": "code",
   "execution_count": 20,
   "metadata": {},
   "outputs": [],
   "source": [
    "final = final.dropna()"
   ]
  },
  {
   "cell_type": "markdown",
   "metadata": {},
   "source": [
    "## Read Your secuirty data here"
   ]
  },
  {
   "cell_type": "code",
   "execution_count": 52,
   "metadata": {},
   "outputs": [],
   "source": [
    "db_connection = sql.connect(host='0.0.0.0', database='bond_db', user='root', password='password')\n",
    "security_query = \"select * from security_info\"\n",
    "security_data = pd.read_sql(security_query,con=db_connection)"
   ]
  },
  {
   "cell_type": "markdown",
   "metadata": {},
   "source": [
    "## END"
   ]
  },
  {
   "cell_type": "code",
   "execution_count": 53,
   "metadata": {},
   "outputs": [
    {
     "output_type": "execute_result",
     "data": {
      "text/plain": "   SecurityID                               OfficialName SecurityType  \\\n0          62                        BACR 4.875 08/13/19         Bond   \n1          64                            POST 5 08/15/26         Bond   \n2          69                        ARNDTN 1.5 05/03/22         Bond   \n3          72  RBS 6.1 06/10/2023 Bullet USD SUBORDINATE         Bond   \n4          78                             AER 5 10/01/21         Bond   \n\n  SecuritySubType SecurityBBGType SecurityBBGYellowKey Series SecuritySector  \\\n0            Bond        EURO MTN                 Corp   None     Financials   \n1            Bond  PRIV PLACEMENT                 Corp   None      Consumers   \n2            Bond       EURO-ZONE                 Corp   None    Real Estate   \n3            Bond          GLOBAL                 Corp   None     Financials   \n4            Bond          GLOBAL                 Corp   None     Financials   \n\n     SecurityIndustry       SecuritySubIndustry  ... IsPerpetual IsJunior  \\\n0               Banks       Commer Banks Non-US  ...           0        0   \n1     Food & Beverage     Food-Misc/Diversified  ...           0        0   \n2         Real Estate  Real Estate Oper/Develop  ...           0        0   \n3   Diversified Banks  Diversified Banking Inst  ...           0        0   \n4  Commercial Finance    Finance-Leasing Compan  ...           0        0   \n\n                Seniority   PaymentRank        IsBailIn QuoteSize  \\\n0            Sr Unsecured  Sr Unsecured               N       100   \n1            Sr Unsecured  Sr Unsecured  Not Applicable       100   \n2            Sr Unsecured  Sr Unsecured  Not Applicable       100   \n3  Subordinated Unsecured  Subordinated               Y       100   \n4            Sr Unsecured  Sr Unsecured               N       100   \n\n   AmountIssued MinIncrement  MinPiece  \\\n0  2.000000e+09       1000.0   50000.0   \n1  1.750000e+09       1000.0    2000.0   \n2  6.000000e+08     100000.0  100000.0   \n3  1.000000e+09       1000.0    2000.0   \n4  8.000000e+08       1000.0  150000.0   \n\n                                      BBGDescription  \n0                                               None  \n1                                               None  \n2  COUPON STEP UP PROVISION IF ISSUER IS NOT BBB ...  \n3                 Basel III grandfathered instrument  \n4  ISS'D IN EXCH OF 144A/REGS SEC; SEE CUSIP# 007...  \n\n[5 rows x 48 columns]",
      "text/html": "<div>\n<style scoped>\n    .dataframe tbody tr th:only-of-type {\n        vertical-align: middle;\n    }\n\n    .dataframe tbody tr th {\n        vertical-align: top;\n    }\n\n    .dataframe thead th {\n        text-align: right;\n    }\n</style>\n<table border=\"1\" class=\"dataframe\">\n  <thead>\n    <tr style=\"text-align: right;\">\n      <th></th>\n      <th>SecurityID</th>\n      <th>OfficialName</th>\n      <th>SecurityType</th>\n      <th>SecuritySubType</th>\n      <th>SecurityBBGType</th>\n      <th>SecurityBBGYellowKey</th>\n      <th>Series</th>\n      <th>SecuritySector</th>\n      <th>SecurityIndustry</th>\n      <th>SecuritySubIndustry</th>\n      <th>...</th>\n      <th>IsPerpetual</th>\n      <th>IsJunior</th>\n      <th>Seniority</th>\n      <th>PaymentRank</th>\n      <th>IsBailIn</th>\n      <th>QuoteSize</th>\n      <th>AmountIssued</th>\n      <th>MinIncrement</th>\n      <th>MinPiece</th>\n      <th>BBGDescription</th>\n    </tr>\n  </thead>\n  <tbody>\n    <tr>\n      <th>0</th>\n      <td>62</td>\n      <td>BACR 4.875 08/13/19</td>\n      <td>Bond</td>\n      <td>Bond</td>\n      <td>EURO MTN</td>\n      <td>Corp</td>\n      <td>None</td>\n      <td>Financials</td>\n      <td>Banks</td>\n      <td>Commer Banks Non-US</td>\n      <td>...</td>\n      <td>0</td>\n      <td>0</td>\n      <td>Sr Unsecured</td>\n      <td>Sr Unsecured</td>\n      <td>N</td>\n      <td>100</td>\n      <td>2.000000e+09</td>\n      <td>1000.0</td>\n      <td>50000.0</td>\n      <td>None</td>\n    </tr>\n    <tr>\n      <th>1</th>\n      <td>64</td>\n      <td>POST 5 08/15/26</td>\n      <td>Bond</td>\n      <td>Bond</td>\n      <td>PRIV PLACEMENT</td>\n      <td>Corp</td>\n      <td>None</td>\n      <td>Consumers</td>\n      <td>Food &amp; Beverage</td>\n      <td>Food-Misc/Diversified</td>\n      <td>...</td>\n      <td>0</td>\n      <td>0</td>\n      <td>Sr Unsecured</td>\n      <td>Sr Unsecured</td>\n      <td>Not Applicable</td>\n      <td>100</td>\n      <td>1.750000e+09</td>\n      <td>1000.0</td>\n      <td>2000.0</td>\n      <td>None</td>\n    </tr>\n    <tr>\n      <th>2</th>\n      <td>69</td>\n      <td>ARNDTN 1.5 05/03/22</td>\n      <td>Bond</td>\n      <td>Bond</td>\n      <td>EURO-ZONE</td>\n      <td>Corp</td>\n      <td>None</td>\n      <td>Real Estate</td>\n      <td>Real Estate</td>\n      <td>Real Estate Oper/Develop</td>\n      <td>...</td>\n      <td>0</td>\n      <td>0</td>\n      <td>Sr Unsecured</td>\n      <td>Sr Unsecured</td>\n      <td>Not Applicable</td>\n      <td>100</td>\n      <td>6.000000e+08</td>\n      <td>100000.0</td>\n      <td>100000.0</td>\n      <td>COUPON STEP UP PROVISION IF ISSUER IS NOT BBB ...</td>\n    </tr>\n    <tr>\n      <th>3</th>\n      <td>72</td>\n      <td>RBS 6.1 06/10/2023 Bullet USD SUBORDINATE</td>\n      <td>Bond</td>\n      <td>Bond</td>\n      <td>GLOBAL</td>\n      <td>Corp</td>\n      <td>None</td>\n      <td>Financials</td>\n      <td>Diversified Banks</td>\n      <td>Diversified Banking Inst</td>\n      <td>...</td>\n      <td>0</td>\n      <td>0</td>\n      <td>Subordinated Unsecured</td>\n      <td>Subordinated</td>\n      <td>Y</td>\n      <td>100</td>\n      <td>1.000000e+09</td>\n      <td>1000.0</td>\n      <td>2000.0</td>\n      <td>Basel III grandfathered instrument</td>\n    </tr>\n    <tr>\n      <th>4</th>\n      <td>78</td>\n      <td>AER 5 10/01/21</td>\n      <td>Bond</td>\n      <td>Bond</td>\n      <td>GLOBAL</td>\n      <td>Corp</td>\n      <td>None</td>\n      <td>Financials</td>\n      <td>Commercial Finance</td>\n      <td>Finance-Leasing Compan</td>\n      <td>...</td>\n      <td>0</td>\n      <td>0</td>\n      <td>Sr Unsecured</td>\n      <td>Sr Unsecured</td>\n      <td>N</td>\n      <td>100</td>\n      <td>8.000000e+08</td>\n      <td>1000.0</td>\n      <td>150000.0</td>\n      <td>ISS'D IN EXCH OF 144A/REGS SEC; SEE CUSIP# 007...</td>\n    </tr>\n  </tbody>\n</table>\n<p>5 rows × 48 columns</p>\n</div>"
     },
     "metadata": {},
     "execution_count": 53
    }
   ],
   "source": [
    "security_data.head()"
   ]
  },
  {
   "cell_type": "code",
   "execution_count": 54,
   "metadata": {},
   "outputs": [
    {
     "output_type": "execute_result",
     "data": {
      "text/plain": "28976"
     },
     "metadata": {},
     "execution_count": 54
    }
   ],
   "source": [
    "len(security_data)"
   ]
  },
  {
   "cell_type": "code",
   "execution_count": 55,
   "metadata": {},
   "outputs": [
    {
     "output_type": "execute_result",
     "data": {
      "text/plain": "Index(['SecurityID', 'OfficialName', 'SecurityType', 'SecuritySubType',\n       'SecurityBBGType', 'SecurityBBGYellowKey', 'Series', 'SecuritySector',\n       'SecurityIndustry', 'SecuritySubIndustry', 'BBGSecuritySector',\n       'IssuerParent', 'Obligor', 'Ticker', 'EquityTicker', 'Issuer',\n       'ObligorID', 'CountryDomicile', 'CountryRisk', 'CountryIssue',\n       'Currency', 'Coupon', 'CouponType', 'CouponFrequency', 'CouponDayCount',\n       'CreationDate', 'LastModifiedTime', 'IssueDate', 'PricingDate',\n       'MaturityDate', 'IsCallable', 'IsConvertible', 'IsContingent',\n       'IsFactorable', 'IsHybrid', 'IsMaple', 'IsPrivatePlacement',\n       'IsPreliminary', 'IsPerpetual', 'IsJunior', 'Seniority', 'PaymentRank',\n       'IsBailIn', 'QuoteSize', 'AmountIssued', 'MinIncrement', 'MinPiece',\n       'BBGDescription'],\n      dtype='object')"
     },
     "metadata": {},
     "execution_count": 55
    }
   ],
   "source": [
    "security_data.columns"
   ]
  },
  {
   "cell_type": "code",
   "execution_count": 56,
   "metadata": {},
   "outputs": [
    {
     "output_type": "execute_result",
     "data": {
      "text/plain": "array(['Sr Unsecured', 'Subordinated Unsecured',\n       'Jr Subordinated Unsecured', 'Secured', '1st Lien Secured',\n       '2nd Lien Secured', 'Asset Backed', '3rd Lien Secured', '1st lien',\n       '1.5 Lien Secured'], dtype=object)"
     },
     "metadata": {},
     "execution_count": 56
    }
   ],
   "source": [
    "security_data.Seniority.unique()"
   ]
  },
  {
   "cell_type": "code",
   "execution_count": 109,
   "metadata": {},
   "outputs": [],
   "source": [
    "df = pd.concat([security_data['SecurityID'],pd.get_dummies(security_data.Seniority)],axis=1) "
   ]
  },
  {
   "cell_type": "code",
   "execution_count": 110,
   "metadata": {},
   "outputs": [],
   "source": [
    "df = pd.concat([df,pd.get_dummies(security_data.SecuritySector)],axis=1) "
   ]
  },
  {
   "cell_type": "code",
   "execution_count": 111,
   "metadata": {},
   "outputs": [],
   "source": [
    "df = pd.concat([df,pd.get_dummies(security_data.CountryRisk)],axis=1) "
   ]
  },
  {
   "cell_type": "code",
   "execution_count": 112,
   "metadata": {},
   "outputs": [],
   "source": [
    "df = pd.concat([df,pd.get_dummies(security_data.CouponType)],axis=1) "
   ]
  },
  {
   "cell_type": "code",
   "execution_count": 113,
   "metadata": {},
   "outputs": [],
   "source": [
    "df2 = security_data[['SecurityID','Coupon','IsCallable', 'IsConvertible', 'IsContingent',\n",
    "       'IsFactorable', 'IsHybrid', 'IsMaple', 'IsPrivatePlacement',\n",
    "       'IsPreliminary', 'IsPerpetual', 'IsJunior']]"
   ]
  },
  {
   "cell_type": "code",
   "execution_count": 114,
   "metadata": {},
   "outputs": [
    {
     "output_type": "execute_result",
     "data": {
      "text/plain": "   SecurityID  Coupon  IsCallable  IsConvertible  IsContingent  IsFactorable  \\\n0          62   4.875           0              0             0             0   \n1          64   5.000           1              0             0             0   \n2          69   1.500           0              0             0             0   \n3          72   6.100           0              0             0             0   \n4          78   5.000           0              0             0             0   \n\n   IsHybrid  IsMaple  IsPrivatePlacement  IsPreliminary  IsPerpetual  IsJunior  \n0         0        0                   0              0            0         0  \n1         0        0                   1              0            0         0  \n2         0        0                   0              0            0         0  \n3         0        0                   0              0            0         0  \n4         0        0                   0              0            0         0  ",
      "text/html": "<div>\n<style scoped>\n    .dataframe tbody tr th:only-of-type {\n        vertical-align: middle;\n    }\n\n    .dataframe tbody tr th {\n        vertical-align: top;\n    }\n\n    .dataframe thead th {\n        text-align: right;\n    }\n</style>\n<table border=\"1\" class=\"dataframe\">\n  <thead>\n    <tr style=\"text-align: right;\">\n      <th></th>\n      <th>SecurityID</th>\n      <th>Coupon</th>\n      <th>IsCallable</th>\n      <th>IsConvertible</th>\n      <th>IsContingent</th>\n      <th>IsFactorable</th>\n      <th>IsHybrid</th>\n      <th>IsMaple</th>\n      <th>IsPrivatePlacement</th>\n      <th>IsPreliminary</th>\n      <th>IsPerpetual</th>\n      <th>IsJunior</th>\n    </tr>\n  </thead>\n  <tbody>\n    <tr>\n      <th>0</th>\n      <td>62</td>\n      <td>4.875</td>\n      <td>0</td>\n      <td>0</td>\n      <td>0</td>\n      <td>0</td>\n      <td>0</td>\n      <td>0</td>\n      <td>0</td>\n      <td>0</td>\n      <td>0</td>\n      <td>0</td>\n    </tr>\n    <tr>\n      <th>1</th>\n      <td>64</td>\n      <td>5.000</td>\n      <td>1</td>\n      <td>0</td>\n      <td>0</td>\n      <td>0</td>\n      <td>0</td>\n      <td>0</td>\n      <td>1</td>\n      <td>0</td>\n      <td>0</td>\n      <td>0</td>\n    </tr>\n    <tr>\n      <th>2</th>\n      <td>69</td>\n      <td>1.500</td>\n      <td>0</td>\n      <td>0</td>\n      <td>0</td>\n      <td>0</td>\n      <td>0</td>\n      <td>0</td>\n      <td>0</td>\n      <td>0</td>\n      <td>0</td>\n      <td>0</td>\n    </tr>\n    <tr>\n      <th>3</th>\n      <td>72</td>\n      <td>6.100</td>\n      <td>0</td>\n      <td>0</td>\n      <td>0</td>\n      <td>0</td>\n      <td>0</td>\n      <td>0</td>\n      <td>0</td>\n      <td>0</td>\n      <td>0</td>\n      <td>0</td>\n    </tr>\n    <tr>\n      <th>4</th>\n      <td>78</td>\n      <td>5.000</td>\n      <td>0</td>\n      <td>0</td>\n      <td>0</td>\n      <td>0</td>\n      <td>0</td>\n      <td>0</td>\n      <td>0</td>\n      <td>0</td>\n      <td>0</td>\n      <td>0</td>\n    </tr>\n  </tbody>\n</table>\n</div>"
     },
     "metadata": {},
     "execution_count": 114
    }
   ],
   "source": [
    "df2.head()"
   ]
  },
  {
   "cell_type": "markdown",
   "metadata": {},
   "source": [
    "## Scale MinIncrement and MinPiece"
   ]
  },
  {
   "cell_type": "code",
   "execution_count": 115,
   "metadata": {},
   "outputs": [],
   "source": [
    "df3 = security_data[['MinIncrement', 'MinPiece']]"
   ]
  },
  {
   "cell_type": "code",
   "execution_count": 183,
   "metadata": {},
   "outputs": [],
   "source": [
    "from sklearn.preprocessing import MinMaxScaler"
   ]
  },
  {
   "cell_type": "code",
   "execution_count": 184,
   "metadata": {},
   "outputs": [],
   "source": [
    "column_names_to_normalize = ['MinIncrement','MinPiece']"
   ]
  },
  {
   "cell_type": "code",
   "execution_count": 185,
   "metadata": {},
   "outputs": [],
   "source": [
    "scaler = MinMaxScaler([0,1])"
   ]
  },
  {
   "cell_type": "code",
   "execution_count": 186,
   "metadata": {},
   "outputs": [
    {
     "output_type": "execute_result",
     "data": {
      "text/plain": "MinMaxScaler(feature_range=[0, 1])"
     },
     "metadata": {},
     "execution_count": 186
    }
   ],
   "source": [
    "scaler.fit(df3)"
   ]
  },
  {
   "cell_type": "code",
   "execution_count": 187,
   "metadata": {},
   "outputs": [],
   "source": [
    "df3 = pd.DataFrame(scaler.transform(df3), columns=column_names_to_normalize)"
   ]
  },
  {
   "cell_type": "code",
   "execution_count": 188,
   "metadata": {},
   "outputs": [],
   "source": [
    "df_scaled = pd.concat([df,df3],axis=1) "
   ]
  },
  {
   "cell_type": "code",
   "execution_count": 189,
   "metadata": {},
   "outputs": [
    {
     "output_type": "execute_result",
     "data": {
      "text/plain": "       SecurityID  1.5 Lien Secured  1st Lien Secured  1st lien  \\\n0              62                 0                 0         0   \n1              64                 0                 0         0   \n2              69                 0                 0         0   \n3              72                 0                 0         0   \n4              78                 0                 0         0   \n...           ...               ...               ...       ...   \n28971       72948                 0                 0         0   \n28972       72949                 0                 0         0   \n28973       72950                 0                 0         0   \n28974       72951                 0                 0         0   \n28975       72952                 0                 0         0   \n\n       2nd Lien Secured  3rd Lien Secured  Asset Backed  \\\n0                     0                 0             0   \n1                     0                 0             0   \n2                     0                 0             0   \n3                     0                 0             0   \n4                     0                 0             0   \n...                 ...               ...           ...   \n28971                 0                 0             0   \n28972                 0                 0             0   \n28973                 0                 0             0   \n28974                 0                 0             0   \n28975                 0                 0             0   \n\n       Jr Subordinated Unsecured  Secured  Sr Unsecured  ...  Fixed  \\\n0                              0        0             1  ...      0   \n1                              0        0             1  ...      0   \n2                              0        0             1  ...      0   \n3                              0        0             0  ...      0   \n4                              0        0             1  ...      0   \n...                          ...      ...           ...  ...    ...   \n28971                          0        0             1  ...      0   \n28972                          0        0             1  ...      0   \n28973                          0        0             1  ...      0   \n28974                          1        0             0  ...      0   \n28975                          0        0             0  ...      0   \n\n       PAY-IN-KIND  STEP CPN  VARIABLE  WHEN ISSUED  ZERO COUPON  \\\n0                0         0         0            0            0   \n1                0         0         0            0            0   \n2                0         0         0            0            0   \n3                0         0         0            0            0   \n4                0         0         0            0            0   \n...            ...       ...       ...          ...          ...   \n28971            0         0         0            0            0   \n28972            0         0         1            0            0   \n28973            0         0         1            0            0   \n28974            0         0         1            0            0   \n28975            0         0         1            0            0   \n\n       MinIncrement  MinPiece  MinIncrement  MinPiece  \n0            1000.0   50000.0      0.000005  0.000258  \n1            1000.0    2000.0      0.000005  0.000010  \n2          100000.0  100000.0      0.000517  0.000517  \n3            1000.0    2000.0      0.000005  0.000010  \n4            1000.0  150000.0      0.000005  0.000775  \n...             ...       ...           ...       ...  \n28971        1000.0  200000.0      0.000005  0.001033  \n28972        1000.0  200000.0      0.000005  0.001033  \n28973        1000.0  200000.0      0.000005  0.001033  \n28974      200000.0  200000.0      0.001033  0.001033  \n28975        1000.0  200000.0      0.000005  0.001033  \n\n[28976 rows x 144 columns]",
      "text/html": "<div>\n<style scoped>\n    .dataframe tbody tr th:only-of-type {\n        vertical-align: middle;\n    }\n\n    .dataframe tbody tr th {\n        vertical-align: top;\n    }\n\n    .dataframe thead th {\n        text-align: right;\n    }\n</style>\n<table border=\"1\" class=\"dataframe\">\n  <thead>\n    <tr style=\"text-align: right;\">\n      <th></th>\n      <th>SecurityID</th>\n      <th>1.5 Lien Secured</th>\n      <th>1st Lien Secured</th>\n      <th>1st lien</th>\n      <th>2nd Lien Secured</th>\n      <th>3rd Lien Secured</th>\n      <th>Asset Backed</th>\n      <th>Jr Subordinated Unsecured</th>\n      <th>Secured</th>\n      <th>Sr Unsecured</th>\n      <th>...</th>\n      <th>Fixed</th>\n      <th>PAY-IN-KIND</th>\n      <th>STEP CPN</th>\n      <th>VARIABLE</th>\n      <th>WHEN ISSUED</th>\n      <th>ZERO COUPON</th>\n      <th>MinIncrement</th>\n      <th>MinPiece</th>\n      <th>MinIncrement</th>\n      <th>MinPiece</th>\n    </tr>\n  </thead>\n  <tbody>\n    <tr>\n      <th>0</th>\n      <td>62</td>\n      <td>0</td>\n      <td>0</td>\n      <td>0</td>\n      <td>0</td>\n      <td>0</td>\n      <td>0</td>\n      <td>0</td>\n      <td>0</td>\n      <td>1</td>\n      <td>...</td>\n      <td>0</td>\n      <td>0</td>\n      <td>0</td>\n      <td>0</td>\n      <td>0</td>\n      <td>0</td>\n      <td>1000.0</td>\n      <td>50000.0</td>\n      <td>0.000005</td>\n      <td>0.000258</td>\n    </tr>\n    <tr>\n      <th>1</th>\n      <td>64</td>\n      <td>0</td>\n      <td>0</td>\n      <td>0</td>\n      <td>0</td>\n      <td>0</td>\n      <td>0</td>\n      <td>0</td>\n      <td>0</td>\n      <td>1</td>\n      <td>...</td>\n      <td>0</td>\n      <td>0</td>\n      <td>0</td>\n      <td>0</td>\n      <td>0</td>\n      <td>0</td>\n      <td>1000.0</td>\n      <td>2000.0</td>\n      <td>0.000005</td>\n      <td>0.000010</td>\n    </tr>\n    <tr>\n      <th>2</th>\n      <td>69</td>\n      <td>0</td>\n      <td>0</td>\n      <td>0</td>\n      <td>0</td>\n      <td>0</td>\n      <td>0</td>\n      <td>0</td>\n      <td>0</td>\n      <td>1</td>\n      <td>...</td>\n      <td>0</td>\n      <td>0</td>\n      <td>0</td>\n      <td>0</td>\n      <td>0</td>\n      <td>0</td>\n      <td>100000.0</td>\n      <td>100000.0</td>\n      <td>0.000517</td>\n      <td>0.000517</td>\n    </tr>\n    <tr>\n      <th>3</th>\n      <td>72</td>\n      <td>0</td>\n      <td>0</td>\n      <td>0</td>\n      <td>0</td>\n      <td>0</td>\n      <td>0</td>\n      <td>0</td>\n      <td>0</td>\n      <td>0</td>\n      <td>...</td>\n      <td>0</td>\n      <td>0</td>\n      <td>0</td>\n      <td>0</td>\n      <td>0</td>\n      <td>0</td>\n      <td>1000.0</td>\n      <td>2000.0</td>\n      <td>0.000005</td>\n      <td>0.000010</td>\n    </tr>\n    <tr>\n      <th>4</th>\n      <td>78</td>\n      <td>0</td>\n      <td>0</td>\n      <td>0</td>\n      <td>0</td>\n      <td>0</td>\n      <td>0</td>\n      <td>0</td>\n      <td>0</td>\n      <td>1</td>\n      <td>...</td>\n      <td>0</td>\n      <td>0</td>\n      <td>0</td>\n      <td>0</td>\n      <td>0</td>\n      <td>0</td>\n      <td>1000.0</td>\n      <td>150000.0</td>\n      <td>0.000005</td>\n      <td>0.000775</td>\n    </tr>\n    <tr>\n      <th>...</th>\n      <td>...</td>\n      <td>...</td>\n      <td>...</td>\n      <td>...</td>\n      <td>...</td>\n      <td>...</td>\n      <td>...</td>\n      <td>...</td>\n      <td>...</td>\n      <td>...</td>\n      <td>...</td>\n      <td>...</td>\n      <td>...</td>\n      <td>...</td>\n      <td>...</td>\n      <td>...</td>\n      <td>...</td>\n      <td>...</td>\n      <td>...</td>\n      <td>...</td>\n      <td>...</td>\n    </tr>\n    <tr>\n      <th>28971</th>\n      <td>72948</td>\n      <td>0</td>\n      <td>0</td>\n      <td>0</td>\n      <td>0</td>\n      <td>0</td>\n      <td>0</td>\n      <td>0</td>\n      <td>0</td>\n      <td>1</td>\n      <td>...</td>\n      <td>0</td>\n      <td>0</td>\n      <td>0</td>\n      <td>0</td>\n      <td>0</td>\n      <td>0</td>\n      <td>1000.0</td>\n      <td>200000.0</td>\n      <td>0.000005</td>\n      <td>0.001033</td>\n    </tr>\n    <tr>\n      <th>28972</th>\n      <td>72949</td>\n      <td>0</td>\n      <td>0</td>\n      <td>0</td>\n      <td>0</td>\n      <td>0</td>\n      <td>0</td>\n      <td>0</td>\n      <td>0</td>\n      <td>1</td>\n      <td>...</td>\n      <td>0</td>\n      <td>0</td>\n      <td>0</td>\n      <td>1</td>\n      <td>0</td>\n      <td>0</td>\n      <td>1000.0</td>\n      <td>200000.0</td>\n      <td>0.000005</td>\n      <td>0.001033</td>\n    </tr>\n    <tr>\n      <th>28973</th>\n      <td>72950</td>\n      <td>0</td>\n      <td>0</td>\n      <td>0</td>\n      <td>0</td>\n      <td>0</td>\n      <td>0</td>\n      <td>0</td>\n      <td>0</td>\n      <td>1</td>\n      <td>...</td>\n      <td>0</td>\n      <td>0</td>\n      <td>0</td>\n      <td>1</td>\n      <td>0</td>\n      <td>0</td>\n      <td>1000.0</td>\n      <td>200000.0</td>\n      <td>0.000005</td>\n      <td>0.001033</td>\n    </tr>\n    <tr>\n      <th>28974</th>\n      <td>72951</td>\n      <td>0</td>\n      <td>0</td>\n      <td>0</td>\n      <td>0</td>\n      <td>0</td>\n      <td>0</td>\n      <td>1</td>\n      <td>0</td>\n      <td>0</td>\n      <td>...</td>\n      <td>0</td>\n      <td>0</td>\n      <td>0</td>\n      <td>1</td>\n      <td>0</td>\n      <td>0</td>\n      <td>200000.0</td>\n      <td>200000.0</td>\n      <td>0.001033</td>\n      <td>0.001033</td>\n    </tr>\n    <tr>\n      <th>28975</th>\n      <td>72952</td>\n      <td>0</td>\n      <td>0</td>\n      <td>0</td>\n      <td>0</td>\n      <td>0</td>\n      <td>0</td>\n      <td>0</td>\n      <td>0</td>\n      <td>0</td>\n      <td>...</td>\n      <td>0</td>\n      <td>0</td>\n      <td>0</td>\n      <td>1</td>\n      <td>0</td>\n      <td>0</td>\n      <td>1000.0</td>\n      <td>200000.0</td>\n      <td>0.000005</td>\n      <td>0.001033</td>\n    </tr>\n  </tbody>\n</table>\n<p>28976 rows × 144 columns</p>\n</div>"
     },
     "metadata": {},
     "execution_count": 189
    }
   ],
   "source": [
    "df_scaled"
   ]
  },
  {
   "cell_type": "code",
   "execution_count": null,
   "metadata": {},
   "outputs": [],
   "source": [
    "df_scaled.drop(columns=['\\tFIXED'],inplace=True)"
   ]
  },
  {
   "cell_type": "code",
   "execution_count": null,
   "metadata": {},
   "outputs": [],
   "source": [
    "df_unsacled.to_csv('Security_info_post_dummy_scaled.csv')"
   ]
  },
  {
   "cell_type": "markdown",
   "metadata": {},
   "source": [
    "## Produce Unscaled Security Dummpy"
   ]
  },
  {
   "cell_type": "code",
   "execution_count": 147,
   "metadata": {},
   "outputs": [],
   "source": [
    "df_unsacled = pd.concat([df,security_data[['MinIncrement', 'MinPiece']]],axis=1) "
   ]
  },
  {
   "cell_type": "code",
   "execution_count": 149,
   "metadata": {},
   "outputs": [],
   "source": [
    "df_unsacled.to_csv('Security_info_post_dummy.csv')"
   ]
  },
  {
   "cell_type": "code",
   "execution_count": null,
   "metadata": {},
   "outputs": [],
   "source": [
    "final.drop(columns=['Group'],inplace= True)"
   ]
  },
  {
   "cell_type": "code",
   "execution_count": 92,
   "metadata": {},
   "outputs": [
    {
     "output_type": "execute_result",
     "data": {
      "text/plain": "        SecurityID    KeyDate  YieldWorst  ModifiedDuration_Plain  \\\n2199         56535 2019-01-02    26.97470                 1.85247   \n2200         56535 2019-01-03    26.74320                 1.84797   \n2201         56535 2019-01-04    26.95560                 1.84352   \n2202         56535 2019-01-07    27.04120                 1.84036   \n2203         56535 2019-01-08    26.90410                 1.83947   \n...            ...        ...         ...                     ...   \n528328          64 2019-02-22     5.66178                 6.11500   \n528329          64 2019-02-25     5.62156                 6.11537   \n528330          64 2019-02-26     5.62724                 6.11243   \n528331          64 2019-02-27     5.65731                 6.10267   \n528332          64 2019-02-28     5.65774                 6.09504   \n\n        AmtOutstanding  Target_G_change  G_change  \n2199      3.000000e+08         0.002132  0.014612  \n2200      3.000000e+08        -0.005914  0.007046  \n2201      3.000000e+08         0.006400  0.017257  \n2202      3.000000e+08        -0.001467 -0.045289  \n2203      3.000000e+08        -0.007478 -0.005836  \n...                ...              ...       ...  \n528328    1.697270e+09         0.019700  0.005560  \n528329    1.697270e+09        -0.015824 -0.014690  \n528330    1.697270e+09         0.010259 -0.002174  \n528331    1.697270e+09        -0.006607 -0.004593  \n528332    1.697270e+09        -0.012122 -0.013107  \n\n[505107 rows x 7 columns]",
      "text/html": "<div>\n<style scoped>\n    .dataframe tbody tr th:only-of-type {\n        vertical-align: middle;\n    }\n\n    .dataframe tbody tr th {\n        vertical-align: top;\n    }\n\n    .dataframe thead th {\n        text-align: right;\n    }\n</style>\n<table border=\"1\" class=\"dataframe\">\n  <thead>\n    <tr style=\"text-align: right;\">\n      <th></th>\n      <th>SecurityID</th>\n      <th>KeyDate</th>\n      <th>YieldWorst</th>\n      <th>ModifiedDuration_Plain</th>\n      <th>AmtOutstanding</th>\n      <th>Target_G_change</th>\n      <th>G_change</th>\n    </tr>\n  </thead>\n  <tbody>\n    <tr>\n      <th>2199</th>\n      <td>56535</td>\n      <td>2019-01-02</td>\n      <td>26.97470</td>\n      <td>1.85247</td>\n      <td>3.000000e+08</td>\n      <td>0.002132</td>\n      <td>0.014612</td>\n    </tr>\n    <tr>\n      <th>2200</th>\n      <td>56535</td>\n      <td>2019-01-03</td>\n      <td>26.74320</td>\n      <td>1.84797</td>\n      <td>3.000000e+08</td>\n      <td>-0.005914</td>\n      <td>0.007046</td>\n    </tr>\n    <tr>\n      <th>2201</th>\n      <td>56535</td>\n      <td>2019-01-04</td>\n      <td>26.95560</td>\n      <td>1.84352</td>\n      <td>3.000000e+08</td>\n      <td>0.006400</td>\n      <td>0.017257</td>\n    </tr>\n    <tr>\n      <th>2202</th>\n      <td>56535</td>\n      <td>2019-01-07</td>\n      <td>27.04120</td>\n      <td>1.84036</td>\n      <td>3.000000e+08</td>\n      <td>-0.001467</td>\n      <td>-0.045289</td>\n    </tr>\n    <tr>\n      <th>2203</th>\n      <td>56535</td>\n      <td>2019-01-08</td>\n      <td>26.90410</td>\n      <td>1.83947</td>\n      <td>3.000000e+08</td>\n      <td>-0.007478</td>\n      <td>-0.005836</td>\n    </tr>\n    <tr>\n      <th>...</th>\n      <td>...</td>\n      <td>...</td>\n      <td>...</td>\n      <td>...</td>\n      <td>...</td>\n      <td>...</td>\n      <td>...</td>\n    </tr>\n    <tr>\n      <th>528328</th>\n      <td>64</td>\n      <td>2019-02-22</td>\n      <td>5.66178</td>\n      <td>6.11500</td>\n      <td>1.697270e+09</td>\n      <td>0.019700</td>\n      <td>0.005560</td>\n    </tr>\n    <tr>\n      <th>528329</th>\n      <td>64</td>\n      <td>2019-02-25</td>\n      <td>5.62156</td>\n      <td>6.11537</td>\n      <td>1.697270e+09</td>\n      <td>-0.015824</td>\n      <td>-0.014690</td>\n    </tr>\n    <tr>\n      <th>528330</th>\n      <td>64</td>\n      <td>2019-02-26</td>\n      <td>5.62724</td>\n      <td>6.11243</td>\n      <td>1.697270e+09</td>\n      <td>0.010259</td>\n      <td>-0.002174</td>\n    </tr>\n    <tr>\n      <th>528331</th>\n      <td>64</td>\n      <td>2019-02-27</td>\n      <td>5.65731</td>\n      <td>6.10267</td>\n      <td>1.697270e+09</td>\n      <td>-0.006607</td>\n      <td>-0.004593</td>\n    </tr>\n    <tr>\n      <th>528332</th>\n      <td>64</td>\n      <td>2019-02-28</td>\n      <td>5.65774</td>\n      <td>6.09504</td>\n      <td>1.697270e+09</td>\n      <td>-0.012122</td>\n      <td>-0.013107</td>\n    </tr>\n  </tbody>\n</table>\n<p>505107 rows × 7 columns</p>\n</div>"
     },
     "metadata": {},
     "execution_count": 92
    }
   ],
   "source": [
    "final"
   ]
  },
  {
   "cell_type": "code",
   "execution_count": 79,
   "metadata": {},
   "outputs": [
    {
     "output_type": "execute_result",
     "data": {
      "text/plain": "MinMaxScaler(feature_range=[0, 1])"
     },
     "metadata": {},
     "execution_count": 79
    }
   ],
   "source": [
    "scaler2 = MinMaxScaler([0,1])\n",
    "scaler2.fit(final.loc[:,'YieldWorst':'G_change'])"
   ]
  },
  {
   "cell_type": "code",
   "execution_count": 125,
   "metadata": {},
   "outputs": [],
   "source": [
    "df4 = scaler2.transform(final.loc[:,'YieldWorst':'G_change'])"
   ]
  },
  {
   "cell_type": "markdown",
   "metadata": {},
   "source": [
    "## Spread change scaled"
   ]
  },
  {
   "cell_type": "code",
   "execution_count": 126,
   "metadata": {},
   "outputs": [
    {
     "output_type": "execute_result",
     "data": {
      "text/plain": "        SecurityID    KeyDate  YieldWorst  ModifiedDuration_Plain  \\\n2199         56535 2019-01-02    26.97470                 1.85247   \n2200         56535 2019-01-03    26.74320                 1.84797   \n2201         56535 2019-01-04    26.95560                 1.84352   \n2202         56535 2019-01-07    27.04120                 1.84036   \n2203         56535 2019-01-08    26.90410                 1.83947   \n...            ...        ...         ...                     ...   \n528328          64 2019-02-22     5.66178                 6.11500   \n528329          64 2019-02-25     5.62156                 6.11537   \n528330          64 2019-02-26     5.62724                 6.11243   \n528331          64 2019-02-27     5.65731                 6.10267   \n528332          64 2019-02-28     5.65774                 6.09504   \n\n        AmtOutstanding  Target_G_change  G_change  \n2199      3.000000e+08         0.002132  0.014612  \n2200      3.000000e+08        -0.005914  0.007046  \n2201      3.000000e+08         0.006400  0.017257  \n2202      3.000000e+08        -0.001467 -0.045289  \n2203      3.000000e+08        -0.007478 -0.005836  \n...                ...              ...       ...  \n528328    1.697270e+09         0.019700  0.005560  \n528329    1.697270e+09        -0.015824 -0.014690  \n528330    1.697270e+09         0.010259 -0.002174  \n528331    1.697270e+09        -0.006607 -0.004593  \n528332    1.697270e+09        -0.012122 -0.013107  \n\n[505107 rows x 7 columns]",
      "text/html": "<div>\n<style scoped>\n    .dataframe tbody tr th:only-of-type {\n        vertical-align: middle;\n    }\n\n    .dataframe tbody tr th {\n        vertical-align: top;\n    }\n\n    .dataframe thead th {\n        text-align: right;\n    }\n</style>\n<table border=\"1\" class=\"dataframe\">\n  <thead>\n    <tr style=\"text-align: right;\">\n      <th></th>\n      <th>SecurityID</th>\n      <th>KeyDate</th>\n      <th>YieldWorst</th>\n      <th>ModifiedDuration_Plain</th>\n      <th>AmtOutstanding</th>\n      <th>Target_G_change</th>\n      <th>G_change</th>\n    </tr>\n  </thead>\n  <tbody>\n    <tr>\n      <th>2199</th>\n      <td>56535</td>\n      <td>2019-01-02</td>\n      <td>26.97470</td>\n      <td>1.85247</td>\n      <td>3.000000e+08</td>\n      <td>0.002132</td>\n      <td>0.014612</td>\n    </tr>\n    <tr>\n      <th>2200</th>\n      <td>56535</td>\n      <td>2019-01-03</td>\n      <td>26.74320</td>\n      <td>1.84797</td>\n      <td>3.000000e+08</td>\n      <td>-0.005914</td>\n      <td>0.007046</td>\n    </tr>\n    <tr>\n      <th>2201</th>\n      <td>56535</td>\n      <td>2019-01-04</td>\n      <td>26.95560</td>\n      <td>1.84352</td>\n      <td>3.000000e+08</td>\n      <td>0.006400</td>\n      <td>0.017257</td>\n    </tr>\n    <tr>\n      <th>2202</th>\n      <td>56535</td>\n      <td>2019-01-07</td>\n      <td>27.04120</td>\n      <td>1.84036</td>\n      <td>3.000000e+08</td>\n      <td>-0.001467</td>\n      <td>-0.045289</td>\n    </tr>\n    <tr>\n      <th>2203</th>\n      <td>56535</td>\n      <td>2019-01-08</td>\n      <td>26.90410</td>\n      <td>1.83947</td>\n      <td>3.000000e+08</td>\n      <td>-0.007478</td>\n      <td>-0.005836</td>\n    </tr>\n    <tr>\n      <th>...</th>\n      <td>...</td>\n      <td>...</td>\n      <td>...</td>\n      <td>...</td>\n      <td>...</td>\n      <td>...</td>\n      <td>...</td>\n    </tr>\n    <tr>\n      <th>528328</th>\n      <td>64</td>\n      <td>2019-02-22</td>\n      <td>5.66178</td>\n      <td>6.11500</td>\n      <td>1.697270e+09</td>\n      <td>0.019700</td>\n      <td>0.005560</td>\n    </tr>\n    <tr>\n      <th>528329</th>\n      <td>64</td>\n      <td>2019-02-25</td>\n      <td>5.62156</td>\n      <td>6.11537</td>\n      <td>1.697270e+09</td>\n      <td>-0.015824</td>\n      <td>-0.014690</td>\n    </tr>\n    <tr>\n      <th>528330</th>\n      <td>64</td>\n      <td>2019-02-26</td>\n      <td>5.62724</td>\n      <td>6.11243</td>\n      <td>1.697270e+09</td>\n      <td>0.010259</td>\n      <td>-0.002174</td>\n    </tr>\n    <tr>\n      <th>528331</th>\n      <td>64</td>\n      <td>2019-02-27</td>\n      <td>5.65731</td>\n      <td>6.10267</td>\n      <td>1.697270e+09</td>\n      <td>-0.006607</td>\n      <td>-0.004593</td>\n    </tr>\n    <tr>\n      <th>528332</th>\n      <td>64</td>\n      <td>2019-02-28</td>\n      <td>5.65774</td>\n      <td>6.09504</td>\n      <td>1.697270e+09</td>\n      <td>-0.012122</td>\n      <td>-0.013107</td>\n    </tr>\n  </tbody>\n</table>\n<p>505107 rows × 7 columns</p>\n</div>"
     },
     "metadata": {},
     "execution_count": 126
    }
   ],
   "source": [
    "final"
   ]
  },
  {
   "cell_type": "code",
   "execution_count": 127,
   "metadata": {},
   "outputs": [],
   "source": [
    "column_names_to_normalize2 = ['YieldWorst','ModifiedDuration_Plain','AmtOutstanding','Target_G_change','G_change']"
   ]
  },
  {
   "cell_type": "code",
   "execution_count": 128,
   "metadata": {},
   "outputs": [],
   "source": [
    "df4 = pd.DataFrame(df4, columns=column_names_to_normalize2,index=final.index)"
   ]
  },
  {
   "cell_type": "code",
   "execution_count": 129,
   "metadata": {},
   "outputs": [
    {
     "output_type": "execute_result",
     "data": {
      "text/plain": "        YieldWorst  ModifiedDuration_Plain  AmtOutstanding  Target_G_change  \\\n2199      0.840176                0.040891        0.017689         0.643287   \n2200      0.839262                0.040764        0.017689         0.643216   \n2201      0.840100                0.040639        0.017689         0.643324   \n2202      0.840438                0.040550        0.017689         0.643255   \n2203      0.839897                0.040525        0.017689         0.643202   \n...            ...                     ...             ...              ...   \n528328    0.756102                0.160886        0.141270         0.643442   \n528329    0.755944                0.160896        0.141270         0.643128   \n528330    0.755966                0.160814        0.141270         0.643358   \n528331    0.756085                0.160539        0.141270         0.643209   \n528332    0.756086                0.160324        0.141270         0.643161   \n\n        G_change  \n2199    0.394168  \n2200    0.390362  \n2201    0.395498  \n2202    0.364036  \n2203    0.383881  \n...          ...  \n528328  0.389614  \n528329  0.379428  \n528330  0.385724  \n528331  0.384507  \n528332  0.380224  \n\n[505107 rows x 5 columns]",
      "text/html": "<div>\n<style scoped>\n    .dataframe tbody tr th:only-of-type {\n        vertical-align: middle;\n    }\n\n    .dataframe tbody tr th {\n        vertical-align: top;\n    }\n\n    .dataframe thead th {\n        text-align: right;\n    }\n</style>\n<table border=\"1\" class=\"dataframe\">\n  <thead>\n    <tr style=\"text-align: right;\">\n      <th></th>\n      <th>YieldWorst</th>\n      <th>ModifiedDuration_Plain</th>\n      <th>AmtOutstanding</th>\n      <th>Target_G_change</th>\n      <th>G_change</th>\n    </tr>\n  </thead>\n  <tbody>\n    <tr>\n      <th>2199</th>\n      <td>0.840176</td>\n      <td>0.040891</td>\n      <td>0.017689</td>\n      <td>0.643287</td>\n      <td>0.394168</td>\n    </tr>\n    <tr>\n      <th>2200</th>\n      <td>0.839262</td>\n      <td>0.040764</td>\n      <td>0.017689</td>\n      <td>0.643216</td>\n      <td>0.390362</td>\n    </tr>\n    <tr>\n      <th>2201</th>\n      <td>0.840100</td>\n      <td>0.040639</td>\n      <td>0.017689</td>\n      <td>0.643324</td>\n      <td>0.395498</td>\n    </tr>\n    <tr>\n      <th>2202</th>\n      <td>0.840438</td>\n      <td>0.040550</td>\n      <td>0.017689</td>\n      <td>0.643255</td>\n      <td>0.364036</td>\n    </tr>\n    <tr>\n      <th>2203</th>\n      <td>0.839897</td>\n      <td>0.040525</td>\n      <td>0.017689</td>\n      <td>0.643202</td>\n      <td>0.383881</td>\n    </tr>\n    <tr>\n      <th>...</th>\n      <td>...</td>\n      <td>...</td>\n      <td>...</td>\n      <td>...</td>\n      <td>...</td>\n    </tr>\n    <tr>\n      <th>528328</th>\n      <td>0.756102</td>\n      <td>0.160886</td>\n      <td>0.141270</td>\n      <td>0.643442</td>\n      <td>0.389614</td>\n    </tr>\n    <tr>\n      <th>528329</th>\n      <td>0.755944</td>\n      <td>0.160896</td>\n      <td>0.141270</td>\n      <td>0.643128</td>\n      <td>0.379428</td>\n    </tr>\n    <tr>\n      <th>528330</th>\n      <td>0.755966</td>\n      <td>0.160814</td>\n      <td>0.141270</td>\n      <td>0.643358</td>\n      <td>0.385724</td>\n    </tr>\n    <tr>\n      <th>528331</th>\n      <td>0.756085</td>\n      <td>0.160539</td>\n      <td>0.141270</td>\n      <td>0.643209</td>\n      <td>0.384507</td>\n    </tr>\n    <tr>\n      <th>528332</th>\n      <td>0.756086</td>\n      <td>0.160324</td>\n      <td>0.141270</td>\n      <td>0.643161</td>\n      <td>0.380224</td>\n    </tr>\n  </tbody>\n</table>\n<p>505107 rows × 5 columns</p>\n</div>"
     },
     "metadata": {},
     "execution_count": 129
    }
   ],
   "source": [
    "df4"
   ]
  },
  {
   "cell_type": "code",
   "execution_count": 132,
   "metadata": {},
   "outputs": [],
   "source": [
    "df4 = pd.concat([final[['SecurityID','KeyDate']],df4],axis=1) "
   ]
  },
  {
   "cell_type": "code",
   "execution_count": 133,
   "metadata": {},
   "outputs": [
    {
     "output_type": "execute_result",
     "data": {
      "text/plain": "      SecurityID    KeyDate  YieldWorst  ModifiedDuration_Plain  \\\n2199       56535 2019-01-02    0.840176                0.040891   \n2200       56535 2019-01-03    0.839262                0.040764   \n2201       56535 2019-01-04    0.840100                0.040639   \n2202       56535 2019-01-07    0.840438                0.040550   \n2203       56535 2019-01-08    0.839897                0.040525   \n\n      AmtOutstanding  Target_G_change  G_change  \n2199        0.017689         0.643287  0.394168  \n2200        0.017689         0.643216  0.390362  \n2201        0.017689         0.643324  0.395498  \n2202        0.017689         0.643255  0.364036  \n2203        0.017689         0.643202  0.383881  ",
      "text/html": "<div>\n<style scoped>\n    .dataframe tbody tr th:only-of-type {\n        vertical-align: middle;\n    }\n\n    .dataframe tbody tr th {\n        vertical-align: top;\n    }\n\n    .dataframe thead th {\n        text-align: right;\n    }\n</style>\n<table border=\"1\" class=\"dataframe\">\n  <thead>\n    <tr style=\"text-align: right;\">\n      <th></th>\n      <th>SecurityID</th>\n      <th>KeyDate</th>\n      <th>YieldWorst</th>\n      <th>ModifiedDuration_Plain</th>\n      <th>AmtOutstanding</th>\n      <th>Target_G_change</th>\n      <th>G_change</th>\n    </tr>\n  </thead>\n  <tbody>\n    <tr>\n      <th>2199</th>\n      <td>56535</td>\n      <td>2019-01-02</td>\n      <td>0.840176</td>\n      <td>0.040891</td>\n      <td>0.017689</td>\n      <td>0.643287</td>\n      <td>0.394168</td>\n    </tr>\n    <tr>\n      <th>2200</th>\n      <td>56535</td>\n      <td>2019-01-03</td>\n      <td>0.839262</td>\n      <td>0.040764</td>\n      <td>0.017689</td>\n      <td>0.643216</td>\n      <td>0.390362</td>\n    </tr>\n    <tr>\n      <th>2201</th>\n      <td>56535</td>\n      <td>2019-01-04</td>\n      <td>0.840100</td>\n      <td>0.040639</td>\n      <td>0.017689</td>\n      <td>0.643324</td>\n      <td>0.395498</td>\n    </tr>\n    <tr>\n      <th>2202</th>\n      <td>56535</td>\n      <td>2019-01-07</td>\n      <td>0.840438</td>\n      <td>0.040550</td>\n      <td>0.017689</td>\n      <td>0.643255</td>\n      <td>0.364036</td>\n    </tr>\n    <tr>\n      <th>2203</th>\n      <td>56535</td>\n      <td>2019-01-08</td>\n      <td>0.839897</td>\n      <td>0.040525</td>\n      <td>0.017689</td>\n      <td>0.643202</td>\n      <td>0.383881</td>\n    </tr>\n  </tbody>\n</table>\n</div>"
     },
     "metadata": {},
     "execution_count": 133
    }
   ],
   "source": [
    "df4.head()"
   ]
  },
  {
   "cell_type": "code",
   "execution_count": 166,
   "metadata": {},
   "outputs": [],
   "source": [
    "##security query\n",
    "Market_query = \"select * from market_data_weekly\"\n",
    "Market_data = pd.read_sql(Market_query,con=db_connection)"
   ]
  },
  {
   "cell_type": "code",
   "execution_count": 167,
   "metadata": {},
   "outputs": [],
   "source": [
    "Market_data = Market_data.fillna(0)"
   ]
  },
  {
   "cell_type": "code",
   "execution_count": 168,
   "metadata": {},
   "outputs": [],
   "source": [
    "columns_name =['skew_change','swap_change','vix_change','Close_change','slope_change',\n",
    "                'skew_change_Weekly','swap_change_Weekly','vix_change_Weekly','Close_change_Weekly',\t\n",
    "                'slope_change_Weekly']"
   ]
  },
  {
   "cell_type": "markdown",
   "metadata": {},
   "source": [
    "Fill NA with 0"
   ]
  },
  {
   "cell_type": "code",
   "execution_count": 169,
   "metadata": {},
   "outputs": [
    {
     "output_type": "execute_result",
     "data": {
      "text/plain": "MinMaxScaler(feature_range=[0, 1])"
     },
     "metadata": {},
     "execution_count": 169
    }
   ],
   "source": [
    "scaler3 = MinMaxScaler([0,1])\n",
    "scaler3.fit(Market_data.loc[:,'skew_change':'slope_change_Weekly'])"
   ]
  },
  {
   "cell_type": "code",
   "execution_count": 170,
   "metadata": {},
   "outputs": [],
   "source": [
    "df5 = scaler3.transform(Market_data.loc[:,'skew_change':'slope_change_Weekly'])"
   ]
  },
  {
   "cell_type": "code",
   "execution_count": 171,
   "metadata": {},
   "outputs": [],
   "source": [
    "df5 = pd.DataFrame(df5, columns=columns_name)"
   ]
  },
  {
   "cell_type": "code",
   "execution_count": 172,
   "metadata": {},
   "outputs": [],
   "source": [
    "df5 = pd.concat([Market_data[['KeyDate']],df5],axis=1) "
   ]
  },
  {
   "cell_type": "code",
   "execution_count": 173,
   "metadata": {},
   "outputs": [
    {
     "output_type": "execute_result",
     "data": {
      "text/plain": "       KeyDate  skew_change  swap_change  vix_change  Close_change  \\\n0   2019-01-02     0.380745     0.811007    0.206366      0.566810   \n1   2019-01-03     0.186292     0.816496    0.462358      0.445008   \n2   2019-01-04     0.368761     0.802493    0.103491      0.721569   \n3   2019-01-07     0.500301     0.822513    0.329019      0.593683   \n4   2019-01-08     0.481556     0.839151    0.266778      0.606248   \n..         ...          ...          ...         ...           ...   \n410 2020-08-18     0.403960     0.816496    0.327708      0.571653   \n411 2020-08-19     0.403960     0.816496    0.327708      0.540260   \n412 2020-08-20     0.403960     0.816496    0.327708      0.575656   \n413 2020-08-21     0.403960     0.816496    0.327708      0.576978   \n414 2020-08-24     0.403960     0.816496    0.327708      0.607879   \n\n     slope_change  skew_change_Weekly  swap_change_Weekly  vix_change_Weekly  \\\n0        0.190476            0.419945            0.773086           0.262703   \n1        0.265625            0.419945            0.773086           0.262703   \n2        0.250000            0.419945            0.773086           0.262703   \n3        0.250000            0.419945            0.773086           0.262703   \n4        0.220588            0.332999            0.773086           0.131741   \n..            ...                 ...                 ...                ...   \n410      0.250000            0.419945            0.773086           0.262703   \n411      0.250000            0.419945            0.773086           0.262703   \n412      0.250000            0.419945            0.773086           0.262703   \n413      0.250000            0.419945            0.773086           0.262703   \n414      0.250000            0.419945            0.773086           0.262703   \n\n     Close_change_Weekly  slope_change_Weekly  \n0               0.528156             0.409717  \n1               0.528156             0.411538  \n2               0.528156             0.402308  \n3               0.528156             0.411099  \n4               0.605724             0.380149  \n..                   ...                  ...  \n410             0.575426             0.434286  \n411             0.523623             0.434286  \n412             0.538279             0.434286  \n413             0.548450             0.434286  \n414             0.569096             0.434286  \n\n[415 rows x 11 columns]",
      "text/html": "<div>\n<style scoped>\n    .dataframe tbody tr th:only-of-type {\n        vertical-align: middle;\n    }\n\n    .dataframe tbody tr th {\n        vertical-align: top;\n    }\n\n    .dataframe thead th {\n        text-align: right;\n    }\n</style>\n<table border=\"1\" class=\"dataframe\">\n  <thead>\n    <tr style=\"text-align: right;\">\n      <th></th>\n      <th>KeyDate</th>\n      <th>skew_change</th>\n      <th>swap_change</th>\n      <th>vix_change</th>\n      <th>Close_change</th>\n      <th>slope_change</th>\n      <th>skew_change_Weekly</th>\n      <th>swap_change_Weekly</th>\n      <th>vix_change_Weekly</th>\n      <th>Close_change_Weekly</th>\n      <th>slope_change_Weekly</th>\n    </tr>\n  </thead>\n  <tbody>\n    <tr>\n      <th>0</th>\n      <td>2019-01-02</td>\n      <td>0.380745</td>\n      <td>0.811007</td>\n      <td>0.206366</td>\n      <td>0.566810</td>\n      <td>0.190476</td>\n      <td>0.419945</td>\n      <td>0.773086</td>\n      <td>0.262703</td>\n      <td>0.528156</td>\n      <td>0.409717</td>\n    </tr>\n    <tr>\n      <th>1</th>\n      <td>2019-01-03</td>\n      <td>0.186292</td>\n      <td>0.816496</td>\n      <td>0.462358</td>\n      <td>0.445008</td>\n      <td>0.265625</td>\n      <td>0.419945</td>\n      <td>0.773086</td>\n      <td>0.262703</td>\n      <td>0.528156</td>\n      <td>0.411538</td>\n    </tr>\n    <tr>\n      <th>2</th>\n      <td>2019-01-04</td>\n      <td>0.368761</td>\n      <td>0.802493</td>\n      <td>0.103491</td>\n      <td>0.721569</td>\n      <td>0.250000</td>\n      <td>0.419945</td>\n      <td>0.773086</td>\n      <td>0.262703</td>\n      <td>0.528156</td>\n      <td>0.402308</td>\n    </tr>\n    <tr>\n      <th>3</th>\n      <td>2019-01-07</td>\n      <td>0.500301</td>\n      <td>0.822513</td>\n      <td>0.329019</td>\n      <td>0.593683</td>\n      <td>0.250000</td>\n      <td>0.419945</td>\n      <td>0.773086</td>\n      <td>0.262703</td>\n      <td>0.528156</td>\n      <td>0.411099</td>\n    </tr>\n    <tr>\n      <th>4</th>\n      <td>2019-01-08</td>\n      <td>0.481556</td>\n      <td>0.839151</td>\n      <td>0.266778</td>\n      <td>0.606248</td>\n      <td>0.220588</td>\n      <td>0.332999</td>\n      <td>0.773086</td>\n      <td>0.131741</td>\n      <td>0.605724</td>\n      <td>0.380149</td>\n    </tr>\n    <tr>\n      <th>...</th>\n      <td>...</td>\n      <td>...</td>\n      <td>...</td>\n      <td>...</td>\n      <td>...</td>\n      <td>...</td>\n      <td>...</td>\n      <td>...</td>\n      <td>...</td>\n      <td>...</td>\n      <td>...</td>\n    </tr>\n    <tr>\n      <th>410</th>\n      <td>2020-08-18</td>\n      <td>0.403960</td>\n      <td>0.816496</td>\n      <td>0.327708</td>\n      <td>0.571653</td>\n      <td>0.250000</td>\n      <td>0.419945</td>\n      <td>0.773086</td>\n      <td>0.262703</td>\n      <td>0.575426</td>\n      <td>0.434286</td>\n    </tr>\n    <tr>\n      <th>411</th>\n      <td>2020-08-19</td>\n      <td>0.403960</td>\n      <td>0.816496</td>\n      <td>0.327708</td>\n      <td>0.540260</td>\n      <td>0.250000</td>\n      <td>0.419945</td>\n      <td>0.773086</td>\n      <td>0.262703</td>\n      <td>0.523623</td>\n      <td>0.434286</td>\n    </tr>\n    <tr>\n      <th>412</th>\n      <td>2020-08-20</td>\n      <td>0.403960</td>\n      <td>0.816496</td>\n      <td>0.327708</td>\n      <td>0.575656</td>\n      <td>0.250000</td>\n      <td>0.419945</td>\n      <td>0.773086</td>\n      <td>0.262703</td>\n      <td>0.538279</td>\n      <td>0.434286</td>\n    </tr>\n    <tr>\n      <th>413</th>\n      <td>2020-08-21</td>\n      <td>0.403960</td>\n      <td>0.816496</td>\n      <td>0.327708</td>\n      <td>0.576978</td>\n      <td>0.250000</td>\n      <td>0.419945</td>\n      <td>0.773086</td>\n      <td>0.262703</td>\n      <td>0.548450</td>\n      <td>0.434286</td>\n    </tr>\n    <tr>\n      <th>414</th>\n      <td>2020-08-24</td>\n      <td>0.403960</td>\n      <td>0.816496</td>\n      <td>0.327708</td>\n      <td>0.607879</td>\n      <td>0.250000</td>\n      <td>0.419945</td>\n      <td>0.773086</td>\n      <td>0.262703</td>\n      <td>0.569096</td>\n      <td>0.434286</td>\n    </tr>\n  </tbody>\n</table>\n<p>415 rows × 11 columns</p>\n</div>"
     },
     "metadata": {},
     "execution_count": 173
    }
   ],
   "source": [
    "df5"
   ]
  },
  {
   "cell_type": "code",
   "execution_count": 174,
   "metadata": {},
   "outputs": [],
   "source": [
    "final_change_data = df4.merge(df5,on=['KeyDate'],how='left')"
   ]
  },
  {
   "cell_type": "markdown",
   "metadata": {},
   "source": [
    "## Unscaled Data"
   ]
  },
  {
   "cell_type": "code",
   "execution_count": 177,
   "metadata": {},
   "outputs": [],
   "source": [
    "final_change_data2 = final.merge(Market_data,on=['KeyDate'],how='left')"
   ]
  },
  {
   "cell_type": "code",
   "execution_count": 176,
   "metadata": {},
   "outputs": [],
   "source": [
    "final_change_data.to_csv('Security_and_market_movement_scaled_cluster24.csv')"
   ]
  },
  {
   "cell_type": "code",
   "execution_count": 178,
   "metadata": {},
   "outputs": [],
   "source": [
    "final_change_data2.to_csv('Security_and_market_movement_unscaled_cluster24.csv')"
   ]
  },
  {
   "cell_type": "code",
   "execution_count": null,
   "metadata": {},
   "outputs": [],
   "source": []
  }
 ],
 "metadata": {
  "kernelspec": {
   "name": "python_defaultSpec_1598800936571",
   "display_name": "Python 3.6.8 64-bit"
  }
 },
 "nbformat": 4,
 "nbformat_minor": 4
}