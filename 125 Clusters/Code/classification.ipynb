{
 "cells": [
  {
   "cell_type": "code",
   "execution_count": 1,
   "metadata": {},
   "outputs": [],
   "source": [
    "import pandas as pd \n",
    "import numpy as np\n",
    "#importing libraries\n",
    "from sklearn.datasets import load_boston\n",
    "import pandas as pd\n",
    "import numpy as np\n",
    "import matplotlib\n",
    "import matplotlib.pyplot as plt\n",
    "import seaborn as sns\n",
    "import statsmodels.api as sm\n",
    "from sklearn.model_selection import train_test_split\n",
    "from sklearn.linear_model import LinearRegression\n",
    "from sklearn.feature_selection import RFE\n",
    "from sklearn.linear_model import RidgeCV, LassoCV, Ridge, Lasso\n",
    "import xgboost as xgb\n",
    "from sklearn.metrics import mean_squared_error\n",
    "import xgboost as xgb\n",
    "from sklearn.metrics import mean_squared_error\n",
    "from sklearn.preprocessing import MinMaxScaler\n",
    "import math"
   ]
  },
  {
   "cell_type": "code",
   "execution_count": 2,
   "metadata": {},
   "outputs": [],
   "source": [
    "def merge_left_right(data1,data2):\n",
    "    print(len(data1),len(data2))\n",
    "    temp_data = data1.append(data2,ignore_index=True)\n",
    "    return temp_data\n",
    "\n",
    "def merg_sort(list_data):\n",
    "    list_length = len(list_data)\n",
    "    if list_length == 1:\n",
    "        output = list_data[0][2]\n",
    "        return output\n",
    "    else:\n",
    "        mid_point = math.floor(list_length/2)\n",
    "        #print(len(list_data[:mid_point]))\n",
    "        left = list_data[mid_point:]\n",
    "        right = list_data[:mid_point]\n",
    "        return merge_left_right(merg_sort(left), merg_sort(right))"
   ]
  },
  {
   "cell_type": "code",
   "execution_count": 3,
   "metadata": {},
   "outputs": [],
   "source": [
    "data = pd.read_csv('Security_and_market_movement_unscaled_cluster_2019-02-28.csv')"
   ]
  },
  {
   "cell_type": "code",
   "execution_count": 4,
   "metadata": {},
   "outputs": [],
   "source": [
    "data.drop(columns=['Unnamed: 0'],inplace=True)"
   ]
  },
  {
   "cell_type": "code",
   "execution_count": 5,
   "metadata": {},
   "outputs": [
    {
     "output_type": "execute_result",
     "data": {
      "text/plain": "   SecurityID     KeyDate  YieldWorst  ModifiedDuration_Plain  AmtOutstanding  \\\n0       56535  2019-01-02     26.9747                 1.85247     300000000.0   \n1       56535  2019-01-03     26.7432                 1.84797     300000000.0   \n2       56535  2019-01-04     26.9556                 1.84352     300000000.0   \n3       56535  2019-01-07     27.0412                 1.84036     300000000.0   \n4       56535  2019-01-08     26.9041                 1.83947     300000000.0   \n\n   Target_G_change       Group  G_change  skew_change  swap_change  \\\n0         0.002132  Cluster 10  0.014612    -0.004584    -0.004966   \n1        -0.005914  Cluster 10  0.007046    -0.042981     0.000000   \n2         0.006400  Cluster 10  0.017257    -0.006951    -0.012668   \n3        -0.001467  Cluster 10 -0.045289     0.019024     0.005443   \n4        -0.007478  Cluster 10 -0.005836     0.015322     0.020495   \n\n   vix_change  Close_change  slope_change  skew_change_Weekly  \\\n0   -0.086546      0.001269     -0.238095            0.000000   \n1    0.096038     -0.024757      0.062500            0.000000   \n2   -0.159921      0.034336      0.000000            0.000000   \n3    0.000935      0.007010      0.000000            0.000000   \n4   -0.043458      0.009695     -0.117647           -0.004034   \n\n   swap_change_Weekly  vix_change_Weekly  Close_change_Weekly  \\\n0                 0.0            0.00000             0.000000   \n1                 0.0            0.00000             0.000000   \n2                 0.0            0.00000             0.000000   \n3                 0.0            0.00000             0.000000   \n4                 0.0           -0.03859             0.005511   \n\n   slope_change_Weekly  \n0            -0.026617  \n1            -0.024643  \n2            -0.034643  \n3            -0.025119  \n4            -0.058648  ",
      "text/html": "<div>\n<style scoped>\n    .dataframe tbody tr th:only-of-type {\n        vertical-align: middle;\n    }\n\n    .dataframe tbody tr th {\n        vertical-align: top;\n    }\n\n    .dataframe thead th {\n        text-align: right;\n    }\n</style>\n<table border=\"1\" class=\"dataframe\">\n  <thead>\n    <tr style=\"text-align: right;\">\n      <th></th>\n      <th>SecurityID</th>\n      <th>KeyDate</th>\n      <th>YieldWorst</th>\n      <th>ModifiedDuration_Plain</th>\n      <th>AmtOutstanding</th>\n      <th>Target_G_change</th>\n      <th>Group</th>\n      <th>G_change</th>\n      <th>skew_change</th>\n      <th>swap_change</th>\n      <th>vix_change</th>\n      <th>Close_change</th>\n      <th>slope_change</th>\n      <th>skew_change_Weekly</th>\n      <th>swap_change_Weekly</th>\n      <th>vix_change_Weekly</th>\n      <th>Close_change_Weekly</th>\n      <th>slope_change_Weekly</th>\n    </tr>\n  </thead>\n  <tbody>\n    <tr>\n      <th>0</th>\n      <td>56535</td>\n      <td>2019-01-02</td>\n      <td>26.9747</td>\n      <td>1.85247</td>\n      <td>300000000.0</td>\n      <td>0.002132</td>\n      <td>Cluster 10</td>\n      <td>0.014612</td>\n      <td>-0.004584</td>\n      <td>-0.004966</td>\n      <td>-0.086546</td>\n      <td>0.001269</td>\n      <td>-0.238095</td>\n      <td>0.000000</td>\n      <td>0.0</td>\n      <td>0.00000</td>\n      <td>0.000000</td>\n      <td>-0.026617</td>\n    </tr>\n    <tr>\n      <th>1</th>\n      <td>56535</td>\n      <td>2019-01-03</td>\n      <td>26.7432</td>\n      <td>1.84797</td>\n      <td>300000000.0</td>\n      <td>-0.005914</td>\n      <td>Cluster 10</td>\n      <td>0.007046</td>\n      <td>-0.042981</td>\n      <td>0.000000</td>\n      <td>0.096038</td>\n      <td>-0.024757</td>\n      <td>0.062500</td>\n      <td>0.000000</td>\n      <td>0.0</td>\n      <td>0.00000</td>\n      <td>0.000000</td>\n      <td>-0.024643</td>\n    </tr>\n    <tr>\n      <th>2</th>\n      <td>56535</td>\n      <td>2019-01-04</td>\n      <td>26.9556</td>\n      <td>1.84352</td>\n      <td>300000000.0</td>\n      <td>0.006400</td>\n      <td>Cluster 10</td>\n      <td>0.017257</td>\n      <td>-0.006951</td>\n      <td>-0.012668</td>\n      <td>-0.159921</td>\n      <td>0.034336</td>\n      <td>0.000000</td>\n      <td>0.000000</td>\n      <td>0.0</td>\n      <td>0.00000</td>\n      <td>0.000000</td>\n      <td>-0.034643</td>\n    </tr>\n    <tr>\n      <th>3</th>\n      <td>56535</td>\n      <td>2019-01-07</td>\n      <td>27.0412</td>\n      <td>1.84036</td>\n      <td>300000000.0</td>\n      <td>-0.001467</td>\n      <td>Cluster 10</td>\n      <td>-0.045289</td>\n      <td>0.019024</td>\n      <td>0.005443</td>\n      <td>0.000935</td>\n      <td>0.007010</td>\n      <td>0.000000</td>\n      <td>0.000000</td>\n      <td>0.0</td>\n      <td>0.00000</td>\n      <td>0.000000</td>\n      <td>-0.025119</td>\n    </tr>\n    <tr>\n      <th>4</th>\n      <td>56535</td>\n      <td>2019-01-08</td>\n      <td>26.9041</td>\n      <td>1.83947</td>\n      <td>300000000.0</td>\n      <td>-0.007478</td>\n      <td>Cluster 10</td>\n      <td>-0.005836</td>\n      <td>0.015322</td>\n      <td>0.020495</td>\n      <td>-0.043458</td>\n      <td>0.009695</td>\n      <td>-0.117647</td>\n      <td>-0.004034</td>\n      <td>0.0</td>\n      <td>-0.03859</td>\n      <td>0.005511</td>\n      <td>-0.058648</td>\n    </tr>\n  </tbody>\n</table>\n</div>"
     },
     "metadata": {},
     "execution_count": 5
    }
   ],
   "source": [
    "data.head()"
   ]
  },
  {
   "cell_type": "code",
   "execution_count": 6,
   "metadata": {},
   "outputs": [],
   "source": [
    "data_1 = data.drop(columns = ['skew_change_Weekly','swap_change_Weekly','vix_change_Weekly','Close_change_Weekly','slope_change_Weekly','AmtOutstanding'])\n",
    "data_1 = data_1[data_1['Group'] == 'Cluster 0']\n",
    "data_1.drop(columns = ['Group'],inplace=True)"
   ]
  },
  {
   "cell_type": "code",
   "execution_count": 9,
   "metadata": {},
   "outputs": [],
   "source": [
    "new = data_1[['SecurityID','KeyDate','YieldWorst','ModifiedDuration_Plain','Target_G_change','G_change']]"
   ]
  },
  {
   "cell_type": "code",
   "execution_count": 11,
   "metadata": {},
   "outputs": [],
   "source": [
    "dummy_variable = pd.read_csv('Security_info_post_dummy.csv')"
   ]
  },
  {
   "cell_type": "code",
   "execution_count": 12,
   "metadata": {},
   "outputs": [],
   "source": [
    "dummy_variable.drop(columns=['Unnamed: 0'],inplace=True)"
   ]
  },
  {
   "cell_type": "code",
   "execution_count": 13,
   "metadata": {},
   "outputs": [
    {
     "output_type": "execute_result",
     "data": {
      "text/plain": "   SecurityID  1.5 Lien Secured  1st Lien Secured  1st lien  2nd Lien Secured  \\\n0          62                 0                 0         0                 0   \n1          64                 0                 0         0                 0   \n2          69                 0                 0         0                 0   \n3          72                 0                 0         0                 0   \n4          78                 0                 0         0                 0   \n\n   3rd Lien Secured  Asset Backed  Jr Subordinated Unsecured  Secured  \\\n0                 0             0                          0        0   \n1                 0             0                          0        0   \n2                 0             0                          0        0   \n3                 0             0                          0        0   \n4                 0             0                          0        0   \n\n   Sr Unsecured  ...  FLOATING  FUNGED  Fixed  PAY-IN-KIND  STEP CPN  \\\n0             1  ...         0       0      0            0         0   \n1             1  ...         0       0      0            0         0   \n2             1  ...         0       0      0            0         0   \n3             0  ...         0       0      0            0         0   \n4             1  ...         0       0      0            0         0   \n\n   VARIABLE  WHEN ISSUED  ZERO COUPON  MinIncrement  MinPiece  \n0         0            0            0        1000.0   50000.0  \n1         0            0            0        1000.0    2000.0  \n2         0            0            0      100000.0  100000.0  \n3         0            0            0        1000.0    2000.0  \n4         0            0            0        1000.0  150000.0  \n\n[5 rows x 142 columns]",
      "text/html": "<div>\n<style scoped>\n    .dataframe tbody tr th:only-of-type {\n        vertical-align: middle;\n    }\n\n    .dataframe tbody tr th {\n        vertical-align: top;\n    }\n\n    .dataframe thead th {\n        text-align: right;\n    }\n</style>\n<table border=\"1\" class=\"dataframe\">\n  <thead>\n    <tr style=\"text-align: right;\">\n      <th></th>\n      <th>SecurityID</th>\n      <th>1.5 Lien Secured</th>\n      <th>1st Lien Secured</th>\n      <th>1st lien</th>\n      <th>2nd Lien Secured</th>\n      <th>3rd Lien Secured</th>\n      <th>Asset Backed</th>\n      <th>Jr Subordinated Unsecured</th>\n      <th>Secured</th>\n      <th>Sr Unsecured</th>\n      <th>...</th>\n      <th>FLOATING</th>\n      <th>FUNGED</th>\n      <th>Fixed</th>\n      <th>PAY-IN-KIND</th>\n      <th>STEP CPN</th>\n      <th>VARIABLE</th>\n      <th>WHEN ISSUED</th>\n      <th>ZERO COUPON</th>\n      <th>MinIncrement</th>\n      <th>MinPiece</th>\n    </tr>\n  </thead>\n  <tbody>\n    <tr>\n      <th>0</th>\n      <td>62</td>\n      <td>0</td>\n      <td>0</td>\n      <td>0</td>\n      <td>0</td>\n      <td>0</td>\n      <td>0</td>\n      <td>0</td>\n      <td>0</td>\n      <td>1</td>\n      <td>...</td>\n      <td>0</td>\n      <td>0</td>\n      <td>0</td>\n      <td>0</td>\n      <td>0</td>\n      <td>0</td>\n      <td>0</td>\n      <td>0</td>\n      <td>1000.0</td>\n      <td>50000.0</td>\n    </tr>\n    <tr>\n      <th>1</th>\n      <td>64</td>\n      <td>0</td>\n      <td>0</td>\n      <td>0</td>\n      <td>0</td>\n      <td>0</td>\n      <td>0</td>\n      <td>0</td>\n      <td>0</td>\n      <td>1</td>\n      <td>...</td>\n      <td>0</td>\n      <td>0</td>\n      <td>0</td>\n      <td>0</td>\n      <td>0</td>\n      <td>0</td>\n      <td>0</td>\n      <td>0</td>\n      <td>1000.0</td>\n      <td>2000.0</td>\n    </tr>\n    <tr>\n      <th>2</th>\n      <td>69</td>\n      <td>0</td>\n      <td>0</td>\n      <td>0</td>\n      <td>0</td>\n      <td>0</td>\n      <td>0</td>\n      <td>0</td>\n      <td>0</td>\n      <td>1</td>\n      <td>...</td>\n      <td>0</td>\n      <td>0</td>\n      <td>0</td>\n      <td>0</td>\n      <td>0</td>\n      <td>0</td>\n      <td>0</td>\n      <td>0</td>\n      <td>100000.0</td>\n      <td>100000.0</td>\n    </tr>\n    <tr>\n      <th>3</th>\n      <td>72</td>\n      <td>0</td>\n      <td>0</td>\n      <td>0</td>\n      <td>0</td>\n      <td>0</td>\n      <td>0</td>\n      <td>0</td>\n      <td>0</td>\n      <td>0</td>\n      <td>...</td>\n      <td>0</td>\n      <td>0</td>\n      <td>0</td>\n      <td>0</td>\n      <td>0</td>\n      <td>0</td>\n      <td>0</td>\n      <td>0</td>\n      <td>1000.0</td>\n      <td>2000.0</td>\n    </tr>\n    <tr>\n      <th>4</th>\n      <td>78</td>\n      <td>0</td>\n      <td>0</td>\n      <td>0</td>\n      <td>0</td>\n      <td>0</td>\n      <td>0</td>\n      <td>0</td>\n      <td>0</td>\n      <td>1</td>\n      <td>...</td>\n      <td>0</td>\n      <td>0</td>\n      <td>0</td>\n      <td>0</td>\n      <td>0</td>\n      <td>0</td>\n      <td>0</td>\n      <td>0</td>\n      <td>1000.0</td>\n      <td>150000.0</td>\n    </tr>\n  </tbody>\n</table>\n<p>5 rows × 142 columns</p>\n</div>"
     },
     "metadata": {},
     "execution_count": 13
    }
   ],
   "source": [
    "dummy_variable.head()"
   ]
  },
  {
   "cell_type": "code",
   "execution_count": 15,
   "metadata": {},
   "outputs": [],
   "source": [
    "new = new.merge(dummy_variable,on=['SecurityID'],how='left')"
   ]
  },
  {
   "cell_type": "code",
   "execution_count": 20,
   "metadata": {},
   "outputs": [
    {
     "output_type": "execute_result",
     "data": {
      "text/plain": "Index(['SecurityID', 'KeyDate', 'YieldWorst', 'ModifiedDuration_Plain',\n       'Target_G_change', 'G_change', '1.5 Lien Secured', '1st Lien Secured',\n       '1st lien', '2nd Lien Secured',\n       ...\n       'FLOATING', 'FUNGED', 'Fixed', 'PAY-IN-KIND', 'STEP CPN', 'VARIABLE',\n       'WHEN ISSUED', 'ZERO COUPON', 'MinIncrement', 'MinPiece'],\n      dtype='object', length=147)"
     },
     "metadata": {},
     "execution_count": 20
    }
   ],
   "source": [
    "new.columns"
   ]
  },
  {
   "cell_type": "code",
   "execution_count": 18,
   "metadata": {},
   "outputs": [],
   "source": [
    "# 1 is leader, 0 is lagger\n",
    "def lead_lag(x,y):\n",
    "    if x > y:\n",
    "        return 1\n",
    "    else:\n",
    "        return 0"
   ]
  },
  {
   "cell_type": "code",
   "execution_count": 22,
   "metadata": {},
   "outputs": [],
   "source": [
    "new['leader/lagger'] = new.apply(lambda x: lead_lag(x.Target_G_change,x.G_change),axis=1)"
   ]
  },
  {
   "cell_type": "code",
   "execution_count": 26,
   "metadata": {},
   "outputs": [],
   "source": [
    "new.drop(columns=['Target_G_change','G_change'],inplace = True)"
   ]
  },
  {
   "cell_type": "markdown",
   "metadata": {},
   "source": [
    "### Feature engineering construct the Change"
   ]
  },
  {
   "cell_type": "code",
   "execution_count": 28,
   "metadata": {},
   "outputs": [],
   "source": [
    "from xgboost import XGBClassifier\n",
    "from sklearn.model_selection import train_test_split\n",
    "from sklearn.metrics import accuracy_score"
   ]
  },
  {
   "cell_type": "code",
   "execution_count": 37,
   "metadata": {},
   "outputs": [
    {
     "output_type": "error",
     "ename": "TypeError",
     "evalue": "'(slice(None, None, None), slice('YieldWorst', 'MinPiece', None))' is an invalid key",
     "traceback": [
      "\u001b[0;31m---------------------------------------------------------------------------\u001b[0m",
      "\u001b[0;31mTypeError\u001b[0m                                 Traceback (most recent call last)",
      "\u001b[0;32m<ipython-input-37-ca70f1f62f25>\u001b[0m in \u001b[0;36m<module>\u001b[0;34m\u001b[0m\n\u001b[1;32m      1\u001b[0m \u001b[0;31m# split data into X and y\u001b[0m\u001b[0;34m\u001b[0m\u001b[0;34m\u001b[0m\u001b[0;34m\u001b[0m\u001b[0m\n\u001b[0;32m----> 2\u001b[0;31m \u001b[0mX\u001b[0m \u001b[0;34m=\u001b[0m \u001b[0mnew\u001b[0m\u001b[0;34m[\u001b[0m\u001b[0;34m:\u001b[0m\u001b[0;34m,\u001b[0m\u001b[0;34m'YieldWorst'\u001b[0m\u001b[0;34m:\u001b[0m\u001b[0;34m'MinPiece'\u001b[0m\u001b[0;34m]\u001b[0m\u001b[0;34m\u001b[0m\u001b[0;34m\u001b[0m\u001b[0m\n\u001b[0m\u001b[1;32m      3\u001b[0m \u001b[0mY\u001b[0m \u001b[0;34m=\u001b[0m \u001b[0mnew\u001b[0m\u001b[0;34m[\u001b[0m\u001b[0;34m'leader/lagger'\u001b[0m\u001b[0;34m]\u001b[0m\u001b[0;34m\u001b[0m\u001b[0;34m\u001b[0m\u001b[0m\n",
      "\u001b[0;32m/Library/Frameworks/Python.framework/Versions/3.6/lib/python3.6/site-packages/pandas/core/frame.py\u001b[0m in \u001b[0;36m__getitem__\u001b[0;34m(self, key)\u001b[0m\n\u001b[1;32m   2798\u001b[0m             \u001b[0;32mif\u001b[0m \u001b[0mself\u001b[0m\u001b[0;34m.\u001b[0m\u001b[0mcolumns\u001b[0m\u001b[0;34m.\u001b[0m\u001b[0mnlevels\u001b[0m \u001b[0;34m>\u001b[0m \u001b[0;36m1\u001b[0m\u001b[0;34m:\u001b[0m\u001b[0;34m\u001b[0m\u001b[0;34m\u001b[0m\u001b[0m\n\u001b[1;32m   2799\u001b[0m                 \u001b[0;32mreturn\u001b[0m \u001b[0mself\u001b[0m\u001b[0;34m.\u001b[0m\u001b[0m_getitem_multilevel\u001b[0m\u001b[0;34m(\u001b[0m\u001b[0mkey\u001b[0m\u001b[0;34m)\u001b[0m\u001b[0;34m\u001b[0m\u001b[0;34m\u001b[0m\u001b[0m\n\u001b[0;32m-> 2800\u001b[0;31m             \u001b[0mindexer\u001b[0m \u001b[0;34m=\u001b[0m \u001b[0mself\u001b[0m\u001b[0;34m.\u001b[0m\u001b[0mcolumns\u001b[0m\u001b[0;34m.\u001b[0m\u001b[0mget_loc\u001b[0m\u001b[0;34m(\u001b[0m\u001b[0mkey\u001b[0m\u001b[0;34m)\u001b[0m\u001b[0;34m\u001b[0m\u001b[0;34m\u001b[0m\u001b[0m\n\u001b[0m\u001b[1;32m   2801\u001b[0m             \u001b[0;32mif\u001b[0m \u001b[0mis_integer\u001b[0m\u001b[0;34m(\u001b[0m\u001b[0mindexer\u001b[0m\u001b[0;34m)\u001b[0m\u001b[0;34m:\u001b[0m\u001b[0;34m\u001b[0m\u001b[0;34m\u001b[0m\u001b[0m\n\u001b[1;32m   2802\u001b[0m                 \u001b[0mindexer\u001b[0m \u001b[0;34m=\u001b[0m \u001b[0;34m[\u001b[0m\u001b[0mindexer\u001b[0m\u001b[0;34m]\u001b[0m\u001b[0;34m\u001b[0m\u001b[0;34m\u001b[0m\u001b[0m\n",
      "\u001b[0;32m/Library/Frameworks/Python.framework/Versions/3.6/lib/python3.6/site-packages/pandas/core/indexes/base.py\u001b[0m in \u001b[0;36mget_loc\u001b[0;34m(self, key, method, tolerance)\u001b[0m\n\u001b[1;32m   2644\u001b[0m                 )\n\u001b[1;32m   2645\u001b[0m             \u001b[0;32mtry\u001b[0m\u001b[0;34m:\u001b[0m\u001b[0;34m\u001b[0m\u001b[0;34m\u001b[0m\u001b[0m\n\u001b[0;32m-> 2646\u001b[0;31m                 \u001b[0;32mreturn\u001b[0m \u001b[0mself\u001b[0m\u001b[0;34m.\u001b[0m\u001b[0m_engine\u001b[0m\u001b[0;34m.\u001b[0m\u001b[0mget_loc\u001b[0m\u001b[0;34m(\u001b[0m\u001b[0mkey\u001b[0m\u001b[0;34m)\u001b[0m\u001b[0;34m\u001b[0m\u001b[0;34m\u001b[0m\u001b[0m\n\u001b[0m\u001b[1;32m   2647\u001b[0m             \u001b[0;32mexcept\u001b[0m \u001b[0mKeyError\u001b[0m\u001b[0;34m:\u001b[0m\u001b[0;34m\u001b[0m\u001b[0;34m\u001b[0m\u001b[0m\n\u001b[1;32m   2648\u001b[0m                 \u001b[0;32mreturn\u001b[0m \u001b[0mself\u001b[0m\u001b[0;34m.\u001b[0m\u001b[0m_engine\u001b[0m\u001b[0;34m.\u001b[0m\u001b[0mget_loc\u001b[0m\u001b[0;34m(\u001b[0m\u001b[0mself\u001b[0m\u001b[0;34m.\u001b[0m\u001b[0m_maybe_cast_indexer\u001b[0m\u001b[0;34m(\u001b[0m\u001b[0mkey\u001b[0m\u001b[0;34m)\u001b[0m\u001b[0;34m)\u001b[0m\u001b[0;34m\u001b[0m\u001b[0;34m\u001b[0m\u001b[0m\n",
      "\u001b[0;32mpandas/_libs/index.pyx\u001b[0m in \u001b[0;36mpandas._libs.index.IndexEngine.get_loc\u001b[0;34m()\u001b[0m\n",
      "\u001b[0;32mpandas/_libs/index.pyx\u001b[0m in \u001b[0;36mpandas._libs.index.IndexEngine.get_loc\u001b[0;34m()\u001b[0m\n",
      "\u001b[0;31mTypeError\u001b[0m: '(slice(None, None, None), slice('YieldWorst', 'MinPiece', None))' is an invalid key"
     ]
    }
   ],
   "source": [
    "# split data into X and y\n",
    "X = new[:,'YieldWorst':'MinPiece']\n",
    "Y = new['leader/lagger']"
   ]
  },
  {
   "cell_type": "code",
   "execution_count": 35,
   "metadata": {},
   "outputs": [
    {
     "output_type": "execute_result",
     "data": {
      "text/plain": "       SecurityID     KeyDate  YieldWorst  ModifiedDuration_Plain  \\\n0           56288  2019-01-02     7.05424                 6.64285   \n1           56288  2019-01-03     6.87398                 6.65456   \n2           56288  2019-01-04     6.47403                 6.69407   \n3           56288  2019-01-07     6.28284                 6.71163   \n4           56288  2019-01-08     6.07889                 6.73048   \n...           ...         ...         ...                     ...   \n38427         109  2019-02-22     4.19661                 6.62624   \n38428         109  2019-02-25     4.20100                 6.62331   \n38429         109  2019-02-26     4.16937                 6.62331   \n38430         109  2019-02-27     4.22929                 6.72373   \n38431         109  2019-02-28     4.18877                 6.71907   \n\n       1.5 Lien Secured  1st Lien Secured  1st lien  2nd Lien Secured  \\\n0                     0                 0         0                 0   \n1                     0                 0         0                 0   \n2                     0                 0         0                 0   \n3                     0                 0         0                 0   \n4                     0                 0         0                 0   \n...                 ...               ...       ...               ...   \n38427                 0                 0         0                 0   \n38428                 0                 0         0                 0   \n38429                 0                 0         0                 0   \n38430                 0                 0         0                 0   \n38431                 0                 0         0                 0   \n\n       3rd Lien Secured  Asset Backed  ...  FUNGED  Fixed  PAY-IN-KIND  \\\n0                     0             0  ...       0      0            0   \n1                     0             0  ...       0      0            0   \n2                     0             0  ...       0      0            0   \n3                     0             0  ...       0      0            0   \n4                     0             0  ...       0      0            0   \n...                 ...           ...  ...     ...    ...          ...   \n38427                 0             0  ...       0      0            0   \n38428                 0             0  ...       0      0            0   \n38429                 0             0  ...       0      0            0   \n38430                 0             0  ...       0      0            0   \n38431                 0             0  ...       0      0            0   \n\n       STEP CPN  VARIABLE  WHEN ISSUED  ZERO COUPON  MinIncrement  MinPiece  \\\n0             0         0            0            0        1000.0    2000.0   \n1             0         0            0            0        1000.0    2000.0   \n2             0         0            0            0        1000.0    2000.0   \n3             0         0            0            0        1000.0    2000.0   \n4             0         0            0            0        1000.0    2000.0   \n...         ...       ...          ...          ...           ...       ...   \n38427         0         0            0            0        1000.0    2000.0   \n38428         0         0            0            0        1000.0    2000.0   \n38429         0         0            0            0        1000.0    2000.0   \n38430         0         0            0            0        1000.0    2000.0   \n38431         0         0            0            0        1000.0    2000.0   \n\n       leader/lagger  \n0                  1  \n1                  0  \n2                  0  \n3                  0  \n4                  0  \n...              ...  \n38427              0  \n38428              1  \n38429              0  \n38430              1  \n38431              0  \n\n[38432 rows x 146 columns]",
      "text/html": "<div>\n<style scoped>\n    .dataframe tbody tr th:only-of-type {\n        vertical-align: middle;\n    }\n\n    .dataframe tbody tr th {\n        vertical-align: top;\n    }\n\n    .dataframe thead th {\n        text-align: right;\n    }\n</style>\n<table border=\"1\" class=\"dataframe\">\n  <thead>\n    <tr style=\"text-align: right;\">\n      <th></th>\n      <th>SecurityID</th>\n      <th>KeyDate</th>\n      <th>YieldWorst</th>\n      <th>ModifiedDuration_Plain</th>\n      <th>1.5 Lien Secured</th>\n      <th>1st Lien Secured</th>\n      <th>1st lien</th>\n      <th>2nd Lien Secured</th>\n      <th>3rd Lien Secured</th>\n      <th>Asset Backed</th>\n      <th>...</th>\n      <th>FUNGED</th>\n      <th>Fixed</th>\n      <th>PAY-IN-KIND</th>\n      <th>STEP CPN</th>\n      <th>VARIABLE</th>\n      <th>WHEN ISSUED</th>\n      <th>ZERO COUPON</th>\n      <th>MinIncrement</th>\n      <th>MinPiece</th>\n      <th>leader/lagger</th>\n    </tr>\n  </thead>\n  <tbody>\n    <tr>\n      <th>0</th>\n      <td>56288</td>\n      <td>2019-01-02</td>\n      <td>7.05424</td>\n      <td>6.64285</td>\n      <td>0</td>\n      <td>0</td>\n      <td>0</td>\n      <td>0</td>\n      <td>0</td>\n      <td>0</td>\n      <td>...</td>\n      <td>0</td>\n      <td>0</td>\n      <td>0</td>\n      <td>0</td>\n      <td>0</td>\n      <td>0</td>\n      <td>0</td>\n      <td>1000.0</td>\n      <td>2000.0</td>\n      <td>1</td>\n    </tr>\n    <tr>\n      <th>1</th>\n      <td>56288</td>\n      <td>2019-01-03</td>\n      <td>6.87398</td>\n      <td>6.65456</td>\n      <td>0</td>\n      <td>0</td>\n      <td>0</td>\n      <td>0</td>\n      <td>0</td>\n      <td>0</td>\n      <td>...</td>\n      <td>0</td>\n      <td>0</td>\n      <td>0</td>\n      <td>0</td>\n      <td>0</td>\n      <td>0</td>\n      <td>0</td>\n      <td>1000.0</td>\n      <td>2000.0</td>\n      <td>0</td>\n    </tr>\n    <tr>\n      <th>2</th>\n      <td>56288</td>\n      <td>2019-01-04</td>\n      <td>6.47403</td>\n      <td>6.69407</td>\n      <td>0</td>\n      <td>0</td>\n      <td>0</td>\n      <td>0</td>\n      <td>0</td>\n      <td>0</td>\n      <td>...</td>\n      <td>0</td>\n      <td>0</td>\n      <td>0</td>\n      <td>0</td>\n      <td>0</td>\n      <td>0</td>\n      <td>0</td>\n      <td>1000.0</td>\n      <td>2000.0</td>\n      <td>0</td>\n    </tr>\n    <tr>\n      <th>3</th>\n      <td>56288</td>\n      <td>2019-01-07</td>\n      <td>6.28284</td>\n      <td>6.71163</td>\n      <td>0</td>\n      <td>0</td>\n      <td>0</td>\n      <td>0</td>\n      <td>0</td>\n      <td>0</td>\n      <td>...</td>\n      <td>0</td>\n      <td>0</td>\n      <td>0</td>\n      <td>0</td>\n      <td>0</td>\n      <td>0</td>\n      <td>0</td>\n      <td>1000.0</td>\n      <td>2000.0</td>\n      <td>0</td>\n    </tr>\n    <tr>\n      <th>4</th>\n      <td>56288</td>\n      <td>2019-01-08</td>\n      <td>6.07889</td>\n      <td>6.73048</td>\n      <td>0</td>\n      <td>0</td>\n      <td>0</td>\n      <td>0</td>\n      <td>0</td>\n      <td>0</td>\n      <td>...</td>\n      <td>0</td>\n      <td>0</td>\n      <td>0</td>\n      <td>0</td>\n      <td>0</td>\n      <td>0</td>\n      <td>0</td>\n      <td>1000.0</td>\n      <td>2000.0</td>\n      <td>0</td>\n    </tr>\n    <tr>\n      <th>...</th>\n      <td>...</td>\n      <td>...</td>\n      <td>...</td>\n      <td>...</td>\n      <td>...</td>\n      <td>...</td>\n      <td>...</td>\n      <td>...</td>\n      <td>...</td>\n      <td>...</td>\n      <td>...</td>\n      <td>...</td>\n      <td>...</td>\n      <td>...</td>\n      <td>...</td>\n      <td>...</td>\n      <td>...</td>\n      <td>...</td>\n      <td>...</td>\n      <td>...</td>\n      <td>...</td>\n    </tr>\n    <tr>\n      <th>38427</th>\n      <td>109</td>\n      <td>2019-02-22</td>\n      <td>4.19661</td>\n      <td>6.62624</td>\n      <td>0</td>\n      <td>0</td>\n      <td>0</td>\n      <td>0</td>\n      <td>0</td>\n      <td>0</td>\n      <td>...</td>\n      <td>0</td>\n      <td>0</td>\n      <td>0</td>\n      <td>0</td>\n      <td>0</td>\n      <td>0</td>\n      <td>0</td>\n      <td>1000.0</td>\n      <td>2000.0</td>\n      <td>0</td>\n    </tr>\n    <tr>\n      <th>38428</th>\n      <td>109</td>\n      <td>2019-02-25</td>\n      <td>4.20100</td>\n      <td>6.62331</td>\n      <td>0</td>\n      <td>0</td>\n      <td>0</td>\n      <td>0</td>\n      <td>0</td>\n      <td>0</td>\n      <td>...</td>\n      <td>0</td>\n      <td>0</td>\n      <td>0</td>\n      <td>0</td>\n      <td>0</td>\n      <td>0</td>\n      <td>0</td>\n      <td>1000.0</td>\n      <td>2000.0</td>\n      <td>1</td>\n    </tr>\n    <tr>\n      <th>38429</th>\n      <td>109</td>\n      <td>2019-02-26</td>\n      <td>4.16937</td>\n      <td>6.62331</td>\n      <td>0</td>\n      <td>0</td>\n      <td>0</td>\n      <td>0</td>\n      <td>0</td>\n      <td>0</td>\n      <td>...</td>\n      <td>0</td>\n      <td>0</td>\n      <td>0</td>\n      <td>0</td>\n      <td>0</td>\n      <td>0</td>\n      <td>0</td>\n      <td>1000.0</td>\n      <td>2000.0</td>\n      <td>0</td>\n    </tr>\n    <tr>\n      <th>38430</th>\n      <td>109</td>\n      <td>2019-02-27</td>\n      <td>4.22929</td>\n      <td>6.72373</td>\n      <td>0</td>\n      <td>0</td>\n      <td>0</td>\n      <td>0</td>\n      <td>0</td>\n      <td>0</td>\n      <td>...</td>\n      <td>0</td>\n      <td>0</td>\n      <td>0</td>\n      <td>0</td>\n      <td>0</td>\n      <td>0</td>\n      <td>0</td>\n      <td>1000.0</td>\n      <td>2000.0</td>\n      <td>1</td>\n    </tr>\n    <tr>\n      <th>38431</th>\n      <td>109</td>\n      <td>2019-02-28</td>\n      <td>4.18877</td>\n      <td>6.71907</td>\n      <td>0</td>\n      <td>0</td>\n      <td>0</td>\n      <td>0</td>\n      <td>0</td>\n      <td>0</td>\n      <td>...</td>\n      <td>0</td>\n      <td>0</td>\n      <td>0</td>\n      <td>0</td>\n      <td>0</td>\n      <td>0</td>\n      <td>0</td>\n      <td>1000.0</td>\n      <td>2000.0</td>\n      <td>0</td>\n    </tr>\n  </tbody>\n</table>\n<p>38432 rows × 146 columns</p>\n</div>"
     },
     "metadata": {},
     "execution_count": 35
    }
   ],
   "source": [
    "new"
   ]
  },
  {
   "cell_type": "code",
   "execution_count": null,
   "metadata": {},
   "outputs": [],
   "source": []
  }
 ],
 "metadata": {
  "kernelspec": {
   "display_name": "Python 3",
   "language": "python",
   "name": "python3"
  },
  "language_info": {
   "codemirror_mode": {
    "name": "ipython",
    "version": 3
   },
   "file_extension": ".py",
   "mimetype": "text/x-python",
   "name": "python",
   "nbconvert_exporter": "python",
   "pygments_lexer": "ipython3",
   "version": "3.6.8-final"
  }
 },
 "nbformat": 4,
 "nbformat_minor": 4
}