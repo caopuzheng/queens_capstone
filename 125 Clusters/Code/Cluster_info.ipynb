{
 "cells": [
  {
   "cell_type": "code",
   "execution_count": 28,
   "metadata": {},
   "outputs": [],
   "source": [
    "import pandas as pd\n",
    "import mysql.connector as sql\n",
    "import math"
   ]
  },
  {
   "cell_type": "code",
   "execution_count": 29,
   "metadata": {},
   "outputs": [],
   "source": [
    "def term(x,y):\n",
    "    try:\n",
    "        bond_term = int(x.year) - int(y.year)\n",
    "    except:\n",
    "        bond_term = 100\n",
    "    return bond_term"
   ]
  },
  {
   "cell_type": "code",
   "execution_count": 30,
   "metadata": {},
   "outputs": [],
   "source": [
    "def Type_term(x):\n",
    "    if x >= 10:\n",
    "        return 'Long Term'\n",
    "    elif x < 10 and x >= 5:\n",
    "        return  'Mid Term'\n",
    "    else:\n",
    "        return 'Short Term'"
   ]
  },
  {
   "cell_type": "code",
   "execution_count": 31,
   "metadata": {},
   "outputs": [],
   "source": [
    "def assign_rating(x):\n",
    "    x = float(x)\n",
    "    if math.isnan(x):\n",
    "        return 'UN'\n",
    "    else:\n",
    "        if x < 0:\n",
    "            return 'NR'\n",
    "        elif x<=13.5:\n",
    "            return \"Junk\"\n",
    "        elif x>13.5 and x<=16.5:\n",
    "            return 'Lower medium grade'\n",
    "        elif x>16.5 and x<=19.5:\n",
    "            return 'Upper medium grade'\n",
    "        elif x>19.5 and x<=22.5:\n",
    "            return 'High grade'\n",
    "        else:\n",
    "            return 'Prime'"
   ]
  },
  {
   "cell_type": "code",
   "execution_count": 32,
   "metadata": {},
   "outputs": [],
   "source": [
    "def get_all_bonds_in_list(start_date,end_date):\n",
    "    print('start to get data from {} to {}'.format(start_date,end_date))\n",
    "    #####Create engine:\n",
    "    db_connection = sql.connect(host='0.0.0.0', database='bond_db', user='root', password='password')\n",
    "    ##security query\n",
    "    security_query = \"select * from security_info\"\n",
    "    ##read data\n",
    "    security_data = pd.read_sql(security_query,con=db_connection)\n",
    "    security_data = security_data[['SecurityID','Currency','IssueDate','MaturityDate']]\n",
    "    ##price query\n",
    "    price_query = \"select * from bond_spread where  KeyDate between '{}' and '{}'\".format(start_date,end_date)\n",
    "    #####read bond_data from db:\n",
    "    final_data = pd.read_sql(price_query,con=db_connection)\n",
    "    final_data = final_data.merge(security_data, on=['SecurityID'], how='left')\n",
    "    final_data.dropna(subset=[\"ZSpread\"],inplace=True)\n",
    "    final_data_1 = final_data[final_data.Currency == 'USD']\n",
    "    final_data = final_data_1.groupby('SecurityID')\n",
    "    bonds_list = [final_data.get_group(x) for x in final_data.groups]\n",
    "    db_connection.close()\n",
    "    return bonds_list"
   ]
  },
  {
   "cell_type": "code",
   "execution_count": 33,
   "metadata": {},
   "outputs": [],
   "source": [
    "def merge_left_right(data1,data2):\n",
    "    temp_data = data1.append(data2)\n",
    "    return temp_data\n",
    "\n",
    "def merg_sort(list_data):\n",
    "    list_length = len(list_data)\n",
    "    if list_length == 1:\n",
    "        output = list_data[0][2]\n",
    "        return output\n",
    "    else:\n",
    "        mid_point = math.floor(list_length/2)\n",
    "        #print(len(list_data[:mid_point]))\n",
    "        left = list_data[mid_point:]\n",
    "        right = list_data[:mid_point]\n",
    "        return merge_left_right(merg_sort(left), merg_sort(right))"
   ]
  },
  {
   "cell_type": "code",
   "execution_count": 34,
   "metadata": {},
   "outputs": [],
   "source": [
    "silding_windows = [['2018-12-31','2019-02-28'],['2019-03-01','2019-04-30'],\n",
    "                   ['2019-05-01','2019-06-30'],['2019-07-01','2019-08-31'],\n",
    "                   ['2019-09-01','2019-10-31'],['2019-11-01','2019-12-31']]"
   ]
  },
  {
   "cell_type": "markdown",
   "metadata": {},
   "source": [
    "## Cluster data"
   ]
  },
  {
   "cell_type": "code",
   "execution_count": 35,
   "metadata": {},
   "outputs": [],
   "source": [
    "cluster_data = pd.read_csv('Cluster_group_125.csv')"
   ]
  },
  {
   "cell_type": "code",
   "execution_count": 36,
   "metadata": {},
   "outputs": [],
   "source": [
    "cluster_data.drop(columns=['Unnamed: 0'],inplace=True)"
   ]
  },
  {
   "cell_type": "code",
   "execution_count": 37,
   "metadata": {},
   "outputs": [
    {
     "output_type": "execute_result",
     "data": {
      "text/plain": "   SecurityID 2019-02-28   2019-04-30   2019-06-30  2019-08-31   2019-10-31  \\\n0      3051.0  Cluster 0   Cluster 85   Cluster 70  Cluster 82   Cluster 99   \n1      3704.0  Cluster 0  Cluster 119    Cluster 0  Cluster 12   Cluster 65   \n2      4121.0  Cluster 0   Cluster 52   Cluster 53  Cluster 72    Cluster 6   \n3      4130.0  Cluster 0   Cluster 76  Cluster 124  Cluster 89   Cluster 10   \n4      4259.0  Cluster 0   Cluster 95   Cluster 28  Cluster 86  Cluster 105   \n\n    2019-12-31  \n0   Cluster 91  \n1   Cluster 87  \n2   Cluster 91  \n3  Cluster 109  \n4   Cluster 76  ",
      "text/html": "<div>\n<style scoped>\n    .dataframe tbody tr th:only-of-type {\n        vertical-align: middle;\n    }\n\n    .dataframe tbody tr th {\n        vertical-align: top;\n    }\n\n    .dataframe thead th {\n        text-align: right;\n    }\n</style>\n<table border=\"1\" class=\"dataframe\">\n  <thead>\n    <tr style=\"text-align: right;\">\n      <th></th>\n      <th>SecurityID</th>\n      <th>2019-02-28</th>\n      <th>2019-04-30</th>\n      <th>2019-06-30</th>\n      <th>2019-08-31</th>\n      <th>2019-10-31</th>\n      <th>2019-12-31</th>\n    </tr>\n  </thead>\n  <tbody>\n    <tr>\n      <th>0</th>\n      <td>3051.0</td>\n      <td>Cluster 0</td>\n      <td>Cluster 85</td>\n      <td>Cluster 70</td>\n      <td>Cluster 82</td>\n      <td>Cluster 99</td>\n      <td>Cluster 91</td>\n    </tr>\n    <tr>\n      <th>1</th>\n      <td>3704.0</td>\n      <td>Cluster 0</td>\n      <td>Cluster 119</td>\n      <td>Cluster 0</td>\n      <td>Cluster 12</td>\n      <td>Cluster 65</td>\n      <td>Cluster 87</td>\n    </tr>\n    <tr>\n      <th>2</th>\n      <td>4121.0</td>\n      <td>Cluster 0</td>\n      <td>Cluster 52</td>\n      <td>Cluster 53</td>\n      <td>Cluster 72</td>\n      <td>Cluster 6</td>\n      <td>Cluster 91</td>\n    </tr>\n    <tr>\n      <th>3</th>\n      <td>4130.0</td>\n      <td>Cluster 0</td>\n      <td>Cluster 76</td>\n      <td>Cluster 124</td>\n      <td>Cluster 89</td>\n      <td>Cluster 10</td>\n      <td>Cluster 109</td>\n    </tr>\n    <tr>\n      <th>4</th>\n      <td>4259.0</td>\n      <td>Cluster 0</td>\n      <td>Cluster 95</td>\n      <td>Cluster 28</td>\n      <td>Cluster 86</td>\n      <td>Cluster 105</td>\n      <td>Cluster 76</td>\n    </tr>\n  </tbody>\n</table>\n</div>"
     },
     "metadata": {},
     "execution_count": 37
    }
   ],
   "source": [
    "cluster_data.head()"
   ]
  },
  {
   "cell_type": "code",
   "execution_count": 38,
   "metadata": {},
   "outputs": [],
   "source": [
    "def get_the_daily_spread_windows(bonds_list):\n",
    "    bond_spread_list = []\n",
    "    for bond in bonds_list:\n",
    "        try:\n",
    "            bond['G_change']=bond.GSpread.pct_change()\n",
    "            bond['ModifiedDuration_Plain_change']=bond.ModifiedDuration_Plain.pct_change()\n",
    "            bond['YieldWorst_change']=bond.YieldWorst.pct_change()\n",
    "            bond.dropna(subset=['G_change'],inplace = True)\n",
    "            bond_spread_list.append((len(bond.GSpread.values),bond.SecurityID.iloc[0],bond))\n",
    "        except:\n",
    "            pass\n",
    "        return bond_spread_list"
   ]
  },
  {
   "cell_type": "code",
   "execution_count": 39,
   "metadata": {},
   "outputs": [],
   "source": [
    "def Average_daily_Gspread_change_cluster(window,cluster_data):\n",
    "    ####Grab Data###\n",
    "    bond_list1 = get_all_bonds_in_list(window[0],window[1])\n",
    "    ####G Change ###\n",
    "    daily_spread_1 = get_the_daily_spread_windows(bond_list1)\n",
    "    new_data = merg_sort(daily_spread_1)\n",
    "    new_data.dropna(inplace=True)\n",
    "    data1 = new_data.merge(cluster_data[['SecurityID',window[1]]],on=['SecurityID'],how ='left')\n",
    "    temp = data1.groupby(by=['KeyDate',window[1]],as_index=False).mean()\n",
    "    data1['Group'] = data1[window[1]] \n",
    "    data1.drop(columns=[window[1]],inplace=True)\n",
    "    temp['Group'] = temp[window[1]]\n",
    "    end = temp[['Group','KeyDate','G_change','YieldWorst_change','ModifiedDuration_Plain_change']]\n",
    "    end = end.rename(columns={'G_change':'Cluster_G_change','YieldWorst_change':'Cluster_average_YieldWorst_change','ModifiedDuration_Plain_change':'Cluster_average_ModifiedDuration_Plain_change'})\n",
    "    return end,data1"
   ]
  },
  {
   "cell_type": "markdown",
   "metadata": {},
   "source": [
    "## Read Your secuirty data here"
   ]
  },
  {
   "cell_type": "code",
   "execution_count": 40,
   "metadata": {},
   "outputs": [],
   "source": [
    "db_connection = sql.connect(host='0.0.0.0', database='bond_db', user='root', password='password')\n",
    "security_query = \"select * from security_info\"\n",
    "security_data = pd.read_sql(security_query,con=db_connection)"
   ]
  },
  {
   "cell_type": "markdown",
   "metadata": {},
   "source": [
    "## END"
   ]
  },
  {
   "cell_type": "markdown",
   "metadata": {},
   "source": [
    "## Read Your Rating data"
   ]
  },
  {
   "cell_type": "code",
   "execution_count": 41,
   "metadata": {},
   "outputs": [],
   "source": [
    "db_connection = sql.connect(host='0.0.0.0', database='bond_db', user='root', password='password')\n",
    "rating_query = \"select * from rating\"\n",
    "rating_data = pd.read_sql(rating_query,con=db_connection)"
   ]
  },
  {
   "cell_type": "code",
   "execution_count": 42,
   "metadata": {},
   "outputs": [],
   "source": [
    "rating_data = rating_data.groupby(by=['SecurityID'],as_index=False).mean()"
   ]
  },
  {
   "cell_type": "code",
   "execution_count": 43,
   "metadata": {},
   "outputs": [],
   "source": [
    "security_data['Term'] = security_data.apply(lambda x:term(x.MaturityDate,x.IssueDate),axis=1)"
   ]
  },
  {
   "cell_type": "code",
   "execution_count": 44,
   "metadata": {},
   "outputs": [],
   "source": [
    "security_data['Term'] = security_data['Term'].fillna(100)\n",
    "security_data['Type of Term'] = security_data['Term'].apply(Type_term)"
   ]
  },
  {
   "cell_type": "code",
   "execution_count": 45,
   "metadata": {},
   "outputs": [],
   "source": [
    "security_data = security_data.merge(rating_data,on =['SecurityID'],how='left')"
   ]
  },
  {
   "cell_type": "code",
   "execution_count": 46,
   "metadata": {},
   "outputs": [],
   "source": [
    "security_data['Rating'] = security_data['RatingSP'].apply(assign_rating)"
   ]
  },
  {
   "cell_type": "code",
   "execution_count": 47,
   "metadata": {},
   "outputs": [
    {
     "output_type": "execute_result",
     "data": {
      "text/plain": "Index(['SecurityID', 'OfficialName', 'SecurityType', 'SecuritySubType',\n       'SecurityBBGType', 'SecurityBBGYellowKey', 'Series', 'SecuritySector',\n       'SecurityIndustry', 'SecuritySubIndustry', 'BBGSecuritySector',\n       'IssuerParent', 'Obligor', 'Ticker', 'EquityTicker', 'Issuer',\n       'ObligorID', 'CountryDomicile', 'CountryRisk', 'CountryIssue',\n       'Currency', 'Coupon', 'CouponType', 'CouponFrequency', 'CouponDayCount',\n       'CreationDate', 'LastModifiedTime', 'IssueDate', 'PricingDate',\n       'MaturityDate', 'IsCallable', 'IsConvertible', 'IsContingent',\n       'IsFactorable', 'IsHybrid', 'IsMaple', 'IsPrivatePlacement',\n       'IsPreliminary', 'IsPerpetual', 'IsJunior', 'Seniority', 'PaymentRank',\n       'IsBailIn', 'QuoteSize', 'AmountIssued', 'MinIncrement', 'MinPiece',\n       'BBGDescription', 'Term', 'Type of Term', 'RatingSP', 'Rating'],\n      dtype='object')"
     },
     "metadata": {},
     "execution_count": 47
    }
   ],
   "source": [
    "security_data.columns"
   ]
  },
  {
   "cell_type": "code",
   "execution_count": 48,
   "metadata": {},
   "outputs": [],
   "source": [
    "def get_the_cluster_data(security_info,cluster_data,windows):\n",
    "    print('start to get data for {}'.format(windows[1]))\n",
    "    security_info = security_data[['SecurityID','SecuritySector','AmountIssued','Coupon','Seniority','Term','RatingSP','Rating','Type of Term']]\n",
    "    a = security_info.merge(cluster_data[['SecurityID',windows[1]]],on=['SecurityID'],how='left')\n",
    "    a.dropna(subset=[windows[1]],inplace=True)\n",
    "    time_period = a.rename(columns={'2019-02-28':'Group'})\n",
    "\n",
    "    Group_Seniority = time_period.groupby(by=['Group','Seniority']).count()\n",
    "    Group_sector = time_period.groupby(by=['Group','SecuritySector']).count()\n",
    "    Group_Type_term = time_period.groupby(by=['Group','Type of Term']).count()\n",
    "    Group_Rating = time_period.groupby(by=['Group','Rating']).count()\n",
    "    \n",
    "    Group = time_period.groupby(by=['Group']).count()\n",
    "    Sector = time_period.groupby(by=['SecuritySector']).count()\n",
    "    Type_of_Term = time_period.groupby(by=['Type of Term']).count()\n",
    "    Seniority = time_period.groupby(by=['Seniority']).count()\n",
    "    Rating = time_period.groupby(by=['Rating']).count()\n",
    "    \n",
    "    Sector_per = Sector/len(time_period)\n",
    "    Type_of_Term_per = Type_of_Term/len(time_period)\n",
    "    Seniority_per = Seniority/len(time_period)\n",
    "    Rating_per = Rating/len(time_period)\n",
    "\n",
    "    Group_sector_per = Group_sector/Group\n",
    "    Group_Seniority_per = Group_Seniority/Group\n",
    "    Group_type_term_per = Group_Type_term/Group\n",
    "    Group_rating_per =  Group_Rating/Group\n",
    "\n",
    "    Group_Sector_indicator = (Group_sector_per - Sector_per)*100\n",
    "    Group_Seniority_indicator = (Group_Seniority_per - Seniority_per)*100\n",
    "    Group_type_term_indicator = (Group_type_term_per - Type_of_Term_per)*100\n",
    "    Group_rating_indicator= (Group_rating_per - Rating_per)*100\n",
    "\n",
    "    for i in range(0,125):\n",
    "        if i == 0:\n",
    "            f = Group_Seniority_indicator.loc['Cluster {}'.format(i)].T.head(1).reset_index().iloc[:,1:]\n",
    "            f['Group'] ='Cluster {}'.format(i)\n",
    "        else:\n",
    "            temp = Group_Seniority_indicator.loc['Cluster {}'.format(i)].T.head(1).reset_index().iloc[:,1:]\n",
    "            temp['Group'] ='Cluster {}'.format(i)\n",
    "            f = f.merge(temp,how='outer').fillna(0)\n",
    "    for i in range(0,125):\n",
    "        if i == 0:\n",
    "            f1 = Group_Sector_indicator.loc['Cluster {}'.format(i)].T.head(1).reset_index().iloc[:,1:]\n",
    "            f1['Group'] ='Cluster {}'.format(i)\n",
    "        else:\n",
    "            temp1 = Group_Sector_indicator.loc['Cluster {}'.format(i)].T.head(1).reset_index().iloc[:,1:]\n",
    "            temp1['Group'] ='Cluster {}'.format(i)\n",
    "            f1 = f1.merge(temp1,how='outer').fillna(0)\n",
    "    for i in range(0,125):\n",
    "        if i == 0:\n",
    "            f2 = Group_type_term_indicator.loc['Cluster {}'.format(i)].T.head(1).reset_index().iloc[:,1:]\n",
    "            f2['Group'] ='Cluster {}'.format(i)\n",
    "        else:\n",
    "            temp2 = Group_type_term_indicator.loc['Cluster {}'.format(i)].T.head(1).reset_index().iloc[:,1:]\n",
    "            temp2['Group'] ='Cluster {}'.format(i)\n",
    "            f2 = f2.merge(temp2,how='outer').fillna(0)\n",
    "    for i in range(0,125):\n",
    "        if i == 0:\n",
    "            f3 = Group_rating_indicator.loc['Cluster {}'.format(i)].T.head(1).reset_index().iloc[:,1:]\n",
    "            f3['Group'] ='Cluster {}'.format(i)\n",
    "        else:\n",
    "            temp3 = Group_rating_indicator.loc['Cluster {}'.format(i)].T.head(1).reset_index().iloc[:,1:]\n",
    "            temp3['Group'] ='Cluster {}'.format(i)\n",
    "            f3 = f3.merge(temp3,how='outer').fillna(0)\n",
    "    f= f.merge(f1,on='Group',how = 'left')\n",
    "    f= f.merge(f2,on='Group',how = 'left')\n",
    "    f= f.merge(f3,on='Group',how = 'left')\n",
    "    b = time_period.groupby(by=['Group'],as_index=False).mean()\n",
    "    b.drop(columns=['SecurityID'],inplace=True)\n",
    "    b = b.rename(columns={'AmountIssued':'Cluster_average_AmountIssued','Coupon':'Cluster_average_Coupon','Term':'Cluster_average_Term','RatingSP':'Cluster_average_Rating'})\n",
    "    window_cluster_data = b.merge(f,on='Group',how = 'left')\n",
    "    return window_cluster_data"
   ]
  },
  {
   "cell_type": "code",
   "execution_count": 49,
   "metadata": {},
   "outputs": [],
   "source": [
    "from sqlalchemy import create_engine"
   ]
  },
  {
   "cell_type": "code",
   "execution_count": 50,
   "metadata": {
    "tags": []
   },
   "outputs": [
    {
     "output_type": "stream",
     "name": "stdout",
     "text": "start to get data for 2019-02-28\n"
    }
   ],
   "source": [
    "cluster_info = get_the_cluster_data(security_data,cluster_data,silding_windows[0])"
   ]
  },
  {
   "cell_type": "code",
   "execution_count": 51,
   "metadata": {},
   "outputs": [
    {
     "output_type": "execute_result",
     "data": {
      "text/plain": "           Group  Cluster_average_AmountIssued  Cluster_average_Coupon  \\\n0      Cluster 0                  6.060661e+08                4.724531   \n1      Cluster 1                  9.649194e+08                4.410567   \n2     Cluster 10                  7.517519e+08                4.728494   \n3    Cluster 100                  6.369403e+08                4.613108   \n4    Cluster 101                  6.455059e+08                4.440804   \n..           ...                           ...                     ...   \n120   Cluster 95                  5.961280e+08                5.362838   \n121   Cluster 96                  7.269452e+08                4.357861   \n122   Cluster 97                  7.667758e+08                5.426098   \n123   Cluster 98                  6.052778e+08                5.013682   \n124   Cluster 99                  1.053897e+09                5.347609   \n\n     Cluster_average_Term  Cluster_average_Rating  Jr Subordinated Unsecured  \\\n0               17.824742               16.180732                  -0.014627   \n1               15.305732               16.267418                  -0.018567   \n2               13.470588               14.749780                  -0.013172   \n3               15.387097               16.222335                   0.000000   \n4               14.774510               16.156443                  -0.015132   \n..                    ...                     ...                        ...   \n120             16.087500               14.619028                   0.037564   \n121             12.934307               16.244963                  -0.017637   \n122             17.151515               13.455243                   0.028094   \n123             16.270588               15.925284                  -0.001407   \n124             17.072464               12.884596                   0.062020   \n\n      Secured  Sr Unsecured  Subordinated Unsecured  1st Lien Secured  ...  \\\n0    0.024537      0.031187                0.001597          0.000000  ...   \n1   -0.049138      0.096654               -0.024472          0.003707  ...   \n2   -0.032953      0.044649                0.008874          0.000785  ...   \n3    0.071538     -0.018475               -0.006939         -0.013004  ...   \n4   -0.009423      0.009355                0.018678         -0.005098  ...   \n..        ...           ...                     ...               ...  ...   \n120  0.019253     -0.089174                0.037550          0.002991  ...   \n121  0.004746      0.054439               -0.006154         -0.027210  ...   \n122 -0.007641     -0.033871                0.018232         -0.011782  ...   \n123  0.049400     -0.025939                0.008874          0.000000  ...   \n124 -0.024768     -0.089537                0.022514          0.008969  ...   \n\n     Technology  Long Term  Mid Term  Short Term  High grade      Junk  \\\n0      0.003254   0.042336 -0.058375    0.016039    0.034805 -0.079984   \n1      0.044819   0.056191 -0.012804   -0.043387    0.024824 -0.086616   \n2      0.044369   0.020747 -0.011680   -0.009067   -0.034449  0.115407   \n3     -0.016478  -0.014420 -0.015475    0.029896    0.006537 -0.127983   \n4     -0.018376   0.097218 -0.060700   -0.036518   -0.008959 -0.145377   \n..          ...        ...       ...         ...         ...       ...   \n120   -0.012983   0.061924 -0.018298   -0.043626   -0.020479  0.048496   \n121   -0.023385  -0.017638  0.008071    0.009567    0.007715 -0.111815   \n122   -0.007680  -0.039591  0.072990   -0.033399   -0.020100  0.164783   \n123   -0.026219   0.020747 -0.046974    0.026227   -0.046214 -0.084593   \n124    0.000000  -0.159815  0.186956   -0.027140   -0.043486  0.249764   \n\n     Lower medium grade        UN  Upper medium grade     Prime  \n0             -0.037977 -0.073532            0.163791  0.000000  \n1             -0.016045 -0.032886            0.105087  0.005636  \n2             -0.111961 -0.060312            0.098418  0.000000  \n3             -0.013922 -0.019325            0.151043  0.003650  \n4              0.074313 -0.005410            0.092536  0.000000  \n..                  ...       ...                 ...       ...  \n120            0.015245  0.041158           -0.077317  0.000000  \n121           -0.004190 -0.061944            0.177336  0.000000  \n122           -0.066952  0.052522           -0.123150  0.000000  \n123           -0.041373  0.010276            0.157242  0.004662  \n124           -0.100879  0.017608           -0.115904  0.000000  \n\n[125 rows x 32 columns]",
      "text/html": "<div>\n<style scoped>\n    .dataframe tbody tr th:only-of-type {\n        vertical-align: middle;\n    }\n\n    .dataframe tbody tr th {\n        vertical-align: top;\n    }\n\n    .dataframe thead th {\n        text-align: right;\n    }\n</style>\n<table border=\"1\" class=\"dataframe\">\n  <thead>\n    <tr style=\"text-align: right;\">\n      <th></th>\n      <th>Group</th>\n      <th>Cluster_average_AmountIssued</th>\n      <th>Cluster_average_Coupon</th>\n      <th>Cluster_average_Term</th>\n      <th>Cluster_average_Rating</th>\n      <th>Jr Subordinated Unsecured</th>\n      <th>Secured</th>\n      <th>Sr Unsecured</th>\n      <th>Subordinated Unsecured</th>\n      <th>1st Lien Secured</th>\n      <th>...</th>\n      <th>Technology</th>\n      <th>Long Term</th>\n      <th>Mid Term</th>\n      <th>Short Term</th>\n      <th>High grade</th>\n      <th>Junk</th>\n      <th>Lower medium grade</th>\n      <th>UN</th>\n      <th>Upper medium grade</th>\n      <th>Prime</th>\n    </tr>\n  </thead>\n  <tbody>\n    <tr>\n      <th>0</th>\n      <td>Cluster 0</td>\n      <td>6.060661e+08</td>\n      <td>4.724531</td>\n      <td>17.824742</td>\n      <td>16.180732</td>\n      <td>-0.014627</td>\n      <td>0.024537</td>\n      <td>0.031187</td>\n      <td>0.001597</td>\n      <td>0.000000</td>\n      <td>...</td>\n      <td>0.003254</td>\n      <td>0.042336</td>\n      <td>-0.058375</td>\n      <td>0.016039</td>\n      <td>0.034805</td>\n      <td>-0.079984</td>\n      <td>-0.037977</td>\n      <td>-0.073532</td>\n      <td>0.163791</td>\n      <td>0.000000</td>\n    </tr>\n    <tr>\n      <th>1</th>\n      <td>Cluster 1</td>\n      <td>9.649194e+08</td>\n      <td>4.410567</td>\n      <td>15.305732</td>\n      <td>16.267418</td>\n      <td>-0.018567</td>\n      <td>-0.049138</td>\n      <td>0.096654</td>\n      <td>-0.024472</td>\n      <td>0.003707</td>\n      <td>...</td>\n      <td>0.044819</td>\n      <td>0.056191</td>\n      <td>-0.012804</td>\n      <td>-0.043387</td>\n      <td>0.024824</td>\n      <td>-0.086616</td>\n      <td>-0.016045</td>\n      <td>-0.032886</td>\n      <td>0.105087</td>\n      <td>0.005636</td>\n    </tr>\n    <tr>\n      <th>2</th>\n      <td>Cluster 10</td>\n      <td>7.517519e+08</td>\n      <td>4.728494</td>\n      <td>13.470588</td>\n      <td>14.749780</td>\n      <td>-0.013172</td>\n      <td>-0.032953</td>\n      <td>0.044649</td>\n      <td>0.008874</td>\n      <td>0.000785</td>\n      <td>...</td>\n      <td>0.044369</td>\n      <td>0.020747</td>\n      <td>-0.011680</td>\n      <td>-0.009067</td>\n      <td>-0.034449</td>\n      <td>0.115407</td>\n      <td>-0.111961</td>\n      <td>-0.060312</td>\n      <td>0.098418</td>\n      <td>0.000000</td>\n    </tr>\n    <tr>\n      <th>3</th>\n      <td>Cluster 100</td>\n      <td>6.369403e+08</td>\n      <td>4.613108</td>\n      <td>15.387097</td>\n      <td>16.222335</td>\n      <td>0.000000</td>\n      <td>0.071538</td>\n      <td>-0.018475</td>\n      <td>-0.006939</td>\n      <td>-0.013004</td>\n      <td>...</td>\n      <td>-0.016478</td>\n      <td>-0.014420</td>\n      <td>-0.015475</td>\n      <td>0.029896</td>\n      <td>0.006537</td>\n      <td>-0.127983</td>\n      <td>-0.013922</td>\n      <td>-0.019325</td>\n      <td>0.151043</td>\n      <td>0.003650</td>\n    </tr>\n    <tr>\n      <th>4</th>\n      <td>Cluster 101</td>\n      <td>6.455059e+08</td>\n      <td>4.440804</td>\n      <td>14.774510</td>\n      <td>16.156443</td>\n      <td>-0.015132</td>\n      <td>-0.009423</td>\n      <td>0.009355</td>\n      <td>0.018678</td>\n      <td>-0.005098</td>\n      <td>...</td>\n      <td>-0.018376</td>\n      <td>0.097218</td>\n      <td>-0.060700</td>\n      <td>-0.036518</td>\n      <td>-0.008959</td>\n      <td>-0.145377</td>\n      <td>0.074313</td>\n      <td>-0.005410</td>\n      <td>0.092536</td>\n      <td>0.000000</td>\n    </tr>\n    <tr>\n      <th>...</th>\n      <td>...</td>\n      <td>...</td>\n      <td>...</td>\n      <td>...</td>\n      <td>...</td>\n      <td>...</td>\n      <td>...</td>\n      <td>...</td>\n      <td>...</td>\n      <td>...</td>\n      <td>...</td>\n      <td>...</td>\n      <td>...</td>\n      <td>...</td>\n      <td>...</td>\n      <td>...</td>\n      <td>...</td>\n      <td>...</td>\n      <td>...</td>\n      <td>...</td>\n      <td>...</td>\n    </tr>\n    <tr>\n      <th>120</th>\n      <td>Cluster 95</td>\n      <td>5.961280e+08</td>\n      <td>5.362838</td>\n      <td>16.087500</td>\n      <td>14.619028</td>\n      <td>0.037564</td>\n      <td>0.019253</td>\n      <td>-0.089174</td>\n      <td>0.037550</td>\n      <td>0.002991</td>\n      <td>...</td>\n      <td>-0.012983</td>\n      <td>0.061924</td>\n      <td>-0.018298</td>\n      <td>-0.043626</td>\n      <td>-0.020479</td>\n      <td>0.048496</td>\n      <td>0.015245</td>\n      <td>0.041158</td>\n      <td>-0.077317</td>\n      <td>0.000000</td>\n    </tr>\n    <tr>\n      <th>121</th>\n      <td>Cluster 96</td>\n      <td>7.269452e+08</td>\n      <td>4.357861</td>\n      <td>12.934307</td>\n      <td>16.244963</td>\n      <td>-0.017637</td>\n      <td>0.004746</td>\n      <td>0.054439</td>\n      <td>-0.006154</td>\n      <td>-0.027210</td>\n      <td>...</td>\n      <td>-0.023385</td>\n      <td>-0.017638</td>\n      <td>0.008071</td>\n      <td>0.009567</td>\n      <td>0.007715</td>\n      <td>-0.111815</td>\n      <td>-0.004190</td>\n      <td>-0.061944</td>\n      <td>0.177336</td>\n      <td>0.000000</td>\n    </tr>\n    <tr>\n      <th>122</th>\n      <td>Cluster 97</td>\n      <td>7.667758e+08</td>\n      <td>5.426098</td>\n      <td>17.151515</td>\n      <td>13.455243</td>\n      <td>0.028094</td>\n      <td>-0.007641</td>\n      <td>-0.033871</td>\n      <td>0.018232</td>\n      <td>-0.011782</td>\n      <td>...</td>\n      <td>-0.007680</td>\n      <td>-0.039591</td>\n      <td>0.072990</td>\n      <td>-0.033399</td>\n      <td>-0.020100</td>\n      <td>0.164783</td>\n      <td>-0.066952</td>\n      <td>0.052522</td>\n      <td>-0.123150</td>\n      <td>0.000000</td>\n    </tr>\n    <tr>\n      <th>123</th>\n      <td>Cluster 98</td>\n      <td>6.052778e+08</td>\n      <td>5.013682</td>\n      <td>16.270588</td>\n      <td>15.925284</td>\n      <td>-0.001407</td>\n      <td>0.049400</td>\n      <td>-0.025939</td>\n      <td>0.008874</td>\n      <td>0.000000</td>\n      <td>...</td>\n      <td>-0.026219</td>\n      <td>0.020747</td>\n      <td>-0.046974</td>\n      <td>0.026227</td>\n      <td>-0.046214</td>\n      <td>-0.084593</td>\n      <td>-0.041373</td>\n      <td>0.010276</td>\n      <td>0.157242</td>\n      <td>0.004662</td>\n    </tr>\n    <tr>\n      <th>124</th>\n      <td>Cluster 99</td>\n      <td>1.053897e+09</td>\n      <td>5.347609</td>\n      <td>17.072464</td>\n      <td>12.884596</td>\n      <td>0.062020</td>\n      <td>-0.024768</td>\n      <td>-0.089537</td>\n      <td>0.022514</td>\n      <td>0.008969</td>\n      <td>...</td>\n      <td>0.000000</td>\n      <td>-0.159815</td>\n      <td>0.186956</td>\n      <td>-0.027140</td>\n      <td>-0.043486</td>\n      <td>0.249764</td>\n      <td>-0.100879</td>\n      <td>0.017608</td>\n      <td>-0.115904</td>\n      <td>0.000000</td>\n    </tr>\n  </tbody>\n</table>\n<p>125 rows × 32 columns</p>\n</div>"
     },
     "metadata": {},
     "execution_count": 51
    }
   ],
   "source": [
    "cluster_info"
   ]
  },
  {
   "cell_type": "code",
   "execution_count": 52,
   "metadata": {},
   "outputs": [],
   "source": [
    "security_info = security_data[['SecurityID','SecuritySector','AmountIssued','Coupon','Seniority','Term','RatingSP','Rating','Type of Term']]\n",
    "a = security_info.merge(cluster_data[['SecurityID','2019-02-28']],on=['SecurityID'],how='left')\n",
    "a.dropna(subset=['2019-02-28'],inplace=True)\n",
    "time_period = a.rename(columns={'2019-02-28':'Group'})\n",
    "Group_Seniority = time_period.groupby(by=['Group','Seniority']).count()\n",
    "Group_sector = time_period.groupby(by=['Group','SecuritySector']).count()\n",
    "Type_term = time_period.groupby(by=['Group','Type of Term']).count()\n",
    "Group = time_period.groupby(by=['Group']).count()\n",
    "Sector = a.groupby(by=['SecuritySector']).count()"
   ]
  },
  {
   "cell_type": "code",
   "execution_count": 53,
   "metadata": {},
   "outputs": [],
   "source": [
    "Group_sector_per = Group_sector/len(time_period)"
   ]
  },
  {
   "cell_type": "code",
   "execution_count": 54,
   "metadata": {},
   "outputs": [],
   "source": [
    "cluster_info.to_csv('test1.csv')"
   ]
  },
  {
   "cell_type": "code",
   "execution_count": null,
   "metadata": {},
   "outputs": [],
   "source": []
  }
 ],
 "metadata": {
  "kernelspec": {
   "name": "python_defaultSpec_1600178981534",
   "display_name": "Python 3.6.8 64-bit"
  }
 },
 "nbformat": 4,
 "nbformat_minor": 4
}