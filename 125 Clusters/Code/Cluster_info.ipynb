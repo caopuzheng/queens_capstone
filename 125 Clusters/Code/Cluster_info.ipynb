{
 "cells": [
  {
   "cell_type": "code",
   "execution_count": 1,
   "metadata": {},
   "outputs": [],
   "source": [
    "import pandas as pd\n",
    "import mysql.connector as sql\n",
    "import math"
   ]
  },
  {
   "cell_type": "code",
   "execution_count": 2,
   "metadata": {},
   "outputs": [],
   "source": [
    "def term(x,y):\n",
    "    try:\n",
    "        bond_term = int(x.year) - int(y.year)\n",
    "    except:\n",
    "        bond_term = 100\n",
    "    return bond_term"
   ]
  },
  {
   "cell_type": "code",
   "execution_count": 3,
   "metadata": {},
   "outputs": [],
   "source": [
    "def Type_term(x):\n",
    "    if x >= 10:\n",
    "        return 'Long Term'\n",
    "    elif x < 10 and x >= 5:\n",
    "        return  'Mid Term'\n",
    "    else:\n",
    "        return 'Short Term'"
   ]
  },
  {
   "cell_type": "code",
   "execution_count": 4,
   "metadata": {},
   "outputs": [],
   "source": [
    "def assign_rating(x):\n",
    "    x = float(x)\n",
    "    if math.isnan(x):\n",
    "        return 'UN'\n",
    "    else:\n",
    "        if x < 0:\n",
    "            return 'NR'\n",
    "        elif x<=13.5:\n",
    "            return \"Junk\"\n",
    "        elif x>13.5 and x<=16.5:\n",
    "            return 'Lower medium grade'\n",
    "        elif x>16.5 and x<=19.5:\n",
    "            return 'Upper medium grade'\n",
    "        elif x>19.5 and x<=22.5:\n",
    "            return 'High grade'\n",
    "        else:\n",
    "            return 'Prime'"
   ]
  },
  {
   "cell_type": "code",
   "execution_count": 5,
   "metadata": {},
   "outputs": [],
   "source": [
    "def get_all_bonds_in_list(start_date,end_date):\n",
    "    print('start to get data from {} to {}'.format(start_date,end_date))\n",
    "    #####Create engine:\n",
    "    db_connection = sql.connect(host='0.0.0.0', database='bond_db', user='root', password='password')\n",
    "    ##security query\n",
    "    security_query = \"select * from security_info\"\n",
    "    ##read data\n",
    "    security_data = pd.read_sql(security_query,con=db_connection)\n",
    "    security_data = security_data[['SecurityID','Currency','IssueDate','MaturityDate']]\n",
    "    ##price query\n",
    "    price_query = \"select * from bond_spread where  KeyDate between '{}' and '{}'\".format(start_date,end_date)\n",
    "    #####read bond_data from db:\n",
    "    final_data = pd.read_sql(price_query,con=db_connection)\n",
    "    final_data = final_data.merge(security_data, on=['SecurityID'], how='left')\n",
    "    final_data.dropna(subset=[\"ZSpread\"],inplace=True)\n",
    "    final_data_1 = final_data[final_data.Currency == 'USD']\n",
    "    final_data = final_data_1.groupby('SecurityID')\n",
    "    bonds_list = [final_data.get_group(x) for x in final_data.groups]\n",
    "    db_connection.close()\n",
    "    return bonds_list"
   ]
  },
  {
   "cell_type": "code",
   "execution_count": 6,
   "metadata": {},
   "outputs": [],
   "source": [
    "def merge_left_right(data1,data2):\n",
    "    temp_data = data1.append(data2)\n",
    "    return temp_data\n",
    "\n",
    "def merg_sort(list_data):\n",
    "    list_length = len(list_data)\n",
    "    if list_length == 1:\n",
    "        output = list_data[0][2]\n",
    "        return output\n",
    "    else:\n",
    "        mid_point = math.floor(list_length/2)\n",
    "        #print(len(list_data[:mid_point]))\n",
    "        left = list_data[mid_point:]\n",
    "        right = list_data[:mid_point]\n",
    "        return merge_left_right(merg_sort(left), merg_sort(right))"
   ]
  },
  {
   "cell_type": "code",
   "execution_count": 7,
   "metadata": {},
   "outputs": [],
   "source": [
    "silding_windows = [['2018-12-31','2019-02-28'],['2019-03-01','2019-04-30'],\n",
    "                   ['2019-05-01','2019-06-30'],['2019-07-01','2019-08-31'],\n",
    "                   ['2019-09-01','2019-10-31'],['2019-11-01','2019-12-31']]"
   ]
  },
  {
   "cell_type": "markdown",
   "metadata": {},
   "source": [
    "## Cluster data"
   ]
  },
  {
   "cell_type": "code",
   "execution_count": 8,
   "metadata": {},
   "outputs": [],
   "source": [
    "cluster_data = pd.read_csv('Cluster_group_125.csv')"
   ]
  },
  {
   "cell_type": "code",
   "execution_count": 9,
   "metadata": {},
   "outputs": [],
   "source": [
    "cluster_data.drop(columns=['Unnamed: 0'],inplace=True)"
   ]
  },
  {
   "cell_type": "code",
   "execution_count": 10,
   "metadata": {},
   "outputs": [
    {
     "output_type": "execute_result",
     "data": {
      "text/plain": "   SecurityID 2019-02-28   2019-04-30   2019-06-30  2019-08-31   2019-10-31  \\\n0      3051.0  Cluster 0   Cluster 85   Cluster 70  Cluster 82   Cluster 99   \n1      3704.0  Cluster 0  Cluster 119    Cluster 0  Cluster 12   Cluster 65   \n2      4121.0  Cluster 0   Cluster 52   Cluster 53  Cluster 72    Cluster 6   \n3      4130.0  Cluster 0   Cluster 76  Cluster 124  Cluster 89   Cluster 10   \n4      4259.0  Cluster 0   Cluster 95   Cluster 28  Cluster 86  Cluster 105   \n\n    2019-12-31  \n0   Cluster 91  \n1   Cluster 87  \n2   Cluster 91  \n3  Cluster 109  \n4   Cluster 76  ",
      "text/html": "<div>\n<style scoped>\n    .dataframe tbody tr th:only-of-type {\n        vertical-align: middle;\n    }\n\n    .dataframe tbody tr th {\n        vertical-align: top;\n    }\n\n    .dataframe thead th {\n        text-align: right;\n    }\n</style>\n<table border=\"1\" class=\"dataframe\">\n  <thead>\n    <tr style=\"text-align: right;\">\n      <th></th>\n      <th>SecurityID</th>\n      <th>2019-02-28</th>\n      <th>2019-04-30</th>\n      <th>2019-06-30</th>\n      <th>2019-08-31</th>\n      <th>2019-10-31</th>\n      <th>2019-12-31</th>\n    </tr>\n  </thead>\n  <tbody>\n    <tr>\n      <th>0</th>\n      <td>3051.0</td>\n      <td>Cluster 0</td>\n      <td>Cluster 85</td>\n      <td>Cluster 70</td>\n      <td>Cluster 82</td>\n      <td>Cluster 99</td>\n      <td>Cluster 91</td>\n    </tr>\n    <tr>\n      <th>1</th>\n      <td>3704.0</td>\n      <td>Cluster 0</td>\n      <td>Cluster 119</td>\n      <td>Cluster 0</td>\n      <td>Cluster 12</td>\n      <td>Cluster 65</td>\n      <td>Cluster 87</td>\n    </tr>\n    <tr>\n      <th>2</th>\n      <td>4121.0</td>\n      <td>Cluster 0</td>\n      <td>Cluster 52</td>\n      <td>Cluster 53</td>\n      <td>Cluster 72</td>\n      <td>Cluster 6</td>\n      <td>Cluster 91</td>\n    </tr>\n    <tr>\n      <th>3</th>\n      <td>4130.0</td>\n      <td>Cluster 0</td>\n      <td>Cluster 76</td>\n      <td>Cluster 124</td>\n      <td>Cluster 89</td>\n      <td>Cluster 10</td>\n      <td>Cluster 109</td>\n    </tr>\n    <tr>\n      <th>4</th>\n      <td>4259.0</td>\n      <td>Cluster 0</td>\n      <td>Cluster 95</td>\n      <td>Cluster 28</td>\n      <td>Cluster 86</td>\n      <td>Cluster 105</td>\n      <td>Cluster 76</td>\n    </tr>\n  </tbody>\n</table>\n</div>"
     },
     "metadata": {},
     "execution_count": 10
    }
   ],
   "source": [
    "cluster_data.head()"
   ]
  },
  {
   "cell_type": "code",
   "execution_count": 11,
   "metadata": {},
   "outputs": [],
   "source": [
    "def get_the_daily_spread_windows(bonds_list):\n",
    "    bond_spread_list = []\n",
    "    for bond in bonds_list:\n",
    "        try:\n",
    "            bond['G_change']=bond.GSpread.pct_change()\n",
    "            bond['ModifiedDuration_Plain_change']=bond.ModifiedDuration_Plain.pct_change()\n",
    "            bond['YieldWorst_change']=bond.YieldWorst.pct_change()\n",
    "            bond.dropna(subset=['G_change'],inplace = True)\n",
    "            bond_spread_list.append((len(bond.GSpread.values),bond.SecurityID.iloc[0],bond))\n",
    "        except:\n",
    "            pass\n",
    "        return bond_spread_list"
   ]
  },
  {
   "cell_type": "code",
   "execution_count": 12,
   "metadata": {},
   "outputs": [],
   "source": [
    "def Average_daily_Gspread_change_cluster(window,cluster_data):\n",
    "    ####Grab Data###\n",
    "    bond_list1 = get_all_bonds_in_list(window[0],window[1])\n",
    "    ####G Change ###\n",
    "    daily_spread_1 = get_the_daily_spread_windows(bond_list1)\n",
    "    new_data = merg_sort(daily_spread_1)\n",
    "    new_data.dropna(inplace=True)\n",
    "    data1 = new_data.merge(cluster_data[['SecurityID',window[1]]],on=['SecurityID'],how ='left')\n",
    "    temp = data1.groupby(by=['KeyDate',window[1]],as_index=False).mean()\n",
    "    data1['Group'] = data1[window[1]] \n",
    "    data1.drop(columns=[window[1]],inplace=True)\n",
    "    temp['Group'] = temp[window[1]]\n",
    "    end = temp[['Group','KeyDate','G_change','YieldWorst_change','ModifiedDuration_Plain_change']]\n",
    "    end = end.rename(columns={'G_change':'Cluster_G_change','YieldWorst_change':'Cluster_average_YieldWorst_change','ModifiedDuration_Plain_change':'Cluster_average_ModifiedDuration_Plain_change'})\n",
    "    return end,data1"
   ]
  },
  {
   "cell_type": "markdown",
   "metadata": {},
   "source": [
    "## Read Your secuirty data here"
   ]
  },
  {
   "cell_type": "code",
   "execution_count": 13,
   "metadata": {},
   "outputs": [],
   "source": [
    "db_connection = sql.connect(host='0.0.0.0', database='bond_db', user='root', password='password')\n",
    "security_query = \"select * from security_info\"\n",
    "security_data = pd.read_sql(security_query,con=db_connection)"
   ]
  },
  {
   "cell_type": "markdown",
   "metadata": {},
   "source": [
    "## END"
   ]
  },
  {
   "cell_type": "markdown",
   "metadata": {},
   "source": [
    "## Read Your Rating data"
   ]
  },
  {
   "cell_type": "code",
   "execution_count": 14,
   "metadata": {},
   "outputs": [],
   "source": [
    "db_connection = sql.connect(host='0.0.0.0', database='bond_db', user='root', password='password')\n",
    "rating_query = \"select * from rating\"\n",
    "rating_data = pd.read_sql(rating_query,con=db_connection)"
   ]
  },
  {
   "cell_type": "code",
   "execution_count": 15,
   "metadata": {},
   "outputs": [],
   "source": [
    "rating_data = rating_data.groupby(by=['SecurityID'],as_index=False).mean()"
   ]
  },
  {
   "cell_type": "code",
   "execution_count": 16,
   "metadata": {},
   "outputs": [],
   "source": [
    "security_data['Term'] = security_data.apply(lambda x:term(x.MaturityDate,x.IssueDate),axis=1)"
   ]
  },
  {
   "cell_type": "code",
   "execution_count": 17,
   "metadata": {},
   "outputs": [],
   "source": [
    "security_data['Term'] = security_data['Term'].fillna(100)\n",
    "security_data['Type of Term'] = security_data['Term'].apply(Type_term)"
   ]
  },
  {
   "cell_type": "code",
   "execution_count": 18,
   "metadata": {},
   "outputs": [],
   "source": [
    "security_data = security_data.merge(rating_data,on =['SecurityID'],how='left')"
   ]
  },
  {
   "cell_type": "code",
   "execution_count": 19,
   "metadata": {},
   "outputs": [],
   "source": [
    "security_data['Rating'] = security_data['RatingSP'].apply(assign_rating)"
   ]
  },
  {
   "cell_type": "code",
   "execution_count": 20,
   "metadata": {},
   "outputs": [
    {
     "output_type": "execute_result",
     "data": {
      "text/plain": "Index(['SecurityID', 'OfficialName', 'SecurityType', 'SecuritySubType',\n       'SecurityBBGType', 'SecurityBBGYellowKey', 'Series', 'SecuritySector',\n       'SecurityIndustry', 'SecuritySubIndustry', 'BBGSecuritySector',\n       'IssuerParent', 'Obligor', 'Ticker', 'EquityTicker', 'Issuer',\n       'ObligorID', 'CountryDomicile', 'CountryRisk', 'CountryIssue',\n       'Currency', 'Coupon', 'CouponType', 'CouponFrequency', 'CouponDayCount',\n       'CreationDate', 'LastModifiedTime', 'IssueDate', 'PricingDate',\n       'MaturityDate', 'IsCallable', 'IsConvertible', 'IsContingent',\n       'IsFactorable', 'IsHybrid', 'IsMaple', 'IsPrivatePlacement',\n       'IsPreliminary', 'IsPerpetual', 'IsJunior', 'Seniority', 'PaymentRank',\n       'IsBailIn', 'QuoteSize', 'AmountIssued', 'MinIncrement', 'MinPiece',\n       'BBGDescription', 'Term', 'Type of Term', 'RatingSP', 'Rating'],\n      dtype='object')"
     },
     "metadata": {},
     "execution_count": 20
    }
   ],
   "source": [
    "security_data.columns"
   ]
  },
  {
   "cell_type": "code",
   "execution_count": 45,
   "metadata": {},
   "outputs": [],
   "source": [
    "def get_the_cluster_data(security_info,cluster_data,windows):\n",
    "    print('start to get data for {}'.format(windows[1]))\n",
    "    security_info = security_data[['SecurityID','SecuritySector','AmountIssued','Coupon','Seniority','Term','RatingSP','Rating','Type of Term']]\n",
    "    a = security_info.merge(cluster_data[['SecurityID',windows[1]]],on=['SecurityID'],how='left')\n",
    "    a.dropna(subset=[windows[1]],inplace=True)\n",
    "    time_period = a.rename(columns={'2019-02-28':'Group'})\n",
    "\n",
    "    Group_Seniority = time_period.groupby(by=['Group','Seniority']).count()\n",
    "    Group_sector = time_period.groupby(by=['Group','SecuritySector']).count()\n",
    "    Group_Type_term = time_period.groupby(by=['Group','Type of Term']).count()\n",
    "    Group_Rating = time_period.groupby(by=['Group','Rating']).count()\n",
    "    \n",
    "    Group = time_period.groupby(by=['Group']).count()\n",
    "    Sector = time_period.groupby(by=['SecuritySector']).count()\n",
    "    Type_of_Term = time_period.groupby(by=['Type of Term']).count()\n",
    "    Seniority = time_period.groupby(by=['Seniority']).count()\n",
    "    Rating = time_period.groupby(by=['Rating']).count()\n",
    "    \n",
    "    Sector_per = Sector/len(time_period)\n",
    "    Type_of_Term_per = Type_of_Term/len(time_period)\n",
    "    Seniority_per = Seniority/len(time_period)\n",
    "    Rating_per = Rating/len(time_period)\n",
    "\n",
    "    Group_sector_per = Group_sector/Group\n",
    "    Group_Seniority_per = Group_Seniority/Group\n",
    "    Group_type_term_per = Group_Type_term/Group\n",
    "    Group_rating_per =  Group_Rating/Group\n",
    "\n",
    "    Group_Sector_indicator = (Group_sector_per - Sector_per)/(1-Sector_per)\n",
    "    Group_Seniority_indicator = (Group_Seniority_per - Seniority_per)/(1-Seniority_per)\n",
    "    Group_type_term_indicator = (Group_type_term_per - Type_of_Term_per)/(1-Type_of_Term_per)\n",
    "    Group_rating_indicator= (Group_rating_per - Rating_per)/(1-Rating_per)\n",
    "\n",
    "    for i in range(0,125):\n",
    "        if i == 0:\n",
    "            f = Group_Seniority_indicator.loc['Cluster {}'.format(i)].T.head(1).reset_index().iloc[:,1:]\n",
    "            f['Group'] ='Cluster {}'.format(i)\n",
    "        else:\n",
    "            temp = Group_Seniority_indicator.loc['Cluster {}'.format(i)].T.head(1).reset_index().iloc[:,1:]\n",
    "            temp['Group'] ='Cluster {}'.format(i)\n",
    "            f = f.merge(temp,how='outer').fillna(0)\n",
    "    for i in range(0,125):\n",
    "        if i == 0:\n",
    "            f1 = Group_Sector_indicator.loc['Cluster {}'.format(i)].T.head(1).reset_index().iloc[:,1:]\n",
    "            f1['Group'] ='Cluster {}'.format(i)\n",
    "        else:\n",
    "            temp1 = Group_Sector_indicator.loc['Cluster {}'.format(i)].T.head(1).reset_index().iloc[:,1:]\n",
    "            temp1['Group'] ='Cluster {}'.format(i)\n",
    "            f1 = f1.merge(temp1,how='outer').fillna(0)\n",
    "    for i in range(0,125):\n",
    "        if i == 0:\n",
    "            f2 = Group_type_term_indicator.loc['Cluster {}'.format(i)].T.head(1).reset_index().iloc[:,1:]\n",
    "            f2['Group'] ='Cluster {}'.format(i)\n",
    "        else:\n",
    "            temp2 = Group_type_term_indicator.loc['Cluster {}'.format(i)].T.head(1).reset_index().iloc[:,1:]\n",
    "            temp2['Group'] ='Cluster {}'.format(i)\n",
    "            f2 = f2.merge(temp2,how='outer').fillna(0)\n",
    "    for i in range(0,125):\n",
    "        if i == 0:\n",
    "            f3 = Group_rating_indicator.loc['Cluster {}'.format(i)].T.head(1).reset_index().iloc[:,1:]\n",
    "            f3['Group'] ='Cluster {}'.format(i)\n",
    "        else:\n",
    "            temp3 = Group_rating_indicator.loc['Cluster {}'.format(i)].T.head(1).reset_index().iloc[:,1:]\n",
    "            temp3['Group'] ='Cluster {}'.format(i)\n",
    "            f3 = f3.merge(temp3,how='outer').fillna(0)\n",
    "    f= f.merge(f1,on='Group',how = 'left')\n",
    "    f= f.merge(f2,on='Group',how = 'left')\n",
    "    f= f.merge(f3,on='Group',how = 'left')\n",
    "    b = time_period.groupby(by=['Group'],as_index=False).mean()\n",
    "    b.drop(columns=['SecurityID'],inplace=True)\n",
    "    b = b.rename(columns={'AmountIssued':'Cluster_average_AmountIssued','Coupon':'Cluster_average_Coupon','Term':'Cluster_average_Term','RatingSP':'Cluster_average_Rating'})\n",
    "    window_cluster_data = b.merge(f,on='Group',how = 'left')\n",
    "    return window_cluster_data"
   ]
  },
  {
   "cell_type": "code",
   "execution_count": 46,
   "metadata": {},
   "outputs": [],
   "source": [
    "from sqlalchemy import create_engine"
   ]
  },
  {
   "cell_type": "code",
   "execution_count": 47,
   "metadata": {
    "tags": []
   },
   "outputs": [
    {
     "output_type": "stream",
     "name": "stdout",
     "text": "start to get data for 2019-02-28\n"
    }
   ],
   "source": [
    "cluster_info = get_the_cluster_data(security_data,cluster_data,silding_windows[0])"
   ]
  },
  {
   "cell_type": "code",
   "execution_count": 48,
   "metadata": {},
   "outputs": [
    {
     "output_type": "execute_result",
     "data": {
      "text/plain": "           Group  Cluster_average_AmountIssued  Cluster_average_Coupon  \\\n0      Cluster 0                  6.060661e+08                4.724531   \n1      Cluster 1                  9.649194e+08                4.410567   \n2     Cluster 10                  7.517519e+08                4.728494   \n3    Cluster 100                  6.369403e+08                4.613108   \n4    Cluster 101                  6.455059e+08                4.440804   \n..           ...                           ...                     ...   \n120   Cluster 95                  5.961280e+08                5.362838   \n121   Cluster 96                  7.269452e+08                4.357861   \n122   Cluster 97                  7.667758e+08                5.426098   \n123   Cluster 98                  6.052778e+08                5.013682   \n124   Cluster 99                  1.053897e+09                5.347609   \n\n     Cluster_average_Term  Cluster_average_Rating  Jr Subordinated Unsecured  \\\n0               17.824742               16.180732                  -0.015001   \n1               15.305732               16.267418                  -0.019042   \n2               13.470588               14.749780                  -0.013508   \n3               15.387097               16.222335                   0.000000   \n4               14.774510               16.156443                  -0.015519   \n..                    ...                     ...                        ...   \n120             16.087500               14.619028                   0.038524   \n121             12.934307               16.244963                  -0.018088   \n122             17.151515               13.455243                   0.028812   \n123             16.270588               15.925284                  -0.001443   \n124             17.072464               12.884596                   0.063606   \n\n      Secured  Sr Unsecured  Subordinated Unsecured  1st Lien Secured  ...  \\\n0    0.026334      0.167827                0.001681          0.000000  ...   \n1   -0.052738      0.520131               -0.025759          0.003840  ...   \n2   -0.035366      0.240275                0.009340          0.000813  ...   \n3    0.076778     -0.099423               -0.007304         -0.013469  ...   \n4   -0.010113      0.050343                0.019660         -0.005280  ...   \n..        ...           ...                     ...               ...  ...   \n120  0.020663     -0.479882                0.039524          0.003098  ...   \n121  0.005094      0.292956               -0.006478         -0.028183  ...   \n122 -0.008200     -0.182275                0.019191         -0.012203  ...   \n123  0.053019     -0.139588                0.009340          0.000000  ...   \n124 -0.026583     -0.481831                0.023698          0.009289  ...   \n\n     Technology  Long Term  Mid Term  Short Term  High grade      Junk  \\\n0      0.003382   0.116976 -0.084090    0.016993    0.036947 -0.101761   \n1      0.046589   0.155257 -0.018445   -0.045967    0.026352 -0.110199   \n2      0.046121   0.057325 -0.016825   -0.009606   -0.036570  0.146829   \n3     -0.017129  -0.039843 -0.022292    0.031673    0.006940 -0.162829   \n4     -0.019101   0.268614 -0.087438   -0.038690   -0.009511 -0.184959   \n..          ...        ...       ...         ...         ...       ...   \n120   -0.013496   0.171096 -0.026358   -0.046220   -0.021739  0.061699   \n121   -0.024308  -0.048734  0.011626    0.010136    0.008189 -0.142259   \n122   -0.007984  -0.109391  0.105142   -0.035385   -0.021337  0.209649   \n123   -0.027254   0.057325 -0.067667    0.027786   -0.049058 -0.107625   \n124    0.000000  -0.441571  0.269310   -0.028754   -0.046163  0.317767   \n\n     Lower medium grade        UN  Upper medium grade     Prime  \n0             -0.058181 -0.080262            0.230632  0.000000  \n1             -0.024581 -0.035896            0.147972  0.005677  \n2             -0.171524 -0.065832            0.138582  0.000000  \n3             -0.021329 -0.021094            0.212682  0.003676  \n4              0.113847 -0.005905            0.130299  0.000000  \n..                  ...       ...                 ...       ...  \n120            0.023355  0.044925           -0.108869  0.000000  \n121           -0.006419 -0.067613            0.249705  0.000000  \n122           -0.102571  0.057329           -0.173407  0.000000  \n123           -0.063383  0.011216            0.221410  0.004695  \n124           -0.154545  0.019219           -0.163203  0.000000  \n\n[125 rows x 32 columns]",
      "text/html": "<div>\n<style scoped>\n    .dataframe tbody tr th:only-of-type {\n        vertical-align: middle;\n    }\n\n    .dataframe tbody tr th {\n        vertical-align: top;\n    }\n\n    .dataframe thead th {\n        text-align: right;\n    }\n</style>\n<table border=\"1\" class=\"dataframe\">\n  <thead>\n    <tr style=\"text-align: right;\">\n      <th></th>\n      <th>Group</th>\n      <th>Cluster_average_AmountIssued</th>\n      <th>Cluster_average_Coupon</th>\n      <th>Cluster_average_Term</th>\n      <th>Cluster_average_Rating</th>\n      <th>Jr Subordinated Unsecured</th>\n      <th>Secured</th>\n      <th>Sr Unsecured</th>\n      <th>Subordinated Unsecured</th>\n      <th>1st Lien Secured</th>\n      <th>...</th>\n      <th>Technology</th>\n      <th>Long Term</th>\n      <th>Mid Term</th>\n      <th>Short Term</th>\n      <th>High grade</th>\n      <th>Junk</th>\n      <th>Lower medium grade</th>\n      <th>UN</th>\n      <th>Upper medium grade</th>\n      <th>Prime</th>\n    </tr>\n  </thead>\n  <tbody>\n    <tr>\n      <th>0</th>\n      <td>Cluster 0</td>\n      <td>6.060661e+08</td>\n      <td>4.724531</td>\n      <td>17.824742</td>\n      <td>16.180732</td>\n      <td>-0.015001</td>\n      <td>0.026334</td>\n      <td>0.167827</td>\n      <td>0.001681</td>\n      <td>0.000000</td>\n      <td>...</td>\n      <td>0.003382</td>\n      <td>0.116976</td>\n      <td>-0.084090</td>\n      <td>0.016993</td>\n      <td>0.036947</td>\n      <td>-0.101761</td>\n      <td>-0.058181</td>\n      <td>-0.080262</td>\n      <td>0.230632</td>\n      <td>0.000000</td>\n    </tr>\n    <tr>\n      <th>1</th>\n      <td>Cluster 1</td>\n      <td>9.649194e+08</td>\n      <td>4.410567</td>\n      <td>15.305732</td>\n      <td>16.267418</td>\n      <td>-0.019042</td>\n      <td>-0.052738</td>\n      <td>0.520131</td>\n      <td>-0.025759</td>\n      <td>0.003840</td>\n      <td>...</td>\n      <td>0.046589</td>\n      <td>0.155257</td>\n      <td>-0.018445</td>\n      <td>-0.045967</td>\n      <td>0.026352</td>\n      <td>-0.110199</td>\n      <td>-0.024581</td>\n      <td>-0.035896</td>\n      <td>0.147972</td>\n      <td>0.005677</td>\n    </tr>\n    <tr>\n      <th>2</th>\n      <td>Cluster 10</td>\n      <td>7.517519e+08</td>\n      <td>4.728494</td>\n      <td>13.470588</td>\n      <td>14.749780</td>\n      <td>-0.013508</td>\n      <td>-0.035366</td>\n      <td>0.240275</td>\n      <td>0.009340</td>\n      <td>0.000813</td>\n      <td>...</td>\n      <td>0.046121</td>\n      <td>0.057325</td>\n      <td>-0.016825</td>\n      <td>-0.009606</td>\n      <td>-0.036570</td>\n      <td>0.146829</td>\n      <td>-0.171524</td>\n      <td>-0.065832</td>\n      <td>0.138582</td>\n      <td>0.000000</td>\n    </tr>\n    <tr>\n      <th>3</th>\n      <td>Cluster 100</td>\n      <td>6.369403e+08</td>\n      <td>4.613108</td>\n      <td>15.387097</td>\n      <td>16.222335</td>\n      <td>0.000000</td>\n      <td>0.076778</td>\n      <td>-0.099423</td>\n      <td>-0.007304</td>\n      <td>-0.013469</td>\n      <td>...</td>\n      <td>-0.017129</td>\n      <td>-0.039843</td>\n      <td>-0.022292</td>\n      <td>0.031673</td>\n      <td>0.006940</td>\n      <td>-0.162829</td>\n      <td>-0.021329</td>\n      <td>-0.021094</td>\n      <td>0.212682</td>\n      <td>0.003676</td>\n    </tr>\n    <tr>\n      <th>4</th>\n      <td>Cluster 101</td>\n      <td>6.455059e+08</td>\n      <td>4.440804</td>\n      <td>14.774510</td>\n      <td>16.156443</td>\n      <td>-0.015519</td>\n      <td>-0.010113</td>\n      <td>0.050343</td>\n      <td>0.019660</td>\n      <td>-0.005280</td>\n      <td>...</td>\n      <td>-0.019101</td>\n      <td>0.268614</td>\n      <td>-0.087438</td>\n      <td>-0.038690</td>\n      <td>-0.009511</td>\n      <td>-0.184959</td>\n      <td>0.113847</td>\n      <td>-0.005905</td>\n      <td>0.130299</td>\n      <td>0.000000</td>\n    </tr>\n    <tr>\n      <th>...</th>\n      <td>...</td>\n      <td>...</td>\n      <td>...</td>\n      <td>...</td>\n      <td>...</td>\n      <td>...</td>\n      <td>...</td>\n      <td>...</td>\n      <td>...</td>\n      <td>...</td>\n      <td>...</td>\n      <td>...</td>\n      <td>...</td>\n      <td>...</td>\n      <td>...</td>\n      <td>...</td>\n      <td>...</td>\n      <td>...</td>\n      <td>...</td>\n      <td>...</td>\n      <td>...</td>\n    </tr>\n    <tr>\n      <th>120</th>\n      <td>Cluster 95</td>\n      <td>5.961280e+08</td>\n      <td>5.362838</td>\n      <td>16.087500</td>\n      <td>14.619028</td>\n      <td>0.038524</td>\n      <td>0.020663</td>\n      <td>-0.479882</td>\n      <td>0.039524</td>\n      <td>0.003098</td>\n      <td>...</td>\n      <td>-0.013496</td>\n      <td>0.171096</td>\n      <td>-0.026358</td>\n      <td>-0.046220</td>\n      <td>-0.021739</td>\n      <td>0.061699</td>\n      <td>0.023355</td>\n      <td>0.044925</td>\n      <td>-0.108869</td>\n      <td>0.000000</td>\n    </tr>\n    <tr>\n      <th>121</th>\n      <td>Cluster 96</td>\n      <td>7.269452e+08</td>\n      <td>4.357861</td>\n      <td>12.934307</td>\n      <td>16.244963</td>\n      <td>-0.018088</td>\n      <td>0.005094</td>\n      <td>0.292956</td>\n      <td>-0.006478</td>\n      <td>-0.028183</td>\n      <td>...</td>\n      <td>-0.024308</td>\n      <td>-0.048734</td>\n      <td>0.011626</td>\n      <td>0.010136</td>\n      <td>0.008189</td>\n      <td>-0.142259</td>\n      <td>-0.006419</td>\n      <td>-0.067613</td>\n      <td>0.249705</td>\n      <td>0.000000</td>\n    </tr>\n    <tr>\n      <th>122</th>\n      <td>Cluster 97</td>\n      <td>7.667758e+08</td>\n      <td>5.426098</td>\n      <td>17.151515</td>\n      <td>13.455243</td>\n      <td>0.028812</td>\n      <td>-0.008200</td>\n      <td>-0.182275</td>\n      <td>0.019191</td>\n      <td>-0.012203</td>\n      <td>...</td>\n      <td>-0.007984</td>\n      <td>-0.109391</td>\n      <td>0.105142</td>\n      <td>-0.035385</td>\n      <td>-0.021337</td>\n      <td>0.209649</td>\n      <td>-0.102571</td>\n      <td>0.057329</td>\n      <td>-0.173407</td>\n      <td>0.000000</td>\n    </tr>\n    <tr>\n      <th>123</th>\n      <td>Cluster 98</td>\n      <td>6.052778e+08</td>\n      <td>5.013682</td>\n      <td>16.270588</td>\n      <td>15.925284</td>\n      <td>-0.001443</td>\n      <td>0.053019</td>\n      <td>-0.139588</td>\n      <td>0.009340</td>\n      <td>0.000000</td>\n      <td>...</td>\n      <td>-0.027254</td>\n      <td>0.057325</td>\n      <td>-0.067667</td>\n      <td>0.027786</td>\n      <td>-0.049058</td>\n      <td>-0.107625</td>\n      <td>-0.063383</td>\n      <td>0.011216</td>\n      <td>0.221410</td>\n      <td>0.004695</td>\n    </tr>\n    <tr>\n      <th>124</th>\n      <td>Cluster 99</td>\n      <td>1.053897e+09</td>\n      <td>5.347609</td>\n      <td>17.072464</td>\n      <td>12.884596</td>\n      <td>0.063606</td>\n      <td>-0.026583</td>\n      <td>-0.481831</td>\n      <td>0.023698</td>\n      <td>0.009289</td>\n      <td>...</td>\n      <td>0.000000</td>\n      <td>-0.441571</td>\n      <td>0.269310</td>\n      <td>-0.028754</td>\n      <td>-0.046163</td>\n      <td>0.317767</td>\n      <td>-0.154545</td>\n      <td>0.019219</td>\n      <td>-0.163203</td>\n      <td>0.000000</td>\n    </tr>\n  </tbody>\n</table>\n<p>125 rows × 32 columns</p>\n</div>"
     },
     "metadata": {},
     "execution_count": 48
    }
   ],
   "source": [
    "cluster_info"
   ]
  },
  {
   "cell_type": "code",
   "execution_count": 49,
   "metadata": {},
   "outputs": [],
   "source": [
    "security_info = security_data[['SecurityID','SecuritySector','AmountIssued','Coupon','Seniority','Term','RatingSP','Rating','Type of Term']]\n",
    "a = security_info.merge(cluster_data[['SecurityID','2019-02-28']],on=['SecurityID'],how='left')\n",
    "a.dropna(subset=['2019-02-28'],inplace=True)\n",
    "time_period = a.rename(columns={'2019-02-28':'Group'})\n",
    "Group_Seniority = time_period.groupby(by=['Group','Seniority']).count()\n",
    "Group_sector = time_period.groupby(by=['Group','SecuritySector']).count()\n",
    "Type_term = time_period.groupby(by=['Group','Type of Term']).count()\n",
    "Group = time_period.groupby(by=['Group']).count()\n",
    "Sector = a.groupby(by=['SecuritySector']).count()"
   ]
  },
  {
   "cell_type": "code",
   "execution_count": 50,
   "metadata": {},
   "outputs": [],
   "source": [
    "Group_sector_per = Group_sector/len(time_period)"
   ]
  },
  {
   "cell_type": "code",
   "execution_count": 51,
   "metadata": {},
   "outputs": [],
   "source": [
    "cluster_info.to_csv('test1.csv')"
   ]
  },
  {
   "cell_type": "code",
   "execution_count": null,
   "metadata": {},
   "outputs": [],
   "source": []
  }
 ],
 "metadata": {
  "kernelspec": {
   "name": "python_defaultSpec_1600058630515",
   "display_name": "Python 3.6.8 64-bit"
  }
 },
 "nbformat": 4,
 "nbformat_minor": 4
}